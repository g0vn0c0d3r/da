{
 "cells": [
  {
   "cell_type": "code",
   "execution_count": 1,
   "metadata": {},
   "outputs": [],
   "source": [
    "import pandas as pd\n",
    "import numpy as np\n",
    "from matplotlib import pyplot as plt\n",
    "import seaborn as sns\n",
    "from scipy import stats as st\n",
    "import warnings\n",
    "warnings.filterwarnings('ignore')"
   ]
  },
  {
   "cell_type": "markdown",
   "metadata": {},
   "source": [
    "- [x] Предобработка данных\n",
    "- [x] Анализ данных о регистрациях и займах\n",
    "- [x] Сколько времени проходит с момента начала регистрации до оформления первого займа\n",
    "- [x] Срок займа: план-факт + динамика\n",
    "- [x] Категоризация займов по реальному сроку пользования деньгами\n",
    "- [x] Исследование суммы займов\n",
    "- [x] Когортный анализ:\n",
    "    - [x] User Retention\n",
    "    - [x] Ср.кол-во займов нарастающим итогом\n",
    "    - [x] Ср.сумма займа нарастающим итогом\n",
    "    - [x] ARPU\n",
    "    - [x] Ретеншен капитала\n",
    "    - [x] NPL"
   ]
  },
  {
   "cell_type": "code",
   "execution_count": null,
   "metadata": {},
   "outputs": [],
   "source": []
  }
 ],
 "metadata": {
  "kernelspec": {
   "display_name": "Python 3",
   "language": "python",
   "name": "python3"
  },
  "language_info": {
   "codemirror_mode": {
    "name": "ipython",
    "version": 3
   },
   "file_extension": ".py",
   "mimetype": "text/x-python",
   "name": "python",
   "nbconvert_exporter": "python",
   "pygments_lexer": "ipython3",
   "version": "3.8.6"
  }
 },
 "nbformat": 4,
 "nbformat_minor": 4
}
