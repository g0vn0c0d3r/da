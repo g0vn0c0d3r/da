{
 "cells": [
  {
   "cell_type": "code",
   "execution_count": 1,
   "metadata": {},
   "outputs": [],
   "source": [
    "import pandas as pd\n",
    "from matplotlib import pyplot as plt"
   ]
  },
  {
   "cell_type": "code",
   "execution_count": 2,
   "metadata": {},
   "outputs": [],
   "source": [
    "data = pd.read_excel('discount.xlsx')"
   ]
  },
  {
   "cell_type": "markdown",
   "metadata": {},
   "source": [
    "### 1. Общая информация о данных"
   ]
  },
  {
   "cell_type": "code",
   "execution_count": 3,
   "metadata": {},
   "outputs": [
    {
     "data": {
      "text/html": [
       "<div>\n",
       "<style scoped>\n",
       "    .dataframe tbody tr th:only-of-type {\n",
       "        vertical-align: middle;\n",
       "    }\n",
       "\n",
       "    .dataframe tbody tr th {\n",
       "        vertical-align: top;\n",
       "    }\n",
       "\n",
       "    .dataframe thead th {\n",
       "        text-align: right;\n",
       "    }\n",
       "</style>\n",
       "<table border=\"1\" class=\"dataframe\">\n",
       "  <thead>\n",
       "    <tr style=\"text-align: right;\">\n",
       "      <th></th>\n",
       "      <th>cid</th>\n",
       "      <th>lid</th>\n",
       "      <th>value</th>\n",
       "      <th>term</th>\n",
       "      <th>before_dicount</th>\n",
       "      <th>after_discount</th>\n",
       "      <th>pc_discount</th>\n",
       "      <th>loyalty_level</th>\n",
       "      <th>ll_discount</th>\n",
       "    </tr>\n",
       "  </thead>\n",
       "  <tbody>\n",
       "    <tr>\n",
       "      <th>18204</th>\n",
       "      <td>2069683</td>\n",
       "      <td>1504421</td>\n",
       "      <td>2600</td>\n",
       "      <td>15</td>\n",
       "      <td>1.00</td>\n",
       "      <td>0.9800</td>\n",
       "      <td>NaN</td>\n",
       "      <td>0.0</td>\n",
       "      <td>0.02</td>\n",
       "    </tr>\n",
       "    <tr>\n",
       "      <th>2705</th>\n",
       "      <td>4533106</td>\n",
       "      <td>1454894</td>\n",
       "      <td>7000</td>\n",
       "      <td>30</td>\n",
       "      <td>1.00</td>\n",
       "      <td>1.0000</td>\n",
       "      <td>NaN</td>\n",
       "      <td>NaN</td>\n",
       "      <td>NaN</td>\n",
       "    </tr>\n",
       "    <tr>\n",
       "      <th>8737</th>\n",
       "      <td>4348323</td>\n",
       "      <td>1476096</td>\n",
       "      <td>3500</td>\n",
       "      <td>37</td>\n",
       "      <td>1.00</td>\n",
       "      <td>0.9800</td>\n",
       "      <td>NaN</td>\n",
       "      <td>0.0</td>\n",
       "      <td>0.02</td>\n",
       "    </tr>\n",
       "    <tr>\n",
       "      <th>18973</th>\n",
       "      <td>4634752</td>\n",
       "      <td>1483374</td>\n",
       "      <td>19000</td>\n",
       "      <td>28</td>\n",
       "      <td>1.00</td>\n",
       "      <td>0.9800</td>\n",
       "      <td>NaN</td>\n",
       "      <td>0.0</td>\n",
       "      <td>0.02</td>\n",
       "    </tr>\n",
       "    <tr>\n",
       "      <th>7184</th>\n",
       "      <td>4667926</td>\n",
       "      <td>1482355</td>\n",
       "      <td>30000</td>\n",
       "      <td>70</td>\n",
       "      <td>0.99</td>\n",
       "      <td>0.7326</td>\n",
       "      <td>0.26</td>\n",
       "      <td>NaN</td>\n",
       "      <td>NaN</td>\n",
       "    </tr>\n",
       "    <tr>\n",
       "      <th>15776</th>\n",
       "      <td>4526396</td>\n",
       "      <td>1498214</td>\n",
       "      <td>11615</td>\n",
       "      <td>39</td>\n",
       "      <td>1.00</td>\n",
       "      <td>1.0000</td>\n",
       "      <td>NaN</td>\n",
       "      <td>NaN</td>\n",
       "      <td>NaN</td>\n",
       "    </tr>\n",
       "    <tr>\n",
       "      <th>12506</th>\n",
       "      <td>4667295</td>\n",
       "      <td>1493485</td>\n",
       "      <td>3500</td>\n",
       "      <td>10</td>\n",
       "      <td>1.00</td>\n",
       "      <td>0.9800</td>\n",
       "      <td>NaN</td>\n",
       "      <td>0.0</td>\n",
       "      <td>0.02</td>\n",
       "    </tr>\n",
       "    <tr>\n",
       "      <th>10833</th>\n",
       "      <td>4656166</td>\n",
       "      <td>1477271</td>\n",
       "      <td>30000</td>\n",
       "      <td>168</td>\n",
       "      <td>0.99</td>\n",
       "      <td>0.7326</td>\n",
       "      <td>0.26</td>\n",
       "      <td>NaN</td>\n",
       "      <td>NaN</td>\n",
       "    </tr>\n",
       "    <tr>\n",
       "      <th>3765</th>\n",
       "      <td>2887018</td>\n",
       "      <td>1462543</td>\n",
       "      <td>20700</td>\n",
       "      <td>56</td>\n",
       "      <td>0.99</td>\n",
       "      <td>0.8415</td>\n",
       "      <td>0.15</td>\n",
       "      <td>NaN</td>\n",
       "      <td>NaN</td>\n",
       "    </tr>\n",
       "    <tr>\n",
       "      <th>7828</th>\n",
       "      <td>4004265</td>\n",
       "      <td>1464936</td>\n",
       "      <td>8050</td>\n",
       "      <td>10</td>\n",
       "      <td>1.00</td>\n",
       "      <td>0.9800</td>\n",
       "      <td>NaN</td>\n",
       "      <td>0.0</td>\n",
       "      <td>0.02</td>\n",
       "    </tr>\n",
       "  </tbody>\n",
       "</table>\n",
       "</div>"
      ],
      "text/plain": [
       "           cid      lid  value  term  before_dicount  after_discount  \\\n",
       "18204  2069683  1504421   2600    15            1.00          0.9800   \n",
       "2705   4533106  1454894   7000    30            1.00          1.0000   \n",
       "8737   4348323  1476096   3500    37            1.00          0.9800   \n",
       "18973  4634752  1483374  19000    28            1.00          0.9800   \n",
       "7184   4667926  1482355  30000    70            0.99          0.7326   \n",
       "15776  4526396  1498214  11615    39            1.00          1.0000   \n",
       "12506  4667295  1493485   3500    10            1.00          0.9800   \n",
       "10833  4656166  1477271  30000   168            0.99          0.7326   \n",
       "3765   2887018  1462543  20700    56            0.99          0.8415   \n",
       "7828   4004265  1464936   8050    10            1.00          0.9800   \n",
       "\n",
       "       pc_discount  loyalty_level  ll_discount  \n",
       "18204          NaN            0.0         0.02  \n",
       "2705           NaN            NaN          NaN  \n",
       "8737           NaN            0.0         0.02  \n",
       "18973          NaN            0.0         0.02  \n",
       "7184          0.26            NaN          NaN  \n",
       "15776          NaN            NaN          NaN  \n",
       "12506          NaN            0.0         0.02  \n",
       "10833         0.26            NaN          NaN  \n",
       "3765          0.15            NaN          NaN  \n",
       "7828           NaN            0.0         0.02  "
      ]
     },
     "execution_count": 3,
     "metadata": {},
     "output_type": "execute_result"
    }
   ],
   "source": [
    "# посмотрим на набор данных\n",
    "data.sample(10)"
   ]
  },
  {
   "cell_type": "markdown",
   "metadata": {},
   "source": [
    "- cid - id клиента\n",
    "- lid - id займа\n",
    "- value - сумма займа\n",
    "- term - запрошенный срок займа\n",
    "- before_dicount - ставка до скидки\n",
    "- after_discount - ставка после скидки\n",
    "- pc_discount - скидка по промокоду\n",
    "- loyalty_level - уровень программы лояльности\n",
    "- ll_discount - скидка по программе лояльности"
   ]
  },
  {
   "cell_type": "code",
   "execution_count": 4,
   "metadata": {},
   "outputs": [
    {
     "name": "stdout",
     "output_type": "stream",
     "text": [
      "<class 'pandas.core.frame.DataFrame'>\n",
      "RangeIndex: 30000 entries, 0 to 29999\n",
      "Data columns (total 9 columns):\n",
      " #   Column          Non-Null Count  Dtype  \n",
      "---  ------          --------------  -----  \n",
      " 0   cid             30000 non-null  int64  \n",
      " 1   lid             30000 non-null  int64  \n",
      " 2   value           30000 non-null  int64  \n",
      " 3   term            30000 non-null  int64  \n",
      " 4   before_dicount  30000 non-null  float64\n",
      " 5   after_discount  30000 non-null  float64\n",
      " 6   pc_discount     9156 non-null   float64\n",
      " 7   loyalty_level   18736 non-null  float64\n",
      " 8   ll_discount     18736 non-null  float64\n",
      "dtypes: float64(5), int64(4)\n",
      "memory usage: 2.1 MB\n"
     ]
    }
   ],
   "source": [
    "# посмотрим на общую информацию таблицы\n",
    "data.info()"
   ]
  },
  {
   "cell_type": "code",
   "execution_count": 5,
   "metadata": {},
   "outputs": [
    {
     "data": {
      "text/plain": [
       "0"
      ]
     },
     "execution_count": 5,
     "metadata": {},
     "output_type": "execute_result"
    }
   ],
   "source": [
    "# проверим таблицу на наличие дубликатов\n",
    "data.duplicated().sum()"
   ]
  },
  {
   "cell_type": "code",
   "execution_count": 6,
   "metadata": {},
   "outputs": [
    {
     "data": {
      "text/plain": [
       "cid                   0\n",
       "lid                   0\n",
       "value                 0\n",
       "term                  0\n",
       "before_dicount        0\n",
       "after_discount        0\n",
       "pc_discount       20844\n",
       "loyalty_level     11264\n",
       "ll_discount       11264\n",
       "dtype: int64"
      ]
     },
     "execution_count": 6,
     "metadata": {},
     "output_type": "execute_result"
    }
   ],
   "source": [
    "# проверим таблицу на наличие пропусков\n",
    "data.isnull().sum()"
   ]
  },
  {
   "cell_type": "markdown",
   "metadata": {},
   "source": [
    "<div class=\"alert alert-block alert-info\">\n",
    "<ul>\n",
    "    <li> в таблице 30 000 строк\n",
    "    <li> каждая строка - информация об уникальном займе\n",
    "    <li> в столбцах pc_discount, loyalty_level, ll_discount есть пропуски\n",
    "</ul>\n",
    "</div>"
   ]
  },
  {
   "cell_type": "markdown",
   "metadata": {},
   "source": [
    "### 2. Исследование скидочных промокодов"
   ]
  },
  {
   "cell_type": "markdown",
   "metadata": {},
   "source": [
    "#### 2.1 Общая информация"
   ]
  },
  {
   "cell_type": "code",
   "execution_count": 11,
   "metadata": {},
   "outputs": [
    {
     "data": {
      "text/plain": [
       "0.15    7202\n",
       "0.50     870\n",
       "0.26     798\n",
       "0.10     234\n",
       "0.16      52\n",
       "Name: pc_discount, dtype: int64"
      ]
     },
     "execution_count": 11,
     "metadata": {},
     "output_type": "execute_result"
    }
   ],
   "source": [
    "data['pc_discount'].value_counts()"
   ]
  },
  {
   "cell_type": "markdown",
   "metadata": {},
   "source": [
    "<div class=\"alert alert-block alert-info\">\n",
    "<ul>\n",
    "    <li> 20 844 займа были оформлены без использования скидочных промокодов\n",
    "    <li> всего с промокодами было оформлено 9 156 займов\n",
    "    <li> большинство из них со скидкой в 15% (7 202)\n",
    "</ul>\n",
    "</div>"
   ]
  },
  {
   "cell_type": "code",
   "execution_count": 13,
   "metadata": {},
   "outputs": [
    {
     "data": {
      "text/plain": [
       "count    9156.000000\n",
       "mean        0.191623\n",
       "std         0.105013\n",
       "min         0.100000\n",
       "25%         0.150000\n",
       "50%         0.150000\n",
       "75%         0.150000\n",
       "max         0.500000\n",
       "Name: pc_discount, dtype: float64"
      ]
     },
     "execution_count": 13,
     "metadata": {},
     "output_type": "execute_result"
    }
   ],
   "source": [
    "data['pc_discount'].describe()"
   ]
  },
  {
   "cell_type": "markdown",
   "metadata": {},
   "source": [
    "<div class=\"alert alert-block alert-info\">\n",
    "<ul>\n",
    "    <li> минимальное значение 10%, максимальное значение 50%\n",
    "    <li> среднее знаение (mean) 19.16%\n",
    "    <li> медиана (50%) 15%\n",
    "    <li> большинство из них со скидкой в 15% (7 202)\n",
    "</ul>\n",
    "</div>"
   ]
  },
  {
   "cell_type": "markdown",
   "metadata": {},
   "source": [
    "#### 2.2 Средневзвешенная скидка"
   ]
  },
  {
   "cell_type": "code",
   "execution_count": 25,
   "metadata": {},
   "outputs": [
    {
     "data": {
      "text/html": [
       "<div>\n",
       "<style scoped>\n",
       "    .dataframe tbody tr th:only-of-type {\n",
       "        vertical-align: middle;\n",
       "    }\n",
       "\n",
       "    .dataframe tbody tr th {\n",
       "        vertical-align: top;\n",
       "    }\n",
       "\n",
       "    .dataframe thead th {\n",
       "        text-align: right;\n",
       "    }\n",
       "</style>\n",
       "<table border=\"1\" class=\"dataframe\">\n",
       "  <thead>\n",
       "    <tr style=\"text-align: right;\">\n",
       "      <th></th>\n",
       "      <th>cid</th>\n",
       "      <th>lid</th>\n",
       "      <th>value</th>\n",
       "      <th>term</th>\n",
       "      <th>before_dicount</th>\n",
       "      <th>after_discount</th>\n",
       "      <th>pc_discount</th>\n",
       "      <th>loyalty_level</th>\n",
       "      <th>ll_discount</th>\n",
       "      <th>pcOnlyDiscount</th>\n",
       "      <th>pcW</th>\n",
       "    </tr>\n",
       "  </thead>\n",
       "  <tbody>\n",
       "    <tr>\n",
       "      <th>0</th>\n",
       "      <td>3407919</td>\n",
       "      <td>1461721</td>\n",
       "      <td>8700</td>\n",
       "      <td>30</td>\n",
       "      <td>1.00</td>\n",
       "      <td>0.8600</td>\n",
       "      <td>NaN</td>\n",
       "      <td>7.0</td>\n",
       "      <td>0.14</td>\n",
       "      <td>NaN</td>\n",
       "      <td>NaN</td>\n",
       "    </tr>\n",
       "    <tr>\n",
       "      <th>1</th>\n",
       "      <td>1224622</td>\n",
       "      <td>1461738</td>\n",
       "      <td>13900</td>\n",
       "      <td>30</td>\n",
       "      <td>1.00</td>\n",
       "      <td>0.8000</td>\n",
       "      <td>NaN</td>\n",
       "      <td>10.0</td>\n",
       "      <td>0.20</td>\n",
       "      <td>NaN</td>\n",
       "      <td>NaN</td>\n",
       "    </tr>\n",
       "    <tr>\n",
       "      <th>2</th>\n",
       "      <td>4624067</td>\n",
       "      <td>1452680</td>\n",
       "      <td>17250</td>\n",
       "      <td>56</td>\n",
       "      <td>0.99</td>\n",
       "      <td>0.8415</td>\n",
       "      <td>0.15</td>\n",
       "      <td>NaN</td>\n",
       "      <td>NaN</td>\n",
       "      <td>0.84</td>\n",
       "      <td>25364.40</td>\n",
       "    </tr>\n",
       "    <tr>\n",
       "      <th>3</th>\n",
       "      <td>4567936</td>\n",
       "      <td>1460449</td>\n",
       "      <td>5000</td>\n",
       "      <td>12</td>\n",
       "      <td>1.00</td>\n",
       "      <td>0.9800</td>\n",
       "      <td>NaN</td>\n",
       "      <td>0.0</td>\n",
       "      <td>0.02</td>\n",
       "      <td>NaN</td>\n",
       "      <td>NaN</td>\n",
       "    </tr>\n",
       "    <tr>\n",
       "      <th>4</th>\n",
       "      <td>4646053</td>\n",
       "      <td>1470745</td>\n",
       "      <td>3200</td>\n",
       "      <td>39</td>\n",
       "      <td>1.00</td>\n",
       "      <td>1.0000</td>\n",
       "      <td>NaN</td>\n",
       "      <td>NaN</td>\n",
       "      <td>NaN</td>\n",
       "      <td>NaN</td>\n",
       "      <td>NaN</td>\n",
       "    </tr>\n",
       "    <tr>\n",
       "      <th>...</th>\n",
       "      <td>...</td>\n",
       "      <td>...</td>\n",
       "      <td>...</td>\n",
       "      <td>...</td>\n",
       "      <td>...</td>\n",
       "      <td>...</td>\n",
       "      <td>...</td>\n",
       "      <td>...</td>\n",
       "      <td>...</td>\n",
       "      <td>...</td>\n",
       "      <td>...</td>\n",
       "    </tr>\n",
       "    <tr>\n",
       "      <th>29995</th>\n",
       "      <td>4583460</td>\n",
       "      <td>1509829</td>\n",
       "      <td>20700</td>\n",
       "      <td>56</td>\n",
       "      <td>0.99</td>\n",
       "      <td>0.8415</td>\n",
       "      <td>0.15</td>\n",
       "      <td>NaN</td>\n",
       "      <td>NaN</td>\n",
       "      <td>0.84</td>\n",
       "      <td>30437.28</td>\n",
       "    </tr>\n",
       "    <tr>\n",
       "      <th>29996</th>\n",
       "      <td>4493671</td>\n",
       "      <td>1510229</td>\n",
       "      <td>4000</td>\n",
       "      <td>30</td>\n",
       "      <td>1.00</td>\n",
       "      <td>0.9600</td>\n",
       "      <td>NaN</td>\n",
       "      <td>2.0</td>\n",
       "      <td>0.04</td>\n",
       "      <td>NaN</td>\n",
       "      <td>NaN</td>\n",
       "    </tr>\n",
       "    <tr>\n",
       "      <th>29997</th>\n",
       "      <td>110324</td>\n",
       "      <td>1510730</td>\n",
       "      <td>3000</td>\n",
       "      <td>10</td>\n",
       "      <td>1.00</td>\n",
       "      <td>0.8800</td>\n",
       "      <td>NaN</td>\n",
       "      <td>6.0</td>\n",
       "      <td>0.12</td>\n",
       "      <td>NaN</td>\n",
       "      <td>NaN</td>\n",
       "    </tr>\n",
       "    <tr>\n",
       "      <th>29998</th>\n",
       "      <td>3537622</td>\n",
       "      <td>1511179</td>\n",
       "      <td>2000</td>\n",
       "      <td>40</td>\n",
       "      <td>1.00</td>\n",
       "      <td>0.9600</td>\n",
       "      <td>NaN</td>\n",
       "      <td>2.0</td>\n",
       "      <td>0.04</td>\n",
       "      <td>NaN</td>\n",
       "      <td>NaN</td>\n",
       "    </tr>\n",
       "    <tr>\n",
       "      <th>29999</th>\n",
       "      <td>4685614</td>\n",
       "      <td>1511615</td>\n",
       "      <td>30000</td>\n",
       "      <td>70</td>\n",
       "      <td>0.99</td>\n",
       "      <td>0.7326</td>\n",
       "      <td>0.26</td>\n",
       "      <td>NaN</td>\n",
       "      <td>NaN</td>\n",
       "      <td>0.73</td>\n",
       "      <td>45330.00</td>\n",
       "    </tr>\n",
       "  </tbody>\n",
       "</table>\n",
       "<p>30000 rows × 11 columns</p>\n",
       "</div>"
      ],
      "text/plain": [
       "           cid      lid  value  term  before_dicount  after_discount  \\\n",
       "0      3407919  1461721   8700    30            1.00          0.8600   \n",
       "1      1224622  1461738  13900    30            1.00          0.8000   \n",
       "2      4624067  1452680  17250    56            0.99          0.8415   \n",
       "3      4567936  1460449   5000    12            1.00          0.9800   \n",
       "4      4646053  1470745   3200    39            1.00          1.0000   \n",
       "...        ...      ...    ...   ...             ...             ...   \n",
       "29995  4583460  1509829  20700    56            0.99          0.8415   \n",
       "29996  4493671  1510229   4000    30            1.00          0.9600   \n",
       "29997   110324  1510730   3000    10            1.00          0.8800   \n",
       "29998  3537622  1511179   2000    40            1.00          0.9600   \n",
       "29999  4685614  1511615  30000    70            0.99          0.7326   \n",
       "\n",
       "       pc_discount  loyalty_level  ll_discount  pcOnlyDiscount       pcW  \n",
       "0              NaN            7.0         0.14             NaN       NaN  \n",
       "1              NaN           10.0         0.20             NaN       NaN  \n",
       "2             0.15            NaN          NaN            0.84  25364.40  \n",
       "3              NaN            0.0         0.02             NaN       NaN  \n",
       "4              NaN            NaN          NaN             NaN       NaN  \n",
       "...            ...            ...          ...             ...       ...  \n",
       "29995         0.15            NaN          NaN            0.84  30437.28  \n",
       "29996          NaN            2.0         0.04             NaN       NaN  \n",
       "29997          NaN            6.0         0.12             NaN       NaN  \n",
       "29998          NaN            2.0         0.04             NaN       NaN  \n",
       "29999         0.26            NaN          NaN            0.73  45330.00  \n",
       "\n",
       "[30000 rows x 11 columns]"
      ]
     },
     "execution_count": 25,
     "metadata": {},
     "output_type": "execute_result"
    }
   ],
   "source": [
    "data['pcOnlyDiscount'] = data['before_dicount'] - data['pc_discount']\n",
    "data['pcValue'] = (1 + (data['term'] * data['pcOnlyDiscount']) / 100) * data['value']\n",
    "data"
   ]
  },
  {
   "cell_type": "code",
   "execution_count": null,
   "metadata": {},
   "outputs": [],
   "source": []
  },
  {
   "cell_type": "code",
   "execution_count": null,
   "metadata": {},
   "outputs": [],
   "source": []
  },
  {
   "cell_type": "code",
   "execution_count": null,
   "metadata": {},
   "outputs": [],
   "source": []
  },
  {
   "cell_type": "code",
   "execution_count": null,
   "metadata": {},
   "outputs": [],
   "source": []
  },
  {
   "cell_type": "code",
   "execution_count": 10,
   "metadata": {},
   "outputs": [
    {
     "ename": "NameError",
     "evalue": "name 'discount' is not defined",
     "output_type": "error",
     "traceback": [
      "\u001b[1;31m---------------------------------------------------------------------------\u001b[0m",
      "\u001b[1;31mNameError\u001b[0m                                 Traceback (most recent call last)",
      "\u001b[1;32m<ipython-input-10-2d1a8fdbfcc0>\u001b[0m in \u001b[0;36m<module>\u001b[1;34m\u001b[0m\n\u001b[1;32m----> 1\u001b[1;33m \u001b[0mdiscount\u001b[0m\u001b[1;33m[\u001b[0m\u001b[1;34m'll_discount'\u001b[0m\u001b[1;33m]\u001b[0m\u001b[1;33m.\u001b[0m\u001b[0mfillna\u001b[0m\u001b[1;33m(\u001b[0m\u001b[1;36m0.0\u001b[0m\u001b[1;33m,\u001b[0m \u001b[0minplace\u001b[0m\u001b[1;33m=\u001b[0m\u001b[1;32mTrue\u001b[0m\u001b[1;33m)\u001b[0m\u001b[1;33m\u001b[0m\u001b[1;33m\u001b[0m\u001b[0m\n\u001b[0m\u001b[0;32m      2\u001b[0m \u001b[0mdiscount\u001b[0m\u001b[1;33m[\u001b[0m\u001b[1;34m'd_rate'\u001b[0m\u001b[1;33m]\u001b[0m \u001b[1;33m=\u001b[0m \u001b[0mdiscount\u001b[0m\u001b[1;33m[\u001b[0m\u001b[1;34m'before_dicount'\u001b[0m\u001b[1;33m]\u001b[0m \u001b[1;33m-\u001b[0m \u001b[0mdiscount\u001b[0m\u001b[1;33m[\u001b[0m\u001b[1;34m'll_discount'\u001b[0m\u001b[1;33m]\u001b[0m\u001b[1;33m\u001b[0m\u001b[1;33m\u001b[0m\u001b[0m\n\u001b[0;32m      3\u001b[0m \u001b[1;33m\u001b[0m\u001b[0m\n\u001b[0;32m      4\u001b[0m \u001b[0mdiscount\u001b[0m\u001b[1;33m.\u001b[0m\u001b[0msample\u001b[0m\u001b[1;33m(\u001b[0m\u001b[1;36m10\u001b[0m\u001b[1;33m)\u001b[0m\u001b[1;33m\u001b[0m\u001b[1;33m\u001b[0m\u001b[0m\n",
      "\u001b[1;31mNameError\u001b[0m: name 'discount' is not defined"
     ]
    }
   ],
   "source": [
    "discount['ll_discount'].fillna(0.0, inplace=True)\n",
    "discount['d_rate'] = discount['before_dicount'] - discount['ll_discount']\n",
    "\n",
    "discount.sample(10)"
   ]
  },
  {
   "cell_type": "code",
   "execution_count": null,
   "metadata": {},
   "outputs": [],
   "source": [
    "discount['value_wo_discount'] = ((1 + (discount['term'] * discount['before_dicount']) / 100) * discount['value']).astype('int')\n",
    "\n",
    "discount.sample(10)"
   ]
  },
  {
   "cell_type": "code",
   "execution_count": null,
   "metadata": {},
   "outputs": [],
   "source": [
    "discount['value_w_discount'] = ((1 + (discount['term'] * discount['d_rate']) / 100) * discount['value']).astype('int')\n",
    "\n",
    "discount.sample(10)"
   ]
  },
  {
   "cell_type": "code",
   "execution_count": null,
   "metadata": {},
   "outputs": [],
   "source": [
    "(discount['value_wo_discount'].sum() - discount['value_w_discount'].sum()) / discount['value_wo_discount'].sum()"
   ]
  },
  {
   "cell_type": "code",
   "execution_count": null,
   "metadata": {},
   "outputs": [],
   "source": [
    "discount.query('ll_discount.notna()')['ll_discount'].mean()"
   ]
  },
  {
   "cell_type": "code",
   "execution_count": null,
   "metadata": {},
   "outputs": [],
   "source": [
    "discount.query('ll_discount.notna()')['loyalty_level'].value_counts()"
   ]
  },
  {
   "cell_type": "code",
   "execution_count": null,
   "metadata": {},
   "outputs": [],
   "source": [
    "discount.groupby(by='cid').agg({'lid': 'count'}).sort_values(by='lid', ascending=False)"
   ]
  },
  {
   "cell_type": "code",
   "execution_count": null,
   "metadata": {},
   "outputs": [],
   "source": [
    "discount.query('cid == 4488303')"
   ]
  },
  {
   "cell_type": "code",
   "execution_count": null,
   "metadata": {},
   "outputs": [],
   "source": []
  }
 ],
 "metadata": {
  "kernelspec": {
   "display_name": "Python 3",
   "language": "python",
   "name": "python3"
  },
  "language_info": {
   "codemirror_mode": {
    "name": "ipython",
    "version": 3
   },
   "file_extension": ".py",
   "mimetype": "text/x-python",
   "name": "python",
   "nbconvert_exporter": "python",
   "pygments_lexer": "ipython3",
   "version": "3.8.6"
  }
 },
 "nbformat": 4,
 "nbformat_minor": 4
}
