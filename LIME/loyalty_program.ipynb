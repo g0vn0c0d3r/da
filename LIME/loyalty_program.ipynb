{
 "cells": [
  {
   "cell_type": "code",
   "execution_count": 1,
   "metadata": {},
   "outputs": [],
   "source": [
    "import pandas as pd\n",
    "from matplotlib import pyplot as plt"
   ]
  },
  {
   "cell_type": "code",
   "execution_count": 2,
   "metadata": {},
   "outputs": [],
   "source": [
    "data = pd.read_excel('discount.xlsx')"
   ]
  },
  {
   "cell_type": "markdown",
   "metadata": {},
   "source": [
    "### 1. Общая информация"
   ]
  },
  {
   "cell_type": "code",
   "execution_count": 3,
   "metadata": {},
   "outputs": [
    {
     "data": {
      "text/html": [
       "<div>\n",
       "<style scoped>\n",
       "    .dataframe tbody tr th:only-of-type {\n",
       "        vertical-align: middle;\n",
       "    }\n",
       "\n",
       "    .dataframe tbody tr th {\n",
       "        vertical-align: top;\n",
       "    }\n",
       "\n",
       "    .dataframe thead th {\n",
       "        text-align: right;\n",
       "    }\n",
       "</style>\n",
       "<table border=\"1\" class=\"dataframe\">\n",
       "  <thead>\n",
       "    <tr style=\"text-align: right;\">\n",
       "      <th></th>\n",
       "      <th>cid</th>\n",
       "      <th>lid</th>\n",
       "      <th>value</th>\n",
       "      <th>term</th>\n",
       "      <th>before_dicount</th>\n",
       "      <th>promocode</th>\n",
       "      <th>loyalty_level</th>\n",
       "      <th>loyalty_discount</th>\n",
       "    </tr>\n",
       "  </thead>\n",
       "  <tbody>\n",
       "    <tr>\n",
       "      <th>12129</th>\n",
       "      <td>4591055</td>\n",
       "      <td>1476698</td>\n",
       "      <td>5000</td>\n",
       "      <td>25</td>\n",
       "      <td>1.00</td>\n",
       "      <td>NaN</td>\n",
       "      <td>0.0</td>\n",
       "      <td>0.02</td>\n",
       "    </tr>\n",
       "    <tr>\n",
       "      <th>3247</th>\n",
       "      <td>1629068</td>\n",
       "      <td>1459351</td>\n",
       "      <td>6800</td>\n",
       "      <td>10</td>\n",
       "      <td>1.00</td>\n",
       "      <td>NaN</td>\n",
       "      <td>0.0</td>\n",
       "      <td>0.02</td>\n",
       "    </tr>\n",
       "    <tr>\n",
       "      <th>8138</th>\n",
       "      <td>4523236</td>\n",
       "      <td>1468644</td>\n",
       "      <td>20000</td>\n",
       "      <td>42</td>\n",
       "      <td>0.99</td>\n",
       "      <td>0.15</td>\n",
       "      <td>NaN</td>\n",
       "      <td>NaN</td>\n",
       "    </tr>\n",
       "    <tr>\n",
       "      <th>20140</th>\n",
       "      <td>4454687</td>\n",
       "      <td>1492756</td>\n",
       "      <td>34500</td>\n",
       "      <td>168</td>\n",
       "      <td>0.99</td>\n",
       "      <td>0.26</td>\n",
       "      <td>NaN</td>\n",
       "      <td>NaN</td>\n",
       "    </tr>\n",
       "    <tr>\n",
       "      <th>5665</th>\n",
       "      <td>4535749</td>\n",
       "      <td>1463973</td>\n",
       "      <td>9200</td>\n",
       "      <td>56</td>\n",
       "      <td>0.99</td>\n",
       "      <td>0.15</td>\n",
       "      <td>NaN</td>\n",
       "      <td>NaN</td>\n",
       "    </tr>\n",
       "    <tr>\n",
       "      <th>12571</th>\n",
       "      <td>2189502</td>\n",
       "      <td>1477538</td>\n",
       "      <td>15000</td>\n",
       "      <td>30</td>\n",
       "      <td>1.00</td>\n",
       "      <td>NaN</td>\n",
       "      <td>6.0</td>\n",
       "      <td>0.12</td>\n",
       "    </tr>\n",
       "    <tr>\n",
       "      <th>25598</th>\n",
       "      <td>4567630</td>\n",
       "      <td>1503644</td>\n",
       "      <td>4000</td>\n",
       "      <td>30</td>\n",
       "      <td>1.00</td>\n",
       "      <td>NaN</td>\n",
       "      <td>3.0</td>\n",
       "      <td>0.06</td>\n",
       "    </tr>\n",
       "    <tr>\n",
       "      <th>8760</th>\n",
       "      <td>4593693</td>\n",
       "      <td>1469869</td>\n",
       "      <td>4000</td>\n",
       "      <td>30</td>\n",
       "      <td>1.00</td>\n",
       "      <td>NaN</td>\n",
       "      <td>NaN</td>\n",
       "      <td>NaN</td>\n",
       "    </tr>\n",
       "    <tr>\n",
       "      <th>1446</th>\n",
       "      <td>4290060</td>\n",
       "      <td>1455648</td>\n",
       "      <td>6000</td>\n",
       "      <td>30</td>\n",
       "      <td>1.00</td>\n",
       "      <td>NaN</td>\n",
       "      <td>0.0</td>\n",
       "      <td>0.02</td>\n",
       "    </tr>\n",
       "    <tr>\n",
       "      <th>14863</th>\n",
       "      <td>3411936</td>\n",
       "      <td>1482142</td>\n",
       "      <td>11500</td>\n",
       "      <td>30</td>\n",
       "      <td>1.00</td>\n",
       "      <td>NaN</td>\n",
       "      <td>4.0</td>\n",
       "      <td>0.08</td>\n",
       "    </tr>\n",
       "  </tbody>\n",
       "</table>\n",
       "</div>"
      ],
      "text/plain": [
       "           cid      lid  value  term  before_dicount  promocode  \\\n",
       "12129  4591055  1476698   5000    25            1.00        NaN   \n",
       "3247   1629068  1459351   6800    10            1.00        NaN   \n",
       "8138   4523236  1468644  20000    42            0.99       0.15   \n",
       "20140  4454687  1492756  34500   168            0.99       0.26   \n",
       "5665   4535749  1463973   9200    56            0.99       0.15   \n",
       "12571  2189502  1477538  15000    30            1.00        NaN   \n",
       "25598  4567630  1503644   4000    30            1.00        NaN   \n",
       "8760   4593693  1469869   4000    30            1.00        NaN   \n",
       "1446   4290060  1455648   6000    30            1.00        NaN   \n",
       "14863  3411936  1482142  11500    30            1.00        NaN   \n",
       "\n",
       "       loyalty_level  loyalty_discount  \n",
       "12129            0.0              0.02  \n",
       "3247             0.0              0.02  \n",
       "8138             NaN               NaN  \n",
       "20140            NaN               NaN  \n",
       "5665             NaN               NaN  \n",
       "12571            6.0              0.12  \n",
       "25598            3.0              0.06  \n",
       "8760             NaN               NaN  \n",
       "1446             0.0              0.02  \n",
       "14863            4.0              0.08  "
      ]
     },
     "execution_count": 3,
     "metadata": {},
     "output_type": "execute_result"
    }
   ],
   "source": [
    "# посмотрим на набор данных\n",
    "data.sample(10)"
   ]
  },
  {
   "cell_type": "markdown",
   "metadata": {},
   "source": [
    "- cid - id клиента\n",
    "- lid - id займа\n",
    "- value - сумма займа\n",
    "- term - запрошенный срок займа\n",
    "- before_dicount - ставка до скидки\n",
    "- promocode - скидка по промокоду\n",
    "- loyalty_level - уровень программы лояльности\n",
    "- loyalty_discount - скидка по программе лояльности"
   ]
  },
  {
   "cell_type": "code",
   "execution_count": 4,
   "metadata": {},
   "outputs": [
    {
     "name": "stdout",
     "output_type": "stream",
     "text": [
      "<class 'pandas.core.frame.DataFrame'>\n",
      "RangeIndex: 30000 entries, 0 to 29999\n",
      "Data columns (total 8 columns):\n",
      " #   Column            Non-Null Count  Dtype  \n",
      "---  ------            --------------  -----  \n",
      " 0   cid               30000 non-null  int64  \n",
      " 1   lid               30000 non-null  int64  \n",
      " 2   value             30000 non-null  int64  \n",
      " 3   term              30000 non-null  int64  \n",
      " 4   before_dicount    30000 non-null  float64\n",
      " 5   promocode         9156 non-null   float64\n",
      " 6   loyalty_level     18736 non-null  float64\n",
      " 7   loyalty_discount  18736 non-null  float64\n",
      "dtypes: float64(4), int64(4)\n",
      "memory usage: 1.8 MB\n"
     ]
    }
   ],
   "source": [
    "# посмотрим на общую информацию таблицы\n",
    "data.info()"
   ]
  },
  {
   "cell_type": "code",
   "execution_count": 5,
   "metadata": {},
   "outputs": [
    {
     "data": {
      "text/plain": [
       "0"
      ]
     },
     "execution_count": 5,
     "metadata": {},
     "output_type": "execute_result"
    }
   ],
   "source": [
    "# проверим таблицу на наличие дубликатов\n",
    "data.duplicated().sum()"
   ]
  },
  {
   "cell_type": "code",
   "execution_count": 6,
   "metadata": {},
   "outputs": [
    {
     "data": {
      "text/plain": [
       "cid                     0\n",
       "lid                     0\n",
       "value                   0\n",
       "term                    0\n",
       "before_dicount          0\n",
       "promocode           20844\n",
       "loyalty_level       11264\n",
       "loyalty_discount    11264\n",
       "dtype: int64"
      ]
     },
     "execution_count": 6,
     "metadata": {},
     "output_type": "execute_result"
    }
   ],
   "source": [
    "# проверим таблицу на наличие пропусков\n",
    "data.isnull().sum()"
   ]
  },
  {
   "cell_type": "markdown",
   "metadata": {},
   "source": [
    "<div class=\"alert alert-block alert-info\">\n",
    "<ul>\n",
    "    <li> в таблице 30 000 строк\n",
    "    <li> каждая строка - информация об уникальном займе\n",
    "    <li> в столбцах pc_discount, loyalty_level, ll_discount есть пропуски\n",
    "</ul>\n",
    "</div>"
   ]
  },
  {
   "cell_type": "markdown",
   "metadata": {},
   "source": [
    "### 2. Исследование скидочных промокодов"
   ]
  },
  {
   "cell_type": "markdown",
   "metadata": {},
   "source": [
    "#### 2.1 Общая информация"
   ]
  },
  {
   "cell_type": "code",
   "execution_count": null,
   "metadata": {},
   "outputs": [],
   "source": [
    "data['promocode']"
   ]
  }
 ],
 "metadata": {
  "kernelspec": {
   "display_name": "Python 3",
   "language": "python",
   "name": "python3"
  },
  "language_info": {
   "codemirror_mode": {
    "name": "ipython",
    "version": 3
   },
   "file_extension": ".py",
   "mimetype": "text/x-python",
   "name": "python",
   "nbconvert_exporter": "python",
   "pygments_lexer": "ipython3",
   "version": "3.8.6"
  }
 },
 "nbformat": 4,
 "nbformat_minor": 4
}
