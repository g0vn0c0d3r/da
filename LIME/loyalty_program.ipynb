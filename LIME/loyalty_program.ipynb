{
 "cells": [
  {
   "cell_type": "code",
   "execution_count": 1,
   "metadata": {},
   "outputs": [],
   "source": [
    "import pandas as pd\n",
    "from matplotlib import pyplot as plt"
   ]
  },
  {
   "cell_type": "code",
   "execution_count": 2,
   "metadata": {},
   "outputs": [],
   "source": [
    "data = pd.read_excel('discount.xlsx')"
   ]
  },
  {
   "cell_type": "markdown",
   "metadata": {},
   "source": [
    "### 1. Общая информация"
   ]
  },
  {
   "cell_type": "code",
   "execution_count": 3,
   "metadata": {},
   "outputs": [
    {
     "data": {
      "text/html": [
       "<div>\n",
       "<style scoped>\n",
       "    .dataframe tbody tr th:only-of-type {\n",
       "        vertical-align: middle;\n",
       "    }\n",
       "\n",
       "    .dataframe tbody tr th {\n",
       "        vertical-align: top;\n",
       "    }\n",
       "\n",
       "    .dataframe thead th {\n",
       "        text-align: right;\n",
       "    }\n",
       "</style>\n",
       "<table border=\"1\" class=\"dataframe\">\n",
       "  <thead>\n",
       "    <tr style=\"text-align: right;\">\n",
       "      <th></th>\n",
       "      <th>cid</th>\n",
       "      <th>lid</th>\n",
       "      <th>value</th>\n",
       "      <th>term</th>\n",
       "      <th>rate</th>\n",
       "      <th>promo</th>\n",
       "      <th>loyaltyLevel</th>\n",
       "      <th>loyaltyDiscount</th>\n",
       "    </tr>\n",
       "  </thead>\n",
       "  <tbody>\n",
       "    <tr>\n",
       "      <th>6128</th>\n",
       "      <td>4471979</td>\n",
       "      <td>1464855</td>\n",
       "      <td>12000</td>\n",
       "      <td>56</td>\n",
       "      <td>0.99</td>\n",
       "      <td>0.15</td>\n",
       "      <td>NaN</td>\n",
       "      <td>NaN</td>\n",
       "    </tr>\n",
       "    <tr>\n",
       "      <th>21931</th>\n",
       "      <td>4498426</td>\n",
       "      <td>1496341</td>\n",
       "      <td>17250</td>\n",
       "      <td>25</td>\n",
       "      <td>1.00</td>\n",
       "      <td>0.15</td>\n",
       "      <td>NaN</td>\n",
       "      <td>NaN</td>\n",
       "    </tr>\n",
       "    <tr>\n",
       "      <th>24022</th>\n",
       "      <td>4579979</td>\n",
       "      <td>1500472</td>\n",
       "      <td>3100</td>\n",
       "      <td>10</td>\n",
       "      <td>1.00</td>\n",
       "      <td>NaN</td>\n",
       "      <td>0.0</td>\n",
       "      <td>0.02</td>\n",
       "    </tr>\n",
       "    <tr>\n",
       "      <th>928</th>\n",
       "      <td>4418157</td>\n",
       "      <td>1454636</td>\n",
       "      <td>5000</td>\n",
       "      <td>30</td>\n",
       "      <td>1.00</td>\n",
       "      <td>NaN</td>\n",
       "      <td>0.0</td>\n",
       "      <td>0.02</td>\n",
       "    </tr>\n",
       "    <tr>\n",
       "      <th>15422</th>\n",
       "      <td>4622356</td>\n",
       "      <td>1483269</td>\n",
       "      <td>5000</td>\n",
       "      <td>21</td>\n",
       "      <td>1.00</td>\n",
       "      <td>0.15</td>\n",
       "      <td>NaN</td>\n",
       "      <td>NaN</td>\n",
       "    </tr>\n",
       "    <tr>\n",
       "      <th>7353</th>\n",
       "      <td>3496833</td>\n",
       "      <td>1467161</td>\n",
       "      <td>15000</td>\n",
       "      <td>42</td>\n",
       "      <td>0.99</td>\n",
       "      <td>0.15</td>\n",
       "      <td>NaN</td>\n",
       "      <td>NaN</td>\n",
       "    </tr>\n",
       "    <tr>\n",
       "      <th>133</th>\n",
       "      <td>3660629</td>\n",
       "      <td>1452664</td>\n",
       "      <td>6000</td>\n",
       "      <td>10</td>\n",
       "      <td>1.00</td>\n",
       "      <td>NaN</td>\n",
       "      <td>0.0</td>\n",
       "      <td>0.02</td>\n",
       "    </tr>\n",
       "    <tr>\n",
       "      <th>4136</th>\n",
       "      <td>3890515</td>\n",
       "      <td>1461135</td>\n",
       "      <td>5175</td>\n",
       "      <td>10</td>\n",
       "      <td>1.00</td>\n",
       "      <td>NaN</td>\n",
       "      <td>8.0</td>\n",
       "      <td>0.16</td>\n",
       "    </tr>\n",
       "    <tr>\n",
       "      <th>12065</th>\n",
       "      <td>4187567</td>\n",
       "      <td>1476577</td>\n",
       "      <td>5100</td>\n",
       "      <td>32</td>\n",
       "      <td>1.00</td>\n",
       "      <td>NaN</td>\n",
       "      <td>3.0</td>\n",
       "      <td>0.06</td>\n",
       "    </tr>\n",
       "    <tr>\n",
       "      <th>21251</th>\n",
       "      <td>4689682</td>\n",
       "      <td>1495063</td>\n",
       "      <td>2185</td>\n",
       "      <td>12</td>\n",
       "      <td>1.00</td>\n",
       "      <td>NaN</td>\n",
       "      <td>0.0</td>\n",
       "      <td>0.02</td>\n",
       "    </tr>\n",
       "  </tbody>\n",
       "</table>\n",
       "</div>"
      ],
      "text/plain": [
       "           cid      lid  value  term  rate  promo  loyaltyLevel  \\\n",
       "6128   4471979  1464855  12000    56  0.99   0.15           NaN   \n",
       "21931  4498426  1496341  17250    25  1.00   0.15           NaN   \n",
       "24022  4579979  1500472   3100    10  1.00    NaN           0.0   \n",
       "928    4418157  1454636   5000    30  1.00    NaN           0.0   \n",
       "15422  4622356  1483269   5000    21  1.00   0.15           NaN   \n",
       "7353   3496833  1467161  15000    42  0.99   0.15           NaN   \n",
       "133    3660629  1452664   6000    10  1.00    NaN           0.0   \n",
       "4136   3890515  1461135   5175    10  1.00    NaN           8.0   \n",
       "12065  4187567  1476577   5100    32  1.00    NaN           3.0   \n",
       "21251  4689682  1495063   2185    12  1.00    NaN           0.0   \n",
       "\n",
       "       loyaltyDiscount  \n",
       "6128               NaN  \n",
       "21931              NaN  \n",
       "24022             0.02  \n",
       "928               0.02  \n",
       "15422              NaN  \n",
       "7353               NaN  \n",
       "133               0.02  \n",
       "4136              0.16  \n",
       "12065             0.06  \n",
       "21251             0.02  "
      ]
     },
     "execution_count": 3,
     "metadata": {},
     "output_type": "execute_result"
    }
   ],
   "source": [
    "# посмотрим на набор данных\n",
    "data.sample(10)"
   ]
  },
  {
   "cell_type": "markdown",
   "metadata": {},
   "source": [
    "- cid - id клиента\n",
    "- lid - id займа\n",
    "- value - сумма займа\n",
    "- term - запрошенный срок займа\n",
    "- rate - ставка до скидки\n",
    "- promo - скидка по промокоду\n",
    "- loyaltyLevel - уровень программы лояльности\n",
    "- loyaltyDiscount - скидка по программе лояльности"
   ]
  },
  {
   "cell_type": "code",
   "execution_count": 4,
   "metadata": {},
   "outputs": [
    {
     "name": "stdout",
     "output_type": "stream",
     "text": [
      "<class 'pandas.core.frame.DataFrame'>\n",
      "RangeIndex: 30000 entries, 0 to 29999\n",
      "Data columns (total 8 columns):\n",
      " #   Column           Non-Null Count  Dtype  \n",
      "---  ------           --------------  -----  \n",
      " 0   cid              30000 non-null  int64  \n",
      " 1   lid              30000 non-null  int64  \n",
      " 2   value            30000 non-null  int64  \n",
      " 3   term             30000 non-null  int64  \n",
      " 4   rate             30000 non-null  float64\n",
      " 5   promo            9156 non-null   float64\n",
      " 6   loyaltyLevel     18736 non-null  float64\n",
      " 7   loyaltyDiscount  18736 non-null  float64\n",
      "dtypes: float64(4), int64(4)\n",
      "memory usage: 1.8 MB\n"
     ]
    }
   ],
   "source": [
    "# посмотрим на общую информацию таблицы\n",
    "data.info()"
   ]
  },
  {
   "cell_type": "code",
   "execution_count": 5,
   "metadata": {},
   "outputs": [
    {
     "data": {
      "text/plain": [
       "0"
      ]
     },
     "execution_count": 5,
     "metadata": {},
     "output_type": "execute_result"
    }
   ],
   "source": [
    "# проверим таблицу на наличие дубликатов\n",
    "data.duplicated().sum()"
   ]
  },
  {
   "cell_type": "code",
   "execution_count": 6,
   "metadata": {},
   "outputs": [
    {
     "data": {
      "text/plain": [
       "cid                    0\n",
       "lid                    0\n",
       "value                  0\n",
       "term                   0\n",
       "rate                   0\n",
       "promo              20844\n",
       "loyaltyLevel       11264\n",
       "loyaltyDiscount    11264\n",
       "dtype: int64"
      ]
     },
     "execution_count": 6,
     "metadata": {},
     "output_type": "execute_result"
    }
   ],
   "source": [
    "# проверим таблицу на наличие пропусков\n",
    "data.isnull().sum()"
   ]
  },
  {
   "cell_type": "markdown",
   "metadata": {},
   "source": [
    "<div class=\"alert alert-block alert-info\">\n",
    "<ul>\n",
    "    <li> в таблице 30 000 строк\n",
    "    <li> каждая строка - информация об уникальном займе\n",
    "    <li> в столбцах promo, loyalty_level, loyalty_discount есть пропуски\n",
    "</ul>\n",
    "</div>"
   ]
  },
  {
   "cell_type": "markdown",
   "metadata": {},
   "source": [
    "### 2. Исследование скидочных промокодов"
   ]
  },
  {
   "cell_type": "markdown",
   "metadata": {},
   "source": [
    "#### 2.1 Общая информация"
   ]
  },
  {
   "cell_type": "code",
   "execution_count": 7,
   "metadata": {},
   "outputs": [
    {
     "data": {
      "text/plain": [
       "count    9156.000000\n",
       "mean        0.191623\n",
       "std         0.105013\n",
       "min         0.100000\n",
       "25%         0.150000\n",
       "50%         0.150000\n",
       "75%         0.150000\n",
       "max         0.500000\n",
       "Name: promo, dtype: float64"
      ]
     },
     "execution_count": 7,
     "metadata": {},
     "output_type": "execute_result"
    }
   ],
   "source": [
    "data['promo'].describe()"
   ]
  },
  {
   "cell_type": "code",
   "execution_count": 8,
   "metadata": {},
   "outputs": [
    {
     "data": {
      "text/plain": [
       "0    0.15\n",
       "dtype: float64"
      ]
     },
     "execution_count": 8,
     "metadata": {},
     "output_type": "execute_result"
    }
   ],
   "source": [
    "data['promo'].mode()"
   ]
  },
  {
   "cell_type": "markdown",
   "metadata": {},
   "source": [
    "<div class=\"alert alert-block alert-info\">\n",
    "<ul>\n",
    "    <li> в столбце promo данные имеются только в 9156 строках\n",
    "    <li> т.о. из 30 000 займов 30.5% выдаются со скидками \n",
    "    <li> среднияя скидка (mean) 19.16%\n",
    "    <li> медианная скидка (50%) 15%\n",
    "    <li> мода (самое частое значение) также 15%\n",
    "</ul>\n",
    "</div>"
   ]
  },
  {
   "cell_type": "markdown",
   "metadata": {},
   "source": [
    "#### 2.2 Распределение"
   ]
  },
  {
   "cell_type": "code",
   "execution_count": 9,
   "metadata": {},
   "outputs": [
    {
     "data": {
      "image/png": "[encoded data removed]",
      "text/plain": [
       "<Figure size 936x648 with 1 Axes>"
      ]
     },
     "metadata": {
      "needs_background": "light"
     },
     "output_type": "display_data"
    }
   ],
   "source": [
    "data['promo'].hist(bins=10, figsize=(13, 9));"
   ]
  },
  {
   "cell_type": "code",
   "execution_count": 10,
   "metadata": {},
   "outputs": [
    {
     "data": {
      "text/plain": [
       "0.15    7202\n",
       "0.50     870\n",
       "0.26     798\n",
       "0.10     234\n",
       "0.16      52\n",
       "Name: promo, dtype: int64"
      ]
     },
     "execution_count": 10,
     "metadata": {},
     "output_type": "execute_result"
    }
   ],
   "source": [
    "data['promo'].value_counts()"
   ]
  },
  {
   "cell_type": "markdown",
   "metadata": {},
   "source": [
    "<div class=\"alert alert-block alert-info\">\n",
    "<ul>\n",
    "    <li> чаще всего займы оформляются со скидкой 15%\n",
    "    <li> на втором месте 50%\n",
    "    <li> на 3 и 5 месте станные суммы в 26% и 16% соответственно\n",
    "</ul>\n",
    "</div>"
   ]
  },
  {
   "cell_type": "markdown",
   "metadata": {},
   "source": [
    "#### 2.3 Расчет средневзвешенной скидки"
   ]
  },
  {
   "cell_type": "markdown",
   "metadata": {},
   "source": [
    "В этой части для расчетов будем использовать только те займы, которые оформлялись с промокодами.<br>\n",
    "Т.е. если займ в столбце promo не имеет значений - мы такую строку удаляем.<br>\n",
    "Это сделано потому, что промокоды отправляются выборочно и не доступны для всех пользователей изначально (в отличие от ПЛ)"
   ]
  },
  {
   "cell_type": "code",
   "execution_count": 11,
   "metadata": {},
   "outputs": [],
   "source": [
    "promo = data[data['promo'].notna()].drop(columns=['loyaltyLevel', 'loyaltyDiscount']).reset_index(drop=True)"
   ]
  },
  {
   "cell_type": "code",
   "execution_count": 12,
   "metadata": {},
   "outputs": [],
   "source": [
    "promo['profitBeforeDiscount'] = (promo['value'] * (promo['term'] * promo['rate']) / 100).round().astype('int')\n",
    "promo['profitAfterDiscount'] = (promo['value'] * (promo['term'] * (promo['rate'] - promo['promo'])) / 100).round().astype('int')"
   ]
  },
  {
   "cell_type": "code",
   "execution_count": 13,
   "metadata": {},
   "outputs": [
    {
     "data": {
      "text/html": [
       "<div>\n",
       "<style scoped>\n",
       "    .dataframe tbody tr th:only-of-type {\n",
       "        vertical-align: middle;\n",
       "    }\n",
       "\n",
       "    .dataframe tbody tr th {\n",
       "        vertical-align: top;\n",
       "    }\n",
       "\n",
       "    .dataframe thead th {\n",
       "        text-align: right;\n",
       "    }\n",
       "</style>\n",
       "<table border=\"1\" class=\"dataframe\">\n",
       "  <thead>\n",
       "    <tr style=\"text-align: right;\">\n",
       "      <th></th>\n",
       "      <th>cid</th>\n",
       "      <th>lid</th>\n",
       "      <th>value</th>\n",
       "      <th>term</th>\n",
       "      <th>rate</th>\n",
       "      <th>promo</th>\n",
       "      <th>profitBeforeDiscount</th>\n",
       "      <th>profitAfterDiscount</th>\n",
       "    </tr>\n",
       "  </thead>\n",
       "  <tbody>\n",
       "    <tr>\n",
       "      <th>0</th>\n",
       "      <td>4316626</td>\n",
       "      <td>1449670</td>\n",
       "      <td>14000</td>\n",
       "      <td>40</td>\n",
       "      <td>1.00</td>\n",
       "      <td>0.15</td>\n",
       "      <td>5600</td>\n",
       "      <td>4760</td>\n",
       "    </tr>\n",
       "    <tr>\n",
       "      <th>1</th>\n",
       "      <td>4534475</td>\n",
       "      <td>1450071</td>\n",
       "      <td>8050</td>\n",
       "      <td>23</td>\n",
       "      <td>1.00</td>\n",
       "      <td>0.15</td>\n",
       "      <td>1852</td>\n",
       "      <td>1574</td>\n",
       "    </tr>\n",
       "    <tr>\n",
       "      <th>2</th>\n",
       "      <td>4482293</td>\n",
       "      <td>1450192</td>\n",
       "      <td>17250</td>\n",
       "      <td>42</td>\n",
       "      <td>0.99</td>\n",
       "      <td>0.15</td>\n",
       "      <td>7173</td>\n",
       "      <td>6086</td>\n",
       "    </tr>\n",
       "    <tr>\n",
       "      <th>3</th>\n",
       "      <td>1338983</td>\n",
       "      <td>1452253</td>\n",
       "      <td>20815</td>\n",
       "      <td>56</td>\n",
       "      <td>0.99</td>\n",
       "      <td>0.15</td>\n",
       "      <td>11540</td>\n",
       "      <td>9791</td>\n",
       "    </tr>\n",
       "    <tr>\n",
       "      <th>4</th>\n",
       "      <td>3675968</td>\n",
       "      <td>1452255</td>\n",
       "      <td>10000</td>\n",
       "      <td>56</td>\n",
       "      <td>0.99</td>\n",
       "      <td>0.15</td>\n",
       "      <td>5544</td>\n",
       "      <td>4704</td>\n",
       "    </tr>\n",
       "  </tbody>\n",
       "</table>\n",
       "</div>"
      ],
      "text/plain": [
       "       cid      lid  value  term  rate  promo  profitBeforeDiscount  \\\n",
       "0  4316626  1449670  14000    40  1.00   0.15                  5600   \n",
       "1  4534475  1450071   8050    23  1.00   0.15                  1852   \n",
       "2  4482293  1450192  17250    42  0.99   0.15                  7173   \n",
       "3  1338983  1452253  20815    56  0.99   0.15                 11540   \n",
       "4  3675968  1452255  10000    56  0.99   0.15                  5544   \n",
       "\n",
       "   profitAfterDiscount  \n",
       "0                 4760  \n",
       "1                 1574  \n",
       "2                 6086  \n",
       "3                 9791  \n",
       "4                 4704  "
      ]
     },
     "execution_count": 13,
     "metadata": {},
     "output_type": "execute_result"
    }
   ],
   "source": [
    "promo.head()"
   ]
  },
  {
   "cell_type": "code",
   "execution_count": 14,
   "metadata": {},
   "outputs": [
    {
     "name": "stdout",
     "output_type": "stream",
     "text": [
      "14291.0\n",
      "9923.0\n"
     ]
    }
   ],
   "source": [
    "print(promo['profitBeforeDiscount'].mean().round())\n",
    "print(promo['profitAfterDiscount'].mean().round())"
   ]
  },
  {
   "cell_type": "code",
   "execution_count": 15,
   "metadata": {},
   "outputs": [
    {
     "name": "stdout",
     "output_type": "stream",
     "text": [
      "Средневзвешенная скидка займов с промокодами 30.6%\n"
     ]
    }
   ],
   "source": [
    "print(f\"Средневзвешенная скидка займов с промокодами {(promo['profitBeforeDiscount'].sum() - promo['profitAfterDiscount'].sum()) / promo['profitBeforeDiscount'].sum():.1%}\")"
   ]
  },
  {
   "cell_type": "code",
   "execution_count": 16,
   "metadata": {},
   "outputs": [
    {
     "data": {
      "text/html": [
       "<div>\n",
       "<style scoped>\n",
       "    .dataframe tbody tr th:only-of-type {\n",
       "        vertical-align: middle;\n",
       "    }\n",
       "\n",
       "    .dataframe tbody tr th {\n",
       "        vertical-align: top;\n",
       "    }\n",
       "\n",
       "    .dataframe thead th {\n",
       "        text-align: right;\n",
       "    }\n",
       "</style>\n",
       "<table border=\"1\" class=\"dataframe\">\n",
       "  <thead>\n",
       "    <tr style=\"text-align: right;\">\n",
       "      <th></th>\n",
       "      <th>uniqueUsers</th>\n",
       "      <th>loans</th>\n",
       "      <th>avgValue</th>\n",
       "      <th>term</th>\n",
       "      <th>profitBeforeDiscount</th>\n",
       "      <th>profitAfterDiscount</th>\n",
       "    </tr>\n",
       "    <tr>\n",
       "      <th>promo</th>\n",
       "      <th></th>\n",
       "      <th></th>\n",
       "      <th></th>\n",
       "      <th></th>\n",
       "      <th></th>\n",
       "      <th></th>\n",
       "    </tr>\n",
       "  </thead>\n",
       "  <tbody>\n",
       "    <tr>\n",
       "      <th>0.10</th>\n",
       "      <td>234</td>\n",
       "      <td>234</td>\n",
       "      <td>8893</td>\n",
       "      <td>23</td>\n",
       "      <td>2217</td>\n",
       "      <td>1995</td>\n",
       "    </tr>\n",
       "    <tr>\n",
       "      <th>0.15</th>\n",
       "      <td>7048</td>\n",
       "      <td>7202</td>\n",
       "      <td>14619</td>\n",
       "      <td>46</td>\n",
       "      <td>6868</td>\n",
       "      <td>5828</td>\n",
       "    </tr>\n",
       "    <tr>\n",
       "      <th>0.16</th>\n",
       "      <td>52</td>\n",
       "      <td>52</td>\n",
       "      <td>21539</td>\n",
       "      <td>134</td>\n",
       "      <td>28453</td>\n",
       "      <td>23855</td>\n",
       "    </tr>\n",
       "    <tr>\n",
       "      <th>0.26</th>\n",
       "      <td>792</td>\n",
       "      <td>798</td>\n",
       "      <td>31133</td>\n",
       "      <td>132</td>\n",
       "      <td>40743</td>\n",
       "      <td>30043</td>\n",
       "    </tr>\n",
       "    <tr>\n",
       "      <th>0.50</th>\n",
       "      <td>854</td>\n",
       "      <td>870</td>\n",
       "      <td>40340</td>\n",
       "      <td>135</td>\n",
       "      <td>53875</td>\n",
       "      <td>26666</td>\n",
       "    </tr>\n",
       "  </tbody>\n",
       "</table>\n",
       "</div>"
      ],
      "text/plain": [
       "       uniqueUsers  loans  avgValue  term  profitBeforeDiscount  \\\n",
       "promo                                                             \n",
       "0.10           234    234      8893    23                  2217   \n",
       "0.15          7048   7202     14619    46                  6868   \n",
       "0.16            52     52     21539   134                 28453   \n",
       "0.26           792    798     31133   132                 40743   \n",
       "0.50           854    870     40340   135                 53875   \n",
       "\n",
       "       profitAfterDiscount  \n",
       "promo                       \n",
       "0.10                  1995  \n",
       "0.15                  5828  \n",
       "0.16                 23855  \n",
       "0.26                 30043  \n",
       "0.50                 26666  "
      ]
     },
     "execution_count": 16,
     "metadata": {},
     "output_type": "execute_result"
    }
   ],
   "source": [
    "grouped_by_promo = promo.groupby(by='promo').agg({'cid': 'nunique','lid': 'count', 'value': 'mean', 'term': 'mean',\n",
    "                               'profitBeforeDiscount': 'mean',\n",
    "                              'profitAfterDiscount': 'mean'}).round().astype('int')\n",
    "\n",
    "grouped_by_promo.rename(columns={'cid': 'uniqueUsers','lid': 'loans', 'value': 'avgValue'})"
   ]
  },
  {
   "cell_type": "markdown",
   "metadata": {},
   "source": [
    "<div class=\"alert alert-block alert-info\">\n",
    "<ul>\n",
    "    <li> средняя ожидаемая прибыль с 1 займа по базовой ставке (по умолчанию все займы погашены успешно и ровно в срок) 14291 рубль\n",
    "    <li> средняя ожидаемая прибыль с 1 займа с учтом скидки 9923 рубля\n",
    "    <li> средневзвешенная скидка составила более 30%\n",
    "    <li> причина - очень большие (50%) скидки на ДЗ. При этом только для ДЗ были такие скидки\n",
    "    <li> в целом получается, что чем больше чек - тем больше скидка\n",
    "</ul>\n",
    "</div>"
   ]
  },
  {
   "cell_type": "markdown",
   "metadata": {},
   "source": [
    "#### 2.3 Промокоды vs ПЛ"
   ]
  },
  {
   "cell_type": "code",
   "execution_count": 17,
   "metadata": {},
   "outputs": [
    {
     "name": "stdout",
     "output_type": "stream",
     "text": [
      "<class 'pandas.core.frame.DataFrame'>\n",
      "Int64Index: 9156 entries, 1 to 29986\n",
      "Data columns (total 8 columns):\n",
      " #   Column           Non-Null Count  Dtype  \n",
      "---  ------           --------------  -----  \n",
      " 0   cid              9156 non-null   int64  \n",
      " 1   lid              9156 non-null   int64  \n",
      " 2   value            9156 non-null   int64  \n",
      " 3   term             9156 non-null   int64  \n",
      " 4   rate             9156 non-null   float64\n",
      " 5   promo            9156 non-null   float64\n",
      " 6   loyaltyLevel     0 non-null      float64\n",
      " 7   loyaltyDiscount  0 non-null      float64\n",
      "dtypes: float64(4), int64(4)\n",
      "memory usage: 643.8 KB\n"
     ]
    }
   ],
   "source": [
    "data[data['promo'].notna()].info()"
   ]
  },
  {
   "cell_type": "markdown",
   "metadata": {},
   "source": [
    "<div class=\"alert alert-block alert-info\">\n",
    "<ul>\n",
    "    <li> кажется на баг или аномалию, но из 9156 займов, в которых был применен промокод не имеют скидки по ПЛ и в целом как-будто не состоят в программе лояльности\n",
    "    <li> как вариант - програмно стоит приоритет промокода нам ПЛ, втосто определения наибольший скидки\n",
    "</ul>\n",
    "</div>"
   ]
  },
  {
   "cell_type": "markdown",
   "metadata": {},
   "source": [
    "### 3. Исследование скидок по ПЛ"
   ]
  },
  {
   "cell_type": "markdown",
   "metadata": {},
   "source": [
    "#### 3.1 Общая информация"
   ]
  },
  {
   "cell_type": "code",
   "execution_count": 18,
   "metadata": {},
   "outputs": [
    {
     "data": {
      "text/plain": [
       "count    18736.000000\n",
       "mean         0.053544\n",
       "std          0.041568\n",
       "min          0.020000\n",
       "25%          0.020000\n",
       "50%          0.040000\n",
       "75%          0.080000\n",
       "max          0.200000\n",
       "Name: loyaltyDiscount, dtype: float64"
      ]
     },
     "execution_count": 18,
     "metadata": {},
     "output_type": "execute_result"
    }
   ],
   "source": [
    "data['loyaltyDiscount'].describe()"
   ]
  },
  {
   "cell_type": "code",
   "execution_count": 19,
   "metadata": {},
   "outputs": [
    {
     "data": {
      "text/plain": [
       "0    0.02\n",
       "dtype: float64"
      ]
     },
     "execution_count": 19,
     "metadata": {},
     "output_type": "execute_result"
    }
   ],
   "source": [
    "data['loyaltyDiscount'].mode()"
   ]
  },
  {
   "cell_type": "markdown",
   "metadata": {},
   "source": [
    "<div class=\"alert alert-block alert-info\">\n",
    "<ul>\n",
    "    <li> в столбце loyaltyDiscount данные имеются только в 18736 строках\n",
    "    <li> т.о. из 30 000 займов 62.5% выдаются со скидками \n",
    "    <li> среднияя скидка (mean) 5.3%\n",
    "    <li> медианная скидка (50%) 4%\n",
    "    <li> мода (самое частое значение) 2%\n",
    "</ul>\n",
    "</div>"
   ]
  },
  {
   "cell_type": "markdown",
   "metadata": {},
   "source": [
    "#### 3.2 Распределение"
   ]
  },
  {
   "cell_type": "code",
   "execution_count": 20,
   "metadata": {},
   "outputs": [
    {
     "data": {
      "image/png": "[encoded data removed]",
      "text/plain": [
       "<Figure size 936x648 with 1 Axes>"
      ]
     },
     "metadata": {
      "needs_background": "light"
     },
     "output_type": "display_data"
    }
   ],
   "source": [
    "data['loyaltyDiscount'].hist(bins=10, figsize=(13, 9));"
   ]
  },
  {
   "cell_type": "code",
   "execution_count": 21,
   "metadata": {},
   "outputs": [
    {
     "data": {
      "text/plain": [
       "loyaltyLevel  loyaltyDiscount\n",
       "0.0           0.02               8733\n",
       "3.0           0.06               3687\n",
       "4.0           0.08               2086\n",
       "2.0           0.04               1201\n",
       "5.0           0.10               1158\n",
       "6.0           0.12                719\n",
       "7.0           0.14                439\n",
       "10.0          0.20                292\n",
       "8.0           0.16                266\n",
       "9.0           0.18                155\n",
       "dtype: int64"
      ]
     },
     "execution_count": 21,
     "metadata": {},
     "output_type": "execute_result"
    }
   ],
   "source": [
    "data[['loyaltyLevel' ,'loyaltyDiscount']].value_counts()"
   ]
  },
  {
   "cell_type": "markdown",
   "metadata": {},
   "source": [
    "<div class=\"alert alert-block alert-info\">\n",
    "<ul>\n",
    "    <li> из 30000 займов скидка по ПЛ есть только у 18736. Выходит, что 11264 займа были оформлены пользователями, которы не имеют уровня в ПЛ. Правда, как мы уже поняли ранее, у 9156 из них есть скидка по промокоду, которая, скорее всего, \"сбивает\" ПЛ\n",
    "    <li> еще вроде бы как у ДЗ нет программы лояльности\n",
    "    <li> 8733 (29%) займа были получены со скидкой в 2% (что соответсвтует 0 уровнею ПЛ). На 0 уровень попадют те, кто не смог подняться с 1 на 2 или \"падал\" с уровня 2+ до 1\n",
    "    <li> на 2 уровне меньше пользователей, чем на 2-4 и почти столько же, как на 5. Это опять же связано с тем, что движение со 2 уровня возможно или на 3 или на 0.\n",
    "    <li> на 10 уровне в 2 раза больше пользователей, чем на 9. А также больше, чем на 8\n",
    "</ul>\n",
    "</div>"
   ]
  },
  {
   "cell_type": "markdown",
   "metadata": {},
   "source": [
    "#### 3.3 Расчет средневзвешенной скидки"
   ]
  },
  {
   "cell_type": "code",
   "execution_count": 22,
   "metadata": {},
   "outputs": [
    {
     "data": {
      "text/html": [
       "<div>\n",
       "<style scoped>\n",
       "    .dataframe tbody tr th:only-of-type {\n",
       "        vertical-align: middle;\n",
       "    }\n",
       "\n",
       "    .dataframe tbody tr th {\n",
       "        vertical-align: top;\n",
       "    }\n",
       "\n",
       "    .dataframe thead th {\n",
       "        text-align: right;\n",
       "    }\n",
       "</style>\n",
       "<table border=\"1\" class=\"dataframe\">\n",
       "  <thead>\n",
       "    <tr style=\"text-align: right;\">\n",
       "      <th></th>\n",
       "      <th>cid</th>\n",
       "      <th>lid</th>\n",
       "      <th>value</th>\n",
       "      <th>term</th>\n",
       "      <th>rate</th>\n",
       "      <th>promo</th>\n",
       "      <th>loyaltyLevel</th>\n",
       "      <th>loyaltyDiscount</th>\n",
       "      <th>profitBeforeDiscount</th>\n",
       "      <th>profitAfterDiscount</th>\n",
       "    </tr>\n",
       "  </thead>\n",
       "  <tbody>\n",
       "    <tr>\n",
       "      <th>0</th>\n",
       "      <td>4346488</td>\n",
       "      <td>1449619</td>\n",
       "      <td>7000</td>\n",
       "      <td>12</td>\n",
       "      <td>1.0</td>\n",
       "      <td>0.00</td>\n",
       "      <td>3.0</td>\n",
       "      <td>0.06</td>\n",
       "      <td>840</td>\n",
       "      <td>790</td>\n",
       "    </tr>\n",
       "    <tr>\n",
       "      <th>1</th>\n",
       "      <td>4316626</td>\n",
       "      <td>1449670</td>\n",
       "      <td>14000</td>\n",
       "      <td>40</td>\n",
       "      <td>1.0</td>\n",
       "      <td>0.15</td>\n",
       "      <td>0.0</td>\n",
       "      <td>0.00</td>\n",
       "      <td>5600</td>\n",
       "      <td>5600</td>\n",
       "    </tr>\n",
       "    <tr>\n",
       "      <th>2</th>\n",
       "      <td>2834045</td>\n",
       "      <td>1449970</td>\n",
       "      <td>9500</td>\n",
       "      <td>10</td>\n",
       "      <td>1.0</td>\n",
       "      <td>0.00</td>\n",
       "      <td>10.0</td>\n",
       "      <td>0.20</td>\n",
       "      <td>950</td>\n",
       "      <td>760</td>\n",
       "    </tr>\n",
       "    <tr>\n",
       "      <th>3</th>\n",
       "      <td>4534475</td>\n",
       "      <td>1450071</td>\n",
       "      <td>8050</td>\n",
       "      <td>23</td>\n",
       "      <td>1.0</td>\n",
       "      <td>0.15</td>\n",
       "      <td>0.0</td>\n",
       "      <td>0.00</td>\n",
       "      <td>1852</td>\n",
       "      <td>1852</td>\n",
       "    </tr>\n",
       "    <tr>\n",
       "      <th>4</th>\n",
       "      <td>4204786</td>\n",
       "      <td>1450136</td>\n",
       "      <td>4000</td>\n",
       "      <td>30</td>\n",
       "      <td>1.0</td>\n",
       "      <td>0.00</td>\n",
       "      <td>0.0</td>\n",
       "      <td>0.02</td>\n",
       "      <td>1200</td>\n",
       "      <td>1176</td>\n",
       "    </tr>\n",
       "  </tbody>\n",
       "</table>\n",
       "</div>"
      ],
      "text/plain": [
       "       cid      lid  value  term  rate  promo  loyaltyLevel  loyaltyDiscount  \\\n",
       "0  4346488  1449619   7000    12   1.0   0.00           3.0             0.06   \n",
       "1  4316626  1449670  14000    40   1.0   0.15           0.0             0.00   \n",
       "2  2834045  1449970   9500    10   1.0   0.00          10.0             0.20   \n",
       "3  4534475  1450071   8050    23   1.0   0.15           0.0             0.00   \n",
       "4  4204786  1450136   4000    30   1.0   0.00           0.0             0.02   \n",
       "\n",
       "   profitBeforeDiscount  profitAfterDiscount  \n",
       "0                   840                  790  \n",
       "1                  5600                 5600  \n",
       "2                   950                  760  \n",
       "3                  1852                 1852  \n",
       "4                  1200                 1176  "
      ]
     },
     "execution_count": 22,
     "metadata": {},
     "output_type": "execute_result"
    }
   ],
   "source": [
    "loyalty = data.fillna(0)\n",
    "loyalty['profitBeforeDiscount'] = (loyalty['value'] * (loyalty['term'] * loyalty['rate']) / 100).round().astype('int')\n",
    "loyalty['profitAfterDiscount'] = (loyalty['value'] * (loyalty['term'] * (loyalty['rate'] - loyalty['loyaltyDiscount'])) / 100).round().astype('int')\n",
    "\n",
    "loyalty.head()"
   ]
  },
  {
   "cell_type": "code",
   "execution_count": 23,
   "metadata": {},
   "outputs": [
    {
     "name": "stdout",
     "output_type": "stream",
     "text": [
      "Средневзвешенная скидка по программе лояльности 1.2%\n"
     ]
    }
   ],
   "source": [
    "print(f\"Средневзвешенная скидка по программе лояльности {(loyalty['profitBeforeDiscount'].sum() - loyalty['profitAfterDiscount'].sum()) / loyalty['profitBeforeDiscount'].sum():.1%}\")"
   ]
  },
  {
   "cell_type": "code",
   "execution_count": 24,
   "metadata": {
    "scrolled": false
   },
   "outputs": [
    {
     "data": {
      "text/html": [
       "<div>\n",
       "<style scoped>\n",
       "    .dataframe tbody tr th:only-of-type {\n",
       "        vertical-align: middle;\n",
       "    }\n",
       "\n",
       "    .dataframe tbody tr th {\n",
       "        vertical-align: top;\n",
       "    }\n",
       "\n",
       "    .dataframe thead th {\n",
       "        text-align: right;\n",
       "    }\n",
       "</style>\n",
       "<table border=\"1\" class=\"dataframe\">\n",
       "  <thead>\n",
       "    <tr style=\"text-align: right;\">\n",
       "      <th></th>\n",
       "      <th></th>\n",
       "      <th>uniqueUsers</th>\n",
       "      <th>loans</th>\n",
       "      <th>avgValue</th>\n",
       "      <th>term</th>\n",
       "      <th>profitBeforeDiscount</th>\n",
       "      <th>profitAfterDiscount</th>\n",
       "    </tr>\n",
       "    <tr>\n",
       "      <th>loyaltyLevel</th>\n",
       "      <th>loyaltyDiscount</th>\n",
       "      <th></th>\n",
       "      <th></th>\n",
       "      <th></th>\n",
       "      <th></th>\n",
       "      <th></th>\n",
       "      <th></th>\n",
       "    </tr>\n",
       "  </thead>\n",
       "  <tbody>\n",
       "    <tr>\n",
       "      <th rowspan=\"2\" valign=\"top\">0.0</th>\n",
       "      <th>0.00</th>\n",
       "      <td>10816</td>\n",
       "      <td>11264</td>\n",
       "      <td>16445</td>\n",
       "      <td>55</td>\n",
       "      <td>12025</td>\n",
       "      <td>12025</td>\n",
       "    </tr>\n",
       "    <tr>\n",
       "      <th>0.02</th>\n",
       "      <td>6566</td>\n",
       "      <td>8733</td>\n",
       "      <td>6696</td>\n",
       "      <td>21</td>\n",
       "      <td>1519</td>\n",
       "      <td>1488</td>\n",
       "    </tr>\n",
       "    <tr>\n",
       "      <th>2.0</th>\n",
       "      <th>0.04</th>\n",
       "      <td>1201</td>\n",
       "      <td>1201</td>\n",
       "      <td>8743</td>\n",
       "      <td>22</td>\n",
       "      <td>2000</td>\n",
       "      <td>1920</td>\n",
       "    </tr>\n",
       "    <tr>\n",
       "      <th>3.0</th>\n",
       "      <th>0.06</th>\n",
       "      <td>2896</td>\n",
       "      <td>3687</td>\n",
       "      <td>7612</td>\n",
       "      <td>22</td>\n",
       "      <td>1785</td>\n",
       "      <td>1678</td>\n",
       "    </tr>\n",
       "    <tr>\n",
       "      <th>4.0</th>\n",
       "      <th>0.08</th>\n",
       "      <td>1692</td>\n",
       "      <td>2086</td>\n",
       "      <td>7882</td>\n",
       "      <td>22</td>\n",
       "      <td>1877</td>\n",
       "      <td>1727</td>\n",
       "    </tr>\n",
       "    <tr>\n",
       "      <th>5.0</th>\n",
       "      <th>0.10</th>\n",
       "      <td>933</td>\n",
       "      <td>1158</td>\n",
       "      <td>8341</td>\n",
       "      <td>23</td>\n",
       "      <td>2057</td>\n",
       "      <td>1851</td>\n",
       "    </tr>\n",
       "    <tr>\n",
       "      <th>6.0</th>\n",
       "      <th>0.12</th>\n",
       "      <td>591</td>\n",
       "      <td>719</td>\n",
       "      <td>8527</td>\n",
       "      <td>22</td>\n",
       "      <td>2037</td>\n",
       "      <td>1793</td>\n",
       "    </tr>\n",
       "    <tr>\n",
       "      <th>7.0</th>\n",
       "      <th>0.14</th>\n",
       "      <td>339</td>\n",
       "      <td>439</td>\n",
       "      <td>8814</td>\n",
       "      <td>22</td>\n",
       "      <td>2111</td>\n",
       "      <td>1816</td>\n",
       "    </tr>\n",
       "    <tr>\n",
       "      <th>8.0</th>\n",
       "      <th>0.16</th>\n",
       "      <td>222</td>\n",
       "      <td>266</td>\n",
       "      <td>9554</td>\n",
       "      <td>22</td>\n",
       "      <td>2270</td>\n",
       "      <td>1907</td>\n",
       "    </tr>\n",
       "    <tr>\n",
       "      <th>9.0</th>\n",
       "      <th>0.18</th>\n",
       "      <td>118</td>\n",
       "      <td>155</td>\n",
       "      <td>9821</td>\n",
       "      <td>22</td>\n",
       "      <td>2342</td>\n",
       "      <td>1920</td>\n",
       "    </tr>\n",
       "    <tr>\n",
       "      <th>10.0</th>\n",
       "      <th>0.20</th>\n",
       "      <td>210</td>\n",
       "      <td>292</td>\n",
       "      <td>10476</td>\n",
       "      <td>25</td>\n",
       "      <td>2737</td>\n",
       "      <td>2189</td>\n",
       "    </tr>\n",
       "  </tbody>\n",
       "</table>\n",
       "</div>"
      ],
      "text/plain": [
       "                              uniqueUsers  loans  avgValue  term  \\\n",
       "loyaltyLevel loyaltyDiscount                                       \n",
       "0.0          0.00                   10816  11264     16445    55   \n",
       "             0.02                    6566   8733      6696    21   \n",
       "2.0          0.04                    1201   1201      8743    22   \n",
       "3.0          0.06                    2896   3687      7612    22   \n",
       "4.0          0.08                    1692   2086      7882    22   \n",
       "5.0          0.10                     933   1158      8341    23   \n",
       "6.0          0.12                     591    719      8527    22   \n",
       "7.0          0.14                     339    439      8814    22   \n",
       "8.0          0.16                     222    266      9554    22   \n",
       "9.0          0.18                     118    155      9821    22   \n",
       "10.0         0.20                     210    292     10476    25   \n",
       "\n",
       "                              profitBeforeDiscount  profitAfterDiscount  \n",
       "loyaltyLevel loyaltyDiscount                                             \n",
       "0.0          0.00                            12025                12025  \n",
       "             0.02                             1519                 1488  \n",
       "2.0          0.04                             2000                 1920  \n",
       "3.0          0.06                             1785                 1678  \n",
       "4.0          0.08                             1877                 1727  \n",
       "5.0          0.10                             2057                 1851  \n",
       "6.0          0.12                             2037                 1793  \n",
       "7.0          0.14                             2111                 1816  \n",
       "8.0          0.16                             2270                 1907  \n",
       "9.0          0.18                             2342                 1920  \n",
       "10.0         0.20                             2737                 2189  "
      ]
     },
     "execution_count": 24,
     "metadata": {},
     "output_type": "execute_result"
    }
   ],
   "source": [
    "grouped_by_loyalty = loyalty.groupby(by=['loyaltyLevel', 'loyaltyDiscount']).agg({'cid': 'nunique','lid': 'count', \n",
    "                                                                                  'value': 'mean', 'term': 'mean', \n",
    "                                                                                  'profitBeforeDiscount': 'mean', \n",
    "                                                                                  'profitAfterDiscount': 'mean'}).round().astype('int')\n",
    "\n",
    "grouped_by_loyalty.rename(columns={'cid': 'uniqueUsers','lid': 'loans', 'value': 'avgValue'})"
   ]
  },
  {
   "cell_type": "markdown",
   "metadata": {},
   "source": [
    "#### 3.4 Проверка на корреляцию"
   ]
  },
  {
   "cell_type": "code",
   "execution_count": 25,
   "metadata": {},
   "outputs": [
    {
     "data": {
      "text/html": [
       "<div>\n",
       "<style scoped>\n",
       "    .dataframe tbody tr th:only-of-type {\n",
       "        vertical-align: middle;\n",
       "    }\n",
       "\n",
       "    .dataframe tbody tr th {\n",
       "        vertical-align: top;\n",
       "    }\n",
       "\n",
       "    .dataframe thead th {\n",
       "        text-align: right;\n",
       "    }\n",
       "</style>\n",
       "<table border=\"1\" class=\"dataframe\">\n",
       "  <thead>\n",
       "    <tr style=\"text-align: right;\">\n",
       "      <th></th>\n",
       "      <th>cid</th>\n",
       "      <th>lid</th>\n",
       "      <th>value</th>\n",
       "      <th>loyaltyDiscount</th>\n",
       "    </tr>\n",
       "  </thead>\n",
       "  <tbody>\n",
       "    <tr>\n",
       "      <th>0</th>\n",
       "      <td>4267137</td>\n",
       "      <td>17</td>\n",
       "      <td>77000</td>\n",
       "      <td>0.02</td>\n",
       "    </tr>\n",
       "    <tr>\n",
       "      <th>1</th>\n",
       "      <td>3639616</td>\n",
       "      <td>16</td>\n",
       "      <td>313000</td>\n",
       "      <td>0.02</td>\n",
       "    </tr>\n",
       "    <tr>\n",
       "      <th>2</th>\n",
       "      <td>4343544</td>\n",
       "      <td>16</td>\n",
       "      <td>198700</td>\n",
       "      <td>0.02</td>\n",
       "    </tr>\n",
       "    <tr>\n",
       "      <th>3</th>\n",
       "      <td>4488303</td>\n",
       "      <td>15</td>\n",
       "      <td>41355</td>\n",
       "      <td>0.02</td>\n",
       "    </tr>\n",
       "    <tr>\n",
       "      <th>4</th>\n",
       "      <td>4634633</td>\n",
       "      <td>14</td>\n",
       "      <td>33630</td>\n",
       "      <td>0.02</td>\n",
       "    </tr>\n",
       "    <tr>\n",
       "      <th>5</th>\n",
       "      <td>4126527</td>\n",
       "      <td>13</td>\n",
       "      <td>73700</td>\n",
       "      <td>0.02</td>\n",
       "    </tr>\n",
       "    <tr>\n",
       "      <th>6</th>\n",
       "      <td>3752757</td>\n",
       "      <td>13</td>\n",
       "      <td>27000</td>\n",
       "      <td>0.14</td>\n",
       "    </tr>\n",
       "    <tr>\n",
       "      <th>7</th>\n",
       "      <td>4576668</td>\n",
       "      <td>12</td>\n",
       "      <td>169000</td>\n",
       "      <td>0.02</td>\n",
       "    </tr>\n",
       "    <tr>\n",
       "      <th>8</th>\n",
       "      <td>4584887</td>\n",
       "      <td>11</td>\n",
       "      <td>116100</td>\n",
       "      <td>0.02</td>\n",
       "    </tr>\n",
       "    <tr>\n",
       "      <th>9</th>\n",
       "      <td>3737095</td>\n",
       "      <td>11</td>\n",
       "      <td>152900</td>\n",
       "      <td>0.02</td>\n",
       "    </tr>\n",
       "    <tr>\n",
       "      <th>10</th>\n",
       "      <td>4532942</td>\n",
       "      <td>10</td>\n",
       "      <td>28900</td>\n",
       "      <td>0.02</td>\n",
       "    </tr>\n",
       "    <tr>\n",
       "      <th>11</th>\n",
       "      <td>4486795</td>\n",
       "      <td>9</td>\n",
       "      <td>29300</td>\n",
       "      <td>0.02</td>\n",
       "    </tr>\n",
       "    <tr>\n",
       "      <th>12</th>\n",
       "      <td>2410869</td>\n",
       "      <td>9</td>\n",
       "      <td>18485</td>\n",
       "      <td>0.02</td>\n",
       "    </tr>\n",
       "    <tr>\n",
       "      <th>13</th>\n",
       "      <td>3709377</td>\n",
       "      <td>9</td>\n",
       "      <td>30000</td>\n",
       "      <td>0.14</td>\n",
       "    </tr>\n",
       "    <tr>\n",
       "      <th>14</th>\n",
       "      <td>4603329</td>\n",
       "      <td>9</td>\n",
       "      <td>70985</td>\n",
       "      <td>0.06</td>\n",
       "    </tr>\n",
       "    <tr>\n",
       "      <th>15</th>\n",
       "      <td>4566588</td>\n",
       "      <td>9</td>\n",
       "      <td>16600</td>\n",
       "      <td>0.02</td>\n",
       "    </tr>\n",
       "    <tr>\n",
       "      <th>16</th>\n",
       "      <td>4604808</td>\n",
       "      <td>9</td>\n",
       "      <td>157500</td>\n",
       "      <td>0.02</td>\n",
       "    </tr>\n",
       "    <tr>\n",
       "      <th>17</th>\n",
       "      <td>4089970</td>\n",
       "      <td>9</td>\n",
       "      <td>16400</td>\n",
       "      <td>0.02</td>\n",
       "    </tr>\n",
       "    <tr>\n",
       "      <th>18</th>\n",
       "      <td>4594244</td>\n",
       "      <td>9</td>\n",
       "      <td>98000</td>\n",
       "      <td>0.02</td>\n",
       "    </tr>\n",
       "    <tr>\n",
       "      <th>19</th>\n",
       "      <td>3378280</td>\n",
       "      <td>9</td>\n",
       "      <td>110700</td>\n",
       "      <td>0.02</td>\n",
       "    </tr>\n",
       "  </tbody>\n",
       "</table>\n",
       "</div>"
      ],
      "text/plain": [
       "        cid  lid   value  loyaltyDiscount\n",
       "0   4267137   17   77000             0.02\n",
       "1   3639616   16  313000             0.02\n",
       "2   4343544   16  198700             0.02\n",
       "3   4488303   15   41355             0.02\n",
       "4   4634633   14   33630             0.02\n",
       "5   4126527   13   73700             0.02\n",
       "6   3752757   13   27000             0.14\n",
       "7   4576668   12  169000             0.02\n",
       "8   4584887   11  116100             0.02\n",
       "9   3737095   11  152900             0.02\n",
       "10  4532942   10   28900             0.02\n",
       "11  4486795    9   29300             0.02\n",
       "12  2410869    9   18485             0.02\n",
       "13  3709377    9   30000             0.14\n",
       "14  4603329    9   70985             0.06\n",
       "15  4566588    9   16600             0.02\n",
       "16  4604808    9  157500             0.02\n",
       "17  4089970    9   16400             0.02\n",
       "18  4594244    9   98000             0.02\n",
       "19  3378280    9  110700             0.02"
      ]
     },
     "execution_count": 25,
     "metadata": {},
     "output_type": "execute_result"
    }
   ],
   "source": [
    "loans_by_users = loyalty.groupby(by='cid').agg({\n",
    "    'lid': 'count', \n",
    "    'value': 'sum',\n",
    "    'loyaltyDiscount': 'max'}).\\\n",
    "sort_values(by='lid', ascending=False).reset_index()\n",
    "\n",
    "loans_by_users.head(20)"
   ]
  },
  {
   "cell_type": "code",
   "execution_count": 26,
   "metadata": {},
   "outputs": [
    {
     "data": {
      "text/plain": [
       "0.2150093916543569"
      ]
     },
     "execution_count": 26,
     "metadata": {},
     "output_type": "execute_result"
    }
   ],
   "source": [
    "loans_by_users['lid'].corr(loans_by_users['loyaltyDiscount'])"
   ]
  },
  {
   "cell_type": "markdown",
   "metadata": {},
   "source": [
    "<div class=\"alert alert-block alert-info\">\n",
    "<ul>\n",
    "    <li> средневзвешенная скидка по ПЛ составила 1.2%\n",
    "    <li> вывод - программа лояльности в таком виде не выполняет поставленную цель\n",
    "    <li> на это также указывает тот факт, что кол-во займов пользователей не коррелируется с размером скидки\n",
    "</ul>\n",
    "</div>"
   ]
  },
  {
   "cell_type": "code",
   "execution_count": null,
   "metadata": {},
   "outputs": [],
   "source": [
    "data.groupby(by='da')"
   ]
  }
 ],
 "metadata": {
  "kernelspec": {
   "display_name": "Python 3",
   "language": "python",
   "name": "python3"
  },
  "language_info": {
   "codemirror_mode": {
    "name": "ipython",
    "version": 3
   },
   "file_extension": ".py",
   "mimetype": "text/x-python",
   "name": "python",
   "nbconvert_exporter": "python",
   "pygments_lexer": "ipython3",
   "version": "3.8.6"
  }
 },
 "nbformat": 4,
 "nbformat_minor": 4
}
