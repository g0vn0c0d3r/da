{
 "cells": [
  {
   "cell_type": "code",
   "execution_count": 1,
   "metadata": {},
   "outputs": [],
   "source": [
    "import pandas as pd\n",
    "from matplotlib import pyplot as plt"
   ]
  },
  {
   "cell_type": "code",
   "execution_count": 2,
   "metadata": {},
   "outputs": [],
   "source": [
    "data = pd.read_excel('discount.xlsx')"
   ]
  },
  {
   "cell_type": "markdown",
   "metadata": {},
   "source": [
    "### 1. Общая информация"
   ]
  },
  {
   "cell_type": "code",
   "execution_count": 3,
   "metadata": {},
   "outputs": [
    {
     "data": {
      "text/html": [
       "<div>\n",
       "<style scoped>\n",
       "    .dataframe tbody tr th:only-of-type {\n",
       "        vertical-align: middle;\n",
       "    }\n",
       "\n",
       "    .dataframe tbody tr th {\n",
       "        vertical-align: top;\n",
       "    }\n",
       "\n",
       "    .dataframe thead th {\n",
       "        text-align: right;\n",
       "    }\n",
       "</style>\n",
       "<table border=\"1\" class=\"dataframe\">\n",
       "  <thead>\n",
       "    <tr style=\"text-align: right;\">\n",
       "      <th></th>\n",
       "      <th>cid</th>\n",
       "      <th>lid</th>\n",
       "      <th>value</th>\n",
       "      <th>term</th>\n",
       "      <th>before_dicount</th>\n",
       "      <th>promo</th>\n",
       "      <th>loyalty_level</th>\n",
       "      <th>loyalty_discount</th>\n",
       "    </tr>\n",
       "  </thead>\n",
       "  <tbody>\n",
       "    <tr>\n",
       "      <th>1538</th>\n",
       "      <td>4430381</td>\n",
       "      <td>1455840</td>\n",
       "      <td>13800</td>\n",
       "      <td>56</td>\n",
       "      <td>0.99</td>\n",
       "      <td>0.15</td>\n",
       "      <td>NaN</td>\n",
       "      <td>NaN</td>\n",
       "    </tr>\n",
       "    <tr>\n",
       "      <th>1890</th>\n",
       "      <td>1297263</td>\n",
       "      <td>1456538</td>\n",
       "      <td>3000</td>\n",
       "      <td>40</td>\n",
       "      <td>1.00</td>\n",
       "      <td>NaN</td>\n",
       "      <td>0.0</td>\n",
       "      <td>0.02</td>\n",
       "    </tr>\n",
       "    <tr>\n",
       "      <th>8899</th>\n",
       "      <td>2718420</td>\n",
       "      <td>1470130</td>\n",
       "      <td>5000</td>\n",
       "      <td>23</td>\n",
       "      <td>1.00</td>\n",
       "      <td>NaN</td>\n",
       "      <td>8.0</td>\n",
       "      <td>0.16</td>\n",
       "    </tr>\n",
       "    <tr>\n",
       "      <th>28349</th>\n",
       "      <td>4497007</td>\n",
       "      <td>1509228</td>\n",
       "      <td>9000</td>\n",
       "      <td>42</td>\n",
       "      <td>0.99</td>\n",
       "      <td>0.15</td>\n",
       "      <td>NaN</td>\n",
       "      <td>NaN</td>\n",
       "    </tr>\n",
       "    <tr>\n",
       "      <th>27978</th>\n",
       "      <td>4528160</td>\n",
       "      <td>1508544</td>\n",
       "      <td>18000</td>\n",
       "      <td>19</td>\n",
       "      <td>1.00</td>\n",
       "      <td>NaN</td>\n",
       "      <td>5.0</td>\n",
       "      <td>0.10</td>\n",
       "    </tr>\n",
       "    <tr>\n",
       "      <th>12565</th>\n",
       "      <td>4667749</td>\n",
       "      <td>1477525</td>\n",
       "      <td>6500</td>\n",
       "      <td>10</td>\n",
       "      <td>1.00</td>\n",
       "      <td>NaN</td>\n",
       "      <td>2.0</td>\n",
       "      <td>0.04</td>\n",
       "    </tr>\n",
       "    <tr>\n",
       "      <th>16608</th>\n",
       "      <td>4579077</td>\n",
       "      <td>1485596</td>\n",
       "      <td>19000</td>\n",
       "      <td>40</td>\n",
       "      <td>1.00</td>\n",
       "      <td>0.15</td>\n",
       "      <td>NaN</td>\n",
       "      <td>NaN</td>\n",
       "    </tr>\n",
       "    <tr>\n",
       "      <th>4600</th>\n",
       "      <td>3543530</td>\n",
       "      <td>1461988</td>\n",
       "      <td>3800</td>\n",
       "      <td>10</td>\n",
       "      <td>1.00</td>\n",
       "      <td>NaN</td>\n",
       "      <td>4.0</td>\n",
       "      <td>0.08</td>\n",
       "    </tr>\n",
       "    <tr>\n",
       "      <th>5765</th>\n",
       "      <td>4506586</td>\n",
       "      <td>1464162</td>\n",
       "      <td>10000</td>\n",
       "      <td>56</td>\n",
       "      <td>0.99</td>\n",
       "      <td>0.15</td>\n",
       "      <td>NaN</td>\n",
       "      <td>NaN</td>\n",
       "    </tr>\n",
       "    <tr>\n",
       "      <th>14992</th>\n",
       "      <td>4099548</td>\n",
       "      <td>1482381</td>\n",
       "      <td>34500</td>\n",
       "      <td>70</td>\n",
       "      <td>0.99</td>\n",
       "      <td>0.26</td>\n",
       "      <td>NaN</td>\n",
       "      <td>NaN</td>\n",
       "    </tr>\n",
       "  </tbody>\n",
       "</table>\n",
       "</div>"
      ],
      "text/plain": [
       "           cid      lid  value  term  before_dicount  promo  loyalty_level  \\\n",
       "1538   4430381  1455840  13800    56            0.99   0.15            NaN   \n",
       "1890   1297263  1456538   3000    40            1.00    NaN            0.0   \n",
       "8899   2718420  1470130   5000    23            1.00    NaN            8.0   \n",
       "28349  4497007  1509228   9000    42            0.99   0.15            NaN   \n",
       "27978  4528160  1508544  18000    19            1.00    NaN            5.0   \n",
       "12565  4667749  1477525   6500    10            1.00    NaN            2.0   \n",
       "16608  4579077  1485596  19000    40            1.00   0.15            NaN   \n",
       "4600   3543530  1461988   3800    10            1.00    NaN            4.0   \n",
       "5765   4506586  1464162  10000    56            0.99   0.15            NaN   \n",
       "14992  4099548  1482381  34500    70            0.99   0.26            NaN   \n",
       "\n",
       "       loyalty_discount  \n",
       "1538                NaN  \n",
       "1890               0.02  \n",
       "8899               0.16  \n",
       "28349               NaN  \n",
       "27978              0.10  \n",
       "12565              0.04  \n",
       "16608               NaN  \n",
       "4600               0.08  \n",
       "5765                NaN  \n",
       "14992               NaN  "
      ]
     },
     "execution_count": 3,
     "metadata": {},
     "output_type": "execute_result"
    }
   ],
   "source": [
    "# посмотрим на набор данных\n",
    "data.sample(10)"
   ]
  },
  {
   "cell_type": "markdown",
   "metadata": {},
   "source": [
    "- cid - id клиента\n",
    "- lid - id займа\n",
    "- value - сумма займа\n",
    "- term - запрошенный срок займа\n",
    "- before_dicount - ставка до скидки\n",
    "- promo - скидка по промокоду\n",
    "- loyalty_level - уровень программы лояльности\n",
    "- loyalty_discount - скидка по программе лояльности"
   ]
  },
  {
   "cell_type": "code",
   "execution_count": 4,
   "metadata": {},
   "outputs": [
    {
     "name": "stdout",
     "output_type": "stream",
     "text": [
      "<class 'pandas.core.frame.DataFrame'>\n",
      "RangeIndex: 30000 entries, 0 to 29999\n",
      "Data columns (total 8 columns):\n",
      " #   Column            Non-Null Count  Dtype  \n",
      "---  ------            --------------  -----  \n",
      " 0   cid               30000 non-null  int64  \n",
      " 1   lid               30000 non-null  int64  \n",
      " 2   value             30000 non-null  int64  \n",
      " 3   term              30000 non-null  int64  \n",
      " 4   before_dicount    30000 non-null  float64\n",
      " 5   promo             9156 non-null   float64\n",
      " 6   loyalty_level     18736 non-null  float64\n",
      " 7   loyalty_discount  18736 non-null  float64\n",
      "dtypes: float64(4), int64(4)\n",
      "memory usage: 1.8 MB\n"
     ]
    }
   ],
   "source": [
    "# посмотрим на общую информацию таблицы\n",
    "data.info()"
   ]
  },
  {
   "cell_type": "code",
   "execution_count": 5,
   "metadata": {},
   "outputs": [
    {
     "data": {
      "text/plain": [
       "0"
      ]
     },
     "execution_count": 5,
     "metadata": {},
     "output_type": "execute_result"
    }
   ],
   "source": [
    "# проверим таблицу на наличие дубликатов\n",
    "data.duplicated().sum()"
   ]
  },
  {
   "cell_type": "code",
   "execution_count": 6,
   "metadata": {},
   "outputs": [
    {
     "data": {
      "text/plain": [
       "cid                     0\n",
       "lid                     0\n",
       "value                   0\n",
       "term                    0\n",
       "before_dicount          0\n",
       "promo               20844\n",
       "loyalty_level       11264\n",
       "loyalty_discount    11264\n",
       "dtype: int64"
      ]
     },
     "execution_count": 6,
     "metadata": {},
     "output_type": "execute_result"
    }
   ],
   "source": [
    "# проверим таблицу на наличие пропусков\n",
    "data.isnull().sum()"
   ]
  },
  {
   "cell_type": "markdown",
   "metadata": {},
   "source": [
    "<div class=\"alert alert-block alert-info\">\n",
    "<ul>\n",
    "    <li> в таблице 30 000 строк\n",
    "    <li> каждая строка - информация об уникальном займе\n",
    "    <li> в столбцах promo, loyalty_level, loyalty_discount есть пропуски\n",
    "</ul>\n",
    "</div>"
   ]
  },
  {
   "cell_type": "markdown",
   "metadata": {},
   "source": [
    "### 2. Исследование скидочных промокодов"
   ]
  },
  {
   "cell_type": "markdown",
   "metadata": {},
   "source": [
    "#### 2.1 Общая информация"
   ]
  },
  {
   "cell_type": "code",
   "execution_count": 7,
   "metadata": {},
   "outputs": [
    {
     "data": {
      "text/plain": [
       "count    9156.000000\n",
       "mean        0.191623\n",
       "std         0.105013\n",
       "min         0.100000\n",
       "25%         0.150000\n",
       "50%         0.150000\n",
       "75%         0.150000\n",
       "max         0.500000\n",
       "Name: promo, dtype: float64"
      ]
     },
     "execution_count": 7,
     "metadata": {},
     "output_type": "execute_result"
    }
   ],
   "source": [
    "data['promo'].describe()"
   ]
  },
  {
   "cell_type": "code",
   "execution_count": 8,
   "metadata": {},
   "outputs": [
    {
     "data": {
      "text/plain": [
       "0    0.15\n",
       "dtype: float64"
      ]
     },
     "execution_count": 8,
     "metadata": {},
     "output_type": "execute_result"
    }
   ],
   "source": [
    "data['promo'].mode()"
   ]
  },
  {
   "cell_type": "markdown",
   "metadata": {},
   "source": [
    "<div class=\"alert alert-block alert-info\">\n",
    "<ul>\n",
    "    <li> в столбце promo данные имеются только в 9156 строках\n",
    "    <li> т.о. из 30 000 займов 30.5% выдаются со скидками \n",
    "    <li> среднияя скидка (mean) 19.16%\n",
    "    <li> медианная скидка (50%) 15%\n",
    "    <li> мода (самоя частая скидка) также 15%\n",
    "</ul>\n",
    "</div>"
   ]
  },
  {
   "cell_type": "markdown",
   "metadata": {},
   "source": [
    "#### 2.2 Распределение"
   ]
  },
  {
   "cell_type": "code",
   "execution_count": 9,
   "metadata": {},
   "outputs": [
    {
     "data": {
      "image/png": "[encoded data removed]",
      "text/plain": [
       "<Figure size 936x648 with 1 Axes>"
      ]
     },
     "metadata": {
      "needs_background": "light"
     },
     "output_type": "display_data"
    }
   ],
   "source": [
    "data['promo'].hist(bins=10, figsize=(13, 9));"
   ]
  },
  {
   "cell_type": "code",
   "execution_count": 10,
   "metadata": {},
   "outputs": [
    {
     "data": {
      "text/plain": [
       "0.15    7202\n",
       "0.50     870\n",
       "0.26     798\n",
       "0.10     234\n",
       "0.16      52\n",
       "Name: promo, dtype: int64"
      ]
     },
     "execution_count": 10,
     "metadata": {},
     "output_type": "execute_result"
    }
   ],
   "source": [
    "data['promo'].value_counts()"
   ]
  },
  {
   "cell_type": "markdown",
   "metadata": {},
   "source": [
    "<div class=\"alert alert-block alert-info\">\n",
    "<ul>\n",
    "    <li> чаще всего займы оформляются со скидкой 15%\n",
    "    <li> на втором месте 50%\n",
    "    <li> на 3 и 5 месте станные суммы в 26% и 16% соответственно\n",
    "</ul>\n",
    "</div>"
   ]
  },
  {
   "cell_type": "markdown",
   "metadata": {},
   "source": [
    "#### 2.2 Расчет средневзвешенной скидки"
   ]
  },
  {
   "cell_type": "code",
   "execution_count": 11,
   "metadata": {},
   "outputs": [],
   "source": [
    "promo = data[data['promo'].notna()].drop(columns=['loyalty_level', 'loyalty_discount']).reset_index(drop=True)"
   ]
  },
  {
   "cell_type": "code",
   "execution_count": 12,
   "metadata": {},
   "outputs": [],
   "source": [
    "promo['profitBeforeDiscount'] = promo['value'] * (promo['term'] * promo['before_dicount']) / 100\n",
    "promo['profitAfterDiscount'] = promo['value'] * (promo['term'] * (promo['before_dicount'] - promo['promo'])) / 100"
   ]
  },
  {
   "cell_type": "code",
   "execution_count": 13,
   "metadata": {},
   "outputs": [
    {
     "data": {
      "text/html": [
       "<div>\n",
       "<style scoped>\n",
       "    .dataframe tbody tr th:only-of-type {\n",
       "        vertical-align: middle;\n",
       "    }\n",
       "\n",
       "    .dataframe tbody tr th {\n",
       "        vertical-align: top;\n",
       "    }\n",
       "\n",
       "    .dataframe thead th {\n",
       "        text-align: right;\n",
       "    }\n",
       "</style>\n",
       "<table border=\"1\" class=\"dataframe\">\n",
       "  <thead>\n",
       "    <tr style=\"text-align: right;\">\n",
       "      <th></th>\n",
       "      <th>cid</th>\n",
       "      <th>lid</th>\n",
       "      <th>value</th>\n",
       "      <th>term</th>\n",
       "      <th>before_dicount</th>\n",
       "      <th>promo</th>\n",
       "      <th>profitBeforeDiscount</th>\n",
       "      <th>profitAfterDiscount</th>\n",
       "    </tr>\n",
       "  </thead>\n",
       "  <tbody>\n",
       "    <tr>\n",
       "      <th>0</th>\n",
       "      <td>4316626</td>\n",
       "      <td>1449670</td>\n",
       "      <td>14000</td>\n",
       "      <td>40</td>\n",
       "      <td>1.00</td>\n",
       "      <td>0.15</td>\n",
       "      <td>5600.000</td>\n",
       "      <td>4760.000</td>\n",
       "    </tr>\n",
       "    <tr>\n",
       "      <th>1</th>\n",
       "      <td>4534475</td>\n",
       "      <td>1450071</td>\n",
       "      <td>8050</td>\n",
       "      <td>23</td>\n",
       "      <td>1.00</td>\n",
       "      <td>0.15</td>\n",
       "      <td>1851.500</td>\n",
       "      <td>1573.775</td>\n",
       "    </tr>\n",
       "    <tr>\n",
       "      <th>2</th>\n",
       "      <td>4482293</td>\n",
       "      <td>1450192</td>\n",
       "      <td>17250</td>\n",
       "      <td>42</td>\n",
       "      <td>0.99</td>\n",
       "      <td>0.15</td>\n",
       "      <td>7172.550</td>\n",
       "      <td>6085.800</td>\n",
       "    </tr>\n",
       "    <tr>\n",
       "      <th>3</th>\n",
       "      <td>1338983</td>\n",
       "      <td>1452253</td>\n",
       "      <td>20815</td>\n",
       "      <td>56</td>\n",
       "      <td>0.99</td>\n",
       "      <td>0.15</td>\n",
       "      <td>11539.836</td>\n",
       "      <td>9791.376</td>\n",
       "    </tr>\n",
       "    <tr>\n",
       "      <th>4</th>\n",
       "      <td>3675968</td>\n",
       "      <td>1452255</td>\n",
       "      <td>10000</td>\n",
       "      <td>56</td>\n",
       "      <td>0.99</td>\n",
       "      <td>0.15</td>\n",
       "      <td>5544.000</td>\n",
       "      <td>4704.000</td>\n",
       "    </tr>\n",
       "  </tbody>\n",
       "</table>\n",
       "</div>"
      ],
      "text/plain": [
       "       cid      lid  value  term  before_dicount  promo  profitBeforeDiscount  \\\n",
       "0  4316626  1449670  14000    40            1.00   0.15              5600.000   \n",
       "1  4534475  1450071   8050    23            1.00   0.15              1851.500   \n",
       "2  4482293  1450192  17250    42            0.99   0.15              7172.550   \n",
       "3  1338983  1452253  20815    56            0.99   0.15             11539.836   \n",
       "4  3675968  1452255  10000    56            0.99   0.15              5544.000   \n",
       "\n",
       "   profitAfterDiscount  \n",
       "0             4760.000  \n",
       "1             1573.775  \n",
       "2             6085.800  \n",
       "3             9791.376  \n",
       "4             4704.000  "
      ]
     },
     "execution_count": 13,
     "metadata": {},
     "output_type": "execute_result"
    }
   ],
   "source": [
    "promo.head()"
   ]
  },
  {
   "cell_type": "code",
   "execution_count": null,
   "metadata": {},
   "outputs": [],
   "source": []
  }
 ],
 "metadata": {
  "kernelspec": {
   "display_name": "Python 3",
   "language": "python",
   "name": "python3"
  },
  "language_info": {
   "codemirror_mode": {
    "name": "ipython",
    "version": 3
   },
   "file_extension": ".py",
   "mimetype": "text/x-python",
   "name": "python",
   "nbconvert_exporter": "python",
   "pygments_lexer": "ipython3",
   "version": "3.8.6"
  }
 },
 "nbformat": 4,
 "nbformat_minor": 4
}
