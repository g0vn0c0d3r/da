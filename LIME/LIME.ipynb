{
 "cells": [
  {
   "cell_type": "code",
   "execution_count": 1,
   "metadata": {},
   "outputs": [],
   "source": [
    "import pandas as pd\n",
    "import numpy as np\n",
    "from matplotlib import pyplot as plt\n",
    "import seaborn as sns\n",
    "from scipy import stats as st\n",
    "import warnings\n",
    "warnings.filterwarnings('ignore')"
   ]
  },
  {
   "cell_type": "markdown",
   "metadata": {},
   "source": [
    "- [x] Предобработка данных\n",
    "- [x] Анализ данных о регистрациях и займах\n",
    "- [x] Сколько времени проходит с момента начала регистрации до оформления первого займа\n",
    "- [x] Срок займа: план-факт + динамика\n",
    "- [x] Категоризация займов по реальному сроку пользования деньгами\n",
    "- [x] Исследование суммы займов\n",
    "- [x] Когортный анализ:\n",
    "    - [x] User Retention\n",
    "    - [x] Ср.кол-во займов нарастающим итогом\n",
    "    - [x] Ср.сумма займа нарастающим итогом\n",
    "    - [x] ARPU\n",
    "    - [x] Ретеншен капитала\n",
    "    - [x] NPL"
   ]
  },
  {
   "cell_type": "markdown",
   "metadata": {},
   "source": [
    "## Чтение данных и объединение таблиц с данными о регистрациях"
   ]
  },
  {
   "cell_type": "code",
   "execution_count": 2,
   "metadata": {},
   "outputs": [],
   "source": [
    "# читаем данные\n",
    "regs1 = pd.read_excel('regs1.xlsx')\n",
    "regs2 = pd.read_excel('regs2.xlsx')\n",
    "loans = pd.read_excel('loans.xlsx')"
   ]
  },
  {
   "cell_type": "code",
   "execution_count": 3,
   "metadata": {},
   "outputs": [],
   "source": [
    "# т.к данные с регистрациями предоставлены в 2ух файлах нам необходимо объеденить их в 1\n",
    "regs = regs1.append(regs2, ignore_index=True)"
   ]
  },
  {
   "cell_type": "markdown",
   "metadata": {},
   "source": [
    "## Предобработка данных"
   ]
  },
  {
   "cell_type": "markdown",
   "metadata": {},
   "source": [
    "### Регистрации"
   ]
  },
  {
   "cell_type": "code",
   "execution_count": 4,
   "metadata": {
    "scrolled": true
   },
   "outputs": [
    {
     "name": "stdout",
     "output_type": "stream",
     "text": [
      "<class 'pandas.core.frame.DataFrame'>\n",
      "RangeIndex: 1685056 entries, 0 to 1685055\n",
      "Data columns (total 4 columns):\n",
      " #   Column           Non-Null Count    Dtype \n",
      "---  ------           --------------    ----- \n",
      " 0   cid              1685056 non-null  int64 \n",
      " 1   uid              1598707 non-null  object\n",
      " 2   ts               1685056 non-null  object\n",
      " 3   is_reg_complete  1685056 non-null  int64 \n",
      "dtypes: int64(2), object(2)\n",
      "memory usage: 51.4+ MB\n"
     ]
    }
   ],
   "source": [
    "# посмотрим на общую информацию\n",
    "regs.info()"
   ]
  },
  {
   "cell_type": "code",
   "execution_count": 5,
   "metadata": {},
   "outputs": [
    {
     "data": {
      "text/html": [
       "<div>\n",
       "<style scoped>\n",
       "    .dataframe tbody tr th:only-of-type {\n",
       "        vertical-align: middle;\n",
       "    }\n",
       "\n",
       "    .dataframe tbody tr th {\n",
       "        vertical-align: top;\n",
       "    }\n",
       "\n",
       "    .dataframe thead th {\n",
       "        text-align: right;\n",
       "    }\n",
       "</style>\n",
       "<table border=\"1\" class=\"dataframe\">\n",
       "  <thead>\n",
       "    <tr style=\"text-align: right;\">\n",
       "      <th></th>\n",
       "      <th>cid</th>\n",
       "      <th>uid</th>\n",
       "      <th>ts</th>\n",
       "      <th>is_reg_complete</th>\n",
       "    </tr>\n",
       "  </thead>\n",
       "  <tbody>\n",
       "    <tr>\n",
       "      <th>404086</th>\n",
       "      <td>3305965</td>\n",
       "      <td>872F44DF-758D-4C64-9363-3AA46825BD59</td>\n",
       "      <td>2019-04-02 20:45:37.9031495</td>\n",
       "      <td>0</td>\n",
       "    </tr>\n",
       "    <tr>\n",
       "      <th>1373794</th>\n",
       "      <td>4394716</td>\n",
       "      <td>1BDF3AFB-5AA5-4B65-9A64-CDF63A3AB7DC</td>\n",
       "      <td>2020-05-25 17:16:18.2588332</td>\n",
       "      <td>1</td>\n",
       "    </tr>\n",
       "    <tr>\n",
       "      <th>1177639</th>\n",
       "      <td>4196264</td>\n",
       "      <td>05D635EB-587D-4819-83E0-38255A29172F</td>\n",
       "      <td>2020-02-01 10:24:10.5471343</td>\n",
       "      <td>0</td>\n",
       "    </tr>\n",
       "    <tr>\n",
       "      <th>509516</th>\n",
       "      <td>3438806</td>\n",
       "      <td>9426E354-33F8-4AFA-9742-0A4EF7DDA657</td>\n",
       "      <td>2019-04-22 13:54:47.2210663</td>\n",
       "      <td>0</td>\n",
       "    </tr>\n",
       "    <tr>\n",
       "      <th>1636773</th>\n",
       "      <td>4657997</td>\n",
       "      <td>1AB860E0-3224-4A62-A056-C22527CC5ECA</td>\n",
       "      <td>2020-11-06 00:34:44.4359788</td>\n",
       "      <td>0</td>\n",
       "    </tr>\n",
       "  </tbody>\n",
       "</table>\n",
       "</div>"
      ],
      "text/plain": [
       "             cid                                   uid  \\\n",
       "404086   3305965  872F44DF-758D-4C64-9363-3AA46825BD59   \n",
       "1373794  4394716  1BDF3AFB-5AA5-4B65-9A64-CDF63A3AB7DC   \n",
       "1177639  4196264  05D635EB-587D-4819-83E0-38255A29172F   \n",
       "509516   3438806  9426E354-33F8-4AFA-9742-0A4EF7DDA657   \n",
       "1636773  4657997  1AB860E0-3224-4A62-A056-C22527CC5ECA   \n",
       "\n",
       "                                  ts  is_reg_complete  \n",
       "404086   2019-04-02 20:45:37.9031495                0  \n",
       "1373794  2020-05-25 17:16:18.2588332                1  \n",
       "1177639  2020-02-01 10:24:10.5471343                0  \n",
       "509516   2019-04-22 13:54:47.2210663                0  \n",
       "1636773  2020-11-06 00:34:44.4359788                0  "
      ]
     },
     "execution_count": 5,
     "metadata": {},
     "output_type": "execute_result"
    }
   ],
   "source": [
    "# изучим срез данных\n",
    "regs.sample(5)"
   ]
  },
  {
   "cell_type": "markdown",
   "metadata": {},
   "source": [
    "<b>cid</b> - id клиента<br>\n",
    "<b>uid</b> - id юзера<br>\n",
    "<b>ts</b> - время начала регистрации<br>\n",
    "<b>is_reg_complete</b> - отметка о завершени регистрации<br>"
   ]
  },
  {
   "cell_type": "code",
   "execution_count": 6,
   "metadata": {},
   "outputs": [
    {
     "data": {
      "text/html": [
       "<div>\n",
       "<style scoped>\n",
       "    .dataframe tbody tr th:only-of-type {\n",
       "        vertical-align: middle;\n",
       "    }\n",
       "\n",
       "    .dataframe tbody tr th {\n",
       "        vertical-align: top;\n",
       "    }\n",
       "\n",
       "    .dataframe thead th {\n",
       "        text-align: right;\n",
       "    }\n",
       "</style>\n",
       "<table border=\"1\" class=\"dataframe\">\n",
       "  <thead>\n",
       "    <tr style=\"text-align: right;\">\n",
       "      <th></th>\n",
       "      <th>cid</th>\n",
       "      <th>reg_ts</th>\n",
       "      <th>is_reg_complete</th>\n",
       "    </tr>\n",
       "  </thead>\n",
       "  <tbody>\n",
       "    <tr>\n",
       "      <th>618816</th>\n",
       "      <td>3571647</td>\n",
       "      <td>2019-05-20</td>\n",
       "      <td>1</td>\n",
       "    </tr>\n",
       "    <tr>\n",
       "      <th>872834</th>\n",
       "      <td>3871921</td>\n",
       "      <td>2019-08-26</td>\n",
       "      <td>1</td>\n",
       "    </tr>\n",
       "    <tr>\n",
       "      <th>803302</th>\n",
       "      <td>3788813</td>\n",
       "      <td>2019-08-04</td>\n",
       "      <td>0</td>\n",
       "    </tr>\n",
       "    <tr>\n",
       "      <th>1612703</th>\n",
       "      <td>4633894</td>\n",
       "      <td>2020-10-25</td>\n",
       "      <td>1</td>\n",
       "    </tr>\n",
       "    <tr>\n",
       "      <th>721435</th>\n",
       "      <td>3695149</td>\n",
       "      <td>2019-07-11</td>\n",
       "      <td>1</td>\n",
       "    </tr>\n",
       "  </tbody>\n",
       "</table>\n",
       "</div>"
      ],
      "text/plain": [
       "             cid     reg_ts  is_reg_complete\n",
       "618816   3571647 2019-05-20                1\n",
       "872834   3871921 2019-08-26                1\n",
       "803302   3788813 2019-08-04                0\n",
       "1612703  4633894 2020-10-25                1\n",
       "721435   3695149 2019-07-11                1"
      ]
     },
     "execution_count": 6,
     "metadata": {},
     "output_type": "execute_result"
    }
   ],
   "source": [
    "# uid нам не потребуется в анализе, поэтому просто избавимся от лишней информации\n",
    "regs.drop(columns=['uid'], inplace=True)\n",
    "\n",
    "# также приведем к нужному формату данные в ts\n",
    "regs['ts'] = regs['ts'].astype('datetime64[D]')\n",
    "\n",
    "# переименуем также один столбец\n",
    "regs.rename(columns={'ts': 'reg_ts'}, inplace=True)\n",
    "\n",
    "# проверяем\n",
    "regs.sample(5)"
   ]
  },
  {
   "cell_type": "code",
   "execution_count": 7,
   "metadata": {},
   "outputs": [
    {
     "data": {
      "text/plain": [
       "cid                0\n",
       "reg_ts             0\n",
       "is_reg_complete    0\n",
       "dtype: int64"
      ]
     },
     "metadata": {},
     "output_type": "display_data"
    },
    {
     "data": {
      "text/plain": [
       "0"
      ]
     },
     "metadata": {},
     "output_type": "display_data"
    }
   ],
   "source": [
    "# проверим таблицу на наличие пропусков и дубликатов\n",
    "display(regs.isna().sum())\n",
    "display(regs.duplicated().sum())"
   ]
  },
  {
   "cell_type": "markdown",
   "metadata": {},
   "source": [
    "<div class=\"alert alert-block alert-success\">\n",
    "<b>Вывод:</b> пропусков и дублей нет, двигаемся дальше\n",
    "</div>"
   ]
  },
  {
   "cell_type": "markdown",
   "metadata": {},
   "source": [
    "### Займы"
   ]
  },
  {
   "cell_type": "code",
   "execution_count": 8,
   "metadata": {},
   "outputs": [
    {
     "name": "stdout",
     "output_type": "stream",
     "text": [
      "<class 'pandas.core.frame.DataFrame'>\n",
      "RangeIndex: 612488 entries, 0 to 612487\n",
      "Data columns (total 7 columns):\n",
      " #   Column    Non-Null Count   Dtype  \n",
      "---  ------    --------------   -----  \n",
      " 0   cid       612488 non-null  int64  \n",
      " 1   uid       603229 non-null  object \n",
      " 2   start_ts  612488 non-null  object \n",
      " 3   value     612488 non-null  float64\n",
      " 4   term      612488 non-null  int64  \n",
      " 5   status    612488 non-null  object \n",
      " 6   end_ts    473460 non-null  object \n",
      "dtypes: float64(1), int64(2), object(4)\n",
      "memory usage: 32.7+ MB\n"
     ]
    }
   ],
   "source": [
    "# посмотрим на общую информацию\n",
    "loans.info()"
   ]
  },
  {
   "cell_type": "code",
   "execution_count": 9,
   "metadata": {},
   "outputs": [
    {
     "data": {
      "text/html": [
       "<div>\n",
       "<style scoped>\n",
       "    .dataframe tbody tr th:only-of-type {\n",
       "        vertical-align: middle;\n",
       "    }\n",
       "\n",
       "    .dataframe tbody tr th {\n",
       "        vertical-align: top;\n",
       "    }\n",
       "\n",
       "    .dataframe thead th {\n",
       "        text-align: right;\n",
       "    }\n",
       "</style>\n",
       "<table border=\"1\" class=\"dataframe\">\n",
       "  <thead>\n",
       "    <tr style=\"text-align: right;\">\n",
       "      <th></th>\n",
       "      <th>cid</th>\n",
       "      <th>uid</th>\n",
       "      <th>start_ts</th>\n",
       "      <th>value</th>\n",
       "      <th>term</th>\n",
       "      <th>status</th>\n",
       "      <th>end_ts</th>\n",
       "    </tr>\n",
       "  </thead>\n",
       "  <tbody>\n",
       "    <tr>\n",
       "      <th>260375</th>\n",
       "      <td>2893899</td>\n",
       "      <td>CC8C5A85-1673-4C1E-95A7-72548CD92F42</td>\n",
       "      <td>2019-09-09 00:00:00.0000000</td>\n",
       "      <td>2000.0</td>\n",
       "      <td>10</td>\n",
       "      <td>Погашен</td>\n",
       "      <td>2019-09-11 23:59:59.9990000</td>\n",
       "    </tr>\n",
       "    <tr>\n",
       "      <th>334396</th>\n",
       "      <td>2435807</td>\n",
       "      <td>BC4D2C76-DF92-4BC3-A8B8-7237415E63AA</td>\n",
       "      <td>2019-12-23 00:00:00.0000000</td>\n",
       "      <td>5300.0</td>\n",
       "      <td>11</td>\n",
       "      <td>Погашен</td>\n",
       "      <td>2020-01-03 23:59:59.9999999</td>\n",
       "    </tr>\n",
       "    <tr>\n",
       "      <th>130930</th>\n",
       "      <td>2977721</td>\n",
       "      <td>96B0E1E0-12CF-485C-A815-6B0B2AD27942</td>\n",
       "      <td>2019-04-10 00:00:00.0000000</td>\n",
       "      <td>10000.0</td>\n",
       "      <td>30</td>\n",
       "      <td>Погашен</td>\n",
       "      <td>2019-04-11 23:59:59.9990000</td>\n",
       "    </tr>\n",
       "    <tr>\n",
       "      <th>409314</th>\n",
       "      <td>4309943</td>\n",
       "      <td>45E0BD9C-F40D-46B8-9D09-8BE7CE5C8D37</td>\n",
       "      <td>2020-03-26 00:00:00.0000000</td>\n",
       "      <td>4000.0</td>\n",
       "      <td>25</td>\n",
       "      <td>Погашен</td>\n",
       "      <td>2020-04-30 23:59:59.9999999</td>\n",
       "    </tr>\n",
       "    <tr>\n",
       "      <th>65530</th>\n",
       "      <td>2918460</td>\n",
       "      <td>54C3AF0E-4417-4D37-A210-065CCC1FF5B4</td>\n",
       "      <td>2019-02-20 00:00:00.0000000</td>\n",
       "      <td>5000.0</td>\n",
       "      <td>30</td>\n",
       "      <td>Погашен</td>\n",
       "      <td>2019-02-28 23:59:59.9990000</td>\n",
       "    </tr>\n",
       "  </tbody>\n",
       "</table>\n",
       "</div>"
      ],
      "text/plain": [
       "            cid                                   uid  \\\n",
       "260375  2893899  CC8C5A85-1673-4C1E-95A7-72548CD92F42   \n",
       "334396  2435807  BC4D2C76-DF92-4BC3-A8B8-7237415E63AA   \n",
       "130930  2977721  96B0E1E0-12CF-485C-A815-6B0B2AD27942   \n",
       "409314  4309943  45E0BD9C-F40D-46B8-9D09-8BE7CE5C8D37   \n",
       "65530   2918460  54C3AF0E-4417-4D37-A210-065CCC1FF5B4   \n",
       "\n",
       "                           start_ts    value  term   status  \\\n",
       "260375  2019-09-09 00:00:00.0000000   2000.0    10  Погашен   \n",
       "334396  2019-12-23 00:00:00.0000000   5300.0    11  Погашен   \n",
       "130930  2019-04-10 00:00:00.0000000  10000.0    30  Погашен   \n",
       "409314  2020-03-26 00:00:00.0000000   4000.0    25  Погашен   \n",
       "65530   2019-02-20 00:00:00.0000000   5000.0    30  Погашен   \n",
       "\n",
       "                             end_ts  \n",
       "260375  2019-09-11 23:59:59.9990000  \n",
       "334396  2020-01-03 23:59:59.9999999  \n",
       "130930  2019-04-11 23:59:59.9990000  \n",
       "409314  2020-04-30 23:59:59.9999999  \n",
       "65530   2019-02-28 23:59:59.9990000  "
      ]
     },
     "execution_count": 9,
     "metadata": {},
     "output_type": "execute_result"
    }
   ],
   "source": [
    "# изучим срез данных\n",
    "loans.sample(5)"
   ]
  },
  {
   "cell_type": "markdown",
   "metadata": {},
   "source": [
    "<b>cid</b> - id клиента<br>\n",
    "<b>uid</b> - id юзера<br>\n",
    "<b>start_ts</b> - время получения займа<br>\n",
    "<b>value</b> - сумма<br>\n",
    "<b>term</b> - срок<br>\n",
    "<b>status</b> - статус на текущий момент<br>\n",
    "<b>end_ts</b> - время возврата займа"
   ]
  },
  {
   "cell_type": "code",
   "execution_count": 10,
   "metadata": {},
   "outputs": [
    {
     "data": {
      "text/html": [
       "<div>\n",
       "<style scoped>\n",
       "    .dataframe tbody tr th:only-of-type {\n",
       "        vertical-align: middle;\n",
       "    }\n",
       "\n",
       "    .dataframe tbody tr th {\n",
       "        vertical-align: top;\n",
       "    }\n",
       "\n",
       "    .dataframe thead th {\n",
       "        text-align: right;\n",
       "    }\n",
       "</style>\n",
       "<table border=\"1\" class=\"dataframe\">\n",
       "  <thead>\n",
       "    <tr style=\"text-align: right;\">\n",
       "      <th></th>\n",
       "      <th>cid</th>\n",
       "      <th>start_ts</th>\n",
       "      <th>value</th>\n",
       "      <th>term</th>\n",
       "      <th>status</th>\n",
       "      <th>end_ts</th>\n",
       "    </tr>\n",
       "  </thead>\n",
       "  <tbody>\n",
       "    <tr>\n",
       "      <th>394639</th>\n",
       "      <td>3406680</td>\n",
       "      <td>2020-03-08 00:00:00.0000000</td>\n",
       "      <td>3000.0</td>\n",
       "      <td>10</td>\n",
       "      <td>Погашен</td>\n",
       "      <td>2020-03-10</td>\n",
       "    </tr>\n",
       "    <tr>\n",
       "      <th>277607</th>\n",
       "      <td>2799105</td>\n",
       "      <td>2019-10-06 00:00:00.0000000</td>\n",
       "      <td>4360.0</td>\n",
       "      <td>30</td>\n",
       "      <td>Погашен</td>\n",
       "      <td>2019-11-06</td>\n",
       "    </tr>\n",
       "    <tr>\n",
       "      <th>611632</th>\n",
       "      <td>4700979</td>\n",
       "      <td>2020-11-30 00:00:00.0000000</td>\n",
       "      <td>4000.0</td>\n",
       "      <td>30</td>\n",
       "      <td>Активен</td>\n",
       "      <td>NaT</td>\n",
       "    </tr>\n",
       "    <tr>\n",
       "      <th>560989</th>\n",
       "      <td>4160540</td>\n",
       "      <td>2020-10-15 00:00:00.0000000</td>\n",
       "      <td>9200.0</td>\n",
       "      <td>40</td>\n",
       "      <td>Погашен</td>\n",
       "      <td>2020-11-16</td>\n",
       "    </tr>\n",
       "    <tr>\n",
       "      <th>341363</th>\n",
       "      <td>3852976</td>\n",
       "      <td>2020-01-02 00:00:00.0000000</td>\n",
       "      <td>8000.0</td>\n",
       "      <td>10</td>\n",
       "      <td>Погашен</td>\n",
       "      <td>2020-05-12</td>\n",
       "    </tr>\n",
       "  </tbody>\n",
       "</table>\n",
       "</div>"
      ],
      "text/plain": [
       "            cid                     start_ts   value  term   status     end_ts\n",
       "394639  3406680  2020-03-08 00:00:00.0000000  3000.0    10  Погашен 2020-03-10\n",
       "277607  2799105  2019-10-06 00:00:00.0000000  4360.0    30  Погашен 2019-11-06\n",
       "611632  4700979  2020-11-30 00:00:00.0000000  4000.0    30  Активен        NaT\n",
       "560989  4160540  2020-10-15 00:00:00.0000000  9200.0    40  Погашен 2020-11-16\n",
       "341363  3852976  2020-01-02 00:00:00.0000000  8000.0    10  Погашен 2020-05-12"
      ]
     },
     "execution_count": 10,
     "metadata": {},
     "output_type": "execute_result"
    }
   ],
   "source": [
    "# uid нам не потребуется в анализе, поэтому просто избавимся от лишней информации\n",
    "loans.drop(columns=['uid'], inplace=True)\n",
    "\n",
    "# также приведем к нужному формату данные в столбце end_ts\n",
    "loans['end_ts'] = loans['end_ts'].astype('datetime64[D]')\n",
    "\n",
    "# проверяем\n",
    "loans.sample(5)"
   ]
  },
  {
   "cell_type": "code",
   "execution_count": 11,
   "metadata": {},
   "outputs": [
    {
     "data": {
      "text/plain": [
       "cid              0\n",
       "start_ts         0\n",
       "value            0\n",
       "term             0\n",
       "status           0\n",
       "end_ts      139028\n",
       "dtype: int64"
      ]
     },
     "metadata": {},
     "output_type": "display_data"
    },
    {
     "data": {
      "text/plain": [
       "0"
      ]
     },
     "metadata": {},
     "output_type": "display_data"
    }
   ],
   "source": [
    "# проверим таблицу на наличие пропусков и дубликатов\n",
    "display(loans.isna().sum())\n",
    "display(loans.duplicated().sum())"
   ]
  },
  {
   "cell_type": "markdown",
   "metadata": {},
   "source": [
    "<div class=\"alert alert-block alert-success\">\n",
    "<b>Вывод:</b> есть пропуски и дубликаты, обработаем их\n",
    "</div>"
   ]
  },
  {
   "cell_type": "code",
   "execution_count": 12,
   "metadata": {},
   "outputs": [
    {
     "data": {
      "text/plain": [
       "Series([], Name: status, dtype: int64)"
      ]
     },
     "execution_count": 12,
     "metadata": {},
     "output_type": "execute_result"
    }
   ],
   "source": [
    "# посмотим на стутусы займов с пропущенными значениями в столбце 'start_ts'\n",
    "loans[loans['start_ts'].isna()]['status'].value_counts()"
   ]
  },
  {
   "cell_type": "markdown",
   "metadata": {},
   "source": [
    "<div class=\"alert alert-block alert-success\">\n",
    "<b>Вывод:</b> фактически эти статусы говорят о том, что клиент не получил деньги\n",
    "</div>"
   ]
  },
  {
   "cell_type": "code",
   "execution_count": 13,
   "metadata": {},
   "outputs": [
    {
     "data": {
      "text/plain": [
       "cid              0\n",
       "start_ts         0\n",
       "value            0\n",
       "term             0\n",
       "status           0\n",
       "end_ts      139028\n",
       "dtype: int64"
      ]
     },
     "execution_count": 13,
     "metadata": {},
     "output_type": "execute_result"
    }
   ],
   "source": [
    "# удалим эти строки\n",
    "loans.dropna(subset=['start_ts'], inplace=True)\n",
    "\n",
    "# проверяем\n",
    "loans.isna().sum()"
   ]
  },
  {
   "cell_type": "code",
   "execution_count": 14,
   "metadata": {},
   "outputs": [
    {
     "data": {
      "text/plain": [
       "Просрочен              59686\n",
       "На цессии              57601\n",
       "Активен                 9955\n",
       "На реструктуризации     9767\n",
       "Отменён                 1233\n",
       "Списан                   786\n",
       "Name: status, dtype: int64"
      ]
     },
     "execution_count": 14,
     "metadata": {},
     "output_type": "execute_result"
    }
   ],
   "source": [
    "# Посмотрим статусы займов, у которых отсутствуетм время погашения\n",
    "loans[loans['end_ts'].isna()]['status'].value_counts()"
   ]
  },
  {
   "cell_type": "code",
   "execution_count": 15,
   "metadata": {},
   "outputs": [
    {
     "data": {
      "text/plain": [
       "0"
      ]
     },
     "execution_count": 15,
     "metadata": {},
     "output_type": "execute_result"
    }
   ],
   "source": [
    "# посмотрим, остались ли дубликаты\n",
    "loans.duplicated().sum()"
   ]
  },
  {
   "cell_type": "markdown",
   "metadata": {},
   "source": [
    "<div class=\"alert alert-block alert-success\">\n",
    "<b>Вывод:</b>\n",
    "    <ul>\n",
    "        <li>дубли теперь отсутствуют\n",
    "        <li>пропуски в end_ts фактически указывают на то, что заем не был закрыт на момент анализа данных\n",
    "    </ul>\n",
    "</div>\n",
    "Теперь переходоим к анализу данных"
   ]
  },
  {
   "cell_type": "markdown",
   "metadata": {},
   "source": [
    "## Аналитика данных"
   ]
  },
  {
   "cell_type": "markdown",
   "metadata": {},
   "source": [
    "### 1. Анализ данных о регистрациях и займах. Динамика по времени, конверсия + графики\n",
    "\n",
    "Нам нужна таблица, в которой будут данные в динамике по месяцам:\n",
    "- Общее кол-во регистраций\n",
    "- Кол-во успешных (завершенных) регистраций\n",
    "- Общее кол-во займов\n",
    "- Кол-во новых займов\n",
    "- Кол-во повторных займов"
   ]
  },
  {
   "cell_type": "markdown",
   "metadata": {},
   "source": [
    "#### 1.1 Групиировка данных о регистарциях"
   ]
  },
  {
   "cell_type": "code",
   "execution_count": 16,
   "metadata": {},
   "outputs": [
    {
     "data": {
      "text/html": [
       "<div>\n",
       "<style scoped>\n",
       "    .dataframe tbody tr th:only-of-type {\n",
       "        vertical-align: middle;\n",
       "    }\n",
       "\n",
       "    .dataframe tbody tr th {\n",
       "        vertical-align: top;\n",
       "    }\n",
       "\n",
       "    .dataframe thead th {\n",
       "        text-align: right;\n",
       "    }\n",
       "</style>\n",
       "<table border=\"1\" class=\"dataframe\">\n",
       "  <thead>\n",
       "    <tr style=\"text-align: right;\">\n",
       "      <th></th>\n",
       "      <th>cid</th>\n",
       "      <th>reg_ts</th>\n",
       "      <th>is_reg_complete</th>\n",
       "      <th>reg_date</th>\n",
       "      <th>reg_week</th>\n",
       "      <th>reg_month</th>\n",
       "    </tr>\n",
       "  </thead>\n",
       "  <tbody>\n",
       "    <tr>\n",
       "      <th>0</th>\n",
       "      <td>2825528</td>\n",
       "      <td>2019-01-01</td>\n",
       "      <td>1</td>\n",
       "      <td>2019-01-01</td>\n",
       "      <td>2018-12-31</td>\n",
       "      <td>2019-01-01</td>\n",
       "    </tr>\n",
       "    <tr>\n",
       "      <th>1</th>\n",
       "      <td>2825498</td>\n",
       "      <td>2019-01-01</td>\n",
       "      <td>1</td>\n",
       "      <td>2019-01-01</td>\n",
       "      <td>2018-12-31</td>\n",
       "      <td>2019-01-01</td>\n",
       "    </tr>\n",
       "    <tr>\n",
       "      <th>2</th>\n",
       "      <td>2826237</td>\n",
       "      <td>2019-01-01</td>\n",
       "      <td>1</td>\n",
       "      <td>2019-01-01</td>\n",
       "      <td>2018-12-31</td>\n",
       "      <td>2019-01-01</td>\n",
       "    </tr>\n",
       "    <tr>\n",
       "      <th>3</th>\n",
       "      <td>2825991</td>\n",
       "      <td>2019-01-01</td>\n",
       "      <td>1</td>\n",
       "      <td>2019-01-01</td>\n",
       "      <td>2018-12-31</td>\n",
       "      <td>2019-01-01</td>\n",
       "    </tr>\n",
       "    <tr>\n",
       "      <th>4</th>\n",
       "      <td>2826992</td>\n",
       "      <td>2019-01-01</td>\n",
       "      <td>1</td>\n",
       "      <td>2019-01-01</td>\n",
       "      <td>2018-12-31</td>\n",
       "      <td>2019-01-01</td>\n",
       "    </tr>\n",
       "  </tbody>\n",
       "</table>\n",
       "</div>"
      ],
      "text/plain": [
       "       cid     reg_ts  is_reg_complete   reg_date   reg_week  reg_month\n",
       "0  2825528 2019-01-01                1 2019-01-01 2018-12-31 2019-01-01\n",
       "1  2825498 2019-01-01                1 2019-01-01 2018-12-31 2019-01-01\n",
       "2  2826237 2019-01-01                1 2019-01-01 2018-12-31 2019-01-01\n",
       "3  2825991 2019-01-01                1 2019-01-01 2018-12-31 2019-01-01\n",
       "4  2826992 2019-01-01                1 2019-01-01 2018-12-31 2019-01-01"
      ]
     },
     "execution_count": 16,
     "metadata": {},
     "output_type": "execute_result"
    }
   ],
   "source": [
    "# добавим в таблицу regs столбцы: date, week, month - день, неделя и месяц регистрации\n",
    "regs['reg_date'] = regs['reg_ts'].astype('datetime64[D]')\n",
    "regs['reg_week'] = regs['reg_ts'].dt.to_period('W').apply(lambda r: r.start_time)\n",
    "regs['reg_month'] = regs['reg_ts'].astype('datetime64[M]')\n",
    "\n",
    "# проверяем\n",
    "regs.head()"
   ]
  },
  {
   "cell_type": "code",
   "execution_count": 17,
   "metadata": {},
   "outputs": [
    {
     "data": {
      "text/html": [
       "<div>\n",
       "<style scoped>\n",
       "    .dataframe tbody tr th:only-of-type {\n",
       "        vertical-align: middle;\n",
       "    }\n",
       "\n",
       "    .dataframe tbody tr th {\n",
       "        vertical-align: top;\n",
       "    }\n",
       "\n",
       "    .dataframe thead th {\n",
       "        text-align: right;\n",
       "    }\n",
       "</style>\n",
       "<table border=\"1\" class=\"dataframe\">\n",
       "  <thead>\n",
       "    <tr style=\"text-align: right;\">\n",
       "      <th></th>\n",
       "      <th>total_regs</th>\n",
       "      <th>success_regs</th>\n",
       "    </tr>\n",
       "    <tr>\n",
       "      <th>reg_month</th>\n",
       "      <th></th>\n",
       "      <th></th>\n",
       "    </tr>\n",
       "  </thead>\n",
       "  <tbody>\n",
       "    <tr>\n",
       "      <th>2019-01-01</th>\n",
       "      <td>133531</td>\n",
       "      <td>87889</td>\n",
       "    </tr>\n",
       "    <tr>\n",
       "      <th>2019-02-01</th>\n",
       "      <td>111882</td>\n",
       "      <td>69732</td>\n",
       "    </tr>\n",
       "    <tr>\n",
       "      <th>2019-03-01</th>\n",
       "      <td>144595</td>\n",
       "      <td>89224</td>\n",
       "    </tr>\n",
       "    <tr>\n",
       "      <th>2019-04-01</th>\n",
       "      <td>162872</td>\n",
       "      <td>99949</td>\n",
       "    </tr>\n",
       "    <tr>\n",
       "      <th>2019-05-01</th>\n",
       "      <td>76872</td>\n",
       "      <td>51432</td>\n",
       "    </tr>\n",
       "    <tr>\n",
       "      <th>2019-06-01</th>\n",
       "      <td>60268</td>\n",
       "      <td>41303</td>\n",
       "    </tr>\n",
       "    <tr>\n",
       "      <th>2019-07-01</th>\n",
       "      <td>100521</td>\n",
       "      <td>66543</td>\n",
       "    </tr>\n",
       "    <tr>\n",
       "      <th>2019-08-01</th>\n",
       "      <td>90094</td>\n",
       "      <td>58371</td>\n",
       "    </tr>\n",
       "    <tr>\n",
       "      <th>2019-09-01</th>\n",
       "      <td>20201</td>\n",
       "      <td>14530</td>\n",
       "    </tr>\n",
       "    <tr>\n",
       "      <th>2019-10-01</th>\n",
       "      <td>47373</td>\n",
       "      <td>35325</td>\n",
       "    </tr>\n",
       "    <tr>\n",
       "      <th>2019-11-01</th>\n",
       "      <td>81299</td>\n",
       "      <td>57519</td>\n",
       "    </tr>\n",
       "    <tr>\n",
       "      <th>2019-12-01</th>\n",
       "      <td>73141</td>\n",
       "      <td>52146</td>\n",
       "    </tr>\n",
       "    <tr>\n",
       "      <th>2020-01-01</th>\n",
       "      <td>74494</td>\n",
       "      <td>52854</td>\n",
       "    </tr>\n",
       "    <tr>\n",
       "      <th>2020-02-01</th>\n",
       "      <td>60591</td>\n",
       "      <td>42603</td>\n",
       "    </tr>\n",
       "    <tr>\n",
       "      <th>2020-03-01</th>\n",
       "      <td>59748</td>\n",
       "      <td>42033</td>\n",
       "    </tr>\n",
       "    <tr>\n",
       "      <th>2020-04-01</th>\n",
       "      <td>28826</td>\n",
       "      <td>21960</td>\n",
       "    </tr>\n",
       "    <tr>\n",
       "      <th>2020-05-01</th>\n",
       "      <td>59190</td>\n",
       "      <td>48604</td>\n",
       "    </tr>\n",
       "    <tr>\n",
       "      <th>2020-06-01</th>\n",
       "      <td>42393</td>\n",
       "      <td>30275</td>\n",
       "    </tr>\n",
       "    <tr>\n",
       "      <th>2020-07-01</th>\n",
       "      <td>33689</td>\n",
       "      <td>24555</td>\n",
       "    </tr>\n",
       "    <tr>\n",
       "      <th>2020-08-01</th>\n",
       "      <td>53644</td>\n",
       "      <td>38332</td>\n",
       "    </tr>\n",
       "    <tr>\n",
       "      <th>2020-09-01</th>\n",
       "      <td>50869</td>\n",
       "      <td>36144</td>\n",
       "    </tr>\n",
       "    <tr>\n",
       "      <th>2020-10-01</th>\n",
       "      <td>59950</td>\n",
       "      <td>37446</td>\n",
       "    </tr>\n",
       "    <tr>\n",
       "      <th>2020-11-01</th>\n",
       "      <td>59013</td>\n",
       "      <td>29594</td>\n",
       "    </tr>\n",
       "  </tbody>\n",
       "</table>\n",
       "</div>"
      ],
      "text/plain": [
       "            total_regs  success_regs\n",
       "reg_month                           \n",
       "2019-01-01      133531         87889\n",
       "2019-02-01      111882         69732\n",
       "2019-03-01      144595         89224\n",
       "2019-04-01      162872         99949\n",
       "2019-05-01       76872         51432\n",
       "2019-06-01       60268         41303\n",
       "2019-07-01      100521         66543\n",
       "2019-08-01       90094         58371\n",
       "2019-09-01       20201         14530\n",
       "2019-10-01       47373         35325\n",
       "2019-11-01       81299         57519\n",
       "2019-12-01       73141         52146\n",
       "2020-01-01       74494         52854\n",
       "2020-02-01       60591         42603\n",
       "2020-03-01       59748         42033\n",
       "2020-04-01       28826         21960\n",
       "2020-05-01       59190         48604\n",
       "2020-06-01       42393         30275\n",
       "2020-07-01       33689         24555\n",
       "2020-08-01       53644         38332\n",
       "2020-09-01       50869         36144\n",
       "2020-10-01       59950         37446\n",
       "2020-11-01       59013         29594"
      ]
     },
     "execution_count": 17,
     "metadata": {},
     "output_type": "execute_result"
    }
   ],
   "source": [
    "# сгруппируем данные по месяцам, посчитаем общее кол-во регистраци и кол-во успешных регистраций\n",
    "regs_by_month = regs.groupby(by='reg_month').agg({'cid': 'nunique', 'is_reg_complete': 'sum'})\n",
    "regs_by_month.columns = ['total_regs', 'success_regs']\n",
    "\n",
    "# смотрим\n",
    "regs_by_month"
   ]
  },
  {
   "cell_type": "markdown",
   "metadata": {},
   "source": [
    "#### 1.2 Групиировка данных о займах"
   ]
  },
  {
   "cell_type": "code",
   "execution_count": 18,
   "metadata": {},
   "outputs": [
    {
     "ename": "AttributeError",
     "evalue": "Can only use .dt accessor with datetimelike values",
     "output_type": "error",
     "traceback": [
      "\u001b[1;31m---------------------------------------------------------------------------\u001b[0m",
      "\u001b[1;31mAttributeError\u001b[0m                            Traceback (most recent call last)",
      "\u001b[1;32m<ipython-input-18-ea1bf3636e12>\u001b[0m in \u001b[0;36m<module>\u001b[1;34m\u001b[0m\n\u001b[0;32m      3\u001b[0m \u001b[1;33m\u001b[0m\u001b[0m\n\u001b[0;32m      4\u001b[0m \u001b[0mloans\u001b[0m\u001b[1;33m[\u001b[0m\u001b[1;34m'loan_date'\u001b[0m\u001b[1;33m]\u001b[0m \u001b[1;33m=\u001b[0m \u001b[0mloans\u001b[0m\u001b[1;33m[\u001b[0m\u001b[1;34m'start_ts'\u001b[0m\u001b[1;33m]\u001b[0m\u001b[1;33m.\u001b[0m\u001b[0mastype\u001b[0m\u001b[1;33m(\u001b[0m\u001b[1;34m'datetime64[D]'\u001b[0m\u001b[1;33m)\u001b[0m\u001b[1;33m\u001b[0m\u001b[1;33m\u001b[0m\u001b[0m\n\u001b[1;32m----> 5\u001b[1;33m \u001b[0mloans\u001b[0m\u001b[1;33m[\u001b[0m\u001b[1;34m'loan_week'\u001b[0m\u001b[1;33m]\u001b[0m \u001b[1;33m=\u001b[0m \u001b[0mloans\u001b[0m\u001b[1;33m[\u001b[0m\u001b[1;34m'start_ts'\u001b[0m\u001b[1;33m]\u001b[0m\u001b[1;33m.\u001b[0m\u001b[0mdt\u001b[0m\u001b[1;33m.\u001b[0m\u001b[0mto_period\u001b[0m\u001b[1;33m(\u001b[0m\u001b[1;34m'W'\u001b[0m\u001b[1;33m)\u001b[0m\u001b[1;33m.\u001b[0m\u001b[0mapply\u001b[0m\u001b[1;33m(\u001b[0m\u001b[1;32mlambda\u001b[0m \u001b[0mr\u001b[0m\u001b[1;33m:\u001b[0m \u001b[0mr\u001b[0m\u001b[1;33m.\u001b[0m\u001b[0mstart_time\u001b[0m\u001b[1;33m)\u001b[0m\u001b[1;33m\u001b[0m\u001b[1;33m\u001b[0m\u001b[0m\n\u001b[0m\u001b[0;32m      6\u001b[0m \u001b[0mloans\u001b[0m\u001b[1;33m[\u001b[0m\u001b[1;34m'loan_month'\u001b[0m\u001b[1;33m]\u001b[0m \u001b[1;33m=\u001b[0m \u001b[0mloans\u001b[0m\u001b[1;33m[\u001b[0m\u001b[1;34m'start_ts'\u001b[0m\u001b[1;33m]\u001b[0m\u001b[1;33m.\u001b[0m\u001b[0mastype\u001b[0m\u001b[1;33m(\u001b[0m\u001b[1;34m'datetime64[M]'\u001b[0m\u001b[1;33m)\u001b[0m\u001b[1;33m\u001b[0m\u001b[1;33m\u001b[0m\u001b[0m\n\u001b[0;32m      7\u001b[0m \u001b[1;33m\u001b[0m\u001b[0m\n",
      "\u001b[1;32mc:\\users\\leonovich.ma\\pycharmprojects\\da\\venv\\lib\\site-packages\\pandas\\core\\generic.py\u001b[0m in \u001b[0;36m__getattr__\u001b[1;34m(self, name)\u001b[0m\n\u001b[0;32m   5133\u001b[0m             \u001b[1;32mor\u001b[0m \u001b[0mname\u001b[0m \u001b[1;32min\u001b[0m \u001b[0mself\u001b[0m\u001b[1;33m.\u001b[0m\u001b[0m_accessors\u001b[0m\u001b[1;33m\u001b[0m\u001b[1;33m\u001b[0m\u001b[0m\n\u001b[0;32m   5134\u001b[0m         ):\n\u001b[1;32m-> 5135\u001b[1;33m             \u001b[1;32mreturn\u001b[0m \u001b[0mobject\u001b[0m\u001b[1;33m.\u001b[0m\u001b[0m__getattribute__\u001b[0m\u001b[1;33m(\u001b[0m\u001b[0mself\u001b[0m\u001b[1;33m,\u001b[0m \u001b[0mname\u001b[0m\u001b[1;33m)\u001b[0m\u001b[1;33m\u001b[0m\u001b[1;33m\u001b[0m\u001b[0m\n\u001b[0m\u001b[0;32m   5136\u001b[0m         \u001b[1;32melse\u001b[0m\u001b[1;33m:\u001b[0m\u001b[1;33m\u001b[0m\u001b[1;33m\u001b[0m\u001b[0m\n\u001b[0;32m   5137\u001b[0m             \u001b[1;32mif\u001b[0m \u001b[0mself\u001b[0m\u001b[1;33m.\u001b[0m\u001b[0m_info_axis\u001b[0m\u001b[1;33m.\u001b[0m\u001b[0m_can_hold_identifiers_and_holds_name\u001b[0m\u001b[1;33m(\u001b[0m\u001b[0mname\u001b[0m\u001b[1;33m)\u001b[0m\u001b[1;33m:\u001b[0m\u001b[1;33m\u001b[0m\u001b[1;33m\u001b[0m\u001b[0m\n",
      "\u001b[1;32mc:\\users\\leonovich.ma\\pycharmprojects\\da\\venv\\lib\\site-packages\\pandas\\core\\accessor.py\u001b[0m in \u001b[0;36m__get__\u001b[1;34m(self, obj, cls)\u001b[0m\n\u001b[0;32m    185\u001b[0m             \u001b[1;31m# we're accessing the attribute of the class, i.e., Dataset.geo\u001b[0m\u001b[1;33m\u001b[0m\u001b[1;33m\u001b[0m\u001b[1;33m\u001b[0m\u001b[0m\n\u001b[0;32m    186\u001b[0m             \u001b[1;32mreturn\u001b[0m \u001b[0mself\u001b[0m\u001b[1;33m.\u001b[0m\u001b[0m_accessor\u001b[0m\u001b[1;33m\u001b[0m\u001b[1;33m\u001b[0m\u001b[0m\n\u001b[1;32m--> 187\u001b[1;33m         \u001b[0maccessor_obj\u001b[0m \u001b[1;33m=\u001b[0m \u001b[0mself\u001b[0m\u001b[1;33m.\u001b[0m\u001b[0m_accessor\u001b[0m\u001b[1;33m(\u001b[0m\u001b[0mobj\u001b[0m\u001b[1;33m)\u001b[0m\u001b[1;33m\u001b[0m\u001b[1;33m\u001b[0m\u001b[0m\n\u001b[0m\u001b[0;32m    188\u001b[0m         \u001b[1;31m# Replace the property with the accessor object. Inspired by:\u001b[0m\u001b[1;33m\u001b[0m\u001b[1;33m\u001b[0m\u001b[1;33m\u001b[0m\u001b[0m\n\u001b[0;32m    189\u001b[0m         \u001b[1;31m# https://www.pydanny.com/cached-property.html\u001b[0m\u001b[1;33m\u001b[0m\u001b[1;33m\u001b[0m\u001b[1;33m\u001b[0m\u001b[0m\n",
      "\u001b[1;32mc:\\users\\leonovich.ma\\pycharmprojects\\da\\venv\\lib\\site-packages\\pandas\\core\\indexes\\accessors.py\u001b[0m in \u001b[0;36m__new__\u001b[1;34m(cls, data)\u001b[0m\n\u001b[0;32m    478\u001b[0m             \u001b[1;32mreturn\u001b[0m \u001b[0mPeriodProperties\u001b[0m\u001b[1;33m(\u001b[0m\u001b[0mdata\u001b[0m\u001b[1;33m,\u001b[0m \u001b[0morig\u001b[0m\u001b[1;33m)\u001b[0m\u001b[1;33m\u001b[0m\u001b[1;33m\u001b[0m\u001b[0m\n\u001b[0;32m    479\u001b[0m \u001b[1;33m\u001b[0m\u001b[0m\n\u001b[1;32m--> 480\u001b[1;33m         \u001b[1;32mraise\u001b[0m \u001b[0mAttributeError\u001b[0m\u001b[1;33m(\u001b[0m\u001b[1;34m\"Can only use .dt accessor with datetimelike values\"\u001b[0m\u001b[1;33m)\u001b[0m\u001b[1;33m\u001b[0m\u001b[1;33m\u001b[0m\u001b[0m\n\u001b[0m",
      "\u001b[1;31mAttributeError\u001b[0m: Can only use .dt accessor with datetimelike values"
     ]
    }
   ],
   "source": [
    "# у нас уже есть сгруппированные по месяцам данные о регистрациях, теперь тоже самое нужно сделать с займами\n",
    "# но для начала - добавить в таблицу loans столбцы: date, week, month - день, неделя и месяц регистрации\n",
    "\n",
    "loans['loan_date'] = loans['start_ts'].astype('datetime64[D]')\n",
    "loans['loan_week'] = loans['start_ts'].dt.to_period('W').apply(lambda r: r.start_time)\n",
    "loans['loan_month'] = loans['start_ts'].astype('datetime64[M]')\n",
    "\n",
    "# проверяем\n",
    "loans.head()"
   ]
  },
  {
   "cell_type": "code",
   "execution_count": null,
   "metadata": {},
   "outputs": [],
   "source": [
    "# для начала для каждого юзера найдем месяц первого займа\n",
    "new_loans_by_month = loans.sort_values(by=['cid', 'start_ts']).groupby(by='cid').agg({'loan_month': 'first'}).reset_index()\n",
    "\n",
    "# теперь сгруппируем данные по месяцам и подсчитаем кол-во уникальны займов\n",
    "new_loans_by_month = new_loans_by_month.groupby(by='loan_month').agg({'cid': 'count'})\n",
    "new_loans_by_month.columns = ['new_loans']\n",
    "\n",
    "# проверяем\n",
    "new_loans_by_month"
   ]
  },
  {
   "cell_type": "code",
   "execution_count": null,
   "metadata": {},
   "outputs": [],
   "source": [
    "# теперь посчитаем общее кол-во займов по месяцам\n",
    "total_loans_by_month = loans.groupby(by='loan_month').agg({'cid': 'count'})\n",
    "total_loans_by_month.columns = ['total_loans']\n",
    "\n",
    "# проверяем\n",
    "total_loans_by_month"
   ]
  },
  {
   "cell_type": "code",
   "execution_count": null,
   "metadata": {},
   "outputs": [],
   "source": [
    "# объеденим таблицы total_loans_by_month и new_loans_by_month\n",
    "loans_by_month = pd.merge(total_loans_by_month, new_loans_by_month, on='loan_month')\n",
    "\n",
    "# рассчитаем кол-во повторных займов\n",
    "loans_by_month['repeated_loans'] = loans_by_month['total_loans'] - loans_by_month['new_loans']\n",
    "\n",
    "# проверяем\n",
    "loans_by_month"
   ]
  },
  {
   "cell_type": "markdown",
   "metadata": {},
   "source": [
    "#### 1.3 Объеденение данных в одну таблицу"
   ]
  },
  {
   "cell_type": "code",
   "execution_count": null,
   "metadata": {},
   "outputs": [],
   "source": [
    "total_grouped_data = pd.merge(regs_by_month, loans_by_month, left_index=True, right_index=True)\n",
    "\n",
    "total_grouped_data"
   ]
  },
  {
   "cell_type": "markdown",
   "metadata": {},
   "source": [
    "#### 1.4 Графики"
   ]
  },
  {
   "cell_type": "code",
   "execution_count": null,
   "metadata": {},
   "outputs": [],
   "source": [
    "# построим график динамики регистраций по месяцам\n",
    "total_grouped_data[['total_regs', 'success_regs']].plot(figsize=(13, 9), grid=True);\n",
    "plt.xlabel('Месяц');\n",
    "plt.ylabel('Количество');"
   ]
  },
  {
   "cell_type": "code",
   "execution_count": null,
   "metadata": {},
   "outputs": [],
   "source": [
    "# а также ихучим конверсию из всех регистраций в успешные\n",
    "(total_grouped_data['success_regs'] / total_grouped_data['total_regs']).plot(figsize=(13, 9), grid=True);\n",
    "plt.xlabel('Месяц');\n",
    "plt.ylabel('CR% успешной регистрации');"
   ]
  },
  {
   "cell_type": "markdown",
   "metadata": {},
   "source": [
    "<div class=\"alert alert-block alert-success\">\n",
    "<b>Вывод:</b>\n",
    "    <ul>\n",
    "        <li>количетсво регистраций (всех/успешных) стабильно сокращалось с апрелья 2019 года\n",
    "        <li>при этом конверсия в успешную регистрацию за этот же период показала стабильный рост и достигла порядка 70%\n",
    "    </ul>\n",
    "</div>"
   ]
  },
  {
   "cell_type": "code",
   "execution_count": null,
   "metadata": {},
   "outputs": [],
   "source": [
    "# теперь на одном графике сравним динамику успешных регистраций и новых займов\n",
    "total_grouped_data[['success_regs', 'new_loans']].plot(figsize=(13, 9), grid=True);\n",
    "plt.xlabel('Месяц');\n",
    "plt.ylabel('Количество');"
   ]
  },
  {
   "cell_type": "code",
   "execution_count": null,
   "metadata": {},
   "outputs": [],
   "source": [
    "# а также посмотрим на конверсию в динамике\n",
    "(total_grouped_data['new_loans'] / total_grouped_data['success_regs']).plot(figsize=(13, 9), grid=True);\n",
    "plt.xlabel('Месяц');\n",
    "plt.ylabel('CR% в новый займ из успешной регистрации');"
   ]
  },
  {
   "cell_type": "markdown",
   "metadata": {},
   "source": [
    "<div class=\"alert alert-block alert-success\">\n",
    "<b>Вывод:</b>\n",
    "    <ul>\n",
    "        <li>при стабильном сокращении успешных регистраций кол-во новых займов осталось практически на том же уровне\n",
    "        <li>можно констатировать, что произошло это в первую очередь за счет роста конверсии в новый заем с 15% до 25%\n",
    "        <li>однако это общие данные, которые состаят из различных источников трафика в тч высококонверсионной органики (в тч брендовой). Судя по данным из affise CPA канал в августе имел CR = 17%\n",
    "    </ul>\n",
    "</div>"
   ]
  },
  {
   "cell_type": "code",
   "execution_count": null,
   "metadata": {},
   "outputs": [],
   "source": [
    "# посмотрим на долю потворных займов в динамике\n",
    "total_grouped_data[['total_loans', 'new_loans', 'repeated_loans']].plot(figsize=(13, 9), grid=True);\n",
    "plt.xlabel('Месяц');\n",
    "plt.ylabel('Количество выданных займов');"
   ]
  },
  {
   "cell_type": "markdown",
   "metadata": {},
   "source": [
    "<div class=\"alert alert-block alert-success\">\n",
    "<b>Вывод:</b>\n",
    "    <ul>\n",
    "        <li>ближе к концу анализируемого периода наблюдается рост общего количества выданных займов\n",
    "        <li>происходит это за счет роста повторных выдач. Это хороший для нас показатель\n",
    "        <li>доля вопвторных займов колеблется в диапазоне 60%-70%\n",
    "    </ul>\n",
    "</div>"
   ]
  },
  {
   "cell_type": "markdown",
   "metadata": {},
   "source": [
    "### 2. Сколько времени проходит с момента начала регистрации до оформления первого займа"
   ]
  },
  {
   "cell_type": "code",
   "execution_count": null,
   "metadata": {},
   "outputs": [],
   "source": [
    "# для начала из таблицы loans нам нужно получить для каждого юзера данные о его первом займе\n",
    "first_loan_ts = loans.sort_values(by=['cid', 'start_ts']).groupby(by='cid').agg({'start_ts': 'first'}).reset_index()\n",
    "first_loan_ts.columns=['cid', 'start_loan']\n",
    "\n",
    "# проверяем\n",
    "first_loan_ts.head()"
   ]
  },
  {
   "cell_type": "code",
   "execution_count": null,
   "metadata": {},
   "outputs": [],
   "source": [
    "# теперь добавим эти данные в таблицу с регистрациями\n",
    "time_to_loan = pd.merge(regs, first_loan_ts, how='left', on='cid')\n",
    "\n",
    "# посмотрим на случайные 20 записей из получившейся таблицы\n",
    "time_to_loan.sample(20)"
   ]
  },
  {
   "cell_type": "markdown",
   "metadata": {},
   "source": [
    "<div class=\"alert alert-block alert-info\">\n",
    "<b>Важно:</b> во многих строках столбца start_loan появились значения NaT. Это говорит о том, что клиент начал регистрацию, но в итоге ни одного займа не получил. Избавимся от этих строк</div>"
   ]
  },
  {
   "cell_type": "code",
   "execution_count": null,
   "metadata": {},
   "outputs": [],
   "source": [
    "# удаляем лишние строки\n",
    "time_to_loan.dropna(subset=['start_loan'], inplace=True)"
   ]
  },
  {
   "cell_type": "code",
   "execution_count": null,
   "metadata": {},
   "outputs": [],
   "source": [
    "# добавим в таблицу новый столбец с кол-во дней с начала регистрации до первого займа\n",
    "time_to_loan['days_to_loan'] = (time_to_loan['start_loan'] - time_to_loan['reg_ts']).dt.days\n",
    "\n",
    "time_to_loan.sample(10)"
   ]
  },
  {
   "cell_type": "code",
   "execution_count": null,
   "metadata": {},
   "outputs": [],
   "source": [
    "# построим гистограмму\n",
    "time_to_loan['days_to_loan'].hist(figsize=(13, 9), bins=100);"
   ]
  },
  {
   "cell_type": "code",
   "execution_count": null,
   "metadata": {},
   "outputs": [],
   "source": [
    "# львиная доля значений лежит в диапазоне от 0 до 30 дней, ограничим гистограмму этими значениями\n",
    "time_to_loan['days_to_loan'].hist(figsize=(13, 9), bins=30, range=(0, 30));"
   ]
  },
  {
   "cell_type": "code",
   "execution_count": null,
   "metadata": {},
   "outputs": [],
   "source": [
    "# посмотрим на ТОП10 значений\n",
    "time_to_loan['days_to_loan'].value_counts().head(10)"
   ]
  },
  {
   "cell_type": "markdown",
   "metadata": {},
   "source": [
    "<div class=\"alert alert-block alert-success\">\n",
    "<b>Вывод:</b>\n",
    "    <ul>\n",
    "        <li>львиная доля клиентов получают свой первый заем в день регистрации\n",
    "        <li>кол-во выдач на следующий день относительно большое, но это в т.ч. может быть связано с займами, которые оформляются в вечернее время и выдаются уже на следующий день\n",
    "        <li>есть небольшой скачок на 32 день. Скорее всего это связано с разблокировкой спустя 30 дней\n",
    "        <li>чем дальше от времени регистрации тем меньше шанс, что клиент оформит свой первый заем\n",
    "        <li>в качестве рекомендации - нужно стараться максимально быстро конвертировать регистрацию в первый заем\n",
    "    </ul>\n",
    "</div>"
   ]
  },
  {
   "cell_type": "markdown",
   "metadata": {},
   "source": [
    "### 3. Исследвание срока займа (план, факт) + динамика по месяцам"
   ]
  },
  {
   "cell_type": "markdown",
   "metadata": {},
   "source": [
    "#### 3.1 Запрашиваемые и фактические значения займов"
   ]
  },
  {
   "cell_type": "code",
   "execution_count": null,
   "metadata": {},
   "outputs": [],
   "source": [
    "# рассчитаем фактический срок пользования деньгами\n",
    "loans['real_term'] = (loans['end_ts'] - loans['start_ts']).dt.days\n",
    "\n",
    "# удалим пустые значения т.к. нам нужны только те займы, которые уже погашены и сохраним данные в отдельный датафрейм\n",
    "real_term = loans.query('real_term.notna()')\n",
    "real_term['real_term'] = real_term['real_term'].astype('int')\n",
    "\n",
    "# проверим на выборке\n",
    "real_term.sample(10)"
   ]
  },
  {
   "cell_type": "code",
   "execution_count": null,
   "metadata": {},
   "outputs": [],
   "source": [
    "# сравним сумму дней из запросов пользователей с суммой фактических дней пользования кредитом\n",
    "print(f'Всего займов было оформлено на {real_term[\"term\"].sum():,} дня(ей)')\n",
    "print(f'Фактически с учетом досрочных погашений и просрочек деньгами пользовались {real_term[\"real_term\"].sum():,} дня(ей)')"
   ]
  },
  {
   "cell_type": "markdown",
   "metadata": {},
   "source": [
    "<div class=\"alert alert-block alert-success\">\n",
    "<b>Вывод:</b>\n",
    "    <ul>\n",
    "        <li> Суммарный фактичесий срок пользования деньгами на 10,5% (или 862,699 дней) больше, чем все суммарные запрошенные значения. Это даже с учетом займов, которые погашаются досрочно (спойлер: их достаточно много)\n",
    "    </ul>\n",
    "</div>"
   ]
  },
  {
   "cell_type": "code",
   "execution_count": null,
   "metadata": {},
   "outputs": [],
   "source": [
    "# распределение запрашиваемых сроков займов\n",
    "display(real_term['term'].describe())\n",
    "real_term['term'].hist(bins=100, figsize=(13, 9));"
   ]
  },
  {
   "cell_type": "markdown",
   "metadata": {},
   "source": [
    "#### 3.2 Распределение показателей, среднее значение, медиана, мода"
   ]
  },
  {
   "cell_type": "code",
   "execution_count": null,
   "metadata": {},
   "outputs": [],
   "source": [
    "# распределение фактических сроков пользования займом\n",
    "display(real_term['real_term'].describe())\n",
    "real_term['real_term'].hist(bins=100, figsize=(13, 9));"
   ]
  },
  {
   "cell_type": "code",
   "execution_count": null,
   "metadata": {},
   "outputs": [],
   "source": [
    "# ТОП5 запрашиваемых сроков\n",
    "real_term['term'].value_counts().head()"
   ]
  },
  {
   "cell_type": "code",
   "execution_count": null,
   "metadata": {},
   "outputs": [],
   "source": [
    "# ТОП5 фактических сроков\n",
    "real_term['real_term'].value_counts().head()"
   ]
  },
  {
   "cell_type": "markdown",
   "metadata": {},
   "source": [
    "<div class=\"alert alert-block alert-success\">\n",
    "<b>Вывод:</b>\n",
    "    <ul>\n",
    "        <li>графики распределения отличаются очень сильно. Это говорит о том, что то, как люди планируют возвращать деньги и то, как они их возвращают - это разные значения\n",
    "        <li>также на распределение оказывает влияение то, что запрашиваемый срок займа строго ограничен\n",
    "        <li>среднее значение фактического пользования займом = 32.66 дня, средний запрашиваемый срок = 29.55 дня\n",
    "        <li>медианное значение больше уже у запрашиваемых показателй - 30 дней против 20 дней. Т.е. 50% займов закрываются в срок до 20 дней\n",
    "        <li>в ТОП5 значений фактического пользования займами есть 2 не очень хороших значения - это 0 день (погашение в день получения займа) и 1 (погашение на следующий день)\n",
    "        <li>25% займов погашаются до 8 дней, 50% до 20 дней, 75% до 42 дней. Над этими показателями стоило бы поработать\n",
    "    </ul>\n",
    "</div>"
   ]
  },
  {
   "cell_type": "markdown",
   "metadata": {},
   "source": [
    "#### 3.3 Динамка планового и фактического срока пользования деньгами"
   ]
  },
  {
   "cell_type": "code",
   "execution_count": null,
   "metadata": {},
   "outputs": [],
   "source": [
    "real_term.groupby('loan_month').agg({'term': 'mean', 'real_term': 'mean'}).plot(kind='bar', figsize=(13, 9), grid=True);"
   ]
  },
  {
   "cell_type": "markdown",
   "metadata": {},
   "source": [
    "<div class=\"alert alert-block alert-success\">\n",
    "<b>Вывод:</b>\n",
    "    <ul>\n",
    "        <li>весь 2019 год средний срок пользовния деньгами показывал положительную динамику\n",
    "        <li>в этот же период мы видим значительно большой рост факт.пользования отностилеьно плана\n",
    "        <li>начиная с июля график идет вниз, но это скорее всего связано с тем, что часть клиентов из просрочки еще не вернули деньги (но согласно статистике обязательно вернут) либо доля досрочных погашений выросла\n",
    "        <li>в дальнейшем посомотрим еще на эти показатели в когортах\n",
    "    </ul>\n",
    "</div>"
   ]
  },
  {
   "cell_type": "markdown",
   "metadata": {},
   "source": [
    "### 4. Категоризация займов по реальному сроку пользования деньгами"
   ]
  },
  {
   "cell_type": "code",
   "execution_count": null,
   "metadata": {},
   "outputs": [],
   "source": [
    "# созданим функцию категоризации срока закрытия займа\n",
    "def set_term_category(row):\n",
    "    if row['real_term'] == row['term']:\n",
    "        return 'В срок'\n",
    "    elif row['real_term'] < row['term']:\n",
    "        return 'Досрочно'\n",
    "    elif row['real_term'] > row['term']:\n",
    "        return 'С просрочкой'\n",
    "    return 'Не закрыт'"
   ]
  },
  {
   "cell_type": "code",
   "execution_count": null,
   "metadata": {},
   "outputs": [],
   "source": [
    "# применяем функцию\n",
    "loans['term_category'] = loans.apply(set_term_category, axis=1)\n",
    "\n",
    "# проверяем\n",
    "loans.sample(10)"
   ]
  },
  {
   "cell_type": "code",
   "execution_count": null,
   "metadata": {},
   "outputs": [],
   "source": [
    "# построим круговую диаграмму для визуализации разделения займов по типам погашения\n",
    "loans.groupby('term_category').agg({'cid': 'count'}).plot(kind='pie', subplots=True, figsize=(10, 10), autopct='%1.1f%%');"
   ]
  },
  {
   "cell_type": "code",
   "execution_count": null,
   "metadata": {},
   "outputs": [],
   "source": [
    "# та же диаграмма, но без статуса \"Не закрыт\"\n",
    "loans.query('term_category != \"Не закрыт\"')\\\n",
    ".groupby('term_category').agg({'cid': 'count'}).plot(kind='pie', subplots=True, figsize=(10, 10), autopct='%1.1f%%');"
   ]
  },
  {
   "cell_type": "markdown",
   "metadata": {},
   "source": [
    "<div class=\"alert alert-block alert-success\">\n",
    "<b>Вывод:</b>\n",
    "    <ul>\n",
    "        <li>27.4% не закрытых займов - цифра немного преувеличенная т.к. чем ближе анализируемый месяц к текущему - тем больше % невозвратов и наоборот.\n",
    "        <li>Если анализировать уже закрытые займы - 55.6% досрочно закрытых займов это большая цифра. И это как раз точка роста\n",
    "    </ul>\n",
    "</div>"
   ]
  },
  {
   "cell_type": "markdown",
   "metadata": {},
   "source": [
    "### 4. Исследование суммы займов"
   ]
  },
  {
   "cell_type": "markdown",
   "metadata": {},
   "source": [
    "#### 4.1 Базовые данные о сумме займов"
   ]
  },
  {
   "cell_type": "code",
   "execution_count": null,
   "metadata": {},
   "outputs": [],
   "source": [
    "print(f'Суммарные выдачи за анализируемый период составили {loans[\"value\"].sum():,} рублей')"
   ]
  },
  {
   "cell_type": "code",
   "execution_count": null,
   "metadata": {},
   "outputs": [],
   "source": [
    "# посмотрим на среднее, медиану, квартили и другие значения\n",
    "loans['value'].describe()"
   ]
  },
  {
   "cell_type": "code",
   "execution_count": null,
   "metadata": {},
   "outputs": [],
   "source": [
    "# TOP10 частотность\n",
    "loans['value'].value_counts().head(10)"
   ]
  },
  {
   "cell_type": "code",
   "execution_count": null,
   "metadata": {},
   "outputs": [],
   "source": [
    "# посмотрим на распределение\n",
    "loans['value'].hist(figsize=(13, 9), bins=80);"
   ]
  },
  {
   "cell_type": "markdown",
   "metadata": {},
   "source": [
    "<div class=\"alert alert-block alert-success\">\n",
    "<b>Вывод:</b>\n",
    "    <ul>\n",
    "        <li>общая сумма выданных средств за анализируемый период 3 683 503 741 рубля\n",
    "        <li>средняя выдача - 9648 рублей\n",
    "        <li>первый-третий квартили: 4500, 8000, 12000. Это значит, что 25% займов оформляются на сумму, меньше 4500р, 50% займов на сумму до 8000 и 75% займов на сумму до 12000 рублей.\n",
    "        <li>чаще всего берут займ на 8000 рублей (28526 раз)\n",
    "        <li>в ТОП10 значений по частоте 7 значений меньше 10000 рублей\n",
    "    </ul>\n",
    "</div>"
   ]
  },
  {
   "cell_type": "markdown",
   "metadata": {},
   "source": [
    "#### 4.2 Динамика измениня средней суммы займа"
   ]
  },
  {
   "cell_type": "code",
   "execution_count": null,
   "metadata": {},
   "outputs": [],
   "source": [
    "# группируем данные по месяцам, для каждого месяца считаем суммарный объем займов и количество займов\n",
    "avg_loan_value = loans.groupby('loan_month').agg({'value': 'sum', 'cid': 'count'})\n",
    "\n",
    "# переименуюем столбцы\n",
    "avg_loan_value.columns=['total_value', 'total_loans']\n",
    "\n",
    "# посчитаем средний чек\n",
    "avg_loan_value['avg_loan_value'] = (avg_loan_value['total_value'] / avg_loan_value['total_loans']).astype('int')\n",
    "\n",
    "avg_loan_value"
   ]
  },
  {
   "cell_type": "code",
   "execution_count": null,
   "metadata": {},
   "outputs": [],
   "source": [
    "# посмотрим на чек в динамике\n",
    "avg_loan_value['avg_loan_value'].plot(figsize=(13, 9), grid=True);"
   ]
  },
  {
   "cell_type": "code",
   "execution_count": null,
   "metadata": {},
   "outputs": [],
   "source": [
    "print(f'Минимальное занчение {avg_loan_value[\"avg_loan_value\"].min()} рубл.')\n",
    "print(f'Максимальное занчение {avg_loan_value[\"avg_loan_value\"].max()} руб.')"
   ]
  },
  {
   "cell_type": "markdown",
   "metadata": {},
   "source": [
    "<div class=\"alert alert-block alert-success\">\n",
    "<b>Вывод:</b>\n",
    "    <ul>\n",
    "        <li>мин-макс средние значения находятся в диапазоне от 8154 руб до 10672 руб\n",
    "        <li>не прослеживается какой-либо тренд на рост-падение, есть только периодические колебания на 10-20%\n",
    "    </ul>\n",
    "</div>"
   ]
  },
  {
   "cell_type": "markdown",
   "metadata": {},
   "source": [
    "### 5. Когортный анализ"
   ]
  },
  {
   "cell_type": "markdown",
   "metadata": {},
   "source": [
    "#### 5.1 Ретеншен"
   ]
  },
  {
   "cell_type": "code",
   "execution_count": null,
   "metadata": {},
   "outputs": [],
   "source": [
    "# для начала нам нужно выделить в отдельную таблицу месяц первого займа для каждого пользователя\n",
    "loan_first_month = loans.sort_values(by=['cid', 'loan_month']).groupby(by='cid').agg({'loan_month': 'first'}).reset_index()\n",
    "\n",
    "# переименуем столбцы\n",
    "loan_first_month.columns = ['cid', 'loan_first_month']\n",
    "\n",
    "# смотрим на результат\n",
    "loan_first_month"
   ]
  },
  {
   "cell_type": "code",
   "execution_count": null,
   "metadata": {},
   "outputs": [],
   "source": [
    "# объеденим таблицы loans vs loan_first_month\n",
    "loans = pd.merge(loans, loan_first_month, on='cid')\n",
    "\n",
    "# добавим в таблицу столбец cohort_lifetime, который указывает на срок жизни когорты в месяцах\n",
    "loans['cohort_lifetime'] =((loans['loan_month'] - loans['loan_first_month']) / np.timedelta64(1,'M'))\\\n",
    ".round().astype('int')\n",
    "\n",
    "# смотрим на результат\n",
    "loans.head()"
   ]
  },
  {
   "cell_type": "code",
   "execution_count": null,
   "metadata": {},
   "outputs": [],
   "source": [
    "# создадим новую таблицу retention и сгруппируем в нее данные из таблицы loans\n",
    "retention = loans.groupby(['loan_first_month', 'cohort_lifetime']).agg({'cid': 'nunique'}).reset_index()\n",
    "\n",
    "# переименуем колонки\n",
    "retention.columns = ['loan_first_month', 'cohort_lifetime', 'active_users']\n",
    "\n",
    "# смотрим результат\n",
    "retention"
   ]
  },
  {
   "cell_type": "code",
   "execution_count": null,
   "metadata": {},
   "outputs": [],
   "source": [
    "# теперь в отдельной таблице сохраним пользователей нулевой когорты\n",
    "initial_users = retention[retention['cohort_lifetime'] == 0][['loan_first_month', 'active_users']]\n",
    "\n",
    "# переименуем столбцы\n",
    "initial_users.columns = ['loan_first_month', 'initial_users']\n",
    "\n",
    "# смотрим результат\n",
    "initial_users"
   ]
  },
  {
   "cell_type": "code",
   "execution_count": null,
   "metadata": {},
   "outputs": [],
   "source": [
    "# добавим в таблицу retention столбец initial_users из таблицы initial_users\n",
    "retention = pd.merge(retention, initial_users, on='loan_first_month')\n",
    "\n",
    "# рассчитаем retention_rate\n",
    "retention['retention_rate'] = retention['active_users'] / retention['initial_users']\n",
    "\n",
    "# смотрим финальную таблицу\n",
    "retention.head()"
   ]
  },
  {
   "cell_type": "code",
   "execution_count": null,
   "metadata": {},
   "outputs": [],
   "source": [
    "# группируем все в сводную таблицу\n",
    "retention_pivot = retention.pivot_table(index='loan_first_month', columns='cohort_lifetime', \n",
    "                                        values='retention_rate', aggfunc='sum')"
   ]
  },
  {
   "cell_type": "code",
   "execution_count": null,
   "metadata": {},
   "outputs": [],
   "source": [
    "# Наведем немного крастоты\n",
    "plt.figure(figsize=(26, 18))\n",
    "plt.title('Cohorts: User Retention')\n",
    "sns.heatmap(retention_pivot, annot=True, fmt='.1%', linewidths=1, \n",
    "            linecolor='grey', cmap='coolwarm', vmax=0.4, vmin=0.025);"
   ]
  },
  {
   "cell_type": "markdown",
   "metadata": {},
   "source": [
    "<div class=\"alert alert-block alert-success\">\n",
    "<b>Вывод:</b>\n",
    "    <ul>\n",
    "        <li>в начале и середине 2019 года мы видим достаточно хороший ретеншен в месяцах 0-1-2\n",
    "        <li>затем, примерно в авгуте 2019 показатели стали ухудшаться и ретеншен 1 месяца опустился до 20%, а затем и вовсе до 15%\n",
    "        <li>однако сейчас снова наблюдается рост, начиная с мая 2020\n",
    "    </ul>\n",
    "</div>"
   ]
  },
  {
   "cell_type": "markdown",
   "metadata": {},
   "source": [
    "#### 5.2 Среднее кол-во займов"
   ]
  },
  {
   "cell_type": "code",
   "execution_count": null,
   "metadata": {},
   "outputs": [],
   "source": [
    "avg_loan_amount = loans.groupby(['loan_first_month', 'cohort_lifetime']).agg({'cid': 'count'}).reset_index()\n",
    "avg_loan_amount.rename(columns={'cid': 'cumsum_loans'}, inplace=True)\n",
    "avg_loan_amount = pd.merge(avg_loan_amount, initial_users, on='loan_first_month')\n",
    "avg_loan_amount['avg_loans'] = (avg_loan_amount['cumsum_loans'] / avg_loan_amount['initial_users']).round(2)\n",
    "\n",
    "avg_loan_amount.head()"
   ]
  },
  {
   "cell_type": "code",
   "execution_count": null,
   "metadata": {},
   "outputs": [],
   "source": [
    "avg_loan_pivot = avg_loan_amount.pivot_table(index='loan_first_month', columns='cohort_lifetime', values='avg_loans', aggfunc='mean').cumsum(axis=1)"
   ]
  },
  {
   "cell_type": "code",
   "execution_count": null,
   "metadata": {
    "scrolled": false
   },
   "outputs": [],
   "source": [
    "# Наведем немного крастоты\n",
    "plt.figure(figsize=(26, 18))\n",
    "plt.title('Cohorts: Avg. Loans Cumsum')\n",
    "sns.heatmap(avg_loan_pivot, annot=True, fmt='.3', linewidths=1, \n",
    "            linecolor='grey', cmap='coolwarm', vmin=0.6, vmax=2.6);"
   ]
  },
  {
   "cell_type": "markdown",
   "metadata": {},
   "source": [
    "#### 5.3 ARPU (Average Revenue per User)\n",
    "то, что Даша называет LTV"
   ]
  },
  {
   "cell_type": "code",
   "execution_count": null,
   "metadata": {},
   "outputs": [],
   "source": [
    "arpu = loans.groupby(['loan_first_month', 'cohort_lifetime']).agg({'value': 'sum'}).reset_index()\n",
    "arpu = pd.merge(arpu, initial_users, on='loan_first_month')\n",
    "arpu['arpu'] = ((arpu['value'] / arpu['initial_users'])/1000).round(2)\n",
    "\n",
    "arpu.head()"
   ]
  },
  {
   "cell_type": "code",
   "execution_count": null,
   "metadata": {},
   "outputs": [],
   "source": [
    "arpu_pivot = arpu.pivot_table(index='loan_first_month', columns='cohort_lifetime', \n",
    "                              values='arpu', aggfunc='mean').cumsum(axis=1)"
   ]
  },
  {
   "cell_type": "code",
   "execution_count": null,
   "metadata": {},
   "outputs": [],
   "source": [
    "# Наведем немного крастоты\n",
    "plt.figure(figsize=(26, 18))\n",
    "plt.title('Cohorts: ARPU')\n",
    "sns.heatmap(arpu_pivot, annot=True, fmt='.3', linewidths=1, \n",
    "            linecolor='grey', cmap='coolwarm');"
   ]
  },
  {
   "cell_type": "markdown",
   "metadata": {},
   "source": [
    "#### 5.4 Средняя сумма займа в конкретный месяц\n",
    "почему с ростом lifetime \"чек\" не растет?"
   ]
  },
  {
   "cell_type": "code",
   "execution_count": null,
   "metadata": {},
   "outputs": [],
   "source": [
    "avg_loan_value = loans.groupby(['loan_first_month', 'cohort_lifetime']).agg({'value': 'sum', 'cid': 'count'}).reset_index()\n",
    "avg_loan_value['avg_loan_value'] = ((avg_loan_value['value'] / avg_loan_value['cid'])/1000).round(2)\n",
    "\n",
    "avg_loan_value.head()"
   ]
  },
  {
   "cell_type": "code",
   "execution_count": null,
   "metadata": {},
   "outputs": [],
   "source": [
    "avg_loan_value_pivot = avg_loan_value.pivot_table(index='loan_first_month', columns='cohort_lifetime', \n",
    "                              values='avg_loan_value', aggfunc='mean')"
   ]
  },
  {
   "cell_type": "code",
   "execution_count": null,
   "metadata": {},
   "outputs": [],
   "source": [
    "# Наведем немного крастоты\n",
    "plt.figure(figsize=(26, 18))\n",
    "plt.title('Cohorts: Loan Value')\n",
    "sns.heatmap(avg_loan_value_pivot, annot=True, fmt='.3', linewidths=1, \n",
    "            linecolor='grey', cmap='coolwarm', vmin=9, vmax=11.5);"
   ]
  },
  {
   "cell_type": "markdown",
   "metadata": {},
   "source": [
    "#### 5.4 Средняя сумма займа накопительным итогом"
   ]
  },
  {
   "cell_type": "code",
   "execution_count": null,
   "metadata": {},
   "outputs": [],
   "source": [
    "avg_cumsum_loan_value = loans.groupby(['loan_first_month', 'cohort_lifetime']).agg({'value': 'sum', 'cid': 'count'})\\\n",
    ".groupby(level=0).cumsum().reset_index()\n",
    "avg_cumsum_loan_value.rename(columns={'value': 'cumsum_value', 'cid': 'cumsum_loans'}, inplace=True)\n",
    "avg_cumsum_loan_value['avg_cumsum_loan_value'] = ((avg_cumsum_loan_value['cumsum_value'] / avg_cumsum_loan_value['cumsum_loans'])/1000).round(2)\n",
    "\n",
    "avg_cumsum_loan_value.head()"
   ]
  },
  {
   "cell_type": "code",
   "execution_count": null,
   "metadata": {},
   "outputs": [],
   "source": [
    "avg_cumsum_loan_pivot = avg_cumsum_loan_value.pivot_table(index='loan_first_month', columns='cohort_lifetime', \n",
    "                              values='avg_cumsum_loan_value', aggfunc='mean')"
   ]
  },
  {
   "cell_type": "code",
   "execution_count": null,
   "metadata": {},
   "outputs": [],
   "source": [
    "# Наведем немного крастоты\n",
    "plt.figure(figsize=(26, 18))\n",
    "plt.title('Cohorts: Loan Value')\n",
    "sns.heatmap(avg_cumsum_loan_pivot, annot=True, fmt='.3', linewidths=1, \n",
    "            linecolor='grey', cmap='coolwarm', vmin=9, vmax=10.1);"
   ]
  },
  {
   "cell_type": "markdown",
   "metadata": {},
   "source": [
    "#### 5.5 Оборотка нарастающим итогом"
   ]
  },
  {
   "cell_type": "code",
   "execution_count": null,
   "metadata": {},
   "outputs": [],
   "source": [
    "cumsum_value = loans.groupby(['loan_first_month', 'cohort_lifetime']).agg({'value': 'sum', }).reset_index()\n",
    "cumsum_value['value'] = (cumsum_value['value'] / 10000000).round(2)\n",
    "\n",
    "cumsum_value"
   ]
  },
  {
   "cell_type": "code",
   "execution_count": null,
   "metadata": {},
   "outputs": [],
   "source": [
    "initial_value = cumsum_value[cumsum_value['cohort_lifetime'] == 0][['loan_first_month', 'value']]\n",
    "initial_value.columns=['loan_first_month', 'initial_value']\n",
    "initial_value"
   ]
  },
  {
   "cell_type": "code",
   "execution_count": null,
   "metadata": {},
   "outputs": [],
   "source": [
    "cumsum_value = pd.merge(cumsum_value, initial_value, on='loan_first_month')\n",
    "cumsum_value['value_gain'] = cumsum_value['value'] / cumsum_value['initial_value']\n",
    "\n",
    "cumsum_value.head(20)"
   ]
  },
  {
   "cell_type": "code",
   "execution_count": null,
   "metadata": {},
   "outputs": [],
   "source": [
    "cumsum_value_pivot = cumsum_value.pivot_table(index='loan_first_month', columns='cohort_lifetime', \n",
    "                         values='value_gain', aggfunc='mean').cumsum(axis=1)"
   ]
  },
  {
   "cell_type": "code",
   "execution_count": null,
   "metadata": {},
   "outputs": [],
   "source": [
    "# Наведем немного крастоты\n",
    "plt.figure(figsize=(26, 18))\n",
    "plt.title('Cohorts: User Retention')\n",
    "sns.heatmap(cumsum_value_pivot, annot=True, fmt='.3', linewidths=1, \n",
    "            linecolor='grey', cmap='coolwarm', vmax=2.5);"
   ]
  },
  {
   "cell_type": "code",
   "execution_count": null,
   "metadata": {},
   "outputs": [],
   "source": [
    "loans['end_month'] = loans['end_ts'].astype('datetime64[M]')\n",
    "loans.head()"
   ]
  },
  {
   "cell_type": "code",
   "execution_count": null,
   "metadata": {},
   "outputs": [],
   "source": [
    "get_loans = loans.groupby(['loan_first_month', 'cohort_lifetime']).agg({'cid': 'count'}).groupby(level=0).cumsum().reset_index()\n",
    "get_loans.rename(columns={'cid': 'get_loans'}, inplace=True)\n",
    "get_loans.head()"
   ]
  },
  {
   "cell_type": "code",
   "execution_count": null,
   "metadata": {},
   "outputs": [],
   "source": [
    "paid_loans = loans.groupby(['loan_first_month', 'end_month']).agg({'cid': 'count'}).groupby(level=0).cumsum().reset_index()\n",
    "paid_loans['cohort_lifetime'] = ((paid_loans['end_month'] - paid_loans['loan_first_month']) / np.timedelta64(1,'M')).round().astype('int')\n",
    "paid_loans.drop(columns='end_month', inplace=True)\n",
    "paid_loans = paid_loans[['loan_first_month', 'cohort_lifetime', 'cid']]\n",
    "paid_loans.rename(columns={'cid': 'paid_loans'}, inplace=True)\n",
    "\n",
    "paid_loans.head()"
   ]
  },
  {
   "cell_type": "code",
   "execution_count": null,
   "metadata": {},
   "outputs": [],
   "source": [
    "output = pd.merge(get_loans, paid_loans, on=['loan_first_month', 'cohort_lifetime'])\n",
    "output['r_rate'] = output['paid_loans'] / output['get_loans']\n",
    "output_pivot = output.pivot_table(index='loan_first_month', columns='cohort_lifetime', values='r_rate')"
   ]
  },
  {
   "cell_type": "code",
   "execution_count": null,
   "metadata": {
    "scrolled": true
   },
   "outputs": [],
   "source": [
    "# Наведем немного крастоты\n",
    "plt.figure(figsize=(26, 18))\n",
    "plt.title('Cohorts: NPL')\n",
    "sns.heatmap(output_pivot, annot=True, fmt='.1%', linewidths=1, \n",
    "            linecolor='grey', cmap='coolwarm', vmin=0.4, vmax=0.78);"
   ]
  }
 ],
 "metadata": {
  "kernelspec": {
   "display_name": "Python 3",
   "language": "python",
   "name": "python3"
  },
  "language_info": {
   "codemirror_mode": {
    "name": "ipython",
    "version": 3
   },
   "file_extension": ".py",
   "mimetype": "text/x-python",
   "name": "python",
   "nbconvert_exporter": "python",
   "pygments_lexer": "ipython3",
   "version": "3.8.6"
  }
 },
 "nbformat": 4,
 "nbformat_minor": 4
}
