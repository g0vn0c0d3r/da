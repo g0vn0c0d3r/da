{
 "cells": [
  {
   "cell_type": "code",
   "execution_count": 1,
   "metadata": {},
   "outputs": [],
   "source": [
    "import pandas as pd\n",
    "import numpy as np\n",
    "from matplotlib import pyplot as plt\n",
    "import seaborn as sns\n",
    "from scipy import stats as st\n",
    "import warnings\n",
    "warnings.filterwarnings('ignore')"
   ]
  },
  {
   "cell_type": "markdown",
   "metadata": {},
   "source": [
    "- [x] Предобработка данных\n",
    "- [x] Анализ данных о регистрациях и займах\n",
    "- [x] Сколько времени проходит с момента начала регистрации до оформления первого займа\n",
    "- [x] Срок займа: план-факт + динамика\n",
    "- [x] Категоризация займов по реальному сроку пользования деньгами\n",
    "- [x] Исследование суммы займов\n",
    "- [x] Когортный анализ:\n",
    "    - [x] User Retention\n",
    "    - [x] Ср.кол-во займов нарастающим итогом\n",
    "    - [x] Ср.сумма займа нарастающим итогом\n",
    "    - [x] ARPU\n",
    "    - [x] Ретеншен капитала\n",
    "    - [x] NPL"
   ]
  },
  {
   "cell_type": "markdown",
   "metadata": {},
   "source": [
    "## Чтение данных и объединение таблиц с данными о регистрациях"
   ]
  },
  {
   "cell_type": "code",
   "execution_count": 2,
   "metadata": {},
   "outputs": [],
   "source": [
    "# читаем данные\n",
    "regs1 = pd.read_excel('regs1.xlsx')\n",
    "regs2 = pd.read_excel('regs2.xlsx')\n",
    "loans = pd.read_excel('loans.xlsx')"
   ]
  },
  {
   "cell_type": "code",
   "execution_count": 3,
   "metadata": {},
   "outputs": [],
   "source": [
    "# т.к данные с регистрациями предоставлены в 2ух файлах нам необходимо объеденить их в 1\n",
    "regs = regs1.append(regs2, ignore_index=True)"
   ]
  },
  {
   "cell_type": "markdown",
   "metadata": {},
   "source": [
    "## Предобработка данных"
   ]
  },
  {
   "cell_type": "markdown",
   "metadata": {},
   "source": [
    "### Регистрации"
   ]
  },
  {
   "cell_type": "code",
   "execution_count": 4,
   "metadata": {
    "scrolled": true
   },
   "outputs": [
    {
     "name": "stdout",
     "output_type": "stream",
     "text": [
      "<class 'pandas.core.frame.DataFrame'>\n",
      "RangeIndex: 1685056 entries, 0 to 1685055\n",
      "Data columns (total 3 columns):\n",
      " #   Column           Non-Null Count    Dtype         \n",
      "---  ------           --------------    -----         \n",
      " 0   cid              1685056 non-null  int64         \n",
      " 1   reg_date         1685056 non-null  datetime64[ns]\n",
      " 2   is_reg_complete  1685056 non-null  int64         \n",
      "dtypes: datetime64[ns](1), int64(2)\n",
      "memory usage: 38.6 MB\n"
     ]
    }
   ],
   "source": [
    "# посмотрим на общую информацию\n",
    "regs.info()"
   ]
  },
  {
   "cell_type": "code",
   "execution_count": 5,
   "metadata": {},
   "outputs": [
    {
     "data": {
      "text/html": [
       "<div>\n",
       "<style scoped>\n",
       "    .dataframe tbody tr th:only-of-type {\n",
       "        vertical-align: middle;\n",
       "    }\n",
       "\n",
       "    .dataframe tbody tr th {\n",
       "        vertical-align: top;\n",
       "    }\n",
       "\n",
       "    .dataframe thead th {\n",
       "        text-align: right;\n",
       "    }\n",
       "</style>\n",
       "<table border=\"1\" class=\"dataframe\">\n",
       "  <thead>\n",
       "    <tr style=\"text-align: right;\">\n",
       "      <th></th>\n",
       "      <th>cid</th>\n",
       "      <th>reg_date</th>\n",
       "      <th>is_reg_complete</th>\n",
       "    </tr>\n",
       "  </thead>\n",
       "  <tbody>\n",
       "    <tr>\n",
       "      <th>1358148</th>\n",
       "      <td>4379061</td>\n",
       "      <td>2020-05-17</td>\n",
       "      <td>1</td>\n",
       "    </tr>\n",
       "    <tr>\n",
       "      <th>351031</th>\n",
       "      <td>3238942</td>\n",
       "      <td>2019-03-26</td>\n",
       "      <td>1</td>\n",
       "    </tr>\n",
       "    <tr>\n",
       "      <th>1022822</th>\n",
       "      <td>4038766</td>\n",
       "      <td>2019-11-28</td>\n",
       "      <td>0</td>\n",
       "    </tr>\n",
       "    <tr>\n",
       "      <th>227290</th>\n",
       "      <td>3092425</td>\n",
       "      <td>2019-02-24</td>\n",
       "      <td>1</td>\n",
       "    </tr>\n",
       "    <tr>\n",
       "      <th>50999</th>\n",
       "      <td>2884465</td>\n",
       "      <td>2019-01-13</td>\n",
       "      <td>1</td>\n",
       "    </tr>\n",
       "  </tbody>\n",
       "</table>\n",
       "</div>"
      ],
      "text/plain": [
       "             cid   reg_date  is_reg_complete\n",
       "1358148  4379061 2020-05-17                1\n",
       "351031   3238942 2019-03-26                1\n",
       "1022822  4038766 2019-11-28                0\n",
       "227290   3092425 2019-02-24                1\n",
       "50999    2884465 2019-01-13                1"
      ]
     },
     "execution_count": 5,
     "metadata": {},
     "output_type": "execute_result"
    }
   ],
   "source": [
    "# изучим срез данных\n",
    "regs.sample(5)"
   ]
  },
  {
   "cell_type": "markdown",
   "metadata": {},
   "source": [
    "<b>cid</b> - id клиента<br>\n",
    "<b>uid</b> - id юзера<br>\n",
    "<b>ts</b> - время начала регистрации<br>\n",
    "<b>is_reg_complete</b> - отметка о завершени регистрации<br>"
   ]
  },
  {
   "cell_type": "code",
   "execution_count": 7,
   "metadata": {},
   "outputs": [
    {
     "ename": "KeyError",
     "evalue": "'ts'",
     "output_type": "error",
     "traceback": [
      "\u001b[0;31m---------------------------------------------------------------------------\u001b[0m",
      "\u001b[0;31mKeyError\u001b[0m                                  Traceback (most recent call last)",
      "\u001b[0;32m~/PycharmProjects/da/venv/lib/python3.8/site-packages/pandas/core/indexes/base.py\u001b[0m in \u001b[0;36mget_loc\u001b[0;34m(self, key, method, tolerance)\u001b[0m\n\u001b[1;32m   3079\u001b[0m             \u001b[0;32mtry\u001b[0m\u001b[0;34m:\u001b[0m\u001b[0;34m\u001b[0m\u001b[0;34m\u001b[0m\u001b[0m\n\u001b[0;32m-> 3080\u001b[0;31m                 \u001b[0;32mreturn\u001b[0m \u001b[0mself\u001b[0m\u001b[0;34m.\u001b[0m\u001b[0m_engine\u001b[0m\u001b[0;34m.\u001b[0m\u001b[0mget_loc\u001b[0m\u001b[0;34m(\u001b[0m\u001b[0mcasted_key\u001b[0m\u001b[0;34m)\u001b[0m\u001b[0;34m\u001b[0m\u001b[0;34m\u001b[0m\u001b[0m\n\u001b[0m\u001b[1;32m   3081\u001b[0m             \u001b[0;32mexcept\u001b[0m \u001b[0mKeyError\u001b[0m \u001b[0;32mas\u001b[0m \u001b[0merr\u001b[0m\u001b[0;34m:\u001b[0m\u001b[0;34m\u001b[0m\u001b[0;34m\u001b[0m\u001b[0m\n",
      "\u001b[0;32mpandas/_libs/index.pyx\u001b[0m in \u001b[0;36mpandas._libs.index.IndexEngine.get_loc\u001b[0;34m()\u001b[0m\n",
      "\u001b[0;32mpandas/_libs/index.pyx\u001b[0m in \u001b[0;36mpandas._libs.index.IndexEngine.get_loc\u001b[0;34m()\u001b[0m\n",
      "\u001b[0;32mpandas/_libs/hashtable_class_helper.pxi\u001b[0m in \u001b[0;36mpandas._libs.hashtable.PyObjectHashTable.get_item\u001b[0;34m()\u001b[0m\n",
      "\u001b[0;32mpandas/_libs/hashtable_class_helper.pxi\u001b[0m in \u001b[0;36mpandas._libs.hashtable.PyObjectHashTable.get_item\u001b[0;34m()\u001b[0m\n",
      "\u001b[0;31mKeyError\u001b[0m: 'ts'",
      "\nThe above exception was the direct cause of the following exception:\n",
      "\u001b[0;31mKeyError\u001b[0m                                  Traceback (most recent call last)",
      "\u001b[0;32m<ipython-input-7-8070d01ff11d>\u001b[0m in \u001b[0;36m<module>\u001b[0;34m\u001b[0m\n\u001b[1;32m      1\u001b[0m \u001b[0;31m# также приведем к нужному формату данные в ts\u001b[0m\u001b[0;34m\u001b[0m\u001b[0;34m\u001b[0m\u001b[0;34m\u001b[0m\u001b[0m\n\u001b[0;32m----> 2\u001b[0;31m \u001b[0mregs\u001b[0m\u001b[0;34m[\u001b[0m\u001b[0;34m'ts'\u001b[0m\u001b[0;34m]\u001b[0m \u001b[0;34m=\u001b[0m \u001b[0mregs\u001b[0m\u001b[0;34m[\u001b[0m\u001b[0;34m'ts'\u001b[0m\u001b[0;34m]\u001b[0m\u001b[0;34m.\u001b[0m\u001b[0mastype\u001b[0m\u001b[0;34m(\u001b[0m\u001b[0;34m'datetime64[D]'\u001b[0m\u001b[0;34m)\u001b[0m\u001b[0;34m\u001b[0m\u001b[0;34m\u001b[0m\u001b[0m\n\u001b[0m\u001b[1;32m      3\u001b[0m \u001b[0;34m\u001b[0m\u001b[0m\n\u001b[1;32m      4\u001b[0m \u001b[0;31m# переименуем также один столбец\u001b[0m\u001b[0;34m\u001b[0m\u001b[0;34m\u001b[0m\u001b[0;34m\u001b[0m\u001b[0m\n\u001b[1;32m      5\u001b[0m \u001b[0mregs\u001b[0m\u001b[0;34m.\u001b[0m\u001b[0mrename\u001b[0m\u001b[0;34m(\u001b[0m\u001b[0mcolumns\u001b[0m\u001b[0;34m=\u001b[0m\u001b[0;34m{\u001b[0m\u001b[0;34m'ts'\u001b[0m\u001b[0;34m:\u001b[0m \u001b[0;34m'reg_ts'\u001b[0m\u001b[0;34m}\u001b[0m\u001b[0;34m,\u001b[0m \u001b[0minplace\u001b[0m\u001b[0;34m=\u001b[0m\u001b[0;32mTrue\u001b[0m\u001b[0;34m)\u001b[0m\u001b[0;34m\u001b[0m\u001b[0;34m\u001b[0m\u001b[0m\n",
      "\u001b[0;32m~/PycharmProjects/da/venv/lib/python3.8/site-packages/pandas/core/frame.py\u001b[0m in \u001b[0;36m__getitem__\u001b[0;34m(self, key)\u001b[0m\n\u001b[1;32m   3022\u001b[0m             \u001b[0;32mif\u001b[0m \u001b[0mself\u001b[0m\u001b[0;34m.\u001b[0m\u001b[0mcolumns\u001b[0m\u001b[0;34m.\u001b[0m\u001b[0mnlevels\u001b[0m \u001b[0;34m>\u001b[0m \u001b[0;36m1\u001b[0m\u001b[0;34m:\u001b[0m\u001b[0;34m\u001b[0m\u001b[0;34m\u001b[0m\u001b[0m\n\u001b[1;32m   3023\u001b[0m                 \u001b[0;32mreturn\u001b[0m \u001b[0mself\u001b[0m\u001b[0;34m.\u001b[0m\u001b[0m_getitem_multilevel\u001b[0m\u001b[0;34m(\u001b[0m\u001b[0mkey\u001b[0m\u001b[0;34m)\u001b[0m\u001b[0;34m\u001b[0m\u001b[0;34m\u001b[0m\u001b[0m\n\u001b[0;32m-> 3024\u001b[0;31m             \u001b[0mindexer\u001b[0m \u001b[0;34m=\u001b[0m \u001b[0mself\u001b[0m\u001b[0;34m.\u001b[0m\u001b[0mcolumns\u001b[0m\u001b[0;34m.\u001b[0m\u001b[0mget_loc\u001b[0m\u001b[0;34m(\u001b[0m\u001b[0mkey\u001b[0m\u001b[0;34m)\u001b[0m\u001b[0;34m\u001b[0m\u001b[0;34m\u001b[0m\u001b[0m\n\u001b[0m\u001b[1;32m   3025\u001b[0m             \u001b[0;32mif\u001b[0m \u001b[0mis_integer\u001b[0m\u001b[0;34m(\u001b[0m\u001b[0mindexer\u001b[0m\u001b[0;34m)\u001b[0m\u001b[0;34m:\u001b[0m\u001b[0;34m\u001b[0m\u001b[0;34m\u001b[0m\u001b[0m\n\u001b[1;32m   3026\u001b[0m                 \u001b[0mindexer\u001b[0m \u001b[0;34m=\u001b[0m \u001b[0;34m[\u001b[0m\u001b[0mindexer\u001b[0m\u001b[0;34m]\u001b[0m\u001b[0;34m\u001b[0m\u001b[0;34m\u001b[0m\u001b[0m\n",
      "\u001b[0;32m~/PycharmProjects/da/venv/lib/python3.8/site-packages/pandas/core/indexes/base.py\u001b[0m in \u001b[0;36mget_loc\u001b[0;34m(self, key, method, tolerance)\u001b[0m\n\u001b[1;32m   3080\u001b[0m                 \u001b[0;32mreturn\u001b[0m \u001b[0mself\u001b[0m\u001b[0;34m.\u001b[0m\u001b[0m_engine\u001b[0m\u001b[0;34m.\u001b[0m\u001b[0mget_loc\u001b[0m\u001b[0;34m(\u001b[0m\u001b[0mcasted_key\u001b[0m\u001b[0;34m)\u001b[0m\u001b[0;34m\u001b[0m\u001b[0;34m\u001b[0m\u001b[0m\n\u001b[1;32m   3081\u001b[0m             \u001b[0;32mexcept\u001b[0m \u001b[0mKeyError\u001b[0m \u001b[0;32mas\u001b[0m \u001b[0merr\u001b[0m\u001b[0;34m:\u001b[0m\u001b[0;34m\u001b[0m\u001b[0;34m\u001b[0m\u001b[0m\n\u001b[0;32m-> 3082\u001b[0;31m                 \u001b[0;32mraise\u001b[0m \u001b[0mKeyError\u001b[0m\u001b[0;34m(\u001b[0m\u001b[0mkey\u001b[0m\u001b[0;34m)\u001b[0m \u001b[0;32mfrom\u001b[0m \u001b[0merr\u001b[0m\u001b[0;34m\u001b[0m\u001b[0;34m\u001b[0m\u001b[0m\n\u001b[0m\u001b[1;32m   3083\u001b[0m \u001b[0;34m\u001b[0m\u001b[0m\n\u001b[1;32m   3084\u001b[0m         \u001b[0;32mif\u001b[0m \u001b[0mtolerance\u001b[0m \u001b[0;32mis\u001b[0m \u001b[0;32mnot\u001b[0m \u001b[0;32mNone\u001b[0m\u001b[0;34m:\u001b[0m\u001b[0;34m\u001b[0m\u001b[0;34m\u001b[0m\u001b[0m\n",
      "\u001b[0;31mKeyError\u001b[0m: 'ts'"
     ]
    }
   ],
   "source": [
    "# также приведем к нужному формату данные в ts\n",
    "regs['ts'] = regs['ts'].astype('datetime64[D]')\n",
    "\n",
    "# переименуем также один столбец\n",
    "regs.rename(columns={'ts': 'reg_ts'}, inplace=True)\n",
    "\n",
    "# проверяем\n",
    "regs.sample(5)"
   ]
  },
  {
   "cell_type": "code",
   "execution_count": null,
   "metadata": {},
   "outputs": [],
   "source": [
    "# проверим таблицу на наличие пропусков и дубликатов\n",
    "display(regs.isna().sum())\n",
    "display(regs.duplicated().sum())"
   ]
  },
  {
   "cell_type": "markdown",
   "metadata": {},
   "source": [
    "<div class=\"alert alert-block alert-success\">\n",
    "<b>Вывод:</b> пропусков и дублей нет, двигаемся дальше\n",
    "</div>"
   ]
  },
  {
   "cell_type": "markdown",
   "metadata": {},
   "source": [
    "### Займы"
   ]
  },
  {
   "cell_type": "code",
   "execution_count": null,
   "metadata": {},
   "outputs": [],
   "source": [
    "# посмотрим на общую информацию\n",
    "loans.info()"
   ]
  },
  {
   "cell_type": "code",
   "execution_count": null,
   "metadata": {},
   "outputs": [],
   "source": [
    "# изучим срез данных\n",
    "loans.sample(5)"
   ]
  },
  {
   "cell_type": "markdown",
   "metadata": {},
   "source": [
    "<b>cid</b> - id клиента<br>\n",
    "<b>uid</b> - id юзера<br>\n",
    "<b>start_ts</b> - время получения займа<br>\n",
    "<b>value</b> - сумма<br>\n",
    "<b>term</b> - срок<br>\n",
    "<b>status</b> - статус на текущий момент<br>\n",
    "<b>end_ts</b> - время возврата займа"
   ]
  },
  {
   "cell_type": "code",
   "execution_count": null,
   "metadata": {},
   "outputs": [],
   "source": [
    "# uid нам не потребуется в анализе, поэтому просто избавимся от лишней информации\n",
    "loans.drop(columns=['uid'], inplace=True)\n",
    "\n",
    "# также приведем к нужному формату данные в столбце end_ts\n",
    "loans['end_ts'] = loans['end_ts'].astype('datetime64[D]')\n",
    "\n",
    "# проверяем\n",
    "loans.sample(5)"
   ]
  },
  {
   "cell_type": "code",
   "execution_count": null,
   "metadata": {},
   "outputs": [],
   "source": [
    "# проверим таблицу на наличие пропусков и дубликатов\n",
    "display(loans.isna().sum())\n",
    "display(loans.duplicated().sum())"
   ]
  },
  {
   "cell_type": "markdown",
   "metadata": {},
   "source": [
    "<div class=\"alert alert-block alert-success\">\n",
    "<b>Вывод:</b> есть пропуски и дубликаты, обработаем их\n",
    "</div>"
   ]
  },
  {
   "cell_type": "code",
   "execution_count": null,
   "metadata": {},
   "outputs": [],
   "source": [
    "# посмотим на стутусы займов с пропущенными значениями в столбце 'start_ts'\n",
    "loans[loans['start_ts'].isna()]['status'].value_counts()"
   ]
  },
  {
   "cell_type": "markdown",
   "metadata": {},
   "source": [
    "<div class=\"alert alert-block alert-success\">\n",
    "<b>Вывод:</b> фактически эти статусы говорят о том, что клиент не получил деньги\n",
    "</div>"
   ]
  },
  {
   "cell_type": "code",
   "execution_count": null,
   "metadata": {},
   "outputs": [],
   "source": [
    "# удалим эти строки\n",
    "loans.dropna(subset=['start_ts'], inplace=True)\n",
    "\n",
    "# проверяем\n",
    "loans.isna().sum()"
   ]
  },
  {
   "cell_type": "code",
   "execution_count": null,
   "metadata": {},
   "outputs": [],
   "source": [
    "# Посмотрим статусы займов, у которых отсутствуетм время погашения\n",
    "loans[loans['end_ts'].isna()]['status'].value_counts()"
   ]
  },
  {
   "cell_type": "code",
   "execution_count": null,
   "metadata": {},
   "outputs": [],
   "source": [
    "# посмотрим, остались ли дубликаты\n",
    "loans.duplicated().sum()"
   ]
  },
  {
   "cell_type": "markdown",
   "metadata": {},
   "source": [
    "<div class=\"alert alert-block alert-success\">\n",
    "<b>Вывод:</b>\n",
    "    <ul>\n",
    "        <li>дубли теперь отсутствуют\n",
    "        <li>пропуски в end_ts фактически указывают на то, что заем не был закрыт на момент анализа данных\n",
    "    </ul>\n",
    "</div>\n",
    "Теперь переходоим к анализу данных"
   ]
  },
  {
   "cell_type": "markdown",
   "metadata": {},
   "source": [
    "## Аналитика данных"
   ]
  },
  {
   "cell_type": "markdown",
   "metadata": {},
   "source": [
    "### 1. Анализ данных о регистрациях и займах. Динамика по времени, конверсия + графики\n",
    "\n",
    "Нам нужна таблица, в которой будут данные в динамике по месяцам:\n",
    "- Общее кол-во регистраций\n",
    "- Кол-во успешных (завершенных) регистраций\n",
    "- Общее кол-во займов\n",
    "- Кол-во новых займов\n",
    "- Кол-во повторных займов"
   ]
  },
  {
   "cell_type": "markdown",
   "metadata": {},
   "source": [
    "#### 1.1 Групиировка данных о регистарциях"
   ]
  },
  {
   "cell_type": "code",
   "execution_count": null,
   "metadata": {},
   "outputs": [],
   "source": [
    "# добавим в таблицу regs столбцы: date, week, month - день, неделя и месяц регистрации\n",
    "regs['reg_date'] = regs['reg_ts'].astype('datetime64[D]')\n",
    "regs['reg_week'] = regs['reg_ts'].dt.to_period('W').apply(lambda r: r.start_time)\n",
    "regs['reg_month'] = regs['reg_ts'].astype('datetime64[M]')\n",
    "\n",
    "# проверяем\n",
    "regs.head()"
   ]
  },
  {
   "cell_type": "code",
   "execution_count": null,
   "metadata": {},
   "outputs": [],
   "source": [
    "# сгруппируем данные по месяцам, посчитаем общее кол-во регистраци и кол-во успешных регистраций\n",
    "regs_by_month = regs.groupby(by='reg_month').agg({'cid': 'nunique', 'is_reg_complete': 'sum'})\n",
    "regs_by_month.columns = ['total_regs', 'success_regs']\n",
    "\n",
    "# смотрим\n",
    "regs_by_month"
   ]
  },
  {
   "cell_type": "markdown",
   "metadata": {},
   "source": [
    "#### 1.2 Групиировка данных о займах"
   ]
  },
  {
   "cell_type": "code",
   "execution_count": null,
   "metadata": {},
   "outputs": [],
   "source": [
    "# у нас уже есть сгруппированные по месяцам данные о регистрациях, теперь тоже самое нужно сделать с займами\n",
    "# но для начала - добавить в таблицу loans столбцы: date, week, month - день, неделя и месяц регистрации\n",
    "\n",
    "loans['loan_date'] = loans['start_ts'].astype('datetime64[D]')\n",
    "loans['loan_week'] = loans['start_ts'].dt.to_period('W').apply(lambda r: r.start_time)\n",
    "loans['loan_month'] = loans['start_ts'].astype('datetime64[M]')\n",
    "\n",
    "# проверяем\n",
    "loans.head()"
   ]
  },
  {
   "cell_type": "code",
   "execution_count": null,
   "metadata": {},
   "outputs": [],
   "source": [
    "# для начала для каждого юзера найдем месяц первого займа\n",
    "new_loans_by_month = loans.sort_values(by=['cid', 'start_ts']).groupby(by='cid').agg({'loan_month': 'first'}).reset_index()\n",
    "\n",
    "# теперь сгруппируем данные по месяцам и подсчитаем кол-во уникальны займов\n",
    "new_loans_by_month = new_loans_by_month.groupby(by='loan_month').agg({'cid': 'count'})\n",
    "new_loans_by_month.columns = ['new_loans']\n",
    "\n",
    "# проверяем\n",
    "new_loans_by_month"
   ]
  },
  {
   "cell_type": "code",
   "execution_count": null,
   "metadata": {},
   "outputs": [],
   "source": [
    "# теперь посчитаем общее кол-во займов по месяцам\n",
    "total_loans_by_month = loans.groupby(by='loan_month').agg({'cid': 'count'})\n",
    "total_loans_by_month.columns = ['total_loans']\n",
    "\n",
    "# проверяем\n",
    "total_loans_by_month"
   ]
  },
  {
   "cell_type": "code",
   "execution_count": null,
   "metadata": {},
   "outputs": [],
   "source": [
    "# объеденим таблицы total_loans_by_month и new_loans_by_month\n",
    "loans_by_month = pd.merge(total_loans_by_month, new_loans_by_month, on='loan_month')\n",
    "\n",
    "# рассчитаем кол-во повторных займов\n",
    "loans_by_month['repeated_loans'] = loans_by_month['total_loans'] - loans_by_month['new_loans']\n",
    "\n",
    "# проверяем\n",
    "loans_by_month"
   ]
  },
  {
   "cell_type": "markdown",
   "metadata": {},
   "source": [
    "#### 1.3 Объеденение данных в одну таблицу"
   ]
  },
  {
   "cell_type": "code",
   "execution_count": null,
   "metadata": {},
   "outputs": [],
   "source": [
    "total_grouped_data = pd.merge(regs_by_month, loans_by_month, left_index=True, right_index=True)\n",
    "\n",
    "total_grouped_data"
   ]
  },
  {
   "cell_type": "markdown",
   "metadata": {},
   "source": [
    "#### 1.4 Графики"
   ]
  },
  {
   "cell_type": "code",
   "execution_count": null,
   "metadata": {},
   "outputs": [],
   "source": [
    "# построим график динамики регистраций по месяцам\n",
    "total_grouped_data[['total_regs', 'success_regs']].plot(figsize=(13, 9), grid=True);\n",
    "plt.xlabel('Месяц');\n",
    "plt.ylabel('Количество');"
   ]
  },
  {
   "cell_type": "code",
   "execution_count": null,
   "metadata": {},
   "outputs": [],
   "source": [
    "# а также ихучим конверсию из всех регистраций в успешные\n",
    "(total_grouped_data['success_regs'] / total_grouped_data['total_regs']).plot(figsize=(13, 9), grid=True);\n",
    "plt.xlabel('Месяц');\n",
    "plt.ylabel('CR% успешной регистрации');"
   ]
  },
  {
   "cell_type": "markdown",
   "metadata": {},
   "source": [
    "<div class=\"alert alert-block alert-success\">\n",
    "<b>Вывод:</b>\n",
    "    <ul>\n",
    "        <li>количетсво регистраций (всех/успешных) стабильно сокращалось с апрелья 2019 года\n",
    "        <li>при этом конверсия в успешную регистрацию за этот же период показала стабильный рост и достигла порядка 70%\n",
    "    </ul>\n",
    "</div>"
   ]
  },
  {
   "cell_type": "code",
   "execution_count": null,
   "metadata": {},
   "outputs": [],
   "source": [
    "# теперь на одном графике сравним динамику успешных регистраций и новых займов\n",
    "total_grouped_data[['success_regs', 'new_loans']].plot(figsize=(13, 9), grid=True);\n",
    "plt.xlabel('Месяц');\n",
    "plt.ylabel('Количество');"
   ]
  },
  {
   "cell_type": "code",
   "execution_count": null,
   "metadata": {},
   "outputs": [],
   "source": [
    "# а также посмотрим на конверсию в динамике\n",
    "(total_grouped_data['new_loans'] / total_grouped_data['success_regs']).plot(figsize=(13, 9), grid=True);\n",
    "plt.xlabel('Месяц');\n",
    "plt.ylabel('CR% в новый займ из успешной регистрации');"
   ]
  },
  {
   "cell_type": "markdown",
   "metadata": {},
   "source": [
    "<div class=\"alert alert-block alert-success\">\n",
    "<b>Вывод:</b>\n",
    "    <ul>\n",
    "        <li>при стабильном сокращении успешных регистраций кол-во новых займов осталось практически на том же уровне\n",
    "        <li>можно констатировать, что произошло это в первую очередь за счет роста конверсии в новый заем с 15% до 25%\n",
    "        <li>однако это общие данные, которые состаят из различных источников трафика в тч высококонверсионной органики (в тч брендовой). Судя по данным из affise CPA канал в августе имел CR = 17%\n",
    "    </ul>\n",
    "</div>"
   ]
  },
  {
   "cell_type": "code",
   "execution_count": null,
   "metadata": {},
   "outputs": [],
   "source": [
    "# посмотрим на долю потворных займов в динамике\n",
    "total_grouped_data[['total_loans', 'new_loans', 'repeated_loans']].plot(figsize=(13, 9), grid=True);\n",
    "plt.xlabel('Месяц');\n",
    "plt.ylabel('Количество выданных займов');"
   ]
  },
  {
   "cell_type": "markdown",
   "metadata": {},
   "source": [
    "<div class=\"alert alert-block alert-success\">\n",
    "<b>Вывод:</b>\n",
    "    <ul>\n",
    "        <li>ближе к концу анализируемого периода наблюдается рост общего количества выданных займов\n",
    "        <li>происходит это за счет роста повторных выдач. Это хороший для нас показатель\n",
    "        <li>доля вопвторных займов колеблется в диапазоне 60%-70%\n",
    "    </ul>\n",
    "</div>"
   ]
  },
  {
   "cell_type": "markdown",
   "metadata": {},
   "source": [
    "### 2. Сколько времени проходит с момента начала регистрации до оформления первого займа"
   ]
  },
  {
   "cell_type": "code",
   "execution_count": null,
   "metadata": {},
   "outputs": [],
   "source": [
    "# для начала из таблицы loans нам нужно получить для каждого юзера данные о его первом займе\n",
    "first_loan_ts = loans.sort_values(by=['cid', 'start_ts']).groupby(by='cid').agg({'start_ts': 'first'}).reset_index()\n",
    "first_loan_ts.columns=['cid', 'start_loan']\n",
    "\n",
    "# проверяем\n",
    "first_loan_ts.head()"
   ]
  },
  {
   "cell_type": "code",
   "execution_count": null,
   "metadata": {},
   "outputs": [],
   "source": [
    "# теперь добавим эти данные в таблицу с регистрациями\n",
    "time_to_loan = pd.merge(regs, first_loan_ts, how='left', on='cid')\n",
    "\n",
    "# посмотрим на случайные 20 записей из получившейся таблицы\n",
    "time_to_loan.sample(20)"
   ]
  },
  {
   "cell_type": "markdown",
   "metadata": {},
   "source": [
    "<div class=\"alert alert-block alert-info\">\n",
    "<b>Важно:</b> во многих строках столбца start_loan появились значения NaT. Это говорит о том, что клиент начал регистрацию, но в итоге ни одного займа не получил. Избавимся от этих строк</div>"
   ]
  },
  {
   "cell_type": "code",
   "execution_count": null,
   "metadata": {},
   "outputs": [],
   "source": [
    "# удаляем лишние строки\n",
    "time_to_loan.dropna(subset=['start_loan'], inplace=True)"
   ]
  },
  {
   "cell_type": "code",
   "execution_count": null,
   "metadata": {},
   "outputs": [],
   "source": [
    "# добавим в таблицу новый столбец с кол-во дней с начала регистрации до первого займа\n",
    "time_to_loan['days_to_loan'] = (time_to_loan['start_loan'] - time_to_loan['reg_ts']).dt.days\n",
    "\n",
    "time_to_loan.sample(10)"
   ]
  },
  {
   "cell_type": "code",
   "execution_count": null,
   "metadata": {},
   "outputs": [],
   "source": [
    "# построим гистограмму\n",
    "time_to_loan['days_to_loan'].hist(figsize=(13, 9), bins=100);"
   ]
  },
  {
   "cell_type": "code",
   "execution_count": null,
   "metadata": {},
   "outputs": [],
   "source": [
    "# львиная доля значений лежит в диапазоне от 0 до 30 дней, ограничим гистограмму этими значениями\n",
    "time_to_loan['days_to_loan'].hist(figsize=(13, 9), bins=30, range=(0, 30));"
   ]
  },
  {
   "cell_type": "code",
   "execution_count": null,
   "metadata": {},
   "outputs": [],
   "source": [
    "# посмотрим на ТОП10 значений\n",
    "time_to_loan['days_to_loan'].value_counts().head(10)"
   ]
  },
  {
   "cell_type": "markdown",
   "metadata": {},
   "source": [
    "<div class=\"alert alert-block alert-success\">\n",
    "<b>Вывод:</b>\n",
    "    <ul>\n",
    "        <li>львиная доля клиентов получают свой первый заем в день регистрации\n",
    "        <li>кол-во выдач на следующий день относительно большое, но это в т.ч. может быть связано с займами, которые оформляются в вечернее время и выдаются уже на следующий день\n",
    "        <li>есть небольшой скачок на 32 день. Скорее всего это связано с разблокировкой спустя 30 дней\n",
    "        <li>чем дальше от времени регистрации тем меньше шанс, что клиент оформит свой первый заем\n",
    "        <li>в качестве рекомендации - нужно стараться максимально быстро конвертировать регистрацию в первый заем\n",
    "    </ul>\n",
    "</div>"
   ]
  },
  {
   "cell_type": "markdown",
   "metadata": {},
   "source": [
    "### 3. Исследвание срока займа (план, факт) + динамика по месяцам"
   ]
  },
  {
   "cell_type": "markdown",
   "metadata": {},
   "source": [
    "#### 3.1 Запрашиваемые и фактические значения займов"
   ]
  },
  {
   "cell_type": "code",
   "execution_count": null,
   "metadata": {},
   "outputs": [],
   "source": [
    "# рассчитаем фактический срок пользования деньгами\n",
    "loans['real_term'] = (loans['end_ts'] - loans['start_ts']).dt.days\n",
    "\n",
    "# удалим пустые значения т.к. нам нужны только те займы, которые уже погашены и сохраним данные в отдельный датафрейм\n",
    "real_term = loans.query('real_term.notna()')\n",
    "real_term['real_term'] = real_term['real_term'].astype('int')\n",
    "\n",
    "# проверим на выборке\n",
    "real_term.sample(10)"
   ]
  },
  {
   "cell_type": "code",
   "execution_count": null,
   "metadata": {},
   "outputs": [],
   "source": [
    "# сравним сумму дней из запросов пользователей с суммой фактических дней пользования кредитом\n",
    "print(f'Всего займов было оформлено на {real_term[\"term\"].sum():,} дня(ей)')\n",
    "print(f'Фактически с учетом досрочных погашений и просрочек деньгами пользовались {real_term[\"real_term\"].sum():,} дня(ей)')"
   ]
  },
  {
   "cell_type": "markdown",
   "metadata": {},
   "source": [
    "<div class=\"alert alert-block alert-success\">\n",
    "<b>Вывод:</b>\n",
    "    <ul>\n",
    "        <li> Суммарный фактичесий срок пользования деньгами на 10,5% (или 862,699 дней) больше, чем все суммарные запрошенные значения. Это даже с учетом займов, которые погашаются досрочно (спойлер: их достаточно много)\n",
    "    </ul>\n",
    "</div>"
   ]
  },
  {
   "cell_type": "code",
   "execution_count": null,
   "metadata": {},
   "outputs": [],
   "source": [
    "# распределение запрашиваемых сроков займов\n",
    "display(real_term['term'].describe())\n",
    "real_term['term'].hist(bins=100, figsize=(13, 9));"
   ]
  },
  {
   "cell_type": "markdown",
   "metadata": {},
   "source": [
    "#### 3.2 Распределение показателей, среднее значение, медиана, мода"
   ]
  },
  {
   "cell_type": "code",
   "execution_count": null,
   "metadata": {},
   "outputs": [],
   "source": [
    "# распределение фактических сроков пользования займом\n",
    "display(real_term['real_term'].describe())\n",
    "real_term['real_term'].hist(bins=100, figsize=(13, 9));"
   ]
  },
  {
   "cell_type": "code",
   "execution_count": null,
   "metadata": {},
   "outputs": [],
   "source": [
    "# ТОП5 запрашиваемых сроков\n",
    "real_term['term'].value_counts().head()"
   ]
  },
  {
   "cell_type": "code",
   "execution_count": null,
   "metadata": {},
   "outputs": [],
   "source": [
    "# ТОП5 фактических сроков\n",
    "real_term['real_term'].value_counts().head()"
   ]
  },
  {
   "cell_type": "markdown",
   "metadata": {},
   "source": [
    "<div class=\"alert alert-block alert-success\">\n",
    "<b>Вывод:</b>\n",
    "    <ul>\n",
    "        <li>графики распределения отличаются очень сильно. Это говорит о том, что то, как люди планируют возвращать деньги и то, как они их возвращают - это разные значения\n",
    "        <li>также на распределение оказывает влияение то, что запрашиваемый срок займа строго ограничен\n",
    "        <li>среднее значение фактического пользования займом = 32.66 дня, средний запрашиваемый срок = 29.55 дня\n",
    "        <li>медианное значение больше уже у запрашиваемых показателй - 30 дней против 20 дней. Т.е. 50% займов закрываются в срок до 20 дней\n",
    "        <li>в ТОП5 значений фактического пользования займами есть 2 не очень хороших значения - это 0 день (погашение в день получения займа) и 1 (погашение на следующий день)\n",
    "        <li>25% займов погашаются до 8 дней, 50% до 20 дней, 75% до 42 дней. Над этими показателями стоило бы поработать\n",
    "    </ul>\n",
    "</div>"
   ]
  },
  {
   "cell_type": "markdown",
   "metadata": {},
   "source": [
    "#### 3.3 Динамка планового и фактического срока пользования деньгами"
   ]
  },
  {
   "cell_type": "code",
   "execution_count": null,
   "metadata": {},
   "outputs": [],
   "source": [
    "real_term.groupby('loan_month').agg({'term': 'mean', 'real_term': 'mean'}).plot(kind='bar', figsize=(13, 9), grid=True);"
   ]
  },
  {
   "cell_type": "markdown",
   "metadata": {},
   "source": [
    "<div class=\"alert alert-block alert-success\">\n",
    "<b>Вывод:</b>\n",
    "    <ul>\n",
    "        <li>весь 2019 год средний срок пользовния деньгами показывал положительную динамику\n",
    "        <li>в этот же период мы видим значительно большой рост факт.пользования отностилеьно плана\n",
    "        <li>начиная с июля график идет вниз, но это скорее всего связано с тем, что часть клиентов из просрочки еще не вернули деньги (но согласно статистике обязательно вернут) либо доля досрочных погашений выросла\n",
    "        <li>в дальнейшем посомотрим еще на эти показатели в когортах\n",
    "    </ul>\n",
    "</div>"
   ]
  },
  {
   "cell_type": "markdown",
   "metadata": {},
   "source": [
    "### 4. Категоризация займов по реальному сроку пользования деньгами"
   ]
  },
  {
   "cell_type": "code",
   "execution_count": null,
   "metadata": {},
   "outputs": [],
   "source": [
    "# созданим функцию категоризации срока закрытия займа\n",
    "def set_term_category(row):\n",
    "    if row['real_term'] == row['term']:\n",
    "        return 'В срок'\n",
    "    elif row['real_term'] < row['term']:\n",
    "        return 'Досрочно'\n",
    "    elif row['real_term'] > row['term']:\n",
    "        return 'С просрочкой'\n",
    "    return 'Не закрыт'"
   ]
  },
  {
   "cell_type": "code",
   "execution_count": null,
   "metadata": {},
   "outputs": [],
   "source": [
    "# применяем функцию\n",
    "loans['term_category'] = loans.apply(set_term_category, axis=1)\n",
    "\n",
    "# проверяем\n",
    "loans.sample(10)"
   ]
  },
  {
   "cell_type": "code",
   "execution_count": null,
   "metadata": {},
   "outputs": [],
   "source": [
    "# построим круговую диаграмму для визуализации разделения займов по типам погашения\n",
    "loans.groupby('term_category').agg({'cid': 'count'}).plot(kind='pie', subplots=True, figsize=(10, 10), autopct='%1.1f%%');"
   ]
  },
  {
   "cell_type": "code",
   "execution_count": null,
   "metadata": {},
   "outputs": [],
   "source": [
    "# та же диаграмма, но без статуса \"Не закрыт\"\n",
    "loans.query('term_category != \"Не закрыт\"')\\\n",
    ".groupby('term_category').agg({'cid': 'count'}).plot(kind='pie', subplots=True, figsize=(10, 10), autopct='%1.1f%%');"
   ]
  },
  {
   "cell_type": "markdown",
   "metadata": {},
   "source": [
    "<div class=\"alert alert-block alert-success\">\n",
    "<b>Вывод:</b>\n",
    "    <ul>\n",
    "        <li>27.4% не закрытых займов - цифра немного преувеличенная т.к. чем ближе анализируемый месяц к текущему - тем больше % невозвратов и наоборот.\n",
    "        <li>Если анализировать уже закрытые займы - 55.6% досрочно закрытых займов это большая цифра. И это как раз точка роста\n",
    "    </ul>\n",
    "</div>"
   ]
  },
  {
   "cell_type": "markdown",
   "metadata": {},
   "source": [
    "### 4. Исследование суммы займов"
   ]
  },
  {
   "cell_type": "markdown",
   "metadata": {},
   "source": [
    "#### 4.1 Базовые данные о сумме займов"
   ]
  },
  {
   "cell_type": "code",
   "execution_count": null,
   "metadata": {},
   "outputs": [],
   "source": [
    "print(f'Суммарные выдачи за анализируемый период составили {loans[\"value\"].sum():,} рублей')"
   ]
  },
  {
   "cell_type": "code",
   "execution_count": null,
   "metadata": {},
   "outputs": [],
   "source": [
    "# посмотрим на среднее, медиану, квартили и другие значения\n",
    "loans['value'].describe()"
   ]
  },
  {
   "cell_type": "code",
   "execution_count": null,
   "metadata": {},
   "outputs": [],
   "source": [
    "# TOP10 частотность\n",
    "loans['value'].value_counts().head(10)"
   ]
  },
  {
   "cell_type": "code",
   "execution_count": null,
   "metadata": {},
   "outputs": [],
   "source": [
    "# посмотрим на распределение\n",
    "loans['value'].hist(figsize=(13, 9), bins=80);"
   ]
  },
  {
   "cell_type": "markdown",
   "metadata": {},
   "source": [
    "<div class=\"alert alert-block alert-success\">\n",
    "<b>Вывод:</b>\n",
    "    <ul>\n",
    "        <li>общая сумма выданных средств за анализируемый период 3 683 503 741 рубля\n",
    "        <li>средняя выдача - 9648 рублей\n",
    "        <li>первый-третий квартили: 4500, 8000, 12000. Это значит, что 25% займов оформляются на сумму, меньше 4500р, 50% займов на сумму до 8000 и 75% займов на сумму до 12000 рублей.\n",
    "        <li>чаще всего берут займ на 8000 рублей (28526 раз)\n",
    "        <li>в ТОП10 значений по частоте 7 значений меньше 10000 рублей\n",
    "    </ul>\n",
    "</div>"
   ]
  },
  {
   "cell_type": "markdown",
   "metadata": {},
   "source": [
    "#### 4.2 Динамика измениня средней суммы займа"
   ]
  },
  {
   "cell_type": "code",
   "execution_count": null,
   "metadata": {},
   "outputs": [],
   "source": [
    "# группируем данные по месяцам, для каждого месяца считаем суммарный объем займов и количество займов\n",
    "avg_loan_value = loans.groupby('loan_month').agg({'value': 'sum', 'cid': 'count'})\n",
    "\n",
    "# переименуюем столбцы\n",
    "avg_loan_value.columns=['total_value', 'total_loans']\n",
    "\n",
    "# посчитаем средний чек\n",
    "avg_loan_value['avg_loan_value'] = (avg_loan_value['total_value'] / avg_loan_value['total_loans']).astype('int')\n",
    "\n",
    "avg_loan_value"
   ]
  },
  {
   "cell_type": "code",
   "execution_count": null,
   "metadata": {},
   "outputs": [],
   "source": [
    "# посмотрим на чек в динамике\n",
    "avg_loan_value['avg_loan_value'].plot(figsize=(13, 9), grid=True);"
   ]
  },
  {
   "cell_type": "code",
   "execution_count": null,
   "metadata": {},
   "outputs": [],
   "source": [
    "print(f'Минимальное занчение {avg_loan_value[\"avg_loan_value\"].min()} рубл.')\n",
    "print(f'Максимальное занчение {avg_loan_value[\"avg_loan_value\"].max()} руб.')"
   ]
  },
  {
   "cell_type": "markdown",
   "metadata": {},
   "source": [
    "<div class=\"alert alert-block alert-success\">\n",
    "<b>Вывод:</b>\n",
    "    <ul>\n",
    "        <li>мин-макс средние значения находятся в диапазоне от 8154 руб до 10672 руб\n",
    "        <li>не прослеживается какой-либо тренд на рост-падение, есть только периодические колебания на 10-20%\n",
    "    </ul>\n",
    "</div>"
   ]
  },
  {
   "cell_type": "markdown",
   "metadata": {},
   "source": [
    "### 5. Когортный анализ"
   ]
  },
  {
   "cell_type": "markdown",
   "metadata": {},
   "source": [
    "#### 5.1 Ретеншен"
   ]
  },
  {
   "cell_type": "code",
   "execution_count": null,
   "metadata": {},
   "outputs": [],
   "source": [
    "# для начала нам нужно выделить в отдельную таблицу месяц первого займа для каждого пользователя\n",
    "loan_first_month = loans.sort_values(by=['cid', 'loan_month']).groupby(by='cid').agg({'loan_month': 'first'}).reset_index()\n",
    "\n",
    "# переименуем столбцы\n",
    "loan_first_month.columns = ['cid', 'loan_first_month']\n",
    "\n",
    "# смотрим на результат\n",
    "loan_first_month"
   ]
  },
  {
   "cell_type": "code",
   "execution_count": null,
   "metadata": {},
   "outputs": [],
   "source": [
    "# объеденим таблицы loans vs loan_first_month\n",
    "loans = pd.merge(loans, loan_first_month, on='cid')\n",
    "\n",
    "# добавим в таблицу столбец cohort_lifetime, который указывает на срок жизни когорты в месяцах\n",
    "loans['cohort_lifetime'] =((loans['loan_month'] - loans['loan_first_month']) / np.timedelta64(1,'M'))\\\n",
    ".round().astype('int')\n",
    "\n",
    "# смотрим на результат\n",
    "loans.head()"
   ]
  },
  {
   "cell_type": "code",
   "execution_count": null,
   "metadata": {},
   "outputs": [],
   "source": [
    "# создадим новую таблицу retention и сгруппируем в нее данные из таблицы loans\n",
    "retention = loans.groupby(['loan_first_month', 'cohort_lifetime']).agg({'cid': 'nunique'}).reset_index()\n",
    "\n",
    "# переименуем колонки\n",
    "retention.columns = ['loan_first_month', 'cohort_lifetime', 'active_users']\n",
    "\n",
    "# смотрим результат\n",
    "retention"
   ]
  },
  {
   "cell_type": "code",
   "execution_count": null,
   "metadata": {},
   "outputs": [],
   "source": [
    "# теперь в отдельной таблице сохраним пользователей нулевой когорты\n",
    "initial_users = retention[retention['cohort_lifetime'] == 0][['loan_first_month', 'active_users']]\n",
    "\n",
    "# переименуем столбцы\n",
    "initial_users.columns = ['loan_first_month', 'initial_users']\n",
    "\n",
    "# смотрим результат\n",
    "initial_users"
   ]
  },
  {
   "cell_type": "code",
   "execution_count": null,
   "metadata": {},
   "outputs": [],
   "source": [
    "# добавим в таблицу retention столбец initial_users из таблицы initial_users\n",
    "retention = pd.merge(retention, initial_users, on='loan_first_month')\n",
    "\n",
    "# рассчитаем retention_rate\n",
    "retention['retention_rate'] = retention['active_users'] / retention['initial_users']\n",
    "\n",
    "# смотрим финальную таблицу\n",
    "retention.head()"
   ]
  },
  {
   "cell_type": "code",
   "execution_count": null,
   "metadata": {},
   "outputs": [],
   "source": [
    "# группируем все в сводную таблицу\n",
    "retention_pivot = retention.pivot_table(index='loan_first_month', columns='cohort_lifetime', \n",
    "                                        values='retention_rate', aggfunc='sum')"
   ]
  },
  {
   "cell_type": "code",
   "execution_count": null,
   "metadata": {},
   "outputs": [],
   "source": [
    "# Наведем немного крастоты\n",
    "plt.figure(figsize=(26, 18))\n",
    "plt.title('Cohorts: User Retention')\n",
    "sns.heatmap(retention_pivot, annot=True, fmt='.1%', linewidths=1, \n",
    "            linecolor='grey', cmap='coolwarm', vmax=0.4, vmin=0.025);"
   ]
  },
  {
   "cell_type": "markdown",
   "metadata": {},
   "source": [
    "<div class=\"alert alert-block alert-success\">\n",
    "<b>Вывод:</b>\n",
    "    <ul>\n",
    "        <li>в начале и середине 2019 года мы видим достаточно хороший ретеншен в месяцах 0-1-2\n",
    "        <li>затем, примерно в авгуте 2019 показатели стали ухудшаться и ретеншен 1 месяца опустился до 20%, а затем и вовсе до 15%\n",
    "        <li>однако сейчас снова наблюдается рост, начиная с мая 2020\n",
    "    </ul>\n",
    "</div>"
   ]
  },
  {
   "cell_type": "markdown",
   "metadata": {},
   "source": [
    "#### 5.2 Среднее кол-во займов"
   ]
  },
  {
   "cell_type": "code",
   "execution_count": null,
   "metadata": {},
   "outputs": [],
   "source": [
    "avg_loan_amount = loans.groupby(['loan_first_month', 'cohort_lifetime']).agg({'cid': 'count'}).reset_index()\n",
    "avg_loan_amount.rename(columns={'cid': 'cumsum_loans'}, inplace=True)\n",
    "avg_loan_amount = pd.merge(avg_loan_amount, initial_users, on='loan_first_month')\n",
    "avg_loan_amount['avg_loans'] = (avg_loan_amount['cumsum_loans'] / avg_loan_amount['initial_users']).round(2)\n",
    "\n",
    "avg_loan_amount.head()"
   ]
  },
  {
   "cell_type": "code",
   "execution_count": null,
   "metadata": {},
   "outputs": [],
   "source": [
    "avg_loan_pivot = avg_loan_amount.pivot_table(index='loan_first_month', columns='cohort_lifetime', values='avg_loans', aggfunc='mean').cumsum(axis=1)"
   ]
  },
  {
   "cell_type": "code",
   "execution_count": null,
   "metadata": {
    "scrolled": false
   },
   "outputs": [],
   "source": [
    "# Наведем немного крастоты\n",
    "plt.figure(figsize=(26, 18))\n",
    "plt.title('Cohorts: Avg. Loans Cumsum')\n",
    "sns.heatmap(avg_loan_pivot, annot=True, fmt='.3', linewidths=1, \n",
    "            linecolor='grey', cmap='coolwarm', vmin=0.6, vmax=2.6);"
   ]
  },
  {
   "cell_type": "markdown",
   "metadata": {},
   "source": [
    "#### 5.3 ARPU (Average Revenue per User)\n",
    "то, что Даша называет LTV"
   ]
  },
  {
   "cell_type": "code",
   "execution_count": null,
   "metadata": {},
   "outputs": [],
   "source": [
    "arpu = loans.groupby(['loan_first_month', 'cohort_lifetime']).agg({'value': 'sum'}).reset_index()\n",
    "arpu = pd.merge(arpu, initial_users, on='loan_first_month')\n",
    "arpu['arpu'] = ((arpu['value'] / arpu['initial_users'])/1000).round(2)\n",
    "\n",
    "arpu.head()"
   ]
  },
  {
   "cell_type": "code",
   "execution_count": null,
   "metadata": {},
   "outputs": [],
   "source": [
    "arpu_pivot = arpu.pivot_table(index='loan_first_month', columns='cohort_lifetime', \n",
    "                              values='arpu', aggfunc='mean').cumsum(axis=1)"
   ]
  },
  {
   "cell_type": "code",
   "execution_count": null,
   "metadata": {},
   "outputs": [],
   "source": [
    "# Наведем немного крастоты\n",
    "plt.figure(figsize=(26, 18))\n",
    "plt.title('Cohorts: ARPU')\n",
    "sns.heatmap(arpu_pivot, annot=True, fmt='.3', linewidths=1, \n",
    "            linecolor='grey', cmap='coolwarm');"
   ]
  },
  {
   "cell_type": "markdown",
   "metadata": {},
   "source": [
    "#### 5.4 Средняя сумма займа в конкретный месяц\n",
    "почему с ростом lifetime \"чек\" не растет?"
   ]
  },
  {
   "cell_type": "code",
   "execution_count": null,
   "metadata": {},
   "outputs": [],
   "source": [
    "avg_loan_value = loans.groupby(['loan_first_month', 'cohort_lifetime']).agg({'value': 'sum', 'cid': 'count'}).reset_index()\n",
    "avg_loan_value['avg_loan_value'] = ((avg_loan_value['value'] / avg_loan_value['cid'])/1000).round(2)\n",
    "\n",
    "avg_loan_value.head()"
   ]
  },
  {
   "cell_type": "code",
   "execution_count": null,
   "metadata": {},
   "outputs": [],
   "source": [
    "avg_loan_value_pivot = avg_loan_value.pivot_table(index='loan_first_month', columns='cohort_lifetime', \n",
    "                              values='avg_loan_value', aggfunc='mean')"
   ]
  },
  {
   "cell_type": "code",
   "execution_count": null,
   "metadata": {},
   "outputs": [],
   "source": [
    "# Наведем немного крастоты\n",
    "plt.figure(figsize=(26, 18))\n",
    "plt.title('Cohorts: Loan Value')\n",
    "sns.heatmap(avg_loan_value_pivot, annot=True, fmt='.3', linewidths=1, \n",
    "            linecolor='grey', cmap='coolwarm', vmin=9, vmax=11.5);"
   ]
  },
  {
   "cell_type": "markdown",
   "metadata": {},
   "source": [
    "#### 5.4 Средняя сумма займа накопительным итогом"
   ]
  },
  {
   "cell_type": "code",
   "execution_count": null,
   "metadata": {},
   "outputs": [],
   "source": [
    "avg_cumsum_loan_value = loans.groupby(['loan_first_month', 'cohort_lifetime']).agg({'value': 'sum', 'cid': 'count'})\\\n",
    ".groupby(level=0).cumsum().reset_index()\n",
    "avg_cumsum_loan_value.rename(columns={'value': 'cumsum_value', 'cid': 'cumsum_loans'}, inplace=True)\n",
    "avg_cumsum_loan_value['avg_cumsum_loan_value'] = ((avg_cumsum_loan_value['cumsum_value'] / avg_cumsum_loan_value['cumsum_loans'])/1000).round(2)\n",
    "\n",
    "avg_cumsum_loan_value.head()"
   ]
  },
  {
   "cell_type": "code",
   "execution_count": null,
   "metadata": {},
   "outputs": [],
   "source": [
    "avg_cumsum_loan_pivot = avg_cumsum_loan_value.pivot_table(index='loan_first_month', columns='cohort_lifetime', \n",
    "                              values='avg_cumsum_loan_value', aggfunc='mean')"
   ]
  },
  {
   "cell_type": "code",
   "execution_count": null,
   "metadata": {},
   "outputs": [],
   "source": [
    "# Наведем немного крастоты\n",
    "plt.figure(figsize=(26, 18))\n",
    "plt.title('Cohorts: Loan Value')\n",
    "sns.heatmap(avg_cumsum_loan_pivot, annot=True, fmt='.3', linewidths=1, \n",
    "            linecolor='grey', cmap='coolwarm', vmin=9, vmax=10.1);"
   ]
  },
  {
   "cell_type": "markdown",
   "metadata": {},
   "source": [
    "#### 5.5 Оборотка нарастающим итогом"
   ]
  },
  {
   "cell_type": "code",
   "execution_count": null,
   "metadata": {},
   "outputs": [],
   "source": [
    "cumsum_value = loans.groupby(['loan_first_month', 'cohort_lifetime']).agg({'value': 'sum', }).reset_index()\n",
    "cumsum_value['value'] = (cumsum_value['value'] / 10000000).round(2)\n",
    "\n",
    "cumsum_value"
   ]
  },
  {
   "cell_type": "code",
   "execution_count": null,
   "metadata": {},
   "outputs": [],
   "source": [
    "initial_value = cumsum_value[cumsum_value['cohort_lifetime'] == 0][['loan_first_month', 'value']]\n",
    "initial_value.columns=['loan_first_month', 'initial_value']\n",
    "initial_value"
   ]
  },
  {
   "cell_type": "code",
   "execution_count": null,
   "metadata": {},
   "outputs": [],
   "source": [
    "cumsum_value = pd.merge(cumsum_value, initial_value, on='loan_first_month')\n",
    "cumsum_value['value_gain'] = cumsum_value['value'] / cumsum_value['initial_value']\n",
    "\n",
    "cumsum_value.head(20)"
   ]
  },
  {
   "cell_type": "code",
   "execution_count": null,
   "metadata": {},
   "outputs": [],
   "source": [
    "cumsum_value_pivot = cumsum_value.pivot_table(index='loan_first_month', columns='cohort_lifetime', \n",
    "                         values='value_gain', aggfunc='mean').cumsum(axis=1)"
   ]
  },
  {
   "cell_type": "code",
   "execution_count": null,
   "metadata": {},
   "outputs": [],
   "source": [
    "# Наведем немного крастоты\n",
    "plt.figure(figsize=(26, 18))\n",
    "plt.title('Cohorts: User Retention')\n",
    "sns.heatmap(cumsum_value_pivot, annot=True, fmt='.3', linewidths=1, \n",
    "            linecolor='grey', cmap='coolwarm', vmax=2.5);"
   ]
  },
  {
   "cell_type": "code",
   "execution_count": null,
   "metadata": {},
   "outputs": [],
   "source": [
    "loans['end_month'] = loans['end_ts'].astype('datetime64[M]')\n",
    "loans.head()"
   ]
  },
  {
   "cell_type": "code",
   "execution_count": null,
   "metadata": {},
   "outputs": [],
   "source": [
    "get_loans = loans.groupby(['loan_first_month', 'cohort_lifetime']).agg({'cid': 'count'}).groupby(level=0).cumsum().reset_index()\n",
    "get_loans.rename(columns={'cid': 'get_loans'}, inplace=True)\n",
    "get_loans.head()"
   ]
  },
  {
   "cell_type": "code",
   "execution_count": null,
   "metadata": {},
   "outputs": [],
   "source": [
    "paid_loans = loans.groupby(['loan_first_month', 'end_month']).agg({'cid': 'count'}).groupby(level=0).cumsum().reset_index()\n",
    "paid_loans['cohort_lifetime'] = ((paid_loans['end_month'] - paid_loans['loan_first_month']) / np.timedelta64(1,'M')).round().astype('int')\n",
    "paid_loans.drop(columns='end_month', inplace=True)\n",
    "paid_loans = paid_loans[['loan_first_month', 'cohort_lifetime', 'cid']]\n",
    "paid_loans.rename(columns={'cid': 'paid_loans'}, inplace=True)\n",
    "\n",
    "paid_loans.head()"
   ]
  },
  {
   "cell_type": "code",
   "execution_count": null,
   "metadata": {},
   "outputs": [],
   "source": [
    "output = pd.merge(get_loans, paid_loans, on=['loan_first_month', 'cohort_lifetime'])\n",
    "output['r_rate'] = output['paid_loans'] / output['get_loans']\n",
    "output_pivot = output.pivot_table(index='loan_first_month', columns='cohort_lifetime', values='r_rate')"
   ]
  },
  {
   "cell_type": "code",
   "execution_count": null,
   "metadata": {
    "scrolled": true
   },
   "outputs": [],
   "source": [
    "# Наведем немного крастоты\n",
    "plt.figure(figsize=(26, 18))\n",
    "plt.title('Cohorts: NPL')\n",
    "sns.heatmap(output_pivot, annot=True, fmt='.1%', linewidths=1, \n",
    "            linecolor='grey', cmap='coolwarm', vmin=0.4, vmax=0.78);"
   ]
  }
 ],
 "metadata": {
  "kernelspec": {
   "display_name": "Python 3",
   "language": "python",
   "name": "python3"
  },
  "language_info": {
   "codemirror_mode": {
    "name": "ipython",
    "version": 3
   },
   "file_extension": ".py",
   "mimetype": "text/x-python",
   "name": "python",
   "nbconvert_exporter": "python",
   "pygments_lexer": "ipython3",
   "version": "3.8.6"
  }
 },
 "nbformat": 4,
 "nbformat_minor": 4
}
