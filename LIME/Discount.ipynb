{
 "cells": [
  {
   "cell_type": "code",
   "execution_count": 1,
   "metadata": {},
   "outputs": [],
   "source": [
    "import pandas as pd"
   ]
  },
  {
   "cell_type": "code",
   "execution_count": 2,
   "metadata": {},
   "outputs": [],
   "source": [
    "discount = pd.read_excel('discount.xlsx')"
   ]
  },
  {
   "cell_type": "code",
   "execution_count": 3,
   "metadata": {},
   "outputs": [
    {
     "data": {
      "text/html": [
       "<div>\n",
       "<style scoped>\n",
       "    .dataframe tbody tr th:only-of-type {\n",
       "        vertical-align: middle;\n",
       "    }\n",
       "\n",
       "    .dataframe tbody tr th {\n",
       "        vertical-align: top;\n",
       "    }\n",
       "\n",
       "    .dataframe thead th {\n",
       "        text-align: right;\n",
       "    }\n",
       "</style>\n",
       "<table border=\"1\" class=\"dataframe\">\n",
       "  <thead>\n",
       "    <tr style=\"text-align: right;\">\n",
       "      <th></th>\n",
       "      <th>id клиента</th>\n",
       "      <th>id займа</th>\n",
       "      <th>сумма займа</th>\n",
       "      <th>срок займа</th>\n",
       "      <th>ставка в % по договору</th>\n",
       "      <th>ставка в % с учетом скидки</th>\n",
       "      <th>% скидки (если применялся промокод)</th>\n",
       "      <th>Уровень ПЛ. DisplayLevel</th>\n",
       "      <th>Размер скидки по ПЛ, %</th>\n",
       "    </tr>\n",
       "  </thead>\n",
       "  <tbody>\n",
       "    <tr>\n",
       "      <th>0</th>\n",
       "      <td>3407919</td>\n",
       "      <td>1461721</td>\n",
       "      <td>8700</td>\n",
       "      <td>30</td>\n",
       "      <td>1.00</td>\n",
       "      <td>0.8600</td>\n",
       "      <td>NaN</td>\n",
       "      <td>7.0</td>\n",
       "      <td>0.14</td>\n",
       "    </tr>\n",
       "    <tr>\n",
       "      <th>1</th>\n",
       "      <td>1224622</td>\n",
       "      <td>1461738</td>\n",
       "      <td>13900</td>\n",
       "      <td>30</td>\n",
       "      <td>1.00</td>\n",
       "      <td>0.8000</td>\n",
       "      <td>NaN</td>\n",
       "      <td>10.0</td>\n",
       "      <td>0.20</td>\n",
       "    </tr>\n",
       "    <tr>\n",
       "      <th>2</th>\n",
       "      <td>4624067</td>\n",
       "      <td>1452680</td>\n",
       "      <td>17250</td>\n",
       "      <td>56</td>\n",
       "      <td>0.99</td>\n",
       "      <td>0.8415</td>\n",
       "      <td>0.15</td>\n",
       "      <td>NaN</td>\n",
       "      <td>NaN</td>\n",
       "    </tr>\n",
       "    <tr>\n",
       "      <th>3</th>\n",
       "      <td>4567936</td>\n",
       "      <td>1460449</td>\n",
       "      <td>5000</td>\n",
       "      <td>12</td>\n",
       "      <td>1.00</td>\n",
       "      <td>0.9800</td>\n",
       "      <td>NaN</td>\n",
       "      <td>0.0</td>\n",
       "      <td>0.02</td>\n",
       "    </tr>\n",
       "    <tr>\n",
       "      <th>4</th>\n",
       "      <td>4646053</td>\n",
       "      <td>1470745</td>\n",
       "      <td>3200</td>\n",
       "      <td>39</td>\n",
       "      <td>1.00</td>\n",
       "      <td>1.0000</td>\n",
       "      <td>NaN</td>\n",
       "      <td>NaN</td>\n",
       "      <td>NaN</td>\n",
       "    </tr>\n",
       "  </tbody>\n",
       "</table>\n",
       "</div>"
      ],
      "text/plain": [
       "   id клиента  id займа  сумма займа  срок займа  ставка в % по договору  \\\n",
       "0     3407919   1461721         8700          30                    1.00   \n",
       "1     1224622   1461738        13900          30                    1.00   \n",
       "2     4624067   1452680        17250          56                    0.99   \n",
       "3     4567936   1460449         5000          12                    1.00   \n",
       "4     4646053   1470745         3200          39                    1.00   \n",
       "\n",
       "   ставка в % с учетом скидки  % скидки (если применялся промокод)  \\\n",
       "0                      0.8600                                  NaN   \n",
       "1                      0.8000                                  NaN   \n",
       "2                      0.8415                                 0.15   \n",
       "3                      0.9800                                  NaN   \n",
       "4                      1.0000                                  NaN   \n",
       "\n",
       "   Уровень ПЛ. DisplayLevel  Размер скидки по ПЛ, %  \n",
       "0                       7.0                    0.14  \n",
       "1                      10.0                    0.20  \n",
       "2                       NaN                     NaN  \n",
       "3                       0.0                    0.02  \n",
       "4                       NaN                     NaN  "
      ]
     },
     "execution_count": 3,
     "metadata": {},
     "output_type": "execute_result"
    }
   ],
   "source": [
    "discount.head()"
   ]
  },
  {
   "cell_type": "code",
   "execution_count": null,
   "metadata": {},
   "outputs": [],
   "source": []
  }
 ],
 "metadata": {
  "kernelspec": {
   "display_name": "Python 3",
   "language": "python",
   "name": "python3"
  },
  "language_info": {
   "codemirror_mode": {
    "name": "ipython",
    "version": 3
   },
   "file_extension": ".py",
   "mimetype": "text/x-python",
   "name": "python",
   "nbconvert_exporter": "python",
   "pygments_lexer": "ipython3",
   "version": "3.8.6"
  }
 },
 "nbformat": 4,
 "nbformat_minor": 4
}
