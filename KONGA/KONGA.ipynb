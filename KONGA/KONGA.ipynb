{
 "cells": [
  {
   "cell_type": "code",
   "execution_count": 1,
   "metadata": {},
   "outputs": [],
   "source": [
    "import pandas as pd\n",
    "import numpy as np\n",
    "from matplotlib import pyplot as plt\n",
    "import seaborn as sns\n",
    "from scipy import stats as st\n",
    "import warnings\n",
    "warnings.filterwarnings('ignore')"
   ]
  },
  {
   "cell_type": "markdown",
   "metadata": {},
   "source": [
    "- [x] Предобработка данных\n",
    "- [x] Анализ данных о регистрациях и займах\n",
    "- [x] Сколько времени проходит с момента начала регистрации до оформления первого займа\n",
    "- [x] Срок займа: план-факт + динамика\n",
    "- [x] Категоризация займов по реальному сроку пользования деньгами\n",
    "- [x] Исследование суммы займов\n",
    "- [x] Когортный анализ:\n",
    "    - [x] User Retention\n",
    "    - [x] Ср.кол-во займов нарастающим итогом\n",
    "    - [x] Ср.сумма займа нарастающим итогом\n",
    "    - [x] ARPU\n",
    "    - [x] Ретеншен капитала\n",
    "    - [x] NPL"
   ]
  },
  {
   "cell_type": "markdown",
   "metadata": {},
   "source": [
    "## Чтение данных и объединение таблиц с данными о регистрациях"
   ]
  },
  {
   "cell_type": "code",
   "execution_count": 2,
   "metadata": {},
   "outputs": [],
   "source": [
    "# читаем данные\n",
    "regs = pd.read_excel('regs.xlsx')\n",
    "loans = pd.read_excel('loans.xlsx')"
   ]
  },
  {
   "cell_type": "markdown",
   "metadata": {},
   "source": [
    "## Предобработка данных"
   ]
  },
  {
   "cell_type": "markdown",
   "metadata": {},
   "source": [
    "### Регистрации"
   ]
  },
  {
   "cell_type": "code",
   "execution_count": 3,
   "metadata": {
    "scrolled": true
   },
   "outputs": [
    {
     "name": "stdout",
     "output_type": "stream",
     "text": [
      "<class 'pandas.core.frame.DataFrame'>\n",
      "RangeIndex: 490428 entries, 0 to 490427\n",
      "Data columns (total 4 columns):\n",
      " #   Column           Non-Null Count   Dtype         \n",
      "---  ------           --------------   -----         \n",
      " 0   cid              490428 non-null  int64         \n",
      " 1   uid              490428 non-null  object        \n",
      " 2   ts               490428 non-null  datetime64[ns]\n",
      " 3   is_reg_complete  490428 non-null  int64         \n",
      "dtypes: datetime64[ns](1), int64(2), object(1)\n",
      "memory usage: 15.0+ MB\n"
     ]
    }
   ],
   "source": [
    "# посмотрим на общую информацию\n",
    "regs.info()"
   ]
  },
  {
   "cell_type": "code",
   "execution_count": 4,
   "metadata": {},
   "outputs": [
    {
     "data": {
      "text/html": [
       "<div>\n",
       "<style scoped>\n",
       "    .dataframe tbody tr th:only-of-type {\n",
       "        vertical-align: middle;\n",
       "    }\n",
       "\n",
       "    .dataframe tbody tr th {\n",
       "        vertical-align: top;\n",
       "    }\n",
       "\n",
       "    .dataframe thead th {\n",
       "        text-align: right;\n",
       "    }\n",
       "</style>\n",
       "<table border=\"1\" class=\"dataframe\">\n",
       "  <thead>\n",
       "    <tr style=\"text-align: right;\">\n",
       "      <th></th>\n",
       "      <th>cid</th>\n",
       "      <th>uid</th>\n",
       "      <th>ts</th>\n",
       "      <th>is_reg_complete</th>\n",
       "    </tr>\n",
       "  </thead>\n",
       "  <tbody>\n",
       "    <tr>\n",
       "      <th>26751</th>\n",
       "      <td>1048792</td>\n",
       "      <td>5C63CE11-4388-4553-8097-4D35DDBFACD0</td>\n",
       "      <td>2019-04-15 21:59:47.533</td>\n",
       "      <td>0</td>\n",
       "    </tr>\n",
       "    <tr>\n",
       "      <th>284298</th>\n",
       "      <td>944310</td>\n",
       "      <td>79262958-FFA9-4DF9-95AC-2090F828C529</td>\n",
       "      <td>2019-02-08 10:21:51.533</td>\n",
       "      <td>1</td>\n",
       "    </tr>\n",
       "    <tr>\n",
       "      <th>289453</th>\n",
       "      <td>1421789</td>\n",
       "      <td>4EE56CAD-3975-47E1-B184-FABC723E9F9F</td>\n",
       "      <td>2020-09-23 17:58:04.876</td>\n",
       "      <td>1</td>\n",
       "    </tr>\n",
       "    <tr>\n",
       "      <th>65289</th>\n",
       "      <td>1326549</td>\n",
       "      <td>4A1CE0CE-8622-4C14-9262-3721EE839F08</td>\n",
       "      <td>2020-02-11 23:25:52.434</td>\n",
       "      <td>1</td>\n",
       "    </tr>\n",
       "    <tr>\n",
       "      <th>394785</th>\n",
       "      <td>1177031</td>\n",
       "      <td>D0E208D1-576C-4AE9-8C8F-F1991E0CCB37</td>\n",
       "      <td>2019-07-20 20:38:25.970</td>\n",
       "      <td>1</td>\n",
       "    </tr>\n",
       "  </tbody>\n",
       "</table>\n",
       "</div>"
      ],
      "text/plain": [
       "            cid                                   uid                      ts  \\\n",
       "26751   1048792  5C63CE11-4388-4553-8097-4D35DDBFACD0 2019-04-15 21:59:47.533   \n",
       "284298   944310  79262958-FFA9-4DF9-95AC-2090F828C529 2019-02-08 10:21:51.533   \n",
       "289453  1421789  4EE56CAD-3975-47E1-B184-FABC723E9F9F 2020-09-23 17:58:04.876   \n",
       "65289   1326549  4A1CE0CE-8622-4C14-9262-3721EE839F08 2020-02-11 23:25:52.434   \n",
       "394785  1177031  D0E208D1-576C-4AE9-8C8F-F1991E0CCB37 2019-07-20 20:38:25.970   \n",
       "\n",
       "        is_reg_complete  \n",
       "26751                 0  \n",
       "284298                1  \n",
       "289453                1  \n",
       "65289                 1  \n",
       "394785                1  "
      ]
     },
     "execution_count": 4,
     "metadata": {},
     "output_type": "execute_result"
    }
   ],
   "source": [
    "# изучим срез данных\n",
    "regs.sample(5)"
   ]
  },
  {
   "cell_type": "markdown",
   "metadata": {},
   "source": [
    "<b>cid</b> - id клиента<br>\n",
    "<b>uid</b> - id юзера<br>\n",
    "<b>ts</b> - время начала регистрации<br>\n",
    "<b>is_reg_complete</b> - отметка о завершени регистрации<br>"
   ]
  },
  {
   "cell_type": "code",
   "execution_count": 5,
   "metadata": {},
   "outputs": [
    {
     "data": {
      "text/html": [
       "<div>\n",
       "<style scoped>\n",
       "    .dataframe tbody tr th:only-of-type {\n",
       "        vertical-align: middle;\n",
       "    }\n",
       "\n",
       "    .dataframe tbody tr th {\n",
       "        vertical-align: top;\n",
       "    }\n",
       "\n",
       "    .dataframe thead th {\n",
       "        text-align: right;\n",
       "    }\n",
       "</style>\n",
       "<table border=\"1\" class=\"dataframe\">\n",
       "  <thead>\n",
       "    <tr style=\"text-align: right;\">\n",
       "      <th></th>\n",
       "      <th>cid</th>\n",
       "      <th>reg_ts</th>\n",
       "      <th>is_reg_complete</th>\n",
       "    </tr>\n",
       "  </thead>\n",
       "  <tbody>\n",
       "    <tr>\n",
       "      <th>38414</th>\n",
       "      <td>1129802</td>\n",
       "      <td>2019-06-10</td>\n",
       "      <td>1</td>\n",
       "    </tr>\n",
       "    <tr>\n",
       "      <th>259571</th>\n",
       "      <td>1384382</td>\n",
       "      <td>2020-08-03</td>\n",
       "      <td>1</td>\n",
       "    </tr>\n",
       "    <tr>\n",
       "      <th>32640</th>\n",
       "      <td>1026044</td>\n",
       "      <td>2019-04-02</td>\n",
       "      <td>1</td>\n",
       "    </tr>\n",
       "    <tr>\n",
       "      <th>439370</th>\n",
       "      <td>1040511</td>\n",
       "      <td>2019-04-12</td>\n",
       "      <td>0</td>\n",
       "    </tr>\n",
       "    <tr>\n",
       "      <th>84738</th>\n",
       "      <td>1088489</td>\n",
       "      <td>2019-05-19</td>\n",
       "      <td>1</td>\n",
       "    </tr>\n",
       "  </tbody>\n",
       "</table>\n",
       "</div>"
      ],
      "text/plain": [
       "            cid     reg_ts  is_reg_complete\n",
       "38414   1129802 2019-06-10                1\n",
       "259571  1384382 2020-08-03                1\n",
       "32640   1026044 2019-04-02                1\n",
       "439370  1040511 2019-04-12                0\n",
       "84738   1088489 2019-05-19                1"
      ]
     },
     "execution_count": 5,
     "metadata": {},
     "output_type": "execute_result"
    }
   ],
   "source": [
    "# uid нам не потребуется в анализе, поэтому просто избавимся от лишней информации\n",
    "regs.drop(columns=['uid'], inplace=True)\n",
    "\n",
    "# также приведем к нужному формату данные в ts\n",
    "regs['ts'] = regs['ts'].astype('datetime64[D]')\n",
    "\n",
    "# переименуем также один столбец\n",
    "regs.rename(columns={'ts': 'reg_ts'}, inplace=True)\n",
    "\n",
    "# проверяем\n",
    "regs.sample(5)"
   ]
  },
  {
   "cell_type": "code",
   "execution_count": 6,
   "metadata": {},
   "outputs": [
    {
     "data": {
      "text/plain": [
       "cid                0\n",
       "reg_ts             0\n",
       "is_reg_complete    0\n",
       "dtype: int64"
      ]
     },
     "metadata": {},
     "output_type": "display_data"
    },
    {
     "data": {
      "text/plain": [
       "0"
      ]
     },
     "metadata": {},
     "output_type": "display_data"
    }
   ],
   "source": [
    "# проверим таблицу на наличие пропусков и дубликатов\n",
    "display(regs.isna().sum())\n",
    "display(regs.duplicated().sum())"
   ]
  },
  {
   "cell_type": "markdown",
   "metadata": {},
   "source": [
    "<div class=\"alert alert-block alert-success\">\n",
    "<b>Вывод:</b> пропусков и дублей нет, двигаемся дальше\n",
    "</div>"
   ]
  },
  {
   "cell_type": "markdown",
   "metadata": {},
   "source": [
    "### Займы"
   ]
  },
  {
   "cell_type": "code",
   "execution_count": 7,
   "metadata": {},
   "outputs": [
    {
     "name": "stdout",
     "output_type": "stream",
     "text": [
      "<class 'pandas.core.frame.DataFrame'>\n",
      "RangeIndex: 94419 entries, 0 to 94418\n",
      "Data columns (total 7 columns):\n",
      " #   Column    Non-Null Count  Dtype         \n",
      "---  ------    --------------  -----         \n",
      " 0   cid       94419 non-null  int64         \n",
      " 1   uid       94419 non-null  object        \n",
      " 2   start_ts  86036 non-null  datetime64[ns]\n",
      " 3   value     94419 non-null  float64       \n",
      " 4   term      94419 non-null  int64         \n",
      " 5   status    94419 non-null  object        \n",
      " 6   end_ts    56292 non-null  datetime64[ns]\n",
      "dtypes: datetime64[ns](2), float64(1), int64(2), object(2)\n",
      "memory usage: 5.0+ MB\n"
     ]
    }
   ],
   "source": [
    "# посмотрим на общую информацию\n",
    "loans.info()"
   ]
  },
  {
   "cell_type": "code",
   "execution_count": 8,
   "metadata": {},
   "outputs": [
    {
     "data": {
      "text/html": [
       "<div>\n",
       "<style scoped>\n",
       "    .dataframe tbody tr th:only-of-type {\n",
       "        vertical-align: middle;\n",
       "    }\n",
       "\n",
       "    .dataframe tbody tr th {\n",
       "        vertical-align: top;\n",
       "    }\n",
       "\n",
       "    .dataframe thead th {\n",
       "        text-align: right;\n",
       "    }\n",
       "</style>\n",
       "<table border=\"1\" class=\"dataframe\">\n",
       "  <thead>\n",
       "    <tr style=\"text-align: right;\">\n",
       "      <th></th>\n",
       "      <th>cid</th>\n",
       "      <th>uid</th>\n",
       "      <th>start_ts</th>\n",
       "      <th>value</th>\n",
       "      <th>term</th>\n",
       "      <th>status</th>\n",
       "      <th>end_ts</th>\n",
       "    </tr>\n",
       "  </thead>\n",
       "  <tbody>\n",
       "    <tr>\n",
       "      <th>47796</th>\n",
       "      <td>1205314</td>\n",
       "      <td>02B2F1A0-E8FC-41F9-8AB7-05D44F4657FC</td>\n",
       "      <td>2019-09-12</td>\n",
       "      <td>33300.0</td>\n",
       "      <td>168</td>\n",
       "      <td>Просрочен</td>\n",
       "      <td>NaT</td>\n",
       "    </tr>\n",
       "    <tr>\n",
       "      <th>31588</th>\n",
       "      <td>1120504</td>\n",
       "      <td>08FBC297-28F1-49FC-BF03-28176D928E90</td>\n",
       "      <td>2019-06-10</td>\n",
       "      <td>2140.0</td>\n",
       "      <td>20</td>\n",
       "      <td>Погашен</td>\n",
       "      <td>2019-06-30 23:59:59.999</td>\n",
       "    </tr>\n",
       "    <tr>\n",
       "      <th>9784</th>\n",
       "      <td>933408</td>\n",
       "      <td>129D41E0-43BE-4391-B373-749E3D7EA5CC</td>\n",
       "      <td>2019-03-05</td>\n",
       "      <td>17000.0</td>\n",
       "      <td>30</td>\n",
       "      <td>На цессии</td>\n",
       "      <td>NaT</td>\n",
       "    </tr>\n",
       "    <tr>\n",
       "      <th>25671</th>\n",
       "      <td>1040451</td>\n",
       "      <td>5D98B738-4129-428C-A283-3F03B66D6BFF</td>\n",
       "      <td>2019-05-07</td>\n",
       "      <td>6500.0</td>\n",
       "      <td>30</td>\n",
       "      <td>Погашен</td>\n",
       "      <td>2019-06-20 23:59:59.999</td>\n",
       "    </tr>\n",
       "    <tr>\n",
       "      <th>18171</th>\n",
       "      <td>995090</td>\n",
       "      <td>AB715CC8-1E87-44BB-9A09-7F61E89BE384</td>\n",
       "      <td>2019-03-19</td>\n",
       "      <td>8000.0</td>\n",
       "      <td>27</td>\n",
       "      <td>На цессии</td>\n",
       "      <td>NaT</td>\n",
       "    </tr>\n",
       "  </tbody>\n",
       "</table>\n",
       "</div>"
      ],
      "text/plain": [
       "           cid                                   uid   start_ts    value  \\\n",
       "47796  1205314  02B2F1A0-E8FC-41F9-8AB7-05D44F4657FC 2019-09-12  33300.0   \n",
       "31588  1120504  08FBC297-28F1-49FC-BF03-28176D928E90 2019-06-10   2140.0   \n",
       "9784    933408  129D41E0-43BE-4391-B373-749E3D7EA5CC 2019-03-05  17000.0   \n",
       "25671  1040451  5D98B738-4129-428C-A283-3F03B66D6BFF 2019-05-07   6500.0   \n",
       "18171   995090  AB715CC8-1E87-44BB-9A09-7F61E89BE384 2019-03-19   8000.0   \n",
       "\n",
       "       term     status                  end_ts  \n",
       "47796   168  Просрочен                     NaT  \n",
       "31588    20    Погашен 2019-06-30 23:59:59.999  \n",
       "9784     30  На цессии                     NaT  \n",
       "25671    30    Погашен 2019-06-20 23:59:59.999  \n",
       "18171    27  На цессии                     NaT  "
      ]
     },
     "execution_count": 8,
     "metadata": {},
     "output_type": "execute_result"
    }
   ],
   "source": [
    "# изучим срез данных\n",
    "loans.sample(5)"
   ]
  },
  {
   "cell_type": "markdown",
   "metadata": {},
   "source": [
    "<b>cid</b> - id клиента<br>\n",
    "<b>uid</b> - id юзера<br>\n",
    "<b>start_ts</b> - время получения займа<br>\n",
    "<b>value</b> - сумма<br>\n",
    "<b>term</b> - срок<br>\n",
    "<b>status</b> - статус на текущий момент<br>\n",
    "<b>end_ts</b> - время возврата займа"
   ]
  },
  {
   "cell_type": "code",
   "execution_count": 9,
   "metadata": {},
   "outputs": [
    {
     "data": {
      "text/html": [
       "<div>\n",
       "<style scoped>\n",
       "    .dataframe tbody tr th:only-of-type {\n",
       "        vertical-align: middle;\n",
       "    }\n",
       "\n",
       "    .dataframe tbody tr th {\n",
       "        vertical-align: top;\n",
       "    }\n",
       "\n",
       "    .dataframe thead th {\n",
       "        text-align: right;\n",
       "    }\n",
       "</style>\n",
       "<table border=\"1\" class=\"dataframe\">\n",
       "  <thead>\n",
       "    <tr style=\"text-align: right;\">\n",
       "      <th></th>\n",
       "      <th>cid</th>\n",
       "      <th>start_ts</th>\n",
       "      <th>value</th>\n",
       "      <th>term</th>\n",
       "      <th>status</th>\n",
       "      <th>end_ts</th>\n",
       "    </tr>\n",
       "  </thead>\n",
       "  <tbody>\n",
       "    <tr>\n",
       "      <th>81715</th>\n",
       "      <td>1407874</td>\n",
       "      <td>2020-09-04</td>\n",
       "      <td>10000.0</td>\n",
       "      <td>10</td>\n",
       "      <td>Погашен</td>\n",
       "      <td>2020-09-10</td>\n",
       "    </tr>\n",
       "    <tr>\n",
       "      <th>54879</th>\n",
       "      <td>923581</td>\n",
       "      <td>2019-11-26</td>\n",
       "      <td>6000.0</td>\n",
       "      <td>30</td>\n",
       "      <td>На цессии</td>\n",
       "      <td>NaT</td>\n",
       "    </tr>\n",
       "    <tr>\n",
       "      <th>8765</th>\n",
       "      <td>927827</td>\n",
       "      <td>2019-01-30</td>\n",
       "      <td>2500.0</td>\n",
       "      <td>16</td>\n",
       "      <td>Погашен</td>\n",
       "      <td>2019-01-31</td>\n",
       "    </tr>\n",
       "    <tr>\n",
       "      <th>31165</th>\n",
       "      <td>1121065</td>\n",
       "      <td>2019-06-05</td>\n",
       "      <td>4576.0</td>\n",
       "      <td>30</td>\n",
       "      <td>Погашен</td>\n",
       "      <td>2019-06-21</td>\n",
       "    </tr>\n",
       "    <tr>\n",
       "      <th>13722</th>\n",
       "      <td>960546</td>\n",
       "      <td>2019-02-15</td>\n",
       "      <td>6100.0</td>\n",
       "      <td>23</td>\n",
       "      <td>Погашен</td>\n",
       "      <td>2019-03-01</td>\n",
       "    </tr>\n",
       "  </tbody>\n",
       "</table>\n",
       "</div>"
      ],
      "text/plain": [
       "           cid   start_ts    value  term     status     end_ts\n",
       "81715  1407874 2020-09-04  10000.0    10    Погашен 2020-09-10\n",
       "54879   923581 2019-11-26   6000.0    30  На цессии        NaT\n",
       "8765    927827 2019-01-30   2500.0    16    Погашен 2019-01-31\n",
       "31165  1121065 2019-06-05   4576.0    30    Погашен 2019-06-21\n",
       "13722   960546 2019-02-15   6100.0    23    Погашен 2019-03-01"
      ]
     },
     "execution_count": 9,
     "metadata": {},
     "output_type": "execute_result"
    }
   ],
   "source": [
    "# uid нам не потребуется в анализе, поэтому просто избавимся от лишней информации\n",
    "loans.drop(columns=['uid'], inplace=True)\n",
    "\n",
    "# также приведем к нужному формату данные в столбце end_ts\n",
    "loans['end_ts'] = loans['end_ts'].astype('datetime64[D]')\n",
    "\n",
    "# проверяем\n",
    "loans.sample(5)"
   ]
  },
  {
   "cell_type": "code",
   "execution_count": 10,
   "metadata": {},
   "outputs": [
    {
     "data": {
      "text/plain": [
       "cid             0\n",
       "start_ts     8383\n",
       "value           0\n",
       "term            0\n",
       "status          0\n",
       "end_ts      38127\n",
       "dtype: int64"
      ]
     },
     "metadata": {},
     "output_type": "display_data"
    },
    {
     "data": {
      "text/plain": [
       "2135"
      ]
     },
     "metadata": {},
     "output_type": "display_data"
    }
   ],
   "source": [
    "# проверим таблицу на наличие пропусков и дубликатов\n",
    "display(loans.isna().sum())\n",
    "display(loans.duplicated().sum())"
   ]
  },
  {
   "cell_type": "markdown",
   "metadata": {},
   "source": [
    "<div class=\"alert alert-block alert-success\">\n",
    "<b>Вывод:</b> есть пропуски и дубликаты, обработаем их\n",
    "</div>"
   ]
  },
  {
   "cell_type": "code",
   "execution_count": 11,
   "metadata": {},
   "outputs": [
    {
     "data": {
      "text/plain": [
       "Отменён           8371\n",
       "Не подтверждён      12\n",
       "Name: status, dtype: int64"
      ]
     },
     "execution_count": 11,
     "metadata": {},
     "output_type": "execute_result"
    }
   ],
   "source": [
    "# посмотим на стутусы займов с пропущенными значениями в столбце 'start_ts'\n",
    "loans[loans['start_ts'].isna()]['status'].value_counts()"
   ]
  },
  {
   "cell_type": "markdown",
   "metadata": {},
   "source": [
    "<div class=\"alert alert-block alert-success\">\n",
    "<b>Вывод:</b> фактически эти статусы говорят о том, что клиент не получил деньги\n",
    "</div>"
   ]
  },
  {
   "cell_type": "code",
   "execution_count": 12,
   "metadata": {},
   "outputs": [
    {
     "data": {
      "text/plain": [
       "cid             0\n",
       "start_ts        0\n",
       "value           0\n",
       "term            0\n",
       "status          0\n",
       "end_ts      29744\n",
       "dtype: int64"
      ]
     },
     "execution_count": 12,
     "metadata": {},
     "output_type": "execute_result"
    }
   ],
   "source": [
    "# удалим эти строки\n",
    "loans.dropna(subset=['start_ts'], inplace=True)\n",
    "\n",
    "# проверяем\n",
    "loans.isna().sum()"
   ]
  },
  {
   "cell_type": "code",
   "execution_count": 13,
   "metadata": {},
   "outputs": [
    {
     "data": {
      "text/plain": [
       "На цессии              17111\n",
       "Просрочен               8177\n",
       "Активен                 2354\n",
       "На реструктуризации     1727\n",
       "Отменён                  311\n",
       "Списан                    64\n",
       "Name: status, dtype: int64"
      ]
     },
     "execution_count": 13,
     "metadata": {},
     "output_type": "execute_result"
    }
   ],
   "source": [
    "# Посмотрим статусы займов, у которых отсутствуетм время погашения\n",
    "loans[loans['end_ts'].isna()]['status'].value_counts()"
   ]
  },
  {
   "cell_type": "code",
   "execution_count": 14,
   "metadata": {},
   "outputs": [
    {
     "data": {
      "text/plain": [
       "0"
      ]
     },
     "execution_count": 14,
     "metadata": {},
     "output_type": "execute_result"
    }
   ],
   "source": [
    "# посмотрим, остались ли дубликаты\n",
    "loans.duplicated().sum()"
   ]
  },
  {
   "cell_type": "markdown",
   "metadata": {},
   "source": [
    "<div class=\"alert alert-block alert-success\">\n",
    "<b>Вывод:</b>\n",
    "    <ul>\n",
    "        <li>дубли теперь отсутствуют\n",
    "        <li>пропуски в end_ts фактически указывают на то, что заем не был закрыт на момент анализа данных\n",
    "    </ul>\n",
    "</div>\n",
    "Теперь переходоим к анализу данных"
   ]
  },
  {
   "cell_type": "markdown",
   "metadata": {},
   "source": [
    "## Аналитика данных"
   ]
  },
  {
   "cell_type": "markdown",
   "metadata": {},
   "source": [
    "### 1. Анализ данных о регистрациях и займах. Динамика по времени, конверсия + графики\n",
    "\n",
    "Нам нужна таблица, в которой будут данные в динамике по месяцам:\n",
    "- Общее кол-во регистраций\n",
    "- Кол-во успешных (завершенных) регистраций\n",
    "- Общее кол-во займов\n",
    "- Кол-во новых займов\n",
    "- Кол-во повторных займов"
   ]
  },
  {
   "cell_type": "markdown",
   "metadata": {},
   "source": [
    "#### 1.1 Групиировка данных о регистарциях"
   ]
  },
  {
   "cell_type": "code",
   "execution_count": 15,
   "metadata": {},
   "outputs": [
    {
     "data": {
      "text/html": [
       "<div>\n",
       "<style scoped>\n",
       "    .dataframe tbody tr th:only-of-type {\n",
       "        vertical-align: middle;\n",
       "    }\n",
       "\n",
       "    .dataframe tbody tr th {\n",
       "        vertical-align: top;\n",
       "    }\n",
       "\n",
       "    .dataframe thead th {\n",
       "        text-align: right;\n",
       "    }\n",
       "</style>\n",
       "<table border=\"1\" class=\"dataframe\">\n",
       "  <thead>\n",
       "    <tr style=\"text-align: right;\">\n",
       "      <th></th>\n",
       "      <th>cid</th>\n",
       "      <th>reg_ts</th>\n",
       "      <th>is_reg_complete</th>\n",
       "      <th>reg_date</th>\n",
       "      <th>reg_week</th>\n",
       "      <th>reg_month</th>\n",
       "    </tr>\n",
       "  </thead>\n",
       "  <tbody>\n",
       "    <tr>\n",
       "      <th>0</th>\n",
       "      <td>1180314</td>\n",
       "      <td>2019-07-23</td>\n",
       "      <td>1</td>\n",
       "      <td>2019-07-23</td>\n",
       "      <td>2019-07-22</td>\n",
       "      <td>2019-07-01</td>\n",
       "    </tr>\n",
       "    <tr>\n",
       "      <th>1</th>\n",
       "      <td>1169902</td>\n",
       "      <td>2019-07-14</td>\n",
       "      <td>1</td>\n",
       "      <td>2019-07-14</td>\n",
       "      <td>2019-07-08</td>\n",
       "      <td>2019-07-01</td>\n",
       "    </tr>\n",
       "    <tr>\n",
       "      <th>2</th>\n",
       "      <td>939190</td>\n",
       "      <td>2019-02-06</td>\n",
       "      <td>1</td>\n",
       "      <td>2019-02-06</td>\n",
       "      <td>2019-02-04</td>\n",
       "      <td>2019-02-01</td>\n",
       "    </tr>\n",
       "    <tr>\n",
       "      <th>3</th>\n",
       "      <td>1135293</td>\n",
       "      <td>2019-06-14</td>\n",
       "      <td>1</td>\n",
       "      <td>2019-06-14</td>\n",
       "      <td>2019-06-10</td>\n",
       "      <td>2019-06-01</td>\n",
       "    </tr>\n",
       "    <tr>\n",
       "      <th>4</th>\n",
       "      <td>979757</td>\n",
       "      <td>2019-02-27</td>\n",
       "      <td>1</td>\n",
       "      <td>2019-02-27</td>\n",
       "      <td>2019-02-25</td>\n",
       "      <td>2019-02-01</td>\n",
       "    </tr>\n",
       "  </tbody>\n",
       "</table>\n",
       "</div>"
      ],
      "text/plain": [
       "       cid     reg_ts  is_reg_complete   reg_date   reg_week  reg_month\n",
       "0  1180314 2019-07-23                1 2019-07-23 2019-07-22 2019-07-01\n",
       "1  1169902 2019-07-14                1 2019-07-14 2019-07-08 2019-07-01\n",
       "2   939190 2019-02-06                1 2019-02-06 2019-02-04 2019-02-01\n",
       "3  1135293 2019-06-14                1 2019-06-14 2019-06-10 2019-06-01\n",
       "4   979757 2019-02-27                1 2019-02-27 2019-02-25 2019-02-01"
      ]
     },
     "execution_count": 15,
     "metadata": {},
     "output_type": "execute_result"
    }
   ],
   "source": [
    "# добавим в таблицу regs столбцы: date, week, month - день, неделя и месяц регистрации\n",
    "regs['reg_date'] = regs['reg_ts'].astype('datetime64[D]')\n",
    "regs['reg_week'] = regs['reg_ts'].dt.to_period('W').apply(lambda r: r.start_time)\n",
    "regs['reg_month'] = regs['reg_ts'].astype('datetime64[M]')\n",
    "\n",
    "# проверяем\n",
    "regs.head()"
   ]
  },
  {
   "cell_type": "code",
   "execution_count": 16,
   "metadata": {},
   "outputs": [
    {
     "data": {
      "text/html": [
       "<div>\n",
       "<style scoped>\n",
       "    .dataframe tbody tr th:only-of-type {\n",
       "        vertical-align: middle;\n",
       "    }\n",
       "\n",
       "    .dataframe tbody tr th {\n",
       "        vertical-align: top;\n",
       "    }\n",
       "\n",
       "    .dataframe thead th {\n",
       "        text-align: right;\n",
       "    }\n",
       "</style>\n",
       "<table border=\"1\" class=\"dataframe\">\n",
       "  <thead>\n",
       "    <tr style=\"text-align: right;\">\n",
       "      <th></th>\n",
       "      <th>total_regs</th>\n",
       "      <th>success_regs</th>\n",
       "    </tr>\n",
       "    <tr>\n",
       "      <th>reg_month</th>\n",
       "      <th></th>\n",
       "      <th></th>\n",
       "    </tr>\n",
       "  </thead>\n",
       "  <tbody>\n",
       "    <tr>\n",
       "      <th>2019-01-01</th>\n",
       "      <td>37669</td>\n",
       "      <td>31651</td>\n",
       "    </tr>\n",
       "    <tr>\n",
       "      <th>2019-02-01</th>\n",
       "      <td>45059</td>\n",
       "      <td>38293</td>\n",
       "    </tr>\n",
       "    <tr>\n",
       "      <th>2019-03-01</th>\n",
       "      <td>39752</td>\n",
       "      <td>33366</td>\n",
       "    </tr>\n",
       "    <tr>\n",
       "      <th>2019-04-01</th>\n",
       "      <td>41598</td>\n",
       "      <td>30584</td>\n",
       "    </tr>\n",
       "    <tr>\n",
       "      <th>2019-05-01</th>\n",
       "      <td>41689</td>\n",
       "      <td>30134</td>\n",
       "    </tr>\n",
       "    <tr>\n",
       "      <th>2019-06-01</th>\n",
       "      <td>33410</td>\n",
       "      <td>23810</td>\n",
       "    </tr>\n",
       "    <tr>\n",
       "      <th>2019-07-01</th>\n",
       "      <td>32892</td>\n",
       "      <td>24006</td>\n",
       "    </tr>\n",
       "    <tr>\n",
       "      <th>2019-08-01</th>\n",
       "      <td>10192</td>\n",
       "      <td>7860</td>\n",
       "    </tr>\n",
       "    <tr>\n",
       "      <th>2019-09-01</th>\n",
       "      <td>4843</td>\n",
       "      <td>3920</td>\n",
       "    </tr>\n",
       "    <tr>\n",
       "      <th>2019-10-01</th>\n",
       "      <td>20404</td>\n",
       "      <td>16224</td>\n",
       "    </tr>\n",
       "    <tr>\n",
       "      <th>2019-11-01</th>\n",
       "      <td>23722</td>\n",
       "      <td>18405</td>\n",
       "    </tr>\n",
       "    <tr>\n",
       "      <th>2019-12-01</th>\n",
       "      <td>21692</td>\n",
       "      <td>16883</td>\n",
       "    </tr>\n",
       "    <tr>\n",
       "      <th>2020-01-01</th>\n",
       "      <td>25764</td>\n",
       "      <td>19845</td>\n",
       "    </tr>\n",
       "    <tr>\n",
       "      <th>2020-02-01</th>\n",
       "      <td>29614</td>\n",
       "      <td>22059</td>\n",
       "    </tr>\n",
       "    <tr>\n",
       "      <th>2020-03-01</th>\n",
       "      <td>6848</td>\n",
       "      <td>5328</td>\n",
       "    </tr>\n",
       "    <tr>\n",
       "      <th>2020-04-01</th>\n",
       "      <td>5256</td>\n",
       "      <td>4376</td>\n",
       "    </tr>\n",
       "    <tr>\n",
       "      <th>2020-05-01</th>\n",
       "      <td>2877</td>\n",
       "      <td>2500</td>\n",
       "    </tr>\n",
       "    <tr>\n",
       "      <th>2020-06-01</th>\n",
       "      <td>4974</td>\n",
       "      <td>4165</td>\n",
       "    </tr>\n",
       "    <tr>\n",
       "      <th>2020-07-01</th>\n",
       "      <td>18973</td>\n",
       "      <td>14620</td>\n",
       "    </tr>\n",
       "    <tr>\n",
       "      <th>2020-08-01</th>\n",
       "      <td>20800</td>\n",
       "      <td>15976</td>\n",
       "    </tr>\n",
       "    <tr>\n",
       "      <th>2020-09-01</th>\n",
       "      <td>22400</td>\n",
       "      <td>17121</td>\n",
       "    </tr>\n",
       "  </tbody>\n",
       "</table>\n",
       "</div>"
      ],
      "text/plain": [
       "            total_regs  success_regs\n",
       "reg_month                           \n",
       "2019-01-01       37669         31651\n",
       "2019-02-01       45059         38293\n",
       "2019-03-01       39752         33366\n",
       "2019-04-01       41598         30584\n",
       "2019-05-01       41689         30134\n",
       "2019-06-01       33410         23810\n",
       "2019-07-01       32892         24006\n",
       "2019-08-01       10192          7860\n",
       "2019-09-01        4843          3920\n",
       "2019-10-01       20404         16224\n",
       "2019-11-01       23722         18405\n",
       "2019-12-01       21692         16883\n",
       "2020-01-01       25764         19845\n",
       "2020-02-01       29614         22059\n",
       "2020-03-01        6848          5328\n",
       "2020-04-01        5256          4376\n",
       "2020-05-01        2877          2500\n",
       "2020-06-01        4974          4165\n",
       "2020-07-01       18973         14620\n",
       "2020-08-01       20800         15976\n",
       "2020-09-01       22400         17121"
      ]
     },
     "execution_count": 16,
     "metadata": {},
     "output_type": "execute_result"
    }
   ],
   "source": [
    "# сгруппируем данные по месяцам, посчитаем общее кол-во регистраци и кол-во успешных регистраций\n",
    "regs_by_month = regs.groupby(by='reg_month').agg({'cid': 'nunique', 'is_reg_complete': 'sum'})\n",
    "regs_by_month.columns = ['total_regs', 'success_regs']\n",
    "\n",
    "# смотрим\n",
    "regs_by_month"
   ]
  },
  {
   "cell_type": "markdown",
   "metadata": {},
   "source": [
    "#### 1.2 Групиировка данных о займах"
   ]
  },
  {
   "cell_type": "code",
   "execution_count": 17,
   "metadata": {},
   "outputs": [
    {
     "data": {
      "text/html": [
       "<div>\n",
       "<style scoped>\n",
       "    .dataframe tbody tr th:only-of-type {\n",
       "        vertical-align: middle;\n",
       "    }\n",
       "\n",
       "    .dataframe tbody tr th {\n",
       "        vertical-align: top;\n",
       "    }\n",
       "\n",
       "    .dataframe thead th {\n",
       "        text-align: right;\n",
       "    }\n",
       "</style>\n",
       "<table border=\"1\" class=\"dataframe\">\n",
       "  <thead>\n",
       "    <tr style=\"text-align: right;\">\n",
       "      <th></th>\n",
       "      <th>cid</th>\n",
       "      <th>start_ts</th>\n",
       "      <th>value</th>\n",
       "      <th>term</th>\n",
       "      <th>status</th>\n",
       "      <th>end_ts</th>\n",
       "      <th>loan_date</th>\n",
       "      <th>loan_week</th>\n",
       "      <th>loan_month</th>\n",
       "    </tr>\n",
       "  </thead>\n",
       "  <tbody>\n",
       "    <tr>\n",
       "      <th>0</th>\n",
       "      <td>888862</td>\n",
       "      <td>2019-01-01</td>\n",
       "      <td>5000.0</td>\n",
       "      <td>30</td>\n",
       "      <td>Погашен</td>\n",
       "      <td>2019-01-02</td>\n",
       "      <td>2019-01-01</td>\n",
       "      <td>2018-12-31</td>\n",
       "      <td>2019-01-01</td>\n",
       "    </tr>\n",
       "    <tr>\n",
       "      <th>1</th>\n",
       "      <td>888862</td>\n",
       "      <td>2019-01-13</td>\n",
       "      <td>2500.0</td>\n",
       "      <td>7</td>\n",
       "      <td>Погашен</td>\n",
       "      <td>2019-01-13</td>\n",
       "      <td>2019-01-13</td>\n",
       "      <td>2019-01-07</td>\n",
       "      <td>2019-01-01</td>\n",
       "    </tr>\n",
       "    <tr>\n",
       "      <th>2</th>\n",
       "      <td>888862</td>\n",
       "      <td>2019-01-14</td>\n",
       "      <td>2500.0</td>\n",
       "      <td>30</td>\n",
       "      <td>Погашен</td>\n",
       "      <td>2019-01-31</td>\n",
       "      <td>2019-01-14</td>\n",
       "      <td>2019-01-14</td>\n",
       "      <td>2019-01-01</td>\n",
       "    </tr>\n",
       "    <tr>\n",
       "      <th>3</th>\n",
       "      <td>888862</td>\n",
       "      <td>2019-02-12</td>\n",
       "      <td>4700.0</td>\n",
       "      <td>30</td>\n",
       "      <td>Погашен</td>\n",
       "      <td>2019-02-15</td>\n",
       "      <td>2019-02-12</td>\n",
       "      <td>2019-02-11</td>\n",
       "      <td>2019-02-01</td>\n",
       "    </tr>\n",
       "    <tr>\n",
       "      <th>4</th>\n",
       "      <td>888862</td>\n",
       "      <td>2019-02-18</td>\n",
       "      <td>3000.0</td>\n",
       "      <td>30</td>\n",
       "      <td>Погашен</td>\n",
       "      <td>2019-02-21</td>\n",
       "      <td>2019-02-18</td>\n",
       "      <td>2019-02-18</td>\n",
       "      <td>2019-02-01</td>\n",
       "    </tr>\n",
       "  </tbody>\n",
       "</table>\n",
       "</div>"
      ],
      "text/plain": [
       "      cid   start_ts   value  term   status     end_ts   loan_date  loan_week  \\\n",
       "0  888862 2019-01-01  5000.0    30  Погашен 2019-01-02  2019-01-01 2018-12-31   \n",
       "1  888862 2019-01-13  2500.0     7  Погашен 2019-01-13  2019-01-13 2019-01-07   \n",
       "2  888862 2019-01-14  2500.0    30  Погашен 2019-01-31  2019-01-14 2019-01-14   \n",
       "3  888862 2019-02-12  4700.0    30  Погашен 2019-02-15  2019-02-12 2019-02-11   \n",
       "4  888862 2019-02-18  3000.0    30  Погашен 2019-02-21  2019-02-18 2019-02-18   \n",
       "\n",
       "  loan_month  \n",
       "0 2019-01-01  \n",
       "1 2019-01-01  \n",
       "2 2019-01-01  \n",
       "3 2019-02-01  \n",
       "4 2019-02-01  "
      ]
     },
     "execution_count": 17,
     "metadata": {},
     "output_type": "execute_result"
    }
   ],
   "source": [
    "# у нас уже есть сгруппированные по месяцам данные о регистрациях, теперь тоже самое нужно сделать с займами\n",
    "# но для начала - добавить в таблицу loans столбцы: date, week, month - день, неделя и месяц регистрации\n",
    "\n",
    "loans['loan_date'] = loans['start_ts'].dt.date\n",
    "loans['loan_week'] = loans['start_ts'].dt.to_period('W').apply(lambda r: r.start_time)\n",
    "loans['loan_month'] = loans['start_ts'].astype('datetime64[M]')\n",
    "\n",
    "# проверяем\n",
    "loans.head()"
   ]
  },
  {
   "cell_type": "code",
   "execution_count": 18,
   "metadata": {},
   "outputs": [
    {
     "data": {
      "text/html": [
       "<div>\n",
       "<style scoped>\n",
       "    .dataframe tbody tr th:only-of-type {\n",
       "        vertical-align: middle;\n",
       "    }\n",
       "\n",
       "    .dataframe tbody tr th {\n",
       "        vertical-align: top;\n",
       "    }\n",
       "\n",
       "    .dataframe thead th {\n",
       "        text-align: right;\n",
       "    }\n",
       "</style>\n",
       "<table border=\"1\" class=\"dataframe\">\n",
       "  <thead>\n",
       "    <tr style=\"text-align: right;\">\n",
       "      <th></th>\n",
       "      <th>new_loans</th>\n",
       "    </tr>\n",
       "    <tr>\n",
       "      <th>loan_month</th>\n",
       "      <th></th>\n",
       "    </tr>\n",
       "  </thead>\n",
       "  <tbody>\n",
       "    <tr>\n",
       "      <th>2019-01-01</th>\n",
       "      <td>4540</td>\n",
       "    </tr>\n",
       "    <tr>\n",
       "      <th>2019-02-01</th>\n",
       "      <td>4969</td>\n",
       "    </tr>\n",
       "    <tr>\n",
       "      <th>2019-03-01</th>\n",
       "      <td>2976</td>\n",
       "    </tr>\n",
       "    <tr>\n",
       "      <th>2019-04-01</th>\n",
       "      <td>3043</td>\n",
       "    </tr>\n",
       "    <tr>\n",
       "      <th>2019-05-01</th>\n",
       "      <td>2480</td>\n",
       "    </tr>\n",
       "    <tr>\n",
       "      <th>2019-06-01</th>\n",
       "      <td>1391</td>\n",
       "    </tr>\n",
       "    <tr>\n",
       "      <th>2019-07-01</th>\n",
       "      <td>3209</td>\n",
       "    </tr>\n",
       "    <tr>\n",
       "      <th>2019-08-01</th>\n",
       "      <td>1852</td>\n",
       "    </tr>\n",
       "    <tr>\n",
       "      <th>2019-09-01</th>\n",
       "      <td>1345</td>\n",
       "    </tr>\n",
       "    <tr>\n",
       "      <th>2019-10-01</th>\n",
       "      <td>1287</td>\n",
       "    </tr>\n",
       "    <tr>\n",
       "      <th>2019-11-01</th>\n",
       "      <td>1721</td>\n",
       "    </tr>\n",
       "    <tr>\n",
       "      <th>2019-12-01</th>\n",
       "      <td>1701</td>\n",
       "    </tr>\n",
       "    <tr>\n",
       "      <th>2020-01-01</th>\n",
       "      <td>1620</td>\n",
       "    </tr>\n",
       "    <tr>\n",
       "      <th>2020-02-01</th>\n",
       "      <td>2075</td>\n",
       "    </tr>\n",
       "    <tr>\n",
       "      <th>2020-03-01</th>\n",
       "      <td>224</td>\n",
       "    </tr>\n",
       "    <tr>\n",
       "      <th>2020-04-01</th>\n",
       "      <td>513</td>\n",
       "    </tr>\n",
       "    <tr>\n",
       "      <th>2020-05-01</th>\n",
       "      <td>273</td>\n",
       "    </tr>\n",
       "    <tr>\n",
       "      <th>2020-06-01</th>\n",
       "      <td>1166</td>\n",
       "    </tr>\n",
       "    <tr>\n",
       "      <th>2020-07-01</th>\n",
       "      <td>2736</td>\n",
       "    </tr>\n",
       "    <tr>\n",
       "      <th>2020-08-01</th>\n",
       "      <td>2786</td>\n",
       "    </tr>\n",
       "    <tr>\n",
       "      <th>2020-09-01</th>\n",
       "      <td>3321</td>\n",
       "    </tr>\n",
       "    <tr>\n",
       "      <th>2020-10-01</th>\n",
       "      <td>929</td>\n",
       "    </tr>\n",
       "    <tr>\n",
       "      <th>2020-11-01</th>\n",
       "      <td>594</td>\n",
       "    </tr>\n",
       "    <tr>\n",
       "      <th>2020-12-01</th>\n",
       "      <td>172</td>\n",
       "    </tr>\n",
       "  </tbody>\n",
       "</table>\n",
       "</div>"
      ],
      "text/plain": [
       "            new_loans\n",
       "loan_month           \n",
       "2019-01-01       4540\n",
       "2019-02-01       4969\n",
       "2019-03-01       2976\n",
       "2019-04-01       3043\n",
       "2019-05-01       2480\n",
       "2019-06-01       1391\n",
       "2019-07-01       3209\n",
       "2019-08-01       1852\n",
       "2019-09-01       1345\n",
       "2019-10-01       1287\n",
       "2019-11-01       1721\n",
       "2019-12-01       1701\n",
       "2020-01-01       1620\n",
       "2020-02-01       2075\n",
       "2020-03-01        224\n",
       "2020-04-01        513\n",
       "2020-05-01        273\n",
       "2020-06-01       1166\n",
       "2020-07-01       2736\n",
       "2020-08-01       2786\n",
       "2020-09-01       3321\n",
       "2020-10-01        929\n",
       "2020-11-01        594\n",
       "2020-12-01        172"
      ]
     },
     "execution_count": 18,
     "metadata": {},
     "output_type": "execute_result"
    }
   ],
   "source": [
    "# для начала для каждого юзера найдем месяц первого займа\n",
    "new_loans_by_month = loans.sort_values(by=['cid', 'start_ts']).groupby(by='cid').agg({'loan_month': 'first'}).reset_index()\n",
    "\n",
    "# теперь сгруппируем данные по месяцам и подсчитаем кол-во уникальны займов\n",
    "new_loans_by_month = new_loans_by_month.groupby(by='loan_month').agg({'cid': 'count'})\n",
    "new_loans_by_month.columns = ['new_loans']\n",
    "\n",
    "# проверяем\n",
    "new_loans_by_month"
   ]
  },
  {
   "cell_type": "code",
   "execution_count": 19,
   "metadata": {},
   "outputs": [
    {
     "data": {
      "text/html": [
       "<div>\n",
       "<style scoped>\n",
       "    .dataframe tbody tr th:only-of-type {\n",
       "        vertical-align: middle;\n",
       "    }\n",
       "\n",
       "    .dataframe tbody tr th {\n",
       "        vertical-align: top;\n",
       "    }\n",
       "\n",
       "    .dataframe thead th {\n",
       "        text-align: right;\n",
       "    }\n",
       "</style>\n",
       "<table border=\"1\" class=\"dataframe\">\n",
       "  <thead>\n",
       "    <tr style=\"text-align: right;\">\n",
       "      <th></th>\n",
       "      <th>total_loans</th>\n",
       "    </tr>\n",
       "    <tr>\n",
       "      <th>loan_month</th>\n",
       "      <th></th>\n",
       "    </tr>\n",
       "  </thead>\n",
       "  <tbody>\n",
       "    <tr>\n",
       "      <th>2019-01-01</th>\n",
       "      <td>5434</td>\n",
       "    </tr>\n",
       "    <tr>\n",
       "      <th>2019-02-01</th>\n",
       "      <td>7152</td>\n",
       "    </tr>\n",
       "    <tr>\n",
       "      <th>2019-03-01</th>\n",
       "      <td>6199</td>\n",
       "    </tr>\n",
       "    <tr>\n",
       "      <th>2019-04-01</th>\n",
       "      <td>5814</td>\n",
       "    </tr>\n",
       "    <tr>\n",
       "      <th>2019-05-01</th>\n",
       "      <td>4955</td>\n",
       "    </tr>\n",
       "    <tr>\n",
       "      <th>2019-06-01</th>\n",
       "      <td>3251</td>\n",
       "    </tr>\n",
       "    <tr>\n",
       "      <th>2019-07-01</th>\n",
       "      <td>4777</td>\n",
       "    </tr>\n",
       "    <tr>\n",
       "      <th>2019-08-01</th>\n",
       "      <td>3477</td>\n",
       "    </tr>\n",
       "    <tr>\n",
       "      <th>2019-09-01</th>\n",
       "      <td>3016</td>\n",
       "    </tr>\n",
       "    <tr>\n",
       "      <th>2019-10-01</th>\n",
       "      <td>2316</td>\n",
       "    </tr>\n",
       "    <tr>\n",
       "      <th>2019-11-01</th>\n",
       "      <td>2870</td>\n",
       "    </tr>\n",
       "    <tr>\n",
       "      <th>2019-12-01</th>\n",
       "      <td>3160</td>\n",
       "    </tr>\n",
       "    <tr>\n",
       "      <th>2020-01-01</th>\n",
       "      <td>2836</td>\n",
       "    </tr>\n",
       "    <tr>\n",
       "      <th>2020-02-01</th>\n",
       "      <td>3517</td>\n",
       "    </tr>\n",
       "    <tr>\n",
       "      <th>2020-03-01</th>\n",
       "      <td>471</td>\n",
       "    </tr>\n",
       "    <tr>\n",
       "      <th>2020-04-01</th>\n",
       "      <td>1074</td>\n",
       "    </tr>\n",
       "    <tr>\n",
       "      <th>2020-05-01</th>\n",
       "      <td>792</td>\n",
       "    </tr>\n",
       "    <tr>\n",
       "      <th>2020-06-01</th>\n",
       "      <td>2296</td>\n",
       "    </tr>\n",
       "    <tr>\n",
       "      <th>2020-07-01</th>\n",
       "      <td>4378</td>\n",
       "    </tr>\n",
       "    <tr>\n",
       "      <th>2020-08-01</th>\n",
       "      <td>5064</td>\n",
       "    </tr>\n",
       "    <tr>\n",
       "      <th>2020-09-01</th>\n",
       "      <td>5624</td>\n",
       "    </tr>\n",
       "    <tr>\n",
       "      <th>2020-10-01</th>\n",
       "      <td>3667</td>\n",
       "    </tr>\n",
       "    <tr>\n",
       "      <th>2020-11-01</th>\n",
       "      <td>3004</td>\n",
       "    </tr>\n",
       "    <tr>\n",
       "      <th>2020-12-01</th>\n",
       "      <td>892</td>\n",
       "    </tr>\n",
       "  </tbody>\n",
       "</table>\n",
       "</div>"
      ],
      "text/plain": [
       "            total_loans\n",
       "loan_month             \n",
       "2019-01-01         5434\n",
       "2019-02-01         7152\n",
       "2019-03-01         6199\n",
       "2019-04-01         5814\n",
       "2019-05-01         4955\n",
       "2019-06-01         3251\n",
       "2019-07-01         4777\n",
       "2019-08-01         3477\n",
       "2019-09-01         3016\n",
       "2019-10-01         2316\n",
       "2019-11-01         2870\n",
       "2019-12-01         3160\n",
       "2020-01-01         2836\n",
       "2020-02-01         3517\n",
       "2020-03-01          471\n",
       "2020-04-01         1074\n",
       "2020-05-01          792\n",
       "2020-06-01         2296\n",
       "2020-07-01         4378\n",
       "2020-08-01         5064\n",
       "2020-09-01         5624\n",
       "2020-10-01         3667\n",
       "2020-11-01         3004\n",
       "2020-12-01          892"
      ]
     },
     "execution_count": 19,
     "metadata": {},
     "output_type": "execute_result"
    }
   ],
   "source": [
    "# теперь посчитаем общее кол-во займов по месяцам\n",
    "total_loans_by_month = loans.groupby(by='loan_month').agg({'cid': 'count'})\n",
    "total_loans_by_month.columns = ['total_loans']\n",
    "\n",
    "# проверяем\n",
    "total_loans_by_month"
   ]
  },
  {
   "cell_type": "code",
   "execution_count": 20,
   "metadata": {},
   "outputs": [
    {
     "data": {
      "text/html": [
       "<div>\n",
       "<style scoped>\n",
       "    .dataframe tbody tr th:only-of-type {\n",
       "        vertical-align: middle;\n",
       "    }\n",
       "\n",
       "    .dataframe tbody tr th {\n",
       "        vertical-align: top;\n",
       "    }\n",
       "\n",
       "    .dataframe thead th {\n",
       "        text-align: right;\n",
       "    }\n",
       "</style>\n",
       "<table border=\"1\" class=\"dataframe\">\n",
       "  <thead>\n",
       "    <tr style=\"text-align: right;\">\n",
       "      <th></th>\n",
       "      <th>total_loans</th>\n",
       "      <th>new_loans</th>\n",
       "      <th>repeated_loans</th>\n",
       "    </tr>\n",
       "    <tr>\n",
       "      <th>loan_month</th>\n",
       "      <th></th>\n",
       "      <th></th>\n",
       "      <th></th>\n",
       "    </tr>\n",
       "  </thead>\n",
       "  <tbody>\n",
       "    <tr>\n",
       "      <th>2019-01-01</th>\n",
       "      <td>5434</td>\n",
       "      <td>4540</td>\n",
       "      <td>894</td>\n",
       "    </tr>\n",
       "    <tr>\n",
       "      <th>2019-02-01</th>\n",
       "      <td>7152</td>\n",
       "      <td>4969</td>\n",
       "      <td>2183</td>\n",
       "    </tr>\n",
       "    <tr>\n",
       "      <th>2019-03-01</th>\n",
       "      <td>6199</td>\n",
       "      <td>2976</td>\n",
       "      <td>3223</td>\n",
       "    </tr>\n",
       "    <tr>\n",
       "      <th>2019-04-01</th>\n",
       "      <td>5814</td>\n",
       "      <td>3043</td>\n",
       "      <td>2771</td>\n",
       "    </tr>\n",
       "    <tr>\n",
       "      <th>2019-05-01</th>\n",
       "      <td>4955</td>\n",
       "      <td>2480</td>\n",
       "      <td>2475</td>\n",
       "    </tr>\n",
       "    <tr>\n",
       "      <th>2019-06-01</th>\n",
       "      <td>3251</td>\n",
       "      <td>1391</td>\n",
       "      <td>1860</td>\n",
       "    </tr>\n",
       "    <tr>\n",
       "      <th>2019-07-01</th>\n",
       "      <td>4777</td>\n",
       "      <td>3209</td>\n",
       "      <td>1568</td>\n",
       "    </tr>\n",
       "    <tr>\n",
       "      <th>2019-08-01</th>\n",
       "      <td>3477</td>\n",
       "      <td>1852</td>\n",
       "      <td>1625</td>\n",
       "    </tr>\n",
       "    <tr>\n",
       "      <th>2019-09-01</th>\n",
       "      <td>3016</td>\n",
       "      <td>1345</td>\n",
       "      <td>1671</td>\n",
       "    </tr>\n",
       "    <tr>\n",
       "      <th>2019-10-01</th>\n",
       "      <td>2316</td>\n",
       "      <td>1287</td>\n",
       "      <td>1029</td>\n",
       "    </tr>\n",
       "    <tr>\n",
       "      <th>2019-11-01</th>\n",
       "      <td>2870</td>\n",
       "      <td>1721</td>\n",
       "      <td>1149</td>\n",
       "    </tr>\n",
       "    <tr>\n",
       "      <th>2019-12-01</th>\n",
       "      <td>3160</td>\n",
       "      <td>1701</td>\n",
       "      <td>1459</td>\n",
       "    </tr>\n",
       "    <tr>\n",
       "      <th>2020-01-01</th>\n",
       "      <td>2836</td>\n",
       "      <td>1620</td>\n",
       "      <td>1216</td>\n",
       "    </tr>\n",
       "    <tr>\n",
       "      <th>2020-02-01</th>\n",
       "      <td>3517</td>\n",
       "      <td>2075</td>\n",
       "      <td>1442</td>\n",
       "    </tr>\n",
       "    <tr>\n",
       "      <th>2020-03-01</th>\n",
       "      <td>471</td>\n",
       "      <td>224</td>\n",
       "      <td>247</td>\n",
       "    </tr>\n",
       "    <tr>\n",
       "      <th>2020-04-01</th>\n",
       "      <td>1074</td>\n",
       "      <td>513</td>\n",
       "      <td>561</td>\n",
       "    </tr>\n",
       "    <tr>\n",
       "      <th>2020-05-01</th>\n",
       "      <td>792</td>\n",
       "      <td>273</td>\n",
       "      <td>519</td>\n",
       "    </tr>\n",
       "    <tr>\n",
       "      <th>2020-06-01</th>\n",
       "      <td>2296</td>\n",
       "      <td>1166</td>\n",
       "      <td>1130</td>\n",
       "    </tr>\n",
       "    <tr>\n",
       "      <th>2020-07-01</th>\n",
       "      <td>4378</td>\n",
       "      <td>2736</td>\n",
       "      <td>1642</td>\n",
       "    </tr>\n",
       "    <tr>\n",
       "      <th>2020-08-01</th>\n",
       "      <td>5064</td>\n",
       "      <td>2786</td>\n",
       "      <td>2278</td>\n",
       "    </tr>\n",
       "    <tr>\n",
       "      <th>2020-09-01</th>\n",
       "      <td>5624</td>\n",
       "      <td>3321</td>\n",
       "      <td>2303</td>\n",
       "    </tr>\n",
       "    <tr>\n",
       "      <th>2020-10-01</th>\n",
       "      <td>3667</td>\n",
       "      <td>929</td>\n",
       "      <td>2738</td>\n",
       "    </tr>\n",
       "    <tr>\n",
       "      <th>2020-11-01</th>\n",
       "      <td>3004</td>\n",
       "      <td>594</td>\n",
       "      <td>2410</td>\n",
       "    </tr>\n",
       "    <tr>\n",
       "      <th>2020-12-01</th>\n",
       "      <td>892</td>\n",
       "      <td>172</td>\n",
       "      <td>720</td>\n",
       "    </tr>\n",
       "  </tbody>\n",
       "</table>\n",
       "</div>"
      ],
      "text/plain": [
       "            total_loans  new_loans  repeated_loans\n",
       "loan_month                                        \n",
       "2019-01-01         5434       4540             894\n",
       "2019-02-01         7152       4969            2183\n",
       "2019-03-01         6199       2976            3223\n",
       "2019-04-01         5814       3043            2771\n",
       "2019-05-01         4955       2480            2475\n",
       "2019-06-01         3251       1391            1860\n",
       "2019-07-01         4777       3209            1568\n",
       "2019-08-01         3477       1852            1625\n",
       "2019-09-01         3016       1345            1671\n",
       "2019-10-01         2316       1287            1029\n",
       "2019-11-01         2870       1721            1149\n",
       "2019-12-01         3160       1701            1459\n",
       "2020-01-01         2836       1620            1216\n",
       "2020-02-01         3517       2075            1442\n",
       "2020-03-01          471        224             247\n",
       "2020-04-01         1074        513             561\n",
       "2020-05-01          792        273             519\n",
       "2020-06-01         2296       1166            1130\n",
       "2020-07-01         4378       2736            1642\n",
       "2020-08-01         5064       2786            2278\n",
       "2020-09-01         5624       3321            2303\n",
       "2020-10-01         3667        929            2738\n",
       "2020-11-01         3004        594            2410\n",
       "2020-12-01          892        172             720"
      ]
     },
     "execution_count": 20,
     "metadata": {},
     "output_type": "execute_result"
    }
   ],
   "source": [
    "# объеденим таблицы total_loans_by_month и new_loans_by_month\n",
    "loans_by_month = pd.merge(total_loans_by_month, new_loans_by_month, on='loan_month')\n",
    "\n",
    "# рассчитаем кол-во повторных займов\n",
    "loans_by_month['repeated_loans'] = loans_by_month['total_loans'] - loans_by_month['new_loans']\n",
    "\n",
    "# проверяем\n",
    "loans_by_month"
   ]
  },
  {
   "cell_type": "markdown",
   "metadata": {},
   "source": [
    "#### 1.3 Объеденение данных в обну таблицу"
   ]
  },
  {
   "cell_type": "code",
   "execution_count": 21,
   "metadata": {},
   "outputs": [
    {
     "data": {
      "text/html": [
       "<div>\n",
       "<style scoped>\n",
       "    .dataframe tbody tr th:only-of-type {\n",
       "        vertical-align: middle;\n",
       "    }\n",
       "\n",
       "    .dataframe tbody tr th {\n",
       "        vertical-align: top;\n",
       "    }\n",
       "\n",
       "    .dataframe thead th {\n",
       "        text-align: right;\n",
       "    }\n",
       "</style>\n",
       "<table border=\"1\" class=\"dataframe\">\n",
       "  <thead>\n",
       "    <tr style=\"text-align: right;\">\n",
       "      <th></th>\n",
       "      <th>total_regs</th>\n",
       "      <th>success_regs</th>\n",
       "      <th>total_loans</th>\n",
       "      <th>new_loans</th>\n",
       "      <th>repeated_loans</th>\n",
       "    </tr>\n",
       "  </thead>\n",
       "  <tbody>\n",
       "    <tr>\n",
       "      <th>2019-01-01</th>\n",
       "      <td>37669</td>\n",
       "      <td>31651</td>\n",
       "      <td>5434</td>\n",
       "      <td>4540</td>\n",
       "      <td>894</td>\n",
       "    </tr>\n",
       "    <tr>\n",
       "      <th>2019-02-01</th>\n",
       "      <td>45059</td>\n",
       "      <td>38293</td>\n",
       "      <td>7152</td>\n",
       "      <td>4969</td>\n",
       "      <td>2183</td>\n",
       "    </tr>\n",
       "    <tr>\n",
       "      <th>2019-03-01</th>\n",
       "      <td>39752</td>\n",
       "      <td>33366</td>\n",
       "      <td>6199</td>\n",
       "      <td>2976</td>\n",
       "      <td>3223</td>\n",
       "    </tr>\n",
       "    <tr>\n",
       "      <th>2019-04-01</th>\n",
       "      <td>41598</td>\n",
       "      <td>30584</td>\n",
       "      <td>5814</td>\n",
       "      <td>3043</td>\n",
       "      <td>2771</td>\n",
       "    </tr>\n",
       "    <tr>\n",
       "      <th>2019-05-01</th>\n",
       "      <td>41689</td>\n",
       "      <td>30134</td>\n",
       "      <td>4955</td>\n",
       "      <td>2480</td>\n",
       "      <td>2475</td>\n",
       "    </tr>\n",
       "    <tr>\n",
       "      <th>2019-06-01</th>\n",
       "      <td>33410</td>\n",
       "      <td>23810</td>\n",
       "      <td>3251</td>\n",
       "      <td>1391</td>\n",
       "      <td>1860</td>\n",
       "    </tr>\n",
       "    <tr>\n",
       "      <th>2019-07-01</th>\n",
       "      <td>32892</td>\n",
       "      <td>24006</td>\n",
       "      <td>4777</td>\n",
       "      <td>3209</td>\n",
       "      <td>1568</td>\n",
       "    </tr>\n",
       "    <tr>\n",
       "      <th>2019-08-01</th>\n",
       "      <td>10192</td>\n",
       "      <td>7860</td>\n",
       "      <td>3477</td>\n",
       "      <td>1852</td>\n",
       "      <td>1625</td>\n",
       "    </tr>\n",
       "    <tr>\n",
       "      <th>2019-09-01</th>\n",
       "      <td>4843</td>\n",
       "      <td>3920</td>\n",
       "      <td>3016</td>\n",
       "      <td>1345</td>\n",
       "      <td>1671</td>\n",
       "    </tr>\n",
       "    <tr>\n",
       "      <th>2019-10-01</th>\n",
       "      <td>20404</td>\n",
       "      <td>16224</td>\n",
       "      <td>2316</td>\n",
       "      <td>1287</td>\n",
       "      <td>1029</td>\n",
       "    </tr>\n",
       "    <tr>\n",
       "      <th>2019-11-01</th>\n",
       "      <td>23722</td>\n",
       "      <td>18405</td>\n",
       "      <td>2870</td>\n",
       "      <td>1721</td>\n",
       "      <td>1149</td>\n",
       "    </tr>\n",
       "    <tr>\n",
       "      <th>2019-12-01</th>\n",
       "      <td>21692</td>\n",
       "      <td>16883</td>\n",
       "      <td>3160</td>\n",
       "      <td>1701</td>\n",
       "      <td>1459</td>\n",
       "    </tr>\n",
       "    <tr>\n",
       "      <th>2020-01-01</th>\n",
       "      <td>25764</td>\n",
       "      <td>19845</td>\n",
       "      <td>2836</td>\n",
       "      <td>1620</td>\n",
       "      <td>1216</td>\n",
       "    </tr>\n",
       "    <tr>\n",
       "      <th>2020-02-01</th>\n",
       "      <td>29614</td>\n",
       "      <td>22059</td>\n",
       "      <td>3517</td>\n",
       "      <td>2075</td>\n",
       "      <td>1442</td>\n",
       "    </tr>\n",
       "    <tr>\n",
       "      <th>2020-03-01</th>\n",
       "      <td>6848</td>\n",
       "      <td>5328</td>\n",
       "      <td>471</td>\n",
       "      <td>224</td>\n",
       "      <td>247</td>\n",
       "    </tr>\n",
       "    <tr>\n",
       "      <th>2020-04-01</th>\n",
       "      <td>5256</td>\n",
       "      <td>4376</td>\n",
       "      <td>1074</td>\n",
       "      <td>513</td>\n",
       "      <td>561</td>\n",
       "    </tr>\n",
       "    <tr>\n",
       "      <th>2020-05-01</th>\n",
       "      <td>2877</td>\n",
       "      <td>2500</td>\n",
       "      <td>792</td>\n",
       "      <td>273</td>\n",
       "      <td>519</td>\n",
       "    </tr>\n",
       "    <tr>\n",
       "      <th>2020-06-01</th>\n",
       "      <td>4974</td>\n",
       "      <td>4165</td>\n",
       "      <td>2296</td>\n",
       "      <td>1166</td>\n",
       "      <td>1130</td>\n",
       "    </tr>\n",
       "    <tr>\n",
       "      <th>2020-07-01</th>\n",
       "      <td>18973</td>\n",
       "      <td>14620</td>\n",
       "      <td>4378</td>\n",
       "      <td>2736</td>\n",
       "      <td>1642</td>\n",
       "    </tr>\n",
       "    <tr>\n",
       "      <th>2020-08-01</th>\n",
       "      <td>20800</td>\n",
       "      <td>15976</td>\n",
       "      <td>5064</td>\n",
       "      <td>2786</td>\n",
       "      <td>2278</td>\n",
       "    </tr>\n",
       "    <tr>\n",
       "      <th>2020-09-01</th>\n",
       "      <td>22400</td>\n",
       "      <td>17121</td>\n",
       "      <td>5624</td>\n",
       "      <td>3321</td>\n",
       "      <td>2303</td>\n",
       "    </tr>\n",
       "  </tbody>\n",
       "</table>\n",
       "</div>"
      ],
      "text/plain": [
       "            total_regs  success_regs  total_loans  new_loans  repeated_loans\n",
       "2019-01-01       37669         31651         5434       4540             894\n",
       "2019-02-01       45059         38293         7152       4969            2183\n",
       "2019-03-01       39752         33366         6199       2976            3223\n",
       "2019-04-01       41598         30584         5814       3043            2771\n",
       "2019-05-01       41689         30134         4955       2480            2475\n",
       "2019-06-01       33410         23810         3251       1391            1860\n",
       "2019-07-01       32892         24006         4777       3209            1568\n",
       "2019-08-01       10192          7860         3477       1852            1625\n",
       "2019-09-01        4843          3920         3016       1345            1671\n",
       "2019-10-01       20404         16224         2316       1287            1029\n",
       "2019-11-01       23722         18405         2870       1721            1149\n",
       "2019-12-01       21692         16883         3160       1701            1459\n",
       "2020-01-01       25764         19845         2836       1620            1216\n",
       "2020-02-01       29614         22059         3517       2075            1442\n",
       "2020-03-01        6848          5328          471        224             247\n",
       "2020-04-01        5256          4376         1074        513             561\n",
       "2020-05-01        2877          2500          792        273             519\n",
       "2020-06-01        4974          4165         2296       1166            1130\n",
       "2020-07-01       18973         14620         4378       2736            1642\n",
       "2020-08-01       20800         15976         5064       2786            2278\n",
       "2020-09-01       22400         17121         5624       3321            2303"
      ]
     },
     "execution_count": 21,
     "metadata": {},
     "output_type": "execute_result"
    }
   ],
   "source": [
    "total_grouped_data = pd.merge(regs_by_month, loans_by_month, left_index=True, right_index=True)\n",
    "\n",
    "total_grouped_data"
   ]
  },
  {
   "cell_type": "markdown",
   "metadata": {},
   "source": [
    "#### 1.4 Графики"
   ]
  },
  {
   "cell_type": "code",
   "execution_count": 22,
   "metadata": {},
   "outputs": [
    {
     "data": {
      "image/png": "[encoded data removed]",
      "text/plain": [
       "<Figure size 936x648 with 1 Axes>"
      ]
     },
     "metadata": {
      "needs_background": "light"
     },
     "output_type": "display_data"
    }
   ],
   "source": [
    "# построим график динамики регистраций по месяцам\n",
    "total_grouped_data[['total_regs', 'success_regs']].plot(figsize=(13, 9), grid=True);\n",
    "plt.xlabel('Месяц');\n",
    "plt.ylabel('Количество');"
   ]
  },
  {
   "cell_type": "code",
   "execution_count": 23,
   "metadata": {},
   "outputs": [
    {
     "data": {
      "image/png": "[encoded data removed]",
      "text/plain": [
       "<Figure size 936x648 with 1 Axes>"
      ]
     },
     "metadata": {
      "needs_background": "light"
     },
     "output_type": "display_data"
    }
   ],
   "source": [
    "# а также ихучим конверсию из всех регистраций в успешные\n",
    "(total_grouped_data['success_regs'] / total_grouped_data['total_regs']).plot(figsize=(13, 9), grid=True);\n",
    "plt.xlabel('Месяц');\n",
    "plt.ylabel('CR% успешной регистрации');"
   ]
  },
  {
   "cell_type": "markdown",
   "metadata": {},
   "source": [
    "<div class=\"alert alert-block alert-success\">\n",
    "<b>Вывод:</b>\n",
    "    <ul>\n",
    "        <li>количетсво регистраций (всех/успешных) стабильно сокращалось с апрелья 2019 года\n",
    "        <li>при этом конверсия в успешную регистрацию за этот же период показала стабильный рост и достигла порядка 70%\n",
    "    </ul>\n",
    "</div>"
   ]
  },
  {
   "cell_type": "code",
   "execution_count": 24,
   "metadata": {},
   "outputs": [
    {
     "data": {
      "image/png": "[encoded data removed]",
      "text/plain": [
       "<Figure size 936x648 with 1 Axes>"
      ]
     },
     "metadata": {
      "needs_background": "light"
     },
     "output_type": "display_data"
    }
   ],
   "source": [
    "# теперь на одном графике сравним динамику успешных регистраций и новых займов\n",
    "total_grouped_data[['success_regs', 'new_loans']].plot(figsize=(13, 9), grid=True);\n",
    "plt.xlabel('Месяц');\n",
    "plt.ylabel('Количество');"
   ]
  },
  {
   "cell_type": "code",
   "execution_count": 25,
   "metadata": {},
   "outputs": [
    {
     "data": {
      "image/png": "[encoded data removed]",
      "text/plain": [
       "<Figure size 936x648 with 1 Axes>"
      ]
     },
     "metadata": {
      "needs_background": "light"
     },
     "output_type": "display_data"
    }
   ],
   "source": [
    "# а также посмотрим на конверсию в динамике\n",
    "(total_grouped_data['new_loans'] / total_grouped_data['success_regs']).plot(figsize=(13, 9), grid=True);\n",
    "plt.xlabel('Месяц');\n",
    "plt.ylabel('CR% в новый займ из успешной регистрации');"
   ]
  },
  {
   "cell_type": "markdown",
   "metadata": {},
   "source": [
    "<div class=\"alert alert-block alert-success\">\n",
    "<b>Вывод:</b>\n",
    "    <ul>\n",
    "        <li>при стабильном сокращении успешных регистраций кол-во новых займов осталось практически на том же уровне\n",
    "        <li>можно констатировать, что произошло это в первую очередь за счет роста конверсии в новый заем с 15% до 25%\n",
    "        <li>однако это общие данные, которые состаят из различных источников трафика в тч высококонверсионной органики (в тч брендовой). Судя по данным из affise CPA канал в августе имел CR = 17%\n",
    "    </ul>\n",
    "</div>"
   ]
  },
  {
   "cell_type": "code",
   "execution_count": 26,
   "metadata": {},
   "outputs": [
    {
     "data": {
      "image/png": "[encoded data removed]",
      "text/plain": [
       "<Figure size 936x648 with 1 Axes>"
      ]
     },
     "metadata": {
      "needs_background": "light"
     },
     "output_type": "display_data"
    }
   ],
   "source": [
    "# посмотрим на долю потворных займов в динамике\n",
    "total_grouped_data[['total_loans', 'new_loans', 'repeated_loans']].plot(figsize=(13, 9), grid=True);\n",
    "plt.xlabel('Месяц');\n",
    "plt.ylabel('Количество выданных займов');"
   ]
  },
  {
   "cell_type": "markdown",
   "metadata": {},
   "source": [
    "<div class=\"alert alert-block alert-success\">\n",
    "<b>Вывод:</b>\n",
    "    <ul>\n",
    "        <li>ближе к концу анализируемого периода наблюдается рост общего количества выданных займов\n",
    "        <li>происходит это за счет роста повторных выдач. Это хороший для нас показатель\n",
    "        <li>доля вопвторных займов колеблется в диапазоне 60%-70%\n",
    "    </ul>\n",
    "</div>"
   ]
  },
  {
   "cell_type": "markdown",
   "metadata": {},
   "source": [
    "### 2. Сколько времени проходит с момента начала регистрации до оформления первого займа"
   ]
  },
  {
   "cell_type": "code",
   "execution_count": 27,
   "metadata": {},
   "outputs": [
    {
     "data": {
      "text/html": [
       "<div>\n",
       "<style scoped>\n",
       "    .dataframe tbody tr th:only-of-type {\n",
       "        vertical-align: middle;\n",
       "    }\n",
       "\n",
       "    .dataframe tbody tr th {\n",
       "        vertical-align: top;\n",
       "    }\n",
       "\n",
       "    .dataframe thead th {\n",
       "        text-align: right;\n",
       "    }\n",
       "</style>\n",
       "<table border=\"1\" class=\"dataframe\">\n",
       "  <thead>\n",
       "    <tr style=\"text-align: right;\">\n",
       "      <th></th>\n",
       "      <th>cid</th>\n",
       "      <th>start_loan</th>\n",
       "    </tr>\n",
       "  </thead>\n",
       "  <tbody>\n",
       "    <tr>\n",
       "      <th>0</th>\n",
       "      <td>888862</td>\n",
       "      <td>2019-01-01</td>\n",
       "    </tr>\n",
       "    <tr>\n",
       "      <th>1</th>\n",
       "      <td>888868</td>\n",
       "      <td>2019-01-01</td>\n",
       "    </tr>\n",
       "    <tr>\n",
       "      <th>2</th>\n",
       "      <td>888872</td>\n",
       "      <td>2019-01-12</td>\n",
       "    </tr>\n",
       "    <tr>\n",
       "      <th>3</th>\n",
       "      <td>888882</td>\n",
       "      <td>2019-01-01</td>\n",
       "    </tr>\n",
       "    <tr>\n",
       "      <th>4</th>\n",
       "      <td>888884</td>\n",
       "      <td>2019-01-01</td>\n",
       "    </tr>\n",
       "  </tbody>\n",
       "</table>\n",
       "</div>"
      ],
      "text/plain": [
       "      cid start_loan\n",
       "0  888862 2019-01-01\n",
       "1  888868 2019-01-01\n",
       "2  888872 2019-01-12\n",
       "3  888882 2019-01-01\n",
       "4  888884 2019-01-01"
      ]
     },
     "execution_count": 27,
     "metadata": {},
     "output_type": "execute_result"
    }
   ],
   "source": [
    "# для начала из таблицы loans нам нужно получить для каждого юзера данные о его первом займе\n",
    "first_loan_ts = loans.sort_values(by=['cid', 'start_ts']).groupby(by='cid').agg({'start_ts': 'first'}).reset_index()\n",
    "first_loan_ts.columns=['cid', 'start_loan']\n",
    "\n",
    "# проверяем\n",
    "first_loan_ts.head()"
   ]
  },
  {
   "cell_type": "code",
   "execution_count": 28,
   "metadata": {},
   "outputs": [
    {
     "data": {
      "text/html": [
       "<div>\n",
       "<style scoped>\n",
       "    .dataframe tbody tr th:only-of-type {\n",
       "        vertical-align: middle;\n",
       "    }\n",
       "\n",
       "    .dataframe tbody tr th {\n",
       "        vertical-align: top;\n",
       "    }\n",
       "\n",
       "    .dataframe thead th {\n",
       "        text-align: right;\n",
       "    }\n",
       "</style>\n",
       "<table border=\"1\" class=\"dataframe\">\n",
       "  <thead>\n",
       "    <tr style=\"text-align: right;\">\n",
       "      <th></th>\n",
       "      <th>cid</th>\n",
       "      <th>reg_ts</th>\n",
       "      <th>is_reg_complete</th>\n",
       "      <th>reg_date</th>\n",
       "      <th>reg_week</th>\n",
       "      <th>reg_month</th>\n",
       "      <th>start_loan</th>\n",
       "    </tr>\n",
       "  </thead>\n",
       "  <tbody>\n",
       "    <tr>\n",
       "      <th>193976</th>\n",
       "      <td>1361700</td>\n",
       "      <td>2020-06-22</td>\n",
       "      <td>1</td>\n",
       "      <td>2020-06-22</td>\n",
       "      <td>2020-06-22</td>\n",
       "      <td>2020-06-01</td>\n",
       "      <td>NaT</td>\n",
       "    </tr>\n",
       "    <tr>\n",
       "      <th>144927</th>\n",
       "      <td>1061126</td>\n",
       "      <td>2019-04-22</td>\n",
       "      <td>1</td>\n",
       "      <td>2019-04-22</td>\n",
       "      <td>2019-04-22</td>\n",
       "      <td>2019-04-01</td>\n",
       "      <td>NaT</td>\n",
       "    </tr>\n",
       "    <tr>\n",
       "      <th>410860</th>\n",
       "      <td>1401999</td>\n",
       "      <td>2020-08-28</td>\n",
       "      <td>1</td>\n",
       "      <td>2020-08-28</td>\n",
       "      <td>2020-08-24</td>\n",
       "      <td>2020-08-01</td>\n",
       "      <td>NaT</td>\n",
       "    </tr>\n",
       "    <tr>\n",
       "      <th>426937</th>\n",
       "      <td>1379086</td>\n",
       "      <td>2020-07-24</td>\n",
       "      <td>1</td>\n",
       "      <td>2020-07-24</td>\n",
       "      <td>2020-07-20</td>\n",
       "      <td>2020-07-01</td>\n",
       "      <td>NaT</td>\n",
       "    </tr>\n",
       "    <tr>\n",
       "      <th>97456</th>\n",
       "      <td>1102844</td>\n",
       "      <td>2019-05-24</td>\n",
       "      <td>1</td>\n",
       "      <td>2019-05-24</td>\n",
       "      <td>2019-05-20</td>\n",
       "      <td>2019-05-01</td>\n",
       "      <td>NaT</td>\n",
       "    </tr>\n",
       "    <tr>\n",
       "      <th>9606</th>\n",
       "      <td>936384</td>\n",
       "      <td>2019-02-04</td>\n",
       "      <td>1</td>\n",
       "      <td>2019-02-04</td>\n",
       "      <td>2019-02-04</td>\n",
       "      <td>2019-02-01</td>\n",
       "      <td>NaT</td>\n",
       "    </tr>\n",
       "    <tr>\n",
       "      <th>186793</th>\n",
       "      <td>1147862</td>\n",
       "      <td>2019-06-26</td>\n",
       "      <td>1</td>\n",
       "      <td>2019-06-26</td>\n",
       "      <td>2019-06-24</td>\n",
       "      <td>2019-06-01</td>\n",
       "      <td>NaT</td>\n",
       "    </tr>\n",
       "    <tr>\n",
       "      <th>305598</th>\n",
       "      <td>1181015</td>\n",
       "      <td>2019-07-23</td>\n",
       "      <td>1</td>\n",
       "      <td>2019-07-23</td>\n",
       "      <td>2019-07-22</td>\n",
       "      <td>2019-07-01</td>\n",
       "      <td>NaT</td>\n",
       "    </tr>\n",
       "    <tr>\n",
       "      <th>85871</th>\n",
       "      <td>957247</td>\n",
       "      <td>2019-02-13</td>\n",
       "      <td>1</td>\n",
       "      <td>2019-02-13</td>\n",
       "      <td>2019-02-11</td>\n",
       "      <td>2019-02-01</td>\n",
       "      <td>NaT</td>\n",
       "    </tr>\n",
       "    <tr>\n",
       "      <th>335142</th>\n",
       "      <td>1028730</td>\n",
       "      <td>2019-04-05</td>\n",
       "      <td>1</td>\n",
       "      <td>2019-04-05</td>\n",
       "      <td>2019-04-01</td>\n",
       "      <td>2019-04-01</td>\n",
       "      <td>NaT</td>\n",
       "    </tr>\n",
       "    <tr>\n",
       "      <th>454547</th>\n",
       "      <td>1412107</td>\n",
       "      <td>2020-09-10</td>\n",
       "      <td>1</td>\n",
       "      <td>2020-09-10</td>\n",
       "      <td>2020-09-07</td>\n",
       "      <td>2020-09-01</td>\n",
       "      <td>NaT</td>\n",
       "    </tr>\n",
       "    <tr>\n",
       "      <th>371353</th>\n",
       "      <td>1003832</td>\n",
       "      <td>2019-03-18</td>\n",
       "      <td>1</td>\n",
       "      <td>2019-03-18</td>\n",
       "      <td>2019-03-18</td>\n",
       "      <td>2019-03-01</td>\n",
       "      <td>NaT</td>\n",
       "    </tr>\n",
       "    <tr>\n",
       "      <th>302999</th>\n",
       "      <td>1011465</td>\n",
       "      <td>2019-03-23</td>\n",
       "      <td>1</td>\n",
       "      <td>2019-03-23</td>\n",
       "      <td>2019-03-18</td>\n",
       "      <td>2019-03-01</td>\n",
       "      <td>NaT</td>\n",
       "    </tr>\n",
       "    <tr>\n",
       "      <th>441366</th>\n",
       "      <td>1208124</td>\n",
       "      <td>2019-09-27</td>\n",
       "      <td>1</td>\n",
       "      <td>2019-09-27</td>\n",
       "      <td>2019-09-23</td>\n",
       "      <td>2019-09-01</td>\n",
       "      <td>NaT</td>\n",
       "    </tr>\n",
       "    <tr>\n",
       "      <th>21278</th>\n",
       "      <td>1076994</td>\n",
       "      <td>2019-05-13</td>\n",
       "      <td>0</td>\n",
       "      <td>2019-05-13</td>\n",
       "      <td>2019-05-13</td>\n",
       "      <td>2019-05-01</td>\n",
       "      <td>NaT</td>\n",
       "    </tr>\n",
       "    <tr>\n",
       "      <th>144095</th>\n",
       "      <td>1266650</td>\n",
       "      <td>2019-12-13</td>\n",
       "      <td>0</td>\n",
       "      <td>2019-12-13</td>\n",
       "      <td>2019-12-09</td>\n",
       "      <td>2019-12-01</td>\n",
       "      <td>NaT</td>\n",
       "    </tr>\n",
       "    <tr>\n",
       "      <th>182689</th>\n",
       "      <td>1259519</td>\n",
       "      <td>2019-12-03</td>\n",
       "      <td>1</td>\n",
       "      <td>2019-12-03</td>\n",
       "      <td>2019-12-02</td>\n",
       "      <td>2019-12-01</td>\n",
       "      <td>NaT</td>\n",
       "    </tr>\n",
       "    <tr>\n",
       "      <th>186564</th>\n",
       "      <td>1171862</td>\n",
       "      <td>2019-07-16</td>\n",
       "      <td>1</td>\n",
       "      <td>2019-07-16</td>\n",
       "      <td>2019-07-15</td>\n",
       "      <td>2019-07-01</td>\n",
       "      <td>NaT</td>\n",
       "    </tr>\n",
       "    <tr>\n",
       "      <th>216433</th>\n",
       "      <td>1137879</td>\n",
       "      <td>2019-06-16</td>\n",
       "      <td>1</td>\n",
       "      <td>2019-06-16</td>\n",
       "      <td>2019-06-10</td>\n",
       "      <td>2019-06-01</td>\n",
       "      <td>NaT</td>\n",
       "    </tr>\n",
       "    <tr>\n",
       "      <th>297263</th>\n",
       "      <td>1320234</td>\n",
       "      <td>2020-02-07</td>\n",
       "      <td>1</td>\n",
       "      <td>2020-02-07</td>\n",
       "      <td>2020-02-03</td>\n",
       "      <td>2020-02-01</td>\n",
       "      <td>2020-02-07</td>\n",
       "    </tr>\n",
       "  </tbody>\n",
       "</table>\n",
       "</div>"
      ],
      "text/plain": [
       "            cid     reg_ts  is_reg_complete   reg_date   reg_week  reg_month  \\\n",
       "193976  1361700 2020-06-22                1 2020-06-22 2020-06-22 2020-06-01   \n",
       "144927  1061126 2019-04-22                1 2019-04-22 2019-04-22 2019-04-01   \n",
       "410860  1401999 2020-08-28                1 2020-08-28 2020-08-24 2020-08-01   \n",
       "426937  1379086 2020-07-24                1 2020-07-24 2020-07-20 2020-07-01   \n",
       "97456   1102844 2019-05-24                1 2019-05-24 2019-05-20 2019-05-01   \n",
       "9606     936384 2019-02-04                1 2019-02-04 2019-02-04 2019-02-01   \n",
       "186793  1147862 2019-06-26                1 2019-06-26 2019-06-24 2019-06-01   \n",
       "305598  1181015 2019-07-23                1 2019-07-23 2019-07-22 2019-07-01   \n",
       "85871    957247 2019-02-13                1 2019-02-13 2019-02-11 2019-02-01   \n",
       "335142  1028730 2019-04-05                1 2019-04-05 2019-04-01 2019-04-01   \n",
       "454547  1412107 2020-09-10                1 2020-09-10 2020-09-07 2020-09-01   \n",
       "371353  1003832 2019-03-18                1 2019-03-18 2019-03-18 2019-03-01   \n",
       "302999  1011465 2019-03-23                1 2019-03-23 2019-03-18 2019-03-01   \n",
       "441366  1208124 2019-09-27                1 2019-09-27 2019-09-23 2019-09-01   \n",
       "21278   1076994 2019-05-13                0 2019-05-13 2019-05-13 2019-05-01   \n",
       "144095  1266650 2019-12-13                0 2019-12-13 2019-12-09 2019-12-01   \n",
       "182689  1259519 2019-12-03                1 2019-12-03 2019-12-02 2019-12-01   \n",
       "186564  1171862 2019-07-16                1 2019-07-16 2019-07-15 2019-07-01   \n",
       "216433  1137879 2019-06-16                1 2019-06-16 2019-06-10 2019-06-01   \n",
       "297263  1320234 2020-02-07                1 2020-02-07 2020-02-03 2020-02-01   \n",
       "\n",
       "       start_loan  \n",
       "193976        NaT  \n",
       "144927        NaT  \n",
       "410860        NaT  \n",
       "426937        NaT  \n",
       "97456         NaT  \n",
       "9606          NaT  \n",
       "186793        NaT  \n",
       "305598        NaT  \n",
       "85871         NaT  \n",
       "335142        NaT  \n",
       "454547        NaT  \n",
       "371353        NaT  \n",
       "302999        NaT  \n",
       "441366        NaT  \n",
       "21278         NaT  \n",
       "144095        NaT  \n",
       "182689        NaT  \n",
       "186564        NaT  \n",
       "216433        NaT  \n",
       "297263 2020-02-07  "
      ]
     },
     "execution_count": 28,
     "metadata": {},
     "output_type": "execute_result"
    }
   ],
   "source": [
    "# теперь добавим эти данные в таблицу с регистрациями\n",
    "time_to_loan = pd.merge(regs, first_loan_ts, how='left', on='cid')\n",
    "\n",
    "# посмотрим на случайные 20 записей из получившейся таблицы\n",
    "time_to_loan.sample(20)"
   ]
  },
  {
   "cell_type": "markdown",
   "metadata": {},
   "source": [
    "<div class=\"alert alert-block alert-info\">\n",
    "<b>Важно:</b> во многих строках столбца start_loan появились значения NaT. Это говорит о том, что клиент начал регистрацию, но в итоге ни одного займа не получил. Избавимся от этих строк</div>"
   ]
  },
  {
   "cell_type": "code",
   "execution_count": 29,
   "metadata": {},
   "outputs": [],
   "source": [
    "# удаляем лишние строки\n",
    "time_to_loan.dropna(subset=['start_loan'], inplace=True)"
   ]
  },
  {
   "cell_type": "code",
   "execution_count": 30,
   "metadata": {},
   "outputs": [
    {
     "data": {
      "text/html": [
       "<div>\n",
       "<style scoped>\n",
       "    .dataframe tbody tr th:only-of-type {\n",
       "        vertical-align: middle;\n",
       "    }\n",
       "\n",
       "    .dataframe tbody tr th {\n",
       "        vertical-align: top;\n",
       "    }\n",
       "\n",
       "    .dataframe thead th {\n",
       "        text-align: right;\n",
       "    }\n",
       "</style>\n",
       "<table border=\"1\" class=\"dataframe\">\n",
       "  <thead>\n",
       "    <tr style=\"text-align: right;\">\n",
       "      <th></th>\n",
       "      <th>cid</th>\n",
       "      <th>reg_ts</th>\n",
       "      <th>is_reg_complete</th>\n",
       "      <th>reg_date</th>\n",
       "      <th>reg_week</th>\n",
       "      <th>reg_month</th>\n",
       "      <th>start_loan</th>\n",
       "      <th>days_to_loan</th>\n",
       "    </tr>\n",
       "  </thead>\n",
       "  <tbody>\n",
       "    <tr>\n",
       "      <th>69782</th>\n",
       "      <td>1258056</td>\n",
       "      <td>2019-12-03</td>\n",
       "      <td>1</td>\n",
       "      <td>2019-12-03</td>\n",
       "      <td>2019-12-02</td>\n",
       "      <td>2019-12-01</td>\n",
       "      <td>2019-12-03</td>\n",
       "      <td>0</td>\n",
       "    </tr>\n",
       "    <tr>\n",
       "      <th>287119</th>\n",
       "      <td>1099226</td>\n",
       "      <td>2019-05-23</td>\n",
       "      <td>1</td>\n",
       "      <td>2019-05-23</td>\n",
       "      <td>2019-05-20</td>\n",
       "      <td>2019-05-01</td>\n",
       "      <td>2020-11-11</td>\n",
       "      <td>538</td>\n",
       "    </tr>\n",
       "    <tr>\n",
       "      <th>317565</th>\n",
       "      <td>938735</td>\n",
       "      <td>2019-02-05</td>\n",
       "      <td>1</td>\n",
       "      <td>2019-02-05</td>\n",
       "      <td>2019-02-04</td>\n",
       "      <td>2019-02-01</td>\n",
       "      <td>2019-02-05</td>\n",
       "      <td>0</td>\n",
       "    </tr>\n",
       "    <tr>\n",
       "      <th>26293</th>\n",
       "      <td>1016832</td>\n",
       "      <td>2019-03-27</td>\n",
       "      <td>1</td>\n",
       "      <td>2019-03-27</td>\n",
       "      <td>2019-03-25</td>\n",
       "      <td>2019-03-01</td>\n",
       "      <td>2019-03-28</td>\n",
       "      <td>1</td>\n",
       "    </tr>\n",
       "    <tr>\n",
       "      <th>279875</th>\n",
       "      <td>944097</td>\n",
       "      <td>2019-02-08</td>\n",
       "      <td>1</td>\n",
       "      <td>2019-02-08</td>\n",
       "      <td>2019-02-04</td>\n",
       "      <td>2019-02-01</td>\n",
       "      <td>2019-04-24</td>\n",
       "      <td>75</td>\n",
       "    </tr>\n",
       "    <tr>\n",
       "      <th>256394</th>\n",
       "      <td>1331455</td>\n",
       "      <td>2020-02-16</td>\n",
       "      <td>1</td>\n",
       "      <td>2020-02-16</td>\n",
       "      <td>2020-02-10</td>\n",
       "      <td>2020-02-01</td>\n",
       "      <td>2020-02-16</td>\n",
       "      <td>0</td>\n",
       "    </tr>\n",
       "    <tr>\n",
       "      <th>82462</th>\n",
       "      <td>893882</td>\n",
       "      <td>2019-01-07</td>\n",
       "      <td>1</td>\n",
       "      <td>2019-01-07</td>\n",
       "      <td>2019-01-07</td>\n",
       "      <td>2019-01-01</td>\n",
       "      <td>2019-01-07</td>\n",
       "      <td>0</td>\n",
       "    </tr>\n",
       "    <tr>\n",
       "      <th>105481</th>\n",
       "      <td>1372308</td>\n",
       "      <td>2020-07-14</td>\n",
       "      <td>1</td>\n",
       "      <td>2020-07-14</td>\n",
       "      <td>2020-07-13</td>\n",
       "      <td>2020-07-01</td>\n",
       "      <td>2020-07-15</td>\n",
       "      <td>1</td>\n",
       "    </tr>\n",
       "    <tr>\n",
       "      <th>251109</th>\n",
       "      <td>1415860</td>\n",
       "      <td>2020-09-15</td>\n",
       "      <td>1</td>\n",
       "      <td>2020-09-15</td>\n",
       "      <td>2020-09-14</td>\n",
       "      <td>2020-09-01</td>\n",
       "      <td>2020-09-15</td>\n",
       "      <td>0</td>\n",
       "    </tr>\n",
       "    <tr>\n",
       "      <th>317038</th>\n",
       "      <td>1309432</td>\n",
       "      <td>2020-01-31</td>\n",
       "      <td>1</td>\n",
       "      <td>2020-01-31</td>\n",
       "      <td>2020-01-27</td>\n",
       "      <td>2020-01-01</td>\n",
       "      <td>2020-01-31</td>\n",
       "      <td>0</td>\n",
       "    </tr>\n",
       "  </tbody>\n",
       "</table>\n",
       "</div>"
      ],
      "text/plain": [
       "            cid     reg_ts  is_reg_complete   reg_date   reg_week  reg_month  \\\n",
       "69782   1258056 2019-12-03                1 2019-12-03 2019-12-02 2019-12-01   \n",
       "287119  1099226 2019-05-23                1 2019-05-23 2019-05-20 2019-05-01   \n",
       "317565   938735 2019-02-05                1 2019-02-05 2019-02-04 2019-02-01   \n",
       "26293   1016832 2019-03-27                1 2019-03-27 2019-03-25 2019-03-01   \n",
       "279875   944097 2019-02-08                1 2019-02-08 2019-02-04 2019-02-01   \n",
       "256394  1331455 2020-02-16                1 2020-02-16 2020-02-10 2020-02-01   \n",
       "82462    893882 2019-01-07                1 2019-01-07 2019-01-07 2019-01-01   \n",
       "105481  1372308 2020-07-14                1 2020-07-14 2020-07-13 2020-07-01   \n",
       "251109  1415860 2020-09-15                1 2020-09-15 2020-09-14 2020-09-01   \n",
       "317038  1309432 2020-01-31                1 2020-01-31 2020-01-27 2020-01-01   \n",
       "\n",
       "       start_loan  days_to_loan  \n",
       "69782  2019-12-03             0  \n",
       "287119 2020-11-11           538  \n",
       "317565 2019-02-05             0  \n",
       "26293  2019-03-28             1  \n",
       "279875 2019-04-24            75  \n",
       "256394 2020-02-16             0  \n",
       "82462  2019-01-07             0  \n",
       "105481 2020-07-15             1  \n",
       "251109 2020-09-15             0  \n",
       "317038 2020-01-31             0  "
      ]
     },
     "execution_count": 30,
     "metadata": {},
     "output_type": "execute_result"
    }
   ],
   "source": [
    "# добавим в таблицу новый столбец с кол-во дней с начала регистрации до первого займа\n",
    "time_to_loan['days_to_loan'] = (time_to_loan['start_loan'] - time_to_loan['reg_ts']).dt.days\n",
    "\n",
    "time_to_loan.sample(10)"
   ]
  },
  {
   "cell_type": "code",
   "execution_count": 31,
   "metadata": {},
   "outputs": [
    {
     "data": {
      "image/png": "[encoded data removed]",
      "text/plain": [
       "<Figure size 936x648 with 1 Axes>"
      ]
     },
     "metadata": {
      "needs_background": "light"
     },
     "output_type": "display_data"
    }
   ],
   "source": [
    "# построим гистограмму\n",
    "time_to_loan['days_to_loan'].hist(figsize=(13, 9), bins=100);"
   ]
  },
  {
   "cell_type": "code",
   "execution_count": 32,
   "metadata": {},
   "outputs": [
    {
     "data": {
      "image/png": "[encoded data removed]",
      "text/plain": [
       "<Figure size 936x648 with 1 Axes>"
      ]
     },
     "metadata": {
      "needs_background": "light"
     },
     "output_type": "display_data"
    }
   ],
   "source": [
    "# львиная доля значений лежит в диапазоне от 0 до 30 дней, ограничим гистограмму этими значениями\n",
    "time_to_loan['days_to_loan'].hist(figsize=(13, 9), bins=30, range=(0, 30));"
   ]
  },
  {
   "cell_type": "code",
   "execution_count": 33,
   "metadata": {},
   "outputs": [
    {
     "data": {
      "text/plain": [
       "0     23740\n",
       "1      4796\n",
       "2      1793\n",
       "3      1053\n",
       "4       732\n",
       "5       554\n",
       "6       444\n",
       "7       375\n",
       "31      366\n",
       "8       340\n",
       "Name: days_to_loan, dtype: int64"
      ]
     },
     "execution_count": 33,
     "metadata": {},
     "output_type": "execute_result"
    }
   ],
   "source": [
    "# посмотрим на ТОП10 значений\n",
    "time_to_loan['days_to_loan'].value_counts().head(10)"
   ]
  },
  {
   "cell_type": "markdown",
   "metadata": {},
   "source": [
    "<div class=\"alert alert-block alert-success\">\n",
    "<b>Вывод:</b>\n",
    "    <ul>\n",
    "        <li>львиная доля клиентов получают свой первый заем в день регистрации\n",
    "        <li>кол-во выдач на следующий день относительно большое, но это в т.ч. может быть связано с займами, которые оформляются в вечернее время и выдаются уже на следующий день\n",
    "        <li>есть небольшой скачок на 32 день. Скорее всего это связано с разблокировкой спустя 30 дней\n",
    "        <li>чем дальше от времени регистрации тем меньше шанс, что клиент оформит свой первый заем\n",
    "        <li>в качестве рекомендации - нужно стараться максимально быстро конвертировать регистрацию в первый заем\n",
    "    </ul>\n",
    "</div>"
   ]
  },
  {
   "cell_type": "markdown",
   "metadata": {},
   "source": [
    "### 3. Исследвание срока займа (план, факт) + динамика по месяцам"
   ]
  },
  {
   "cell_type": "markdown",
   "metadata": {},
   "source": [
    "#### 3.1 Запрашиваемые и фактические значения займов"
   ]
  },
  {
   "cell_type": "code",
   "execution_count": 34,
   "metadata": {},
   "outputs": [
    {
     "data": {
      "text/html": [
       "<div>\n",
       "<style scoped>\n",
       "    .dataframe tbody tr th:only-of-type {\n",
       "        vertical-align: middle;\n",
       "    }\n",
       "\n",
       "    .dataframe tbody tr th {\n",
       "        vertical-align: top;\n",
       "    }\n",
       "\n",
       "    .dataframe thead th {\n",
       "        text-align: right;\n",
       "    }\n",
       "</style>\n",
       "<table border=\"1\" class=\"dataframe\">\n",
       "  <thead>\n",
       "    <tr style=\"text-align: right;\">\n",
       "      <th></th>\n",
       "      <th>cid</th>\n",
       "      <th>start_ts</th>\n",
       "      <th>value</th>\n",
       "      <th>term</th>\n",
       "      <th>status</th>\n",
       "      <th>end_ts</th>\n",
       "      <th>loan_date</th>\n",
       "      <th>loan_week</th>\n",
       "      <th>loan_month</th>\n",
       "      <th>real_term</th>\n",
       "    </tr>\n",
       "  </thead>\n",
       "  <tbody>\n",
       "    <tr>\n",
       "      <th>21386</th>\n",
       "      <td>1042661</td>\n",
       "      <td>2019-04-13</td>\n",
       "      <td>14000.0</td>\n",
       "      <td>30</td>\n",
       "      <td>Погашен</td>\n",
       "      <td>2019-05-13</td>\n",
       "      <td>2019-04-13</td>\n",
       "      <td>2019-04-08</td>\n",
       "      <td>2019-04-01</td>\n",
       "      <td>30</td>\n",
       "    </tr>\n",
       "    <tr>\n",
       "      <th>64543</th>\n",
       "      <td>1169973</td>\n",
       "      <td>2020-02-22</td>\n",
       "      <td>9800.0</td>\n",
       "      <td>25</td>\n",
       "      <td>Погашен</td>\n",
       "      <td>2020-03-10</td>\n",
       "      <td>2020-02-22</td>\n",
       "      <td>2020-02-17</td>\n",
       "      <td>2020-02-01</td>\n",
       "      <td>17</td>\n",
       "    </tr>\n",
       "    <tr>\n",
       "      <th>31795</th>\n",
       "      <td>894944</td>\n",
       "      <td>2019-06-09</td>\n",
       "      <td>10700.0</td>\n",
       "      <td>30</td>\n",
       "      <td>Погашен</td>\n",
       "      <td>2019-06-28</td>\n",
       "      <td>2019-06-09</td>\n",
       "      <td>2019-06-03</td>\n",
       "      <td>2019-06-01</td>\n",
       "      <td>19</td>\n",
       "    </tr>\n",
       "    <tr>\n",
       "      <th>32647</th>\n",
       "      <td>982087</td>\n",
       "      <td>2019-06-15</td>\n",
       "      <td>6955.0</td>\n",
       "      <td>30</td>\n",
       "      <td>Погашен</td>\n",
       "      <td>2019-06-21</td>\n",
       "      <td>2019-06-15</td>\n",
       "      <td>2019-06-10</td>\n",
       "      <td>2019-06-01</td>\n",
       "      <td>6</td>\n",
       "    </tr>\n",
       "    <tr>\n",
       "      <th>24297</th>\n",
       "      <td>1027554</td>\n",
       "      <td>2019-04-26</td>\n",
       "      <td>3500.0</td>\n",
       "      <td>20</td>\n",
       "      <td>Погашен</td>\n",
       "      <td>2019-05-17</td>\n",
       "      <td>2019-04-26</td>\n",
       "      <td>2019-04-22</td>\n",
       "      <td>2019-04-01</td>\n",
       "      <td>21</td>\n",
       "    </tr>\n",
       "    <tr>\n",
       "      <th>8294</th>\n",
       "      <td>925329</td>\n",
       "      <td>2019-02-05</td>\n",
       "      <td>20000.0</td>\n",
       "      <td>25</td>\n",
       "      <td>Погашен</td>\n",
       "      <td>2019-03-02</td>\n",
       "      <td>2019-02-05</td>\n",
       "      <td>2019-02-04</td>\n",
       "      <td>2019-02-01</td>\n",
       "      <td>25</td>\n",
       "    </tr>\n",
       "    <tr>\n",
       "      <th>11283</th>\n",
       "      <td>942285</td>\n",
       "      <td>2019-02-07</td>\n",
       "      <td>17000.0</td>\n",
       "      <td>30</td>\n",
       "      <td>Погашен</td>\n",
       "      <td>2019-03-21</td>\n",
       "      <td>2019-02-07</td>\n",
       "      <td>2019-02-04</td>\n",
       "      <td>2019-02-01</td>\n",
       "      <td>42</td>\n",
       "    </tr>\n",
       "    <tr>\n",
       "      <th>75075</th>\n",
       "      <td>1380568</td>\n",
       "      <td>2020-07-27</td>\n",
       "      <td>3600.0</td>\n",
       "      <td>32</td>\n",
       "      <td>Погашен</td>\n",
       "      <td>2020-08-13</td>\n",
       "      <td>2020-07-27</td>\n",
       "      <td>2020-07-27</td>\n",
       "      <td>2020-07-01</td>\n",
       "      <td>17</td>\n",
       "    </tr>\n",
       "    <tr>\n",
       "      <th>85525</th>\n",
       "      <td>1420003</td>\n",
       "      <td>2020-09-25</td>\n",
       "      <td>3000.0</td>\n",
       "      <td>30</td>\n",
       "      <td>Погашен</td>\n",
       "      <td>2020-10-10</td>\n",
       "      <td>2020-09-25</td>\n",
       "      <td>2020-09-21</td>\n",
       "      <td>2020-09-01</td>\n",
       "      <td>15</td>\n",
       "    </tr>\n",
       "    <tr>\n",
       "      <th>26235</th>\n",
       "      <td>1029190</td>\n",
       "      <td>2019-05-11</td>\n",
       "      <td>16907.0</td>\n",
       "      <td>30</td>\n",
       "      <td>Погашен</td>\n",
       "      <td>2019-09-05</td>\n",
       "      <td>2019-05-11</td>\n",
       "      <td>2019-05-06</td>\n",
       "      <td>2019-05-01</td>\n",
       "      <td>117</td>\n",
       "    </tr>\n",
       "  </tbody>\n",
       "</table>\n",
       "</div>"
      ],
      "text/plain": [
       "           cid   start_ts    value  term   status     end_ts   loan_date  \\\n",
       "21386  1042661 2019-04-13  14000.0    30  Погашен 2019-05-13  2019-04-13   \n",
       "64543  1169973 2020-02-22   9800.0    25  Погашен 2020-03-10  2020-02-22   \n",
       "31795   894944 2019-06-09  10700.0    30  Погашен 2019-06-28  2019-06-09   \n",
       "32647   982087 2019-06-15   6955.0    30  Погашен 2019-06-21  2019-06-15   \n",
       "24297  1027554 2019-04-26   3500.0    20  Погашен 2019-05-17  2019-04-26   \n",
       "8294    925329 2019-02-05  20000.0    25  Погашен 2019-03-02  2019-02-05   \n",
       "11283   942285 2019-02-07  17000.0    30  Погашен 2019-03-21  2019-02-07   \n",
       "75075  1380568 2020-07-27   3600.0    32  Погашен 2020-08-13  2020-07-27   \n",
       "85525  1420003 2020-09-25   3000.0    30  Погашен 2020-10-10  2020-09-25   \n",
       "26235  1029190 2019-05-11  16907.0    30  Погашен 2019-09-05  2019-05-11   \n",
       "\n",
       "       loan_week loan_month  real_term  \n",
       "21386 2019-04-08 2019-04-01         30  \n",
       "64543 2020-02-17 2020-02-01         17  \n",
       "31795 2019-06-03 2019-06-01         19  \n",
       "32647 2019-06-10 2019-06-01          6  \n",
       "24297 2019-04-22 2019-04-01         21  \n",
       "8294  2019-02-04 2019-02-01         25  \n",
       "11283 2019-02-04 2019-02-01         42  \n",
       "75075 2020-07-27 2020-07-01         17  \n",
       "85525 2020-09-21 2020-09-01         15  \n",
       "26235 2019-05-06 2019-05-01        117  "
      ]
     },
     "execution_count": 34,
     "metadata": {},
     "output_type": "execute_result"
    }
   ],
   "source": [
    "# рассчитаем фактический срок пользования деньгами\n",
    "loans['real_term'] = (loans['end_ts'] - loans['start_ts']).dt.days\n",
    "\n",
    "# удалим пустые значения т.к. нам нужны только те займы, которые уже погашены и сохраним данные в отдельный датафрейм\n",
    "real_term = loans.query('real_term.notna()')\n",
    "real_term['real_term'] = real_term['real_term'].astype('int')\n",
    "\n",
    "# проверим на выборке\n",
    "real_term.sample(10)"
   ]
  },
  {
   "cell_type": "code",
   "execution_count": 35,
   "metadata": {},
   "outputs": [
    {
     "name": "stdout",
     "output_type": "stream",
     "text": [
      "Всего займов было оформлено на 1,617,551 дня(ей)\n",
      "Фактически с учетом досрочных погашений и просрочек деньгами пользовались 2,009,135 дня(ей)\n"
     ]
    }
   ],
   "source": [
    "# сравним сумму дней из запросов пользователей с суммой фактических дней пользования кредитом\n",
    "print(f'Всего займов было оформлено на {real_term[\"term\"].sum():,} дня(ей)')\n",
    "print(f'Фактически с учетом досрочных погашений и просрочек деньгами пользовались {real_term[\"real_term\"].sum():,} дня(ей)')"
   ]
  },
  {
   "cell_type": "markdown",
   "metadata": {},
   "source": [
    "<div class=\"alert alert-block alert-success\">\n",
    "<b>Вывод:</b>\n",
    "    <ul>\n",
    "        <li> Суммарный фактичесий срок пользования деньгами на 10,5% (или 862,699 дней) больше, чем все суммарные запрошенные значения. Это даже с учетом займов, которые погашаются досрочно (спойлер: их достаточно много)\n",
    "    </ul>\n",
    "</div>"
   ]
  },
  {
   "cell_type": "code",
   "execution_count": 36,
   "metadata": {},
   "outputs": [
    {
     "data": {
      "text/plain": [
       "count    56292.000000\n",
       "mean        28.735007\n",
       "std         14.201437\n",
       "min          1.000000\n",
       "25%         20.000000\n",
       "50%         30.000000\n",
       "75%         35.000000\n",
       "max        168.000000\n",
       "Name: term, dtype: float64"
      ]
     },
     "metadata": {},
     "output_type": "display_data"
    },
    {
     "data": {
      "image/png": "[encoded data removed]",
      "text/plain": [
       "<Figure size 936x648 with 1 Axes>"
      ]
     },
     "metadata": {
      "needs_background": "light"
     },
     "output_type": "display_data"
    }
   ],
   "source": [
    "# распределение запрашиваемых сроков займов\n",
    "display(real_term['term'].describe())\n",
    "real_term['term'].hist(bins=100, figsize=(13, 9));"
   ]
  },
  {
   "cell_type": "markdown",
   "metadata": {},
   "source": [
    "#### 3.2 Распределение показателей, среднее значение, медиана, мода"
   ]
  },
  {
   "cell_type": "code",
   "execution_count": 37,
   "metadata": {},
   "outputs": [
    {
     "data": {
      "text/plain": [
       "count    56292.000000\n",
       "mean        35.691306\n",
       "std         40.965767\n",
       "min          0.000000\n",
       "25%         10.000000\n",
       "50%         24.000000\n",
       "75%         45.000000\n",
       "max        656.000000\n",
       "Name: real_term, dtype: float64"
      ]
     },
     "metadata": {},
     "output_type": "display_data"
    },
    {
     "data": {
      "image/png": "[encoded data removed]",
      "text/plain": [
       "<Figure size 936x648 with 1 Axes>"
      ]
     },
     "metadata": {
      "needs_background": "light"
     },
     "output_type": "display_data"
    }
   ],
   "source": [
    "# распределение фактических сроков пользования займом\n",
    "display(real_term['real_term'].describe())\n",
    "real_term['real_term'].hist(bins=100, figsize=(13, 9));"
   ]
  },
  {
   "cell_type": "code",
   "execution_count": 38,
   "metadata": {},
   "outputs": [
    {
     "data": {
      "text/plain": [
       "30    15909\n",
       "40     7048\n",
       "56     4386\n",
       "10     4226\n",
       "20     3993\n",
       "Name: term, dtype: int64"
      ]
     },
     "execution_count": 38,
     "metadata": {},
     "output_type": "execute_result"
    }
   ],
   "source": [
    "# ТОП5 запрашиваемых сроков\n",
    "real_term['term'].value_counts().head()"
   ]
  },
  {
   "cell_type": "code",
   "execution_count": 39,
   "metadata": {},
   "outputs": [
    {
     "data": {
      "text/plain": [
       "30    1850\n",
       "1     1845\n",
       "0     1821\n",
       "56    1743\n",
       "10    1498\n",
       "Name: real_term, dtype: int64"
      ]
     },
     "execution_count": 39,
     "metadata": {},
     "output_type": "execute_result"
    }
   ],
   "source": [
    "# ТОП5 фактических сроков\n",
    "real_term['real_term'].value_counts().head()"
   ]
  },
  {
   "cell_type": "markdown",
   "metadata": {},
   "source": [
    "<div class=\"alert alert-block alert-success\">\n",
    "<b>Вывод:</b>\n",
    "    <ul>\n",
    "        <li>графики распределения отличаются очень сильно. Это говорит о том, что то, как люди планируют возвращать деньги и то, как они их возвращают - это разные значения\n",
    "        <li>также на распределение оказывает влияение то, что запрашиваемый срок займа строго ограничен\n",
    "        <li>среднее значение фактического пользования займом = 32.66 дня, средний запрашиваемый срок = 29.55 дня\n",
    "        <li>медианное значение больше уже у запрашиваемых показателй - 30 дней против 20 дней. Т.е. 50% займов закрываются в срок до 20 дней\n",
    "        <li>в ТОП5 значений фактического пользования займами есть 2 не очень хороших значения - это 0 день (погашение в день получения займа) и 1 (погашение на следующий день)\n",
    "        <li>25% займов погашаются до 8 дней, 50% до 20 дней, 75% до 42 дней. Над этими показателями стоило бы поработать\n",
    "    </ul>\n",
    "</div>"
   ]
  },
  {
   "cell_type": "markdown",
   "metadata": {},
   "source": [
    "#### 3.3 Динамка планового и фактического срока пользования деньгами"
   ]
  },
  {
   "cell_type": "code",
   "execution_count": 40,
   "metadata": {},
   "outputs": [
    {
     "data": {
      "image/png": "[encoded data removed]",
      "text/plain": [
       "<Figure size 936x648 with 1 Axes>"
      ]
     },
     "metadata": {
      "needs_background": "light"
     },
     "output_type": "display_data"
    }
   ],
   "source": [
    "real_term.groupby('loan_month').agg({'term': 'mean', 'real_term': 'mean'}).plot(kind='bar', figsize=(13, 9), grid=True);"
   ]
  },
  {
   "cell_type": "markdown",
   "metadata": {},
   "source": [
    "<div class=\"alert alert-block alert-success\">\n",
    "<b>Вывод:</b>\n",
    "    <ul>\n",
    "        <li>весь 2019 год средний срок пользовния деньгами показывал положительную динамику\n",
    "        <li>в этот же период мы видим значительно большой рост факт.пользования отностилеьно плана\n",
    "        <li>начиная с июля график идет вниз, но это скорее всего связано с тем, что часть клиентов из просрочки еще не вернули деньги (но согласно статистике обязательно вернут) либо доля досрочных погашений выросла\n",
    "        <li>в дальнейшем посомотрим еще на эти показатели в когортах\n",
    "    </ul>\n",
    "</div>"
   ]
  },
  {
   "cell_type": "markdown",
   "metadata": {},
   "source": [
    "### 4. Категоризация займов по реальному сроку пользования деньгами"
   ]
  },
  {
   "cell_type": "code",
   "execution_count": 41,
   "metadata": {},
   "outputs": [],
   "source": [
    "# созданим функцию категоризации срока закрытия займа\n",
    "def set_term_category(row):\n",
    "    if row['real_term'] == row['term']:\n",
    "        return 'В срок'\n",
    "    elif row['real_term'] < row['term']:\n",
    "        return 'Досрочно'\n",
    "    elif row['real_term'] > row['term']:\n",
    "        return 'С просрочкой'\n",
    "    return 'Не закрыт'"
   ]
  },
  {
   "cell_type": "code",
   "execution_count": null,
   "metadata": {},
   "outputs": [],
   "source": [
    "# применяем функцию\n",
    "loans['term_category'] = loans.apply(set_term_category, axis=1)\n",
    "\n",
    "# проверяем\n",
    "loans.sample(10)"
   ]
  },
  {
   "cell_type": "code",
   "execution_count": null,
   "metadata": {},
   "outputs": [],
   "source": [
    "# построим круговую диаграмму для визуализации разделения займов по типам погашения\n",
    "loans.groupby('term_category').agg({'cid': 'count'}).plot(kind='pie', subplots=True, figsize=(10, 10), autopct='%1.1f%%');"
   ]
  },
  {
   "cell_type": "code",
   "execution_count": null,
   "metadata": {},
   "outputs": [],
   "source": [
    "# та же диаграмма, но без статуса \"Не закрыт\"\n",
    "loans.query('term_category != \"Не закрыт\"')\\\n",
    ".groupby('term_category').agg({'cid': 'count'}).plot(kind='pie', subplots=True, figsize=(10, 10), autopct='%1.1f%%');"
   ]
  },
  {
   "cell_type": "markdown",
   "metadata": {},
   "source": [
    "<div class=\"alert alert-block alert-success\">\n",
    "<b>Вывод:</b>\n",
    "    <ul>\n",
    "        <li>27.4% не закрытых займов - цифра немного преувеличенная т.к. чем ближе анализируемый месяц к текущему - тем больше % невозвратов и наоборот.\n",
    "        <li>Если анализировать уже закрытые займы - 55.6% досрочно закрытых займов это большая цифра. И это как раз точка роста\n",
    "    </ul>\n",
    "</div>"
   ]
  },
  {
   "cell_type": "markdown",
   "metadata": {},
   "source": [
    "### 4. Исследование суммы займов"
   ]
  },
  {
   "cell_type": "markdown",
   "metadata": {},
   "source": [
    "#### 4.1 Базовые данные о сумме займов"
   ]
  },
  {
   "cell_type": "code",
   "execution_count": null,
   "metadata": {},
   "outputs": [],
   "source": [
    "print(f'Суммарные выдачи за анализируемый период составили {loans[\"value\"].sum():,} рублей')"
   ]
  },
  {
   "cell_type": "code",
   "execution_count": null,
   "metadata": {},
   "outputs": [],
   "source": [
    "# посмотрим на среднее, медиану, квартили и другие значения\n",
    "loans['value'].describe()"
   ]
  },
  {
   "cell_type": "code",
   "execution_count": null,
   "metadata": {},
   "outputs": [],
   "source": [
    "# TOP10 частотность\n",
    "loans['value'].value_counts().head(10)"
   ]
  },
  {
   "cell_type": "code",
   "execution_count": null,
   "metadata": {},
   "outputs": [],
   "source": [
    "# посмотрим на распределение\n",
    "loans['value'].hist(figsize=(13, 9), bins=80);"
   ]
  },
  {
   "cell_type": "markdown",
   "metadata": {},
   "source": [
    "<div class=\"alert alert-block alert-success\">\n",
    "<b>Вывод:</b>\n",
    "    <ul>\n",
    "        <li>общая сумма выданных средств за анализируемый период 3 683 503 741 рубля\n",
    "        <li>средняя выдача - 9648 рублей\n",
    "        <li>первый-третий квартили: 4500, 8000, 12000. Это значит, что 25% займов оформляются на сумму, меньше 4500р, 50% займов на сумму до 8000 и 75% займов на сумму до 12000 рублей.\n",
    "        <li>чаще всего берут займ на 8000 рублей (28526 раз)\n",
    "        <li>в ТОП10 значений по частоте 7 значений меньше 10000 рублей\n",
    "    </ul>\n",
    "</div>"
   ]
  },
  {
   "cell_type": "markdown",
   "metadata": {},
   "source": [
    "#### 4.2 Динамика измениня средней суммы займа"
   ]
  },
  {
   "cell_type": "code",
   "execution_count": null,
   "metadata": {},
   "outputs": [],
   "source": [
    "# группируем данные по месяцам, для каждого месяца считаем суммарный объем займов и количество займов\n",
    "avg_loan_value = loans.groupby('loan_month').agg({'value': 'sum', 'cid': 'count'})\n",
    "\n",
    "# переименуюем столбцы\n",
    "avg_loan_value.columns=['total_value', 'total_loans']\n",
    "\n",
    "# посчитаем средний чек\n",
    "avg_loan_value['avg_loan_value'] = (avg_loan_value['total_value'] / avg_loan_value['total_loans']).astype('int')\n",
    "\n",
    "avg_loan_value"
   ]
  },
  {
   "cell_type": "code",
   "execution_count": null,
   "metadata": {},
   "outputs": [],
   "source": [
    "# посмотрим на чек в динамике\n",
    "avg_loan_value['avg_loan_value'].plot(figsize=(13, 9), grid=True);"
   ]
  },
  {
   "cell_type": "code",
   "execution_count": null,
   "metadata": {},
   "outputs": [],
   "source": [
    "print(f'Минимальное занчение {avg_loan_value[\"avg_loan_value\"].min()} рубл.')\n",
    "print(f'Максимальное занчение {avg_loan_value[\"avg_loan_value\"].max()} руб.')"
   ]
  },
  {
   "cell_type": "markdown",
   "metadata": {},
   "source": [
    "<div class=\"alert alert-block alert-success\">\n",
    "<b>Вывод:</b>\n",
    "    <ul>\n",
    "        <li>мин-макс средние значения находятся в диапазоне от 8154 руб до 10672 руб\n",
    "        <li>не прослеживается какой-либо тренд на рост-падение, есть только периодические колебания на 10-20%\n",
    "    </ul>\n",
    "</div>"
   ]
  },
  {
   "cell_type": "markdown",
   "metadata": {},
   "source": [
    "### 5. Когортный анализ"
   ]
  },
  {
   "cell_type": "markdown",
   "metadata": {},
   "source": [
    "#### 5.1 Ретеншен"
   ]
  },
  {
   "cell_type": "code",
   "execution_count": null,
   "metadata": {},
   "outputs": [],
   "source": [
    "# для начала нам нужно выделить в отдельную таблицу месяц первого займа для каждого пользователя\n",
    "loan_first_month = loans.sort_values(by=['cid', 'loan_month']).groupby(by='cid').agg({'loan_month': 'first'}).reset_index()\n",
    "\n",
    "# переименуем столбцы\n",
    "loan_first_month.columns = ['cid', 'loan_first_month']\n",
    "\n",
    "# смотрим на результат\n",
    "loan_first_month"
   ]
  },
  {
   "cell_type": "code",
   "execution_count": null,
   "metadata": {},
   "outputs": [],
   "source": [
    "# объеденим таблицы loans vs loan_first_month\n",
    "loans = pd.merge(loans, loan_first_month, on='cid')\n",
    "\n",
    "# добавим в таблицу столбец cohort_lifetime, который указывает на срок жизни когорты в месяцах\n",
    "loans['cohort_lifetime'] =((loans['loan_month'] - loans['loan_first_month']) / np.timedelta64(1,'M'))\\\n",
    ".round().astype('int')\n",
    "\n",
    "# смотрим на результат\n",
    "loans.head()"
   ]
  },
  {
   "cell_type": "code",
   "execution_count": null,
   "metadata": {},
   "outputs": [],
   "source": [
    "# создадим новую таблицу retention и сгруппируем в нее данные из таблицы loans\n",
    "retention = loans.groupby(['loan_first_month', 'cohort_lifetime']).agg({'cid': 'nunique'}).reset_index()\n",
    "\n",
    "# переименуем колонки\n",
    "retention.columns = ['loan_first_month', 'cohort_lifetime', 'active_users']\n",
    "\n",
    "# смотрим результат\n",
    "retention"
   ]
  },
  {
   "cell_type": "code",
   "execution_count": null,
   "metadata": {},
   "outputs": [],
   "source": [
    "# теперь в отдельной таблице сохраним пользователей нулевой когорты\n",
    "initial_users = retention[retention['cohort_lifetime'] == 0][['loan_first_month', 'active_users']]\n",
    "\n",
    "# переименуем столбцы\n",
    "initial_users.columns = ['loan_first_month', 'initial_users']\n",
    "\n",
    "# смотрим результат\n",
    "initial_users"
   ]
  },
  {
   "cell_type": "code",
   "execution_count": null,
   "metadata": {},
   "outputs": [],
   "source": [
    "# добавим в таблицу retention столбец initial_users из таблицы initial_users\n",
    "retention = pd.merge(retention, initial_users, on='loan_first_month')\n",
    "\n",
    "# рассчитаем retention_rate\n",
    "retention['retention_rate'] = retention['active_users'] / retention['initial_users']\n",
    "\n",
    "# смотрим финальную таблицу\n",
    "retention.head()"
   ]
  },
  {
   "cell_type": "code",
   "execution_count": null,
   "metadata": {},
   "outputs": [],
   "source": [
    "# группируем все в сводную таблицу\n",
    "retention_pivot = retention.pivot_table(index='loan_first_month', columns='cohort_lifetime', \n",
    "                                        values='retention_rate', aggfunc='sum')"
   ]
  },
  {
   "cell_type": "code",
   "execution_count": null,
   "metadata": {},
   "outputs": [],
   "source": [
    "# Наведем немного крастоты\n",
    "plt.figure(figsize=(26, 18))\n",
    "plt.title('Cohorts: User Retention')\n",
    "sns.heatmap(retention_pivot, annot=True, fmt='.1%', linewidths=1, \n",
    "            linecolor='grey', cmap='coolwarm', vmax=0.4, vmin=0.025);"
   ]
  },
  {
   "cell_type": "markdown",
   "metadata": {},
   "source": [
    "<div class=\"alert alert-block alert-success\">\n",
    "<b>Вывод:</b>\n",
    "    <ul>\n",
    "        <li>в начале и середине 2019 года мы видим достаточно хороший ретеншен в месяцах 0-1-2\n",
    "        <li>затем, примерно в авгуте 2019 показатели стали ухудшаться и ретеншен 1 месяца опустился до 20%, а затем и вовсе до 15%\n",
    "        <li>однако сейчас снова наблюдается рост, начиная с мая 2020\n",
    "    </ul>\n",
    "</div>"
   ]
  },
  {
   "cell_type": "markdown",
   "metadata": {},
   "source": [
    "#### 5.2 Среднее кол-во займов"
   ]
  },
  {
   "cell_type": "code",
   "execution_count": null,
   "metadata": {},
   "outputs": [],
   "source": [
    "avg_loan_amount = loans.groupby(['loan_first_month', 'cohort_lifetime']).agg({'cid': 'count'}).reset_index()\n",
    "avg_loan_amount.rename(columns={'cid': 'cumsum_loans'}, inplace=True)\n",
    "avg_loan_amount = pd.merge(avg_loan_amount, initial_users, on='loan_first_month')\n",
    "avg_loan_amount['avg_loans'] = (avg_loan_amount['cumsum_loans'] / avg_loan_amount['initial_users']).round(2)\n",
    "\n",
    "avg_loan_amount.head()"
   ]
  },
  {
   "cell_type": "code",
   "execution_count": null,
   "metadata": {},
   "outputs": [],
   "source": [
    "avg_loan_pivot = avg_loan_amount.pivot_table(index='loan_first_month', columns='cohort_lifetime', values='avg_loans', aggfunc='mean').cumsum(axis=1)"
   ]
  },
  {
   "cell_type": "code",
   "execution_count": null,
   "metadata": {
    "scrolled": false
   },
   "outputs": [],
   "source": [
    "# Наведем немного крастоты\n",
    "plt.figure(figsize=(26, 18))\n",
    "plt.title('Cohorts: Avg. Loans Cumsum')\n",
    "sns.heatmap(avg_loan_pivot, annot=True, fmt='.3', linewidths=1, \n",
    "            linecolor='grey', cmap='coolwarm', vmin=0.6, vmax=2.6);"
   ]
  },
  {
   "cell_type": "markdown",
   "metadata": {},
   "source": [
    "#### 5.3 ARPU (Average Revenue per User)"
   ]
  },
  {
   "cell_type": "code",
   "execution_count": null,
   "metadata": {},
   "outputs": [],
   "source": [
    "arpu = loans.groupby(['loan_first_month', 'cohort_lifetime']).agg({'value': 'sum'}).reset_index()\n",
    "arpu = pd.merge(arpu, initial_users, on='loan_first_month')\n",
    "arpu['arpu'] = ((arpu['value'] / arpu['initial_users'])/1000).round(2)\n",
    "\n",
    "arpu.head()"
   ]
  },
  {
   "cell_type": "code",
   "execution_count": null,
   "metadata": {},
   "outputs": [],
   "source": [
    "arpu_pivot = arpu.pivot_table(index='loan_first_month', columns='cohort_lifetime', \n",
    "                              values='arpu', aggfunc='mean').cumsum(axis=1)"
   ]
  },
  {
   "cell_type": "code",
   "execution_count": null,
   "metadata": {},
   "outputs": [],
   "source": [
    "# Наведем немного крастоты\n",
    "plt.figure(figsize=(26, 18))\n",
    "plt.title('Cohorts: ARPU')\n",
    "sns.heatmap(arpu_pivot, annot=True, fmt='.3', linewidths=1, \n",
    "            linecolor='grey', cmap='coolwarm');"
   ]
  },
  {
   "cell_type": "markdown",
   "metadata": {},
   "source": [
    "#### 5.4 Средняя сумма займа в конкретный месяц\n",
    "почему с ростом lifetime \"чек\" не растет?"
   ]
  },
  {
   "cell_type": "code",
   "execution_count": null,
   "metadata": {},
   "outputs": [],
   "source": [
    "avg_loan_value = loans.groupby(['loan_first_month', 'cohort_lifetime']).agg({'value': 'sum', 'cid': 'count'}).reset_index()\n",
    "avg_loan_value['avg_loan_value'] = ((avg_loan_value['value'] / avg_loan_value['cid'])/1000).round(2)\n",
    "\n",
    "avg_loan_value.head()"
   ]
  },
  {
   "cell_type": "code",
   "execution_count": null,
   "metadata": {},
   "outputs": [],
   "source": [
    "avg_loan_value_pivot = avg_loan_value.pivot_table(index='loan_first_month', columns='cohort_lifetime', \n",
    "                              values='avg_loan_value', aggfunc='mean')"
   ]
  },
  {
   "cell_type": "code",
   "execution_count": null,
   "metadata": {},
   "outputs": [],
   "source": [
    "# Наведем немного крастоты\n",
    "plt.figure(figsize=(26, 18))\n",
    "plt.title('Cohorts: Loan Value')\n",
    "sns.heatmap(avg_loan_value_pivot, annot=True, fmt='.3', linewidths=1, \n",
    "            linecolor='grey', cmap='coolwarm', vmin=9, vmax=11.5);"
   ]
  },
  {
   "cell_type": "markdown",
   "metadata": {},
   "source": [
    "#### 5.4 Средняя сумма займа накопительным итогом"
   ]
  },
  {
   "cell_type": "code",
   "execution_count": null,
   "metadata": {},
   "outputs": [],
   "source": [
    "avg_cumsum_loan_value = loans.groupby(['loan_first_month', 'cohort_lifetime']).agg({'value': 'sum', 'cid': 'count'})\\\n",
    ".groupby(level=0).cumsum().reset_index()\n",
    "avg_cumsum_loan_value.rename(columns={'value': 'cumsum_value', 'cid': 'cumsum_loans'}, inplace=True)\n",
    "avg_cumsum_loan_value['avg_cumsum_loan_value'] = ((avg_cumsum_loan_value['cumsum_value'] / avg_cumsum_loan_value['cumsum_loans'])/1000).round(2)\n",
    "\n",
    "avg_cumsum_loan_value.head()"
   ]
  },
  {
   "cell_type": "code",
   "execution_count": null,
   "metadata": {},
   "outputs": [],
   "source": [
    "avg_cumsum_loan_pivot = avg_cumsum_loan_value.pivot_table(index='loan_first_month', columns='cohort_lifetime', \n",
    "                              values='avg_cumsum_loan_value', aggfunc='mean')"
   ]
  },
  {
   "cell_type": "code",
   "execution_count": null,
   "metadata": {},
   "outputs": [],
   "source": [
    "# Наведем немного крастоты\n",
    "plt.figure(figsize=(26, 18))\n",
    "plt.title('Cohorts: Loan Value')\n",
    "sns.heatmap(avg_cumsum_loan_pivot, annot=True, fmt='.3', linewidths=1, \n",
    "            linecolor='grey', cmap='coolwarm', vmin=9, vmax=10.1);"
   ]
  },
  {
   "cell_type": "markdown",
   "metadata": {},
   "source": [
    "#### 5.5 Оборотка нарастающим итогом"
   ]
  },
  {
   "cell_type": "code",
   "execution_count": null,
   "metadata": {},
   "outputs": [],
   "source": [
    "cumsum_value = loans.groupby(['loan_first_month', 'cohort_lifetime']).agg({'value': 'sum', }).reset_index()\n",
    "cumsum_value['value'] = (cumsum_value['value'] / 10000000).round(2)\n",
    "\n",
    "cumsum_value"
   ]
  },
  {
   "cell_type": "code",
   "execution_count": null,
   "metadata": {},
   "outputs": [],
   "source": [
    "initial_value = cumsum_value[cumsum_value['cohort_lifetime'] == 0][['loan_first_month', 'value']]\n",
    "initial_value.columns=['loan_first_month', 'initial_value']\n",
    "initial_value"
   ]
  },
  {
   "cell_type": "code",
   "execution_count": null,
   "metadata": {},
   "outputs": [],
   "source": [
    "cumsum_value = pd.merge(cumsum_value, initial_value, on='loan_first_month')\n",
    "cumsum_value['value_gain'] = cumsum_value['value'] / cumsum_value['initial_value']\n",
    "\n",
    "cumsum_value.head(20)"
   ]
  },
  {
   "cell_type": "code",
   "execution_count": null,
   "metadata": {},
   "outputs": [],
   "source": [
    "cumsum_value_pivot = cumsum_value.pivot_table(index='loan_first_month', columns='cohort_lifetime', \n",
    "                         values='value_gain', aggfunc='mean').cumsum(axis=1)"
   ]
  },
  {
   "cell_type": "code",
   "execution_count": null,
   "metadata": {},
   "outputs": [],
   "source": [
    "# Наведем немного крастоты\n",
    "plt.figure(figsize=(26, 18))\n",
    "plt.title('Cohorts: User Retention')\n",
    "sns.heatmap(cumsum_value_pivot, annot=True, fmt='.3', linewidths=1, \n",
    "            linecolor='grey', cmap='coolwarm', vmax=2.5);"
   ]
  },
  {
   "cell_type": "code",
   "execution_count": null,
   "metadata": {},
   "outputs": [],
   "source": [
    "loans['end_month'] = loans['end_ts'].astype('datetime64[M]')\n",
    "loans.head()"
   ]
  },
  {
   "cell_type": "code",
   "execution_count": null,
   "metadata": {},
   "outputs": [],
   "source": [
    "get_loans = loans.groupby(['loan_first_month', 'cohort_lifetime']).agg({'cid': 'count'}).groupby(level=0).cumsum().reset_index()\n",
    "get_loans.rename(columns={'cid': 'get_loans'}, inplace=True)\n",
    "get_loans.head()"
   ]
  },
  {
   "cell_type": "code",
   "execution_count": null,
   "metadata": {},
   "outputs": [],
   "source": [
    "paid_loans = loans.groupby(['loan_first_month', 'end_month']).agg({'cid': 'count'}).groupby(level=0).cumsum().reset_index()\n",
    "paid_loans['cohort_lifetime'] = ((paid_loans['end_month'] - paid_loans['loan_first_month']) / np.timedelta64(1,'M')).round().astype('int')\n",
    "paid_loans.drop(columns='end_month', inplace=True)\n",
    "paid_loans = paid_loans[['loan_first_month', 'cohort_lifetime', 'cid']]\n",
    "paid_loans.rename(columns={'cid': 'paid_loans'}, inplace=True)\n",
    "\n",
    "paid_loans.head()"
   ]
  },
  {
   "cell_type": "code",
   "execution_count": null,
   "metadata": {},
   "outputs": [],
   "source": [
    "output = pd.merge(get_loans, paid_loans, on=['loan_first_month', 'cohort_lifetime'])\n",
    "output['r_rate'] = output['paid_loans'] / output['get_loans']\n",
    "output_pivot = output.pivot_table(index='loan_first_month', columns='cohort_lifetime', values='r_rate')"
   ]
  },
  {
   "cell_type": "code",
   "execution_count": null,
   "metadata": {},
   "outputs": [],
   "source": [
    "# Наведем немного крастоты\n",
    "plt.figure(figsize=(26, 18))\n",
    "plt.title('Cohorts: NPL')\n",
    "sns.heatmap(output_pivot, annot=True, fmt='.1%', linewidths=1, \n",
    "            linecolor='grey', cmap='coolwarm', vmin=0.4, vmax=0.78);"
   ]
  }
 ],
 "metadata": {
  "kernelspec": {
   "display_name": "Python 3",
   "language": "python",
   "name": "python3"
  },
  "language_info": {
   "codemirror_mode": {
    "name": "ipython",
    "version": 3
   },
   "file_extension": ".py",
   "mimetype": "text/x-python",
   "name": "python",
   "nbconvert_exporter": "python",
   "pygments_lexer": "ipython3",
   "version": "3.8.6"
  }
 },
 "nbformat": 4,
 "nbformat_minor": 4
}
