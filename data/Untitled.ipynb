{
 "cells": [
  {
   "cell_type": "code",
   "execution_count": 1,
   "metadata": {},
   "outputs": [],
   "source": [
    "import pandas as pd\n",
    "import matplotlib as plt\n",
    "import seaborn as sns\n",
    "from scipy import stats as st"
   ]
  },
  {
   "cell_type": "markdown",
   "metadata": {},
   "source": [
    "- [ ] Анализ регистраций/выдач/CR% в динамике по неделям/месяцам\n",
    "- [ ] Сколько дней проходит от регистрации до займа\n",
    "- [ ] Изучение объема выдач\n",
    "    - [ ] объем выдач в разрезе времени\n",
    "    - [ ] объем выдач накопительным итогом\n",
    "- [ ] Изучение среднего чека\n",
    "    - [ ] средний чек в разрезе времени\n",
    "    - [ ] классфикация данных, срезы\n",
    "    - [ ] поиск зависимых параметров"
   ]
  },
  {
   "cell_type": "markdown",
   "metadata": {},
   "source": [
    "### Чтение данных и объединение таблиц с данными о регистрациях"
   ]
  },
  {
   "cell_type": "code",
   "execution_count": 2,
   "metadata": {},
   "outputs": [],
   "source": [
    "# читаем данные\n",
    "regs1 = pd.read_excel('regs1.xlsx')\n",
    "regs2 = pd.read_excel('regs2.xlsx')\n",
    "loans = pd.read_excel('loans.xlsx')"
   ]
  },
  {
   "cell_type": "code",
   "execution_count": 3,
   "metadata": {},
   "outputs": [],
   "source": [
    "# т.к данные с регистрациями предоставлены в 2ух файлах нам необходимо объеденить их в 1\n",
    "regs = regs1.append(regs2, ignore_index=True)"
   ]
  },
  {
   "cell_type": "markdown",
   "metadata": {},
   "source": [
    "### Предобработка данных"
   ]
  },
  {
   "cell_type": "markdown",
   "metadata": {},
   "source": [
    "#### Регистрации"
   ]
  },
  {
   "cell_type": "code",
   "execution_count": 4,
   "metadata": {},
   "outputs": [
    {
     "name": "stdout",
     "output_type": "stream",
     "text": [
      "<class 'pandas.core.frame.DataFrame'>\n",
      "RangeIndex: 1481285 entries, 0 to 1481284\n",
      "Data columns (total 4 columns):\n",
      " #   Column           Non-Null Count    Dtype         \n",
      "---  ------           --------------    -----         \n",
      " 0   cid              1481285 non-null  int64         \n",
      " 1   uid              1481285 non-null  object        \n",
      " 2   ts               1481285 non-null  datetime64[ns]\n",
      " 3   is_reg_complete  1481285 non-null  int64         \n",
      "dtypes: datetime64[ns](1), int64(2), object(1)\n",
      "memory usage: 45.2+ MB\n"
     ]
    }
   ],
   "source": [
    "# посмотрим на общую информацию\n",
    "regs.info()"
   ]
  },
  {
   "cell_type": "code",
   "execution_count": 5,
   "metadata": {},
   "outputs": [
    {
     "data": {
      "text/html": [
       "<div>\n",
       "<style scoped>\n",
       "    .dataframe tbody tr th:only-of-type {\n",
       "        vertical-align: middle;\n",
       "    }\n",
       "\n",
       "    .dataframe tbody tr th {\n",
       "        vertical-align: top;\n",
       "    }\n",
       "\n",
       "    .dataframe thead th {\n",
       "        text-align: right;\n",
       "    }\n",
       "</style>\n",
       "<table border=\"1\" class=\"dataframe\">\n",
       "  <thead>\n",
       "    <tr style=\"text-align: right;\">\n",
       "      <th></th>\n",
       "      <th>cid</th>\n",
       "      <th>uid</th>\n",
       "      <th>ts</th>\n",
       "      <th>is_reg_complete</th>\n",
       "    </tr>\n",
       "  </thead>\n",
       "  <tbody>\n",
       "    <tr>\n",
       "      <th>843411</th>\n",
       "      <td>2962913</td>\n",
       "      <td>9489D1F6-57BF-405E-B64B-DD46C6B1DB76</td>\n",
       "      <td>2019-01-28 10:42:48.668</td>\n",
       "      <td>1</td>\n",
       "    </tr>\n",
       "    <tr>\n",
       "      <th>1425580</th>\n",
       "      <td>4436146</td>\n",
       "      <td>022BC206-3CCD-47DC-9549-6F16E1ABE51E</td>\n",
       "      <td>2020-06-20 16:51:44.438</td>\n",
       "      <td>0</td>\n",
       "    </tr>\n",
       "    <tr>\n",
       "      <th>392800</th>\n",
       "      <td>2872087</td>\n",
       "      <td>E5FB8A5A-3919-40E4-8D6E-34D0B4261925</td>\n",
       "      <td>2019-01-10 16:57:02.668</td>\n",
       "      <td>1</td>\n",
       "    </tr>\n",
       "    <tr>\n",
       "      <th>937179</th>\n",
       "      <td>3641233</td>\n",
       "      <td>00153902-64CD-424A-AD39-7C1803F96D9D</td>\n",
       "      <td>2019-06-26 14:46:48.736</td>\n",
       "      <td>0</td>\n",
       "    </tr>\n",
       "    <tr>\n",
       "      <th>1325267</th>\n",
       "      <td>4526674</td>\n",
       "      <td>C2434E26-D2CC-4842-8832-A0143DF2937C</td>\n",
       "      <td>2020-08-27 11:44:07.471</td>\n",
       "      <td>0</td>\n",
       "    </tr>\n",
       "  </tbody>\n",
       "</table>\n",
       "</div>"
      ],
      "text/plain": [
       "             cid                                   uid  \\\n",
       "843411   2962913  9489D1F6-57BF-405E-B64B-DD46C6B1DB76   \n",
       "1425580  4436146  022BC206-3CCD-47DC-9549-6F16E1ABE51E   \n",
       "392800   2872087  E5FB8A5A-3919-40E4-8D6E-34D0B4261925   \n",
       "937179   3641233  00153902-64CD-424A-AD39-7C1803F96D9D   \n",
       "1325267  4526674  C2434E26-D2CC-4842-8832-A0143DF2937C   \n",
       "\n",
       "                             ts  is_reg_complete  \n",
       "843411  2019-01-28 10:42:48.668                1  \n",
       "1425580 2020-06-20 16:51:44.438                0  \n",
       "392800  2019-01-10 16:57:02.668                1  \n",
       "937179  2019-06-26 14:46:48.736                0  \n",
       "1325267 2020-08-27 11:44:07.471                0  "
      ]
     },
     "execution_count": 5,
     "metadata": {},
     "output_type": "execute_result"
    }
   ],
   "source": [
    "# изучим срез данных\n",
    "regs.sample(5)"
   ]
  },
  {
   "cell_type": "markdown",
   "metadata": {},
   "source": [
    "<b>cid</b> - id клиента<br>\n",
    "<b>uid</b> - id юзера<br>\n",
    "<b>ts</b> - время начала регистрации<br>\n",
    "<b>is_reg_complete</b> - отметка о завершени регистрации<br>"
   ]
  },
  {
   "cell_type": "code",
   "execution_count": 6,
   "metadata": {},
   "outputs": [
    {
     "data": {
      "text/plain": [
       "cid                0\n",
       "uid                0\n",
       "ts                 0\n",
       "is_reg_complete    0\n",
       "dtype: int64"
      ]
     },
     "metadata": {},
     "output_type": "display_data"
    },
    {
     "data": {
      "text/plain": [
       "0"
      ]
     },
     "metadata": {},
     "output_type": "display_data"
    }
   ],
   "source": [
    "# проверим таблицу на наличие пропусков и дубликатов\n",
    "display(regs.isna().sum())\n",
    "display(regs.duplicated().sum())"
   ]
  },
  {
   "cell_type": "markdown",
   "metadata": {},
   "source": [
    "<b>Вывод:</b> все ок, двигаемся дальше"
   ]
  },
  {
   "cell_type": "markdown",
   "metadata": {},
   "source": [
    "#### Займы"
   ]
  },
  {
   "cell_type": "code",
   "execution_count": 7,
   "metadata": {},
   "outputs": [
    {
     "name": "stdout",
     "output_type": "stream",
     "text": [
      "<class 'pandas.core.frame.DataFrame'>\n",
      "RangeIndex: 397272 entries, 0 to 397271\n",
      "Data columns (total 7 columns):\n",
      " #   Column    Non-Null Count   Dtype         \n",
      "---  ------    --------------   -----         \n",
      " 0   cid       397272 non-null  int64         \n",
      " 1   uid       397272 non-null  object        \n",
      " 2   start_ts  381801 non-null  datetime64[ns]\n",
      " 3   value     397272 non-null  float64       \n",
      " 4   term      397272 non-null  int64         \n",
      " 5   status    397272 non-null  object        \n",
      " 6   end_ts    277092 non-null  datetime64[ns]\n",
      "dtypes: datetime64[ns](2), float64(1), int64(2), object(2)\n",
      "memory usage: 21.2+ MB\n"
     ]
    }
   ],
   "source": [
    "# посмотрим на общую информацию\n",
    "loans.info()"
   ]
  },
  {
   "cell_type": "code",
   "execution_count": 8,
   "metadata": {},
   "outputs": [
    {
     "data": {
      "text/html": [
       "<div>\n",
       "<style scoped>\n",
       "    .dataframe tbody tr th:only-of-type {\n",
       "        vertical-align: middle;\n",
       "    }\n",
       "\n",
       "    .dataframe tbody tr th {\n",
       "        vertical-align: top;\n",
       "    }\n",
       "\n",
       "    .dataframe thead th {\n",
       "        text-align: right;\n",
       "    }\n",
       "</style>\n",
       "<table border=\"1\" class=\"dataframe\">\n",
       "  <thead>\n",
       "    <tr style=\"text-align: right;\">\n",
       "      <th></th>\n",
       "      <th>cid</th>\n",
       "      <th>uid</th>\n",
       "      <th>start_ts</th>\n",
       "      <th>value</th>\n",
       "      <th>term</th>\n",
       "      <th>status</th>\n",
       "      <th>end_ts</th>\n",
       "    </tr>\n",
       "  </thead>\n",
       "  <tbody>\n",
       "    <tr>\n",
       "      <th>132785</th>\n",
       "      <td>3783613</td>\n",
       "      <td>BCB4946E-545F-4E5F-99D1-EEA5D9BEDCB5</td>\n",
       "      <td>2019-08-18</td>\n",
       "      <td>5300.0</td>\n",
       "      <td>10</td>\n",
       "      <td>Погашен</td>\n",
       "      <td>2019-09-03 23:59:59.999</td>\n",
       "    </tr>\n",
       "    <tr>\n",
       "      <th>343513</th>\n",
       "      <td>4480273</td>\n",
       "      <td>6B83D810-585F-4485-8A08-5E54CDAC4F4B</td>\n",
       "      <td>2020-08-13</td>\n",
       "      <td>10000.0</td>\n",
       "      <td>28</td>\n",
       "      <td>Погашен</td>\n",
       "      <td>2020-09-10 23:59:59.999</td>\n",
       "    </tr>\n",
       "    <tr>\n",
       "      <th>85887</th>\n",
       "      <td>3118618</td>\n",
       "      <td>D07BB7FF-8DC9-4C6E-9C43-E4EF9A8845BE</td>\n",
       "      <td>2019-05-28</td>\n",
       "      <td>8320.0</td>\n",
       "      <td>30</td>\n",
       "      <td>Погашен</td>\n",
       "      <td>2019-07-15 23:59:59.999</td>\n",
       "    </tr>\n",
       "    <tr>\n",
       "      <th>268142</th>\n",
       "      <td>4321568</td>\n",
       "      <td>0B49D576-2BB8-4F19-A168-0094C40852A8</td>\n",
       "      <td>NaT</td>\n",
       "      <td>4520.0</td>\n",
       "      <td>24</td>\n",
       "      <td>Отменён</td>\n",
       "      <td>NaT</td>\n",
       "    </tr>\n",
       "    <tr>\n",
       "      <th>300149</th>\n",
       "      <td>4413034</td>\n",
       "      <td>A99B82F1-DB62-4B3E-9654-C32142B54567</td>\n",
       "      <td>2020-06-05</td>\n",
       "      <td>17825.0</td>\n",
       "      <td>36</td>\n",
       "      <td>Погашен</td>\n",
       "      <td>2020-06-17 23:59:59.999</td>\n",
       "    </tr>\n",
       "  </tbody>\n",
       "</table>\n",
       "</div>"
      ],
      "text/plain": [
       "            cid                                   uid   start_ts    value  \\\n",
       "132785  3783613  BCB4946E-545F-4E5F-99D1-EEA5D9BEDCB5 2019-08-18   5300.0   \n",
       "343513  4480273  6B83D810-585F-4485-8A08-5E54CDAC4F4B 2020-08-13  10000.0   \n",
       "85887   3118618  D07BB7FF-8DC9-4C6E-9C43-E4EF9A8845BE 2019-05-28   8320.0   \n",
       "268142  4321568  0B49D576-2BB8-4F19-A168-0094C40852A8        NaT   4520.0   \n",
       "300149  4413034  A99B82F1-DB62-4B3E-9654-C32142B54567 2020-06-05  17825.0   \n",
       "\n",
       "        term   status                  end_ts  \n",
       "132785    10  Погашен 2019-09-03 23:59:59.999  \n",
       "343513    28  Погашен 2020-09-10 23:59:59.999  \n",
       "85887     30  Погашен 2019-07-15 23:59:59.999  \n",
       "268142    24  Отменён                     NaT  \n",
       "300149    36  Погашен 2020-06-17 23:59:59.999  "
      ]
     },
     "execution_count": 8,
     "metadata": {},
     "output_type": "execute_result"
    }
   ],
   "source": [
    "# изучим срез данных\n",
    "loans.sample(5)"
   ]
  },
  {
   "cell_type": "markdown",
   "metadata": {},
   "source": [
    "<b>cid</b> - id клиента<br>\n",
    "<b>uid</b> - id юзера<br>\n",
    "<b>start_ts</b> - время получения займа<br>\n",
    "<b>value</b> - сумма<br>\n",
    "<b>term</b> - срок<br>\n",
    "<b>status</b> - статус на текущий момент<br>\n",
    "<b>end_ts</b> - время веозврата займа"
   ]
  },
  {
   "cell_type": "code",
   "execution_count": 9,
   "metadata": {},
   "outputs": [
    {
     "data": {
      "text/plain": [
       "cid              0\n",
       "uid              0\n",
       "start_ts     15471\n",
       "value            0\n",
       "term             0\n",
       "status           0\n",
       "end_ts      120180\n",
       "dtype: int64"
      ]
     },
     "metadata": {},
     "output_type": "display_data"
    },
    {
     "data": {
      "text/plain": [
       "1743"
      ]
     },
     "metadata": {},
     "output_type": "display_data"
    }
   ],
   "source": [
    "# проверим таблицу на наличие пропусков и дубликатов\n",
    "display(loans.isna().sum())\n",
    "display(loans.duplicated().sum())"
   ]
  },
  {
   "cell_type": "markdown",
   "metadata": {},
   "source": [
    "<b>Вывод:</b> есть пропуски и дубликаты, обработаем их"
   ]
  },
  {
   "cell_type": "code",
   "execution_count": 10,
   "metadata": {},
   "outputs": [
    {
     "data": {
      "text/plain": [
       "Отменён           15447\n",
       "Не подтверждён       24\n",
       "Name: status, dtype: int64"
      ]
     },
     "execution_count": 10,
     "metadata": {},
     "output_type": "execute_result"
    }
   ],
   "source": [
    "# посмотим на стутусы\n",
    "loans[loans['start_ts'].isna()]['status'].value_counts()"
   ]
  },
  {
   "cell_type": "markdown",
   "metadata": {},
   "source": [
    "<b>Вывод:</b> фактически эти статусы говорят о том, что клиент не получил деньги"
   ]
  },
  {
   "cell_type": "code",
   "execution_count": 11,
   "metadata": {},
   "outputs": [],
   "source": [
    "# Удалим эти строки\n",
    "loans.dropna(subset=['start_ts'], inplace=True)"
   ]
  },
  {
   "cell_type": "code",
   "execution_count": 12,
   "metadata": {},
   "outputs": [
    {
     "data": {
      "text/plain": [
       "cid              0\n",
       "uid              0\n",
       "start_ts         0\n",
       "value            0\n",
       "term             0\n",
       "status           0\n",
       "end_ts      104709\n",
       "dtype: int64"
      ]
     },
     "execution_count": 12,
     "metadata": {},
     "output_type": "execute_result"
    }
   ],
   "source": [
    "loans.isna().sum()"
   ]
  },
  {
   "cell_type": "code",
   "execution_count": 13,
   "metadata": {},
   "outputs": [
    {
     "data": {
      "text/plain": [
       "Просрочен              41423\n",
       "На цессии              39043\n",
       "Активен                14337\n",
       "На реструктуризации     8616\n",
       "Отменён                 1025\n",
       "Списан                   265\n",
       "Name: status, dtype: int64"
      ]
     },
     "execution_count": 13,
     "metadata": {},
     "output_type": "execute_result"
    }
   ],
   "source": [
    "# Посмотрим статусы займов, у которых отсутствуетм время погашения\n",
    "loans[loans['end_ts'].isna()]['status'].value_counts()"
   ]
  },
  {
   "cell_type": "code",
   "execution_count": 14,
   "metadata": {},
   "outputs": [
    {
     "data": {
      "text/plain": [
       "0"
      ]
     },
     "execution_count": 14,
     "metadata": {},
     "output_type": "execute_result"
    }
   ],
   "source": [
    "# посмотрим, остались ли дубликаты\n",
    "loans.duplicated().sum()"
   ]
  },
  {
   "cell_type": "markdown",
   "metadata": {},
   "source": [
    "<b>Вывод:</b>\n",
    "- дубли теперь отсутствуют\n",
    "- пропуски в end_ts фактически указывают на то, что заем не был закрыт на момент анализа данных\n",
    "\n",
    "Переходоим к анализу"
   ]
  },
  {
   "cell_type": "code",
   "execution_count": null,
   "metadata": {},
   "outputs": [],
   "source": []
  }
 ],
 "metadata": {
  "kernelspec": {
   "display_name": "Python 3",
   "language": "python",
   "name": "python3"
  },
  "language_info": {
   "codemirror_mode": {
    "name": "ipython",
    "version": 3
   },
   "file_extension": ".py",
   "mimetype": "text/x-python",
   "name": "python",
   "nbconvert_exporter": "python",
   "pygments_lexer": "ipython3",
   "version": "3.8.6"
  }
 },
 "nbformat": 4,
 "nbformat_minor": 4
}
